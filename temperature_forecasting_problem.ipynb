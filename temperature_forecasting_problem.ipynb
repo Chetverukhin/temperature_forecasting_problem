{
 "cells": [
  {
   "cell_type": "markdown",
   "metadata": {},
   "source": [
    "# <span style=\"color:Maroon\">ПРОЕКТ: Оптимизация производственных расходов</span>"
   ]
  },
  {
   "cell_type": "markdown",
   "id": "4cef1698",
   "metadata": {},
   "source": [
    "<div style=\"background-color:#f3f3f3; border:solid #363636 2px; padding: 20px\">    \n",
    "Чтобы оптимизировать производственные расходы, металлургический комбинат решил уменьшить потребление электроэнергии на этапе обработки стали.<br><br>    \n",
    "<b>Цель данного проекта</b> - Необходимо построить модель, которая предскажет температуру стали<br><br>    \n",
    "Заказчику важны:<br>\n",
    "<li>Модель со значением метрики качества <b>MAE</b> не более <b>8.7</b>.<br><br>    \n",
    "<span style=\"color:Maroon\"><b>1 Загрузить и подготовить данные:</b></span><br><br>\n",
    "<li>Проверить состав предоставленной выбороки;\n",
    "<li>Проанализировать данные;\n",
    "<li>Провести предобработку данных;\n",
    "<li>Описать результаты.<br><br>\n",
    "<span style=\"color:Maroon\"><b>2 Обучить модель и выбрать лучшую:</b></span><br><br>\n",
    "<li>Обучите разные модели на базовых настройках;\n",
    "<li>Обучите разные модели на с подбором гиперпараметров;\n",
    "<li>Подобрать для моделей оптимальные гиперпараметры;\n",
    "<li>Оценить качество моделей кросс-валидацией;\n",
    "<li>Выбрать лучшую модель\n",
    "<li>Сделать выводы.<br><br>\n",
    "<span style=\"color:Maroon\"><b>3 Тестирование лучшей модели:</b></span><br><br>\n",
    "<li>Проверить модель на тестовой выборке;\n",
    "<li>Проанализировать предсказания выбранной модели;\n",
    "<li>Написать выводы и обосновать выбор.\n",
    " </div>"
   ]
  },
  {
   "cell_type": "markdown",
   "id": "983c7adb",
   "metadata": {},
   "source": [
    "<div style=\"background-color:#f3f3f3; border:solid #363636 2px; padding: 20px\">\n",
    "создам стиль для отображения табличных данных\n",
    "</div>"
   ]
  },
  {
   "cell_type": "code",
   "execution_count": null,
   "metadata": {},
   "outputs": [],
   "source": [
    "cell_hover     = {'selector': 'td:hover',\n",
    "                  'props'   : [('background', '#9E4447'), \n",
    "                               ('color', '#ffffff')]}           # формат выделенной ячейки\n",
    "\n",
    "row_hover      = {'selector': 'tr:hover',\n",
    "                  'props'   : [('background', '#808080'), \n",
    "                               ('color', '#ffffff')]}           # формат выделенной строки\n",
    "\n",
    "color_row_even = {'selector': 'tr:nth-of-type(even)',\n",
    "                  'props'   : [('background', '#D9D9D9'),\n",
    "                               ('color', 'black')]}             # формат нечетных строк\n",
    "\n",
    "color_row_odd  = {'selector': 'tr:nth-of-type(odd)',\n",
    "                  'props'   : [('background', '#ffffff'),\n",
    "                               ('color', '#363636')]}           # формат четных строк\n",
    "\n",
    "index_names    = {'selector': 'th',\n",
    "                  'props'   : [('background', '#363636'), \n",
    "                               ('color', '#ffffff'),  \n",
    "                               ('text-align','center')]}        # формат заголовка и индекса\n",
    "\n",
    "border_inner   = {'selector': 'td',\n",
    "                  'props'   : [('border','1px dashed #363636')]}# формат границы таблицы\n",
    "\n",
    "border_outer   = {'selector': '',\n",
    "                  'props'   : [('border','2px solid #363636')]} # формат границы таблицы\n",
    "\n",
    "caption        = {'selector': 'caption',\n",
    "                  'props'   : [('color', '#363636'), \n",
    "                               ('font-size', '15px')]}\n",
    "\n",
    "# передаю в переменную для дальнейшего использования\n",
    "styler = [cell_hover, color_row_even, color_row_odd, index_names, row_hover, border_inner, border_outer, caption]"
   ]
  },
  {
   "cell_type": "markdown",
   "id": "a971d4cd",
   "metadata": {},
   "source": [
    "## Загрузка и подготовка данных"
   ]
  },
  {
   "cell_type": "code",
   "execution_count": null,
   "id": "15151022",
   "metadata": {},
   "outputs": [],
   "source": [
    "# библиотеки\n",
    "import re\n",
    "import pandas as pd \n",
    "import numpy as np\n",
    "import seaborn as sns\n",
    "import warnings \n",
    "from matplotlib import pyplot as plt\n",
    "from time import time\n",
    "\n",
    "# обработка\n",
    "from sklearn.model_selection import train_test_split\n",
    "from sklearn.model_selection import GridSearchCV\n",
    "from sklearn.model_selection import cross_val_score\n",
    "from sklearn.preprocessing import StandardScaler\n",
    "from sklearn.pipeline import Pipeline\n",
    "\n",
    "# модели\n",
    "from sklearn.linear_model import Lasso\n",
    "from sklearn.linear_model import LinearRegression\n",
    "from sklearn.ensemble import RandomForestRegressor\n",
    "from sklearn.ensemble import ExtraTreesRegressor\n",
    "from sklearn.dummy import DummyRegressor\n",
    "from sklearn.tree import DecisionTreeRegressor\n",
    "from lightgbm import LGBMRegressor\n",
    "\n",
    "# метрики\n",
    "from sklearn.metrics import mean_absolute_error\n",
    "\n",
    "# настройки и параметры\n",
    "from tqdm import notebook\n",
    "RANDOM     = 1123581321\n",
    "pd.set_option('display.max_columns', None)\n",
    "warnings.filterwarnings('ignore')"
   ]
  },
  {
   "cell_type": "code",
   "execution_count": null,
   "metadata": {},
   "outputs": [],
   "source": [
    "data_arc       = pd.read_csv('data_arc.csv')\n",
    "data_bulk      = pd.read_csv('data_bulk.csv')\n",
    "data_bulk_time = pd.read_csv('data_bulk_time.csv')\n",
    "data_gas       = pd.read_csv('data_gas.csv')\n",
    "data_temp      = pd.read_csv('data_temp.csv')\n",
    "data_wire      = pd.read_csv('data_wire.csv')\n",
    "data_wire_time = pd.read_csv('data_wire_time.csv')"
   ]
  },
  {
   "cell_type": "code",
   "execution_count": null,
   "metadata": {},
   "outputs": [],
   "source": [
    "data_flow      = [data_arc, data_bulk, data_bulk_time, data_gas, data_temp, data_wire, data_wire_time]\n",
    "data_flow_name = ['data_arc', 'data_bulk', 'data_bulk_time', 'data_gas', 'data_temp', 'data_wire', 'data_wire_time']"
   ]
  },
  {
   "cell_type": "markdown",
   "id": "983c7adb",
   "metadata": {},
   "source": [
    "<div style=\"background-color:#f3f3f3; border:solid #363636 2px; padding: 20px\">\n",
    "Посмотрим на качество предоставленных данных\n",
    "</div>"
   ]
  },
  {
   "cell_type": "code",
   "execution_count": null,
   "metadata": {
    "scrolled": false
   },
   "outputs": [],
   "source": [
    "for name, data in enumerate(data_flow):\n",
    "    print(f'Набор данных {data_flow_name[name]}')\n",
    "    print()\n",
    "    display(data.info())\n",
    "    print('='*100)"
   ]
  },
  {
   "cell_type": "markdown",
   "id": "983c7adb",
   "metadata": {},
   "source": [
    "<div style=\"background-color:#f3f3f3; border:solid #363636 2px; padding: 20px\">\n",
    "После первого осмотра данных выявлены следующие замечания:<br>\n",
    "<li>основной датасет <b>data_temp</b>, в нем находится информация по температуре на момент завершения технологического процесса плавки металла, последняя запись о замере температуры в партии является целевым признаком. Соответственно построение финального датасета будет ориентированно именно на этот набор данных;\n",
    "<li>В датасете <b>data_temp</b> есть большое количество пропусков относительно общего набора данных, восстанавливать эти данные нет смысла и может только навредить моделированию, т.к. целевой ориентир может быть искажен;\n",
    "<li>Общие замечание по наборам данных: наличие большого количества пропусков в данных, название столбцов не в \"питонском формате\", тип данных <b><i>object</i></b> где информация о времени, необходимо изменить тип.\n",
    "<li>Далее пройдемся по каждому набору данных более детально, но предварительно сразу изменю название столбцов и поменяю тип данных.\n",
    "</div>"
   ]
  },
  {
   "cell_type": "code",
   "execution_count": null,
   "metadata": {},
   "outputs": [],
   "source": [
    "data_arc.columns  = ['key', 'time_start_heat', 'time_end_heat', 'active_pwr', 'reactive_pwr']\n",
    "data_gas.columns  = ['key', 'gas']\n",
    "data_temp.columns = ['key', 'time_measure', 'temperature']"
   ]
  },
  {
   "cell_type": "code",
   "execution_count": null,
   "metadata": {},
   "outputs": [],
   "source": [
    "# функция для изменения формата даты\n",
    "def object_to_date(data):\n",
    "    for column in data.columns:\n",
    "        if data[column].dtype == 'object':\n",
    "            data[column] = pd.to_datetime(data[column], format=\"%Y-%m-%d %H:%M:%S\")\n",
    "    return data"
   ]
  },
  {
   "cell_type": "code",
   "execution_count": null,
   "metadata": {},
   "outputs": [],
   "source": [
    "# функция для переименования столбцов в \"питонский формат\"\n",
    "def columns_rename(data):\n",
    "    columns_new = []\n",
    "    for column in data.columns:\n",
    "        columns_new.append(column.replace(' ', '_').lower())\n",
    "    data.columns = columns_new\n",
    "    return data"
   ]
  },
  {
   "cell_type": "code",
   "execution_count": null,
   "metadata": {},
   "outputs": [],
   "source": [
    "for data in data_flow:\n",
    "    columns_rename(data)\n",
    "    object_to_date(data)  "
   ]
  },
  {
   "cell_type": "code",
   "execution_count": null,
   "metadata": {
    "scrolled": false
   },
   "outputs": [],
   "source": [
    "for name, data in enumerate(data_flow):\n",
    "    display(data.head(10).style\\\n",
    "                         .set_caption(f'Набор данных {data_flow_name[name]}')\\\n",
    "                         .set_table_styles(styler))\n",
    "    display(data.info())\n",
    "    print('='*100)"
   ]
  },
  {
   "cell_type": "markdown",
   "id": "983c7adb",
   "metadata": {},
   "source": [
    "<div style=\"background-color:#f3f3f3; border:solid #363636 2px; padding: 20px\">\n",
    "Первые изменения внесены, теперь необходимо познакомиться с составом информации по партиям в каждом наборе данных, чтобы понять насколько большие различия в них, т.к. некоторые таблицы содержат уже агрегированные данные для каждой партии, а некоторые несут дополнительную информацию по итерациям нагрева, необходимо понять сколько всего уникальных партий\n",
    "</div>"
   ]
  },
  {
   "cell_type": "code",
   "execution_count": null,
   "id": "7fcfb83f",
   "metadata": {},
   "outputs": [],
   "source": [
    "for name, data in enumerate(data_flow):\n",
    "    print(f'Количество партий {len(data[\"key\"].unique())} в наборе данных {data_flow_name[name]}')"
   ]
  },
  {
   "cell_type": "markdown",
   "id": "983c7adb",
   "metadata": {},
   "source": [
    "<div style=\"background-color:#f3f3f3; border:solid #363636 2px; padding: 20px\">\n",
    "Как видно из информации выше, в каждом датасете имеется разное количество партий, за исключение только информации о материалах, но это очевидно т.к. они сильно зависимы. Это очень странная ситуация, которая говорит о том, что выгрузка была произведена скорее всего не верно, качество предоставленных данных оставляет желать лучшего. Здесь бы я, наверное, обратился к тому, кто выгружал их, но за неимением такой возможности продолжим работать с тем что есть.\n",
    "</div>"
   ]
  },
  {
   "cell_type": "markdown",
   "id": "468fe9f4",
   "metadata": {},
   "source": [
    "## Анализ данных"
   ]
  },
  {
   "cell_type": "markdown",
   "id": "a971d4cd",
   "metadata": {},
   "source": [
    "### Анализ данных по замерам температуры"
   ]
  },
  {
   "cell_type": "markdown",
   "id": "983c7adb",
   "metadata": {},
   "source": [
    "<div style=\"background-color:#f3f3f3; border:solid #363636 2px; padding: 20px\">\n",
    "Первый датасет для анализа выбран не случайно, как я говорил выше это основной набор информации, на котором будет строится аналитика. В этом датасете мне необходимо получить информацию для каждой партии о первом замере температуры и последнем, для этого промаркирую набор данных\n",
    "</div>"
   ]
  },
  {
   "cell_type": "code",
   "execution_count": null,
   "id": "536ddddc",
   "metadata": {},
   "outputs": [],
   "source": [
    "target = data_temp.copy()"
   ]
  },
  {
   "cell_type": "code",
   "execution_count": null,
   "id": "eecb3fc8",
   "metadata": {},
   "outputs": [],
   "source": [
    "target.loc[target.sort_values(\"time_measure\").\n",
    "       groupby(\"key\").\n",
    "       apply(lambda x: x.index[0]), \"mark\"] = 'first'"
   ]
  },
  {
   "cell_type": "code",
   "execution_count": null,
   "id": "27f68dad",
   "metadata": {},
   "outputs": [],
   "source": [
    "target.loc[target.sort_values(\"time_measure\", ascending = False).\n",
    "       groupby(\"key\").\n",
    "       apply(lambda x: x.index[0]), \"mark\"] = 'last'"
   ]
  },
  {
   "cell_type": "code",
   "execution_count": null,
   "id": "93de4e93",
   "metadata": {
    "scrolled": true
   },
   "outputs": [],
   "source": [
    "target.head().style.format({'temperature':'{:.0f}'}).set_table_styles(styler)"
   ]
  },
  {
   "cell_type": "markdown",
   "id": "983c7adb",
   "metadata": {},
   "source": [
    "<div style=\"background-color:#f3f3f3; border:solid #363636 2px; padding: 20px\">\n",
    "Необходимые данные помечены, посмотрим на соотношение информации и проверим есть ли пары для каждой записи\n",
    "</div>"
   ]
  },
  {
   "cell_type": "code",
   "execution_count": null,
   "metadata": {},
   "outputs": [],
   "source": [
    "target.query('mark == \"last\"').shape[0], target.query('mark == \"first\"').shape[0]"
   ]
  },
  {
   "cell_type": "code",
   "execution_count": null,
   "metadata": {
    "scrolled": true
   },
   "outputs": [],
   "source": [
    "data_temp.value_counts('key').sort_values(ascending = True).head()"
   ]
  },
  {
   "cell_type": "code",
   "execution_count": null,
   "metadata": {},
   "outputs": [],
   "source": [
    "target.info()"
   ]
  },
  {
   "cell_type": "markdown",
   "id": "983c7adb",
   "metadata": {},
   "source": [
    "<div style=\"background-color:#f3f3f3; border:solid #363636 2px; padding: 20px\">\n",
    "Как можно заметить есть две партии для которых существует только одна запись с замером температуры, возможно это правда, но у меня большие сомнения по поводу этой ситуации, поэтому мне придется удалить эти партии, считаю их не корректными. Так же после объединения данных избавлюсь от пропусков\n",
    "</div>"
   ]
  },
  {
   "cell_type": "code",
   "execution_count": null,
   "id": "3630d853",
   "metadata": {},
   "outputs": [],
   "source": [
    "target = target.query('mark == \"last\"')[['key', 'time_measure', 'temperature']]\\\n",
    "               .merge(target.query('mark == \"first\"')[['key', 'time_measure', 'temperature']],\n",
    "                      on = 'key', \n",
    "                      how = 'left',\n",
    "                      suffixes = (\"_finish\", \"_start\"))\\\n",
    "               .rename(columns = {'time_measure_finish' : 'time_finish_measure', 'time_measure_start' : 'time_start_measure'})"
   ]
  },
  {
   "cell_type": "markdown",
   "id": "983c7adb",
   "metadata": {},
   "source": [
    "<div style=\"background-color:#f3f3f3; border:solid #363636 2px; padding: 20px\">\n",
    "Очистим оставшиеся данные от возможных пропусков и также проведем проверку датасета на предмет наличия данных в которых начальная температура равна финальной, и удалим эти данные из за возможной утечки признака\n",
    "</div>"
   ]
  },
  {
   "cell_type": "code",
   "execution_count": null,
   "id": "957245e7",
   "metadata": {},
   "outputs": [],
   "source": [
    "target = target.dropna()\n",
    "target = target.query('temperature_start !=  temperature_finish')"
   ]
  },
  {
   "cell_type": "markdown",
   "id": "983c7adb",
   "metadata": {},
   "source": [
    "<div style=\"background-color:#f3f3f3; border:solid #363636 2px; padding: 20px\">\n",
    "Посмотрим на распределение данных, возможно обнаружим аномалии или выбросы\n",
    "</div>"
   ]
  },
  {
   "cell_type": "code",
   "execution_count": null,
   "metadata": {
    "scrolled": false
   },
   "outputs": [],
   "source": [
    "plt.figure(figsize = (15, 7))\n",
    "sns.set_style('whitegrid')\n",
    "x = ['temperature_start', 'temperature_finish']\n",
    "\n",
    "for i, temp in enumerate(x):\n",
    "    \n",
    "    plt.subplot(1, 2, i + 1)\n",
    "    plt.title(x[i], fontsize=16)\n",
    "    sns.set_style('whitegrid')\n",
    "    sns.violinplot(data = target[temp],\n",
    "                   color      = '#c0504d',\n",
    "                   saturation = 0.6,\n",
    "                   linewidth  = 3,\n",
    "                   edgecolor  = '#363636')\n",
    "plt.show()"
   ]
  },
  {
   "cell_type": "markdown",
   "id": "983c7adb",
   "metadata": {},
   "source": [
    "<div style=\"background-color:#f3f3f3; border:solid #363636 2px; padding: 20px\">\n",
    "Как видно из графиков распределение не равномерное есть некоторые аномалии особенно что касается температуры старта, необходимо посмотреть если количество небольшое, можно принять за нижний уровень температуру 1500. С показателями температуры финиша, все сложнее особенно в ее верхней части, где после небольшого провала появляются данные. Если ориентироваться на данные по начальной температуре, то диапазон выглядит корректным, попробую оставить значения без изменений.\n",
    "</div>"
   ]
  },
  {
   "cell_type": "code",
   "execution_count": null,
   "metadata": {},
   "outputs": [],
   "source": [
    "target.query('temperature_start < 1500')\\\n",
    "      .style\\\n",
    "      .format({'temperature_finish':'{:.0f}', 'temperature_start':'{:.0f}'})\\\n",
    "      .set_table_styles(styler)"
   ]
  },
  {
   "cell_type": "code",
   "execution_count": null,
   "metadata": {},
   "outputs": [],
   "source": [
    "target = target.query('temperature_start > 1500')"
   ]
  },
  {
   "cell_type": "code",
   "execution_count": null,
   "metadata": {},
   "outputs": [],
   "source": [
    "plt.figure(figsize = (15, 7))\n",
    "sns.set_style('whitegrid')\n",
    "x = ['temperature_start', 'temperature_finish']\n",
    "\n",
    "for i, temp in enumerate(x):\n",
    "    \n",
    "    plt.subplot(1, 2, i + 1)\n",
    "    plt.title(x[i], fontsize=16)\n",
    "    sns.set_style('whitegrid')\n",
    "    sns.violinplot(data = target[temp],\n",
    "                   palette    = 'bone',\n",
    "                   saturation = 0.6,\n",
    "                   linewidth  = 3,\n",
    "                   edgecolor  = '#363636')\n",
    "plt.show()"
   ]
  },
  {
   "cell_type": "markdown",
   "id": "983c7adb",
   "metadata": {},
   "source": [
    "<div style=\"background-color:#f3f3f3; border:solid #363636 2px; padding: 20px\">\n",
    "Теперь набор данных выглядит нормально распределенным, конечно сильное искажение в данных по температуре последнего замера, но я оставлю его как есть. Посмотрим на объем утерянных данных\n",
    "</div>"
   ]
  },
  {
   "cell_type": "code",
   "execution_count": null,
   "id": "f27e7b77",
   "metadata": {
    "scrolled": true
   },
   "outputs": [],
   "source": [
    "target.shape[0], len(data_temp[\"key\"].unique())"
   ]
  },
  {
   "cell_type": "code",
   "execution_count": null,
   "metadata": {},
   "outputs": [],
   "source": [
    "'{:.0%}'.format(1 - target.shape[0] / len(data_temp[\"key\"].unique()))"
   ]
  },
  {
   "cell_type": "markdown",
   "id": "983c7adb",
   "metadata": {},
   "source": [
    "<div style=\"background-color:#f3f3f3; border:solid #363636 2px; padding: 20px\">\n",
    "Серьёзные изменения в 24% от первоначального состава, я бы вернул эти данные на доработку или проверку выгрузки\n",
    "</div>"
   ]
  },
  {
   "cell_type": "code",
   "execution_count": null,
   "id": "9240e9cc",
   "metadata": {},
   "outputs": [],
   "source": [
    "target.head().style.format({'temperature_finish':'{:.0f}', 'temperature_start':'{:.0f}'}).set_table_styles(styler)"
   ]
  },
  {
   "cell_type": "markdown",
   "id": "983c7adb",
   "metadata": {},
   "source": [
    "<div style=\"background-color:#f3f3f3; border:solid #363636 2px; padding: 20px\">\n",
    "Базовый набор данных определен, 2429 записей, т.е. партий на начальном этапе, данные по времени и начальной температуре сохранены для дальнейшего использования на стадии определения признаков и проверки корректности данных\n",
    "</div>"
   ]
  },
  {
   "cell_type": "markdown",
   "id": "49af951a",
   "metadata": {},
   "source": [
    "### Анализ данных сыпучих материалов"
   ]
  },
  {
   "cell_type": "markdown",
   "id": "983c7adb",
   "metadata": {},
   "source": [
    "<div style=\"background-color:#f3f3f3; border:solid #363636 2px; padding: 20px\">    \n",
    "Далее проверим данные по материалам из наборов <b>data_bulk</b> и <b>data_bulk_time</b>. Как и на предыдущем шаге, здесь необходимо получить информацию по начальному и конечному времени засыпки материалов в ковш, для этого построчно проверю и найду максимальное и минимальное значение времени. Большое количество пропусков связано с тем, что не во всех партиях используется материалы некоторых видов, поэтому заполнять пропуски я буду заглушкой из 0. Проверю так же чтобы не было записей совсем пустых\n",
    "</div>"
   ]
  },
  {
   "cell_type": "code",
   "execution_count": null,
   "id": "f8c21740",
   "metadata": {},
   "outputs": [],
   "source": [
    "bulk_time = data_bulk_time.copy()"
   ]
  },
  {
   "cell_type": "code",
   "execution_count": null,
   "id": "e9d4108c",
   "metadata": {},
   "outputs": [],
   "source": [
    "bulk_time = bulk_time.assign(time_start_bulk  = (bulk_time.loc[:, 'bulk_1':'bulk_15']).min(axis = 1),\n",
    "                             time_finish_bulk = (bulk_time.loc[:, 'bulk_1':'bulk_15']).max(axis = 1))"
   ]
  },
  {
   "cell_type": "code",
   "execution_count": null,
   "id": "8b3875fe",
   "metadata": {},
   "outputs": [],
   "source": [
    "(data_bulk.loc[:, 'bulk_1':'bulk_15']).sum(axis = 1).isna().sum()"
   ]
  },
  {
   "cell_type": "code",
   "execution_count": null,
   "metadata": {
    "scrolled": true
   },
   "outputs": [],
   "source": [
    "bulk_time.head().style.set_table_styles(styler)"
   ]
  },
  {
   "cell_type": "markdown",
   "id": "983c7adb",
   "metadata": {},
   "source": [
    "<div style=\"background-color:#f3f3f3; border:solid #363636 2px; padding: 20px\">\n",
    "Информация добавлена, так же проверены пустые строки - таких нет. Посмотрим на распределение каждого материала\n",
    "</div>"
   ]
  },
  {
   "cell_type": "code",
   "execution_count": null,
   "metadata": {
    "scrolled": false
   },
   "outputs": [],
   "source": [
    "plt.figure(figsize = (13, 15))\n",
    "sns.set_style('whitegrid')\n",
    "x = list(data_bulk.columns[1:])\n",
    "\n",
    "for i, bulk in enumerate(x):\n",
    "    \n",
    "    plt.subplot(5, 3, i + 1)\n",
    "    sns.histplot(data = data_bulk[bulk],\n",
    "                 color = '#9E4447',\n",
    "                 element=\"step\",\n",
    "                 bins = 100)\n",
    "    \n",
    "    plt.title(f'{x[i]}', fontsize = 14)\n",
    "    plt.ylabel('spread', fontsize = 14)\n",
    "    plt.xlabel('')\n",
    "    plt.tight_layout()    \n",
    "plt.show()"
   ]
  },
  {
   "cell_type": "code",
   "execution_count": null,
   "metadata": {
    "scrolled": true
   },
   "outputs": [],
   "source": [
    "for i in list(data_bulk.columns[1:]):\n",
    "    print(f'записей в признаке {i} = {data_bulk[i].count()}')"
   ]
  },
  {
   "cell_type": "markdown",
   "id": "983c7adb",
   "metadata": {},
   "source": [
    "<div style=\"background-color:#f3f3f3; border:solid #363636 2px; padding: 20px\">\n",
    "Данные очень сильно неравномерны, сильный дисбаланс в классах, некоторые признаки имею только одну запись <b>bulk_8</b>, что возможно на финальном этапе необходимо будет удалить те признаки, у которых менее 100 записей т.к. никакого влияния не будет нести, очень мало данных и сильный разброс, что опять говорить о низком качестве предоставленной информации\n",
    "</div>"
   ]
  },
  {
   "cell_type": "markdown",
   "id": "49af951a",
   "metadata": {},
   "source": [
    "### Анализ данных проволочных материалов"
   ]
  },
  {
   "cell_type": "markdown",
   "id": "983c7adb",
   "metadata": {},
   "source": [
    "<div style=\"background-color:#f3f3f3; border:solid #363636 2px; padding: 20px\">\n",
    "Далее проверим данные по материалам из наборов <b>data_wire</b> и <b>data_wire_time</b>. Как и на предыдущем шаге, здесь необходимо получить информацию по начальному и конечному времени засыпки материалов в ковш, для этого построчно проверю и найду максимальное и минимальное значение времени. Большое количество пропусков связано с тем, что не во всех партиях используется материалы некоторых видов, поэтому заполнять пропуски я буду заглушкой из 0. Проверю так же чтобы не было записей совсем пустых\n",
    "</div>"
   ]
  },
  {
   "cell_type": "code",
   "execution_count": null,
   "id": "f8c21740",
   "metadata": {},
   "outputs": [],
   "source": [
    "wire_time = data_wire_time.copy()"
   ]
  },
  {
   "cell_type": "code",
   "execution_count": null,
   "id": "e9d4108c",
   "metadata": {},
   "outputs": [],
   "source": [
    "wire_time = wire_time.assign(time_start_wire  = (wire_time.loc[:, 'wire_1':'wire_9']).min(axis = 1),\n",
    "                             time_finish_wire = (wire_time.loc[:, 'wire_1':'wire_9']).max(axis = 1))"
   ]
  },
  {
   "cell_type": "code",
   "execution_count": null,
   "id": "8b3875fe",
   "metadata": {},
   "outputs": [],
   "source": [
    "(data_wire.loc[:, 'wire_1':'wire_9']).sum(axis = 1).isna().sum()"
   ]
  },
  {
   "cell_type": "code",
   "execution_count": null,
   "metadata": {
    "scrolled": true
   },
   "outputs": [],
   "source": [
    "wire_time.head().style.set_table_styles(styler)"
   ]
  },
  {
   "cell_type": "markdown",
   "id": "983c7adb",
   "metadata": {},
   "source": [
    "<div style=\"background-color:#f3f3f3; border:solid #363636 2px; padding: 20px\">\n",
    "Информация добавлена, так же проверены пустые строки - таких нет. Посмотрим на распределение каждого материала\n",
    "</div>"
   ]
  },
  {
   "cell_type": "code",
   "execution_count": null,
   "metadata": {
    "scrolled": false
   },
   "outputs": [],
   "source": [
    "plt.figure(figsize = (13, 11))\n",
    "sns.set_style('whitegrid')\n",
    "x = list(data_wire.columns[1:])\n",
    "\n",
    "for i, wire in enumerate(x):\n",
    "    \n",
    "    plt.subplot(3, 3, i + 1)\n",
    "    sns.histplot(data = data_wire[wire],\n",
    "                 color = '#444444',\n",
    "                 element=\"step\",\n",
    "                 bins = 100)\n",
    "    \n",
    "    plt.title(f'{x[i]}', fontsize = 16)\n",
    "    plt.ylabel('spread', fontsize = 14)\n",
    "    plt.xlabel('')\n",
    "    plt.tight_layout()    \n",
    "plt.show()"
   ]
  },
  {
   "cell_type": "code",
   "execution_count": null,
   "metadata": {},
   "outputs": [],
   "source": [
    "for i in list(data_wire.columns[1:]):\n",
    "    print(f'записей в признаке {i} = {data_wire[i].count()}')"
   ]
  },
  {
   "cell_type": "markdown",
   "id": "983c7adb",
   "metadata": {},
   "source": [
    "<div style=\"background-color:#f3f3f3; border:solid #363636 2px; padding: 20px\">    \n",
    "Данные очень сильно неравномерны, сильный дисбаланс в классах, некоторые признаки имею только одну запись <b>wire_5</b>, что возможно на финальном этапе необходимо будет удалить, т.к. 90% набора это всего лишь два признака, те признаки у которых менее 100 записей т.к. никакого влияния не будет нести, очень мало данных и сильный разброс, что опять говорить о низком качестве предоставленной информации\n",
    "</div>"
   ]
  },
  {
   "cell_type": "markdown",
   "id": "49af951a",
   "metadata": {},
   "source": [
    "### Анализ данных электродов"
   ]
  },
  {
   "cell_type": "markdown",
   "id": "983c7adb",
   "metadata": {},
   "source": [
    "<div style=\"background-color:#f3f3f3; border:solid #363636 2px; padding: 20px\">\n",
    "Данный датасет интересен тем, что в нем информация по технологическому процессу нагрева металла, где угазаны периоды нагрева, а также данные по затраченной энергии. Этот датасет очень важен для подготовки данных из него я возьму информацию о времени начала техпроцесса о времени его завершения, на основании этой информации я выведу новый показатель о продолжительности техпроцесса для каждой партии в агрегированном состоянии. Так же т.к. мы имеем информацию о активной и реактивной мощности, то я найду полную потраченную мощность по формуле и создам на основании нее новый показатель. Время мне поможет найти, если такие имеются данные которые противоречат технологическому процессу. Я буду сравнивать время засыпки материалов и замера температуры именно по этим данным чтобы точно отсечь аномалии\n",
    "</div>"
   ]
  },
  {
   "cell_type": "code",
   "execution_count": null,
   "metadata": {},
   "outputs": [],
   "source": [
    "heat_data = data_arc.copy()"
   ]
  },
  {
   "cell_type": "code",
   "execution_count": null,
   "metadata": {},
   "outputs": [],
   "source": [
    "heat_data = heat_data.assign(total_time = heat_data['time_end_heat'] - heat_data['time_start_heat'])"
   ]
  },
  {
   "cell_type": "code",
   "execution_count": null,
   "metadata": {},
   "outputs": [],
   "source": [
    "heat_data['total_time'] = heat_data['total_time'].astype('timedelta64[s]')"
   ]
  },
  {
   "cell_type": "code",
   "execution_count": null,
   "metadata": {},
   "outputs": [],
   "source": [
    "heat_data['total_power'] = np.sqrt(np.power(heat_data['active_pwr'],2) + np.power(heat_data['reactive_pwr'],2))"
   ]
  },
  {
   "cell_type": "code",
   "execution_count": null,
   "id": "eecb3fc8",
   "metadata": {},
   "outputs": [],
   "source": [
    "heat_data.loc[heat_data.sort_values(\"time_start_heat\").\n",
    "       groupby(\"key\").\n",
    "       apply(lambda x: x.index[0]), \"mark\"] = 'first'"
   ]
  },
  {
   "cell_type": "code",
   "execution_count": null,
   "id": "27f68dad",
   "metadata": {},
   "outputs": [],
   "source": [
    "heat_data.loc[heat_data.sort_values(\"time_end_heat\", ascending = False).\n",
    "       groupby(\"key\").\n",
    "       apply(lambda x: x.index[0]), \"mark\"] = 'last'"
   ]
  },
  {
   "cell_type": "code",
   "execution_count": null,
   "metadata": {},
   "outputs": [],
   "source": [
    "heat_data.head().style.set_table_styles(styler)"
   ]
  },
  {
   "cell_type": "markdown",
   "id": "983c7adb",
   "metadata": {},
   "source": [
    "<div style=\"background-color:#f3f3f3; border:solid #363636 2px; padding: 20px\">\n",
    "Данные размечены, до того, как буду выводить агрегированные данные необходимо ознакомиться с распределением информации по мощности на предмет выбросов и аномалий\n",
    "</div>"
   ]
  },
  {
   "cell_type": "code",
   "execution_count": null,
   "metadata": {},
   "outputs": [],
   "source": [
    "plt.figure(figsize = (15, 7))\n",
    "sns.set_style('whitegrid')\n",
    "x = ['active_pwr', 'reactive_pwr']\n",
    "\n",
    "for i, power in enumerate(x):\n",
    "    \n",
    "    plt.subplot(1, 2, i + 1)\n",
    "    plt.title(x[i], fontsize=16)\n",
    "    sns.set_style('whitegrid')\n",
    "    sns.violinplot(data = heat_data[power],\n",
    "                   color      = '#c0504d',\n",
    "                   saturation = 0.6,\n",
    "                   linewidth  = 3,\n",
    "                   edgecolor  = '#363636')\n",
    "plt.show()"
   ]
  },
  {
   "cell_type": "code",
   "execution_count": null,
   "metadata": {},
   "outputs": [],
   "source": [
    "heat_data.describe().style.format('{:.2f}').set_table_styles(styler)"
   ]
  },
  {
   "cell_type": "code",
   "execution_count": null,
   "metadata": {},
   "outputs": [],
   "source": [
    "heat_data.query('reactive_pwr < 0').style.set_table_styles(styler)"
   ]
  },
  {
   "cell_type": "code",
   "execution_count": null,
   "metadata": {},
   "outputs": [],
   "source": [
    "heat_data.query('active_pwr > 3').style.set_table_styles(styler)"
   ]
  },
  {
   "cell_type": "markdown",
   "id": "983c7adb",
   "metadata": {},
   "source": [
    "<div style=\"background-color:#f3f3f3; border:solid #363636 2px; padding: 20px\">\n",
    "Как видно из графика есть заметные выбросы или даже аномалии, так для реактивной мощности есть явно аномальное значение -715,5, его необходимо удалить. Для набора данных по активной мощности тоже есть выбросы со значение более 3, попробую их оставить возможно они не сильно повлияют на конечный результат\n",
    "</div>"
   ]
  },
  {
   "cell_type": "code",
   "execution_count": null,
   "metadata": {},
   "outputs": [],
   "source": [
    "heat_data = heat_data.query('key != 2116')"
   ]
  },
  {
   "cell_type": "code",
   "execution_count": null,
   "metadata": {
    "scrolled": false
   },
   "outputs": [],
   "source": [
    "plt.figure(figsize = (15, 7))\n",
    "sns.set_style('whitegrid')\n",
    "x = ['active_pwr', 'reactive_pwr']\n",
    "\n",
    "for i, power in enumerate(x):\n",
    "    \n",
    "    plt.subplot(1, 2, i + 1)\n",
    "    plt.title(x[i], fontsize=16)\n",
    "    sns.set_style('whitegrid')\n",
    "    sns.violinplot(data = heat_data[power],\n",
    "                   palette    = 'bone',\n",
    "                   saturation = 0.6,\n",
    "                   linewidth  = 3,\n",
    "                   edgecolor  = '#363636')\n",
    "plt.show()"
   ]
  },
  {
   "cell_type": "markdown",
   "id": "983c7adb",
   "metadata": {},
   "source": [
    "<div style=\"background-color:#f3f3f3; border:solid #363636 2px; padding: 20px\">\n",
    "Теперь распределения выглядят симметрично\n",
    "</div>"
   ]
  },
  {
   "cell_type": "code",
   "execution_count": null,
   "metadata": {},
   "outputs": [],
   "source": [
    "data_temp.value_counts('key').sort_values(ascending = True).head()"
   ]
  },
  {
   "cell_type": "code",
   "execution_count": null,
   "metadata": {
    "scrolled": false
   },
   "outputs": [],
   "source": [
    "heat_data.query('mark == \"first\"')[['key', 'time_start_heat']]\\\n",
    "         .merge(heat_data.query('mark == \"last\"')[['key', 'time_end_heat']],\n",
    "                on = 'key', \n",
    "                how = 'outer').isna().sum()"
   ]
  },
  {
   "cell_type": "code",
   "execution_count": null,
   "metadata": {},
   "outputs": [],
   "source": [
    "heat_data.groupby('key')['total_time', 'total_power'].sum().isna().sum()"
   ]
  },
  {
   "cell_type": "markdown",
   "id": "983c7adb",
   "metadata": {},
   "source": [
    "<div style=\"background-color:#f3f3f3; border:solid #363636 2px; padding: 20px\">\n",
    "Проверил сколько пар отсутствует по времени для начала и финиша, всего две, также предварительно посмотрел сколько будет пропусков в результате объединения и из-за того, что данные с пропусками. Потери будут не критичными можно объединить данные\n",
    "</div>"
   ]
  },
  {
   "cell_type": "code",
   "execution_count": null,
   "metadata": {},
   "outputs": [],
   "source": [
    "heat_data = heat_data.query('mark == \"first\"')[['key', 'time_start_heat']]\\\n",
    "                     .merge(heat_data.query('mark == \"last\"')[['key', 'time_end_heat']],\n",
    "                            on = 'key', \n",
    "                            how = 'outer')\\\n",
    "                     .merge(heat_data.groupby('key')['total_time', 'total_power'].sum(),\n",
    "                            on = 'key', \n",
    "                            how = 'outer')"
   ]
  },
  {
   "cell_type": "code",
   "execution_count": null,
   "metadata": {
    "scrolled": false
   },
   "outputs": [],
   "source": [
    "heat_data.head()\\\n",
    "         .style\\\n",
    "         .set_caption(f'Набор данных для электродов')\\\n",
    "         .format({'total_time' : '{:.0f}', 'total_power' : '{:.2f}'})\\\n",
    "         .set_table_styles(styler)"
   ]
  },
  {
   "cell_type": "code",
   "execution_count": null,
   "metadata": {
    "scrolled": true
   },
   "outputs": [],
   "source": [
    "heat_data.info()"
   ]
  },
  {
   "cell_type": "markdown",
   "id": "983c7adb",
   "metadata": {},
   "source": [
    "<div style=\"background-color:#f3f3f3; border:solid #363636 2px; padding: 20px\">\n",
    "Таблица подготовлена, есть небольшое количество пропусков, оставлю пока данные в таком виде при финальном объединении датасетов можно будет удалить\n",
    "</div>"
   ]
  },
  {
   "cell_type": "markdown",
   "id": "49af951a",
   "metadata": {},
   "source": [
    "### Свод данных"
   ]
  },
  {
   "cell_type": "markdown",
   "id": "983c7adb",
   "metadata": {},
   "source": [
    "<div style=\"background-color:#f3f3f3; border:solid #363636 2px; padding: 20px\">    \n",
    "Теперь можно приступить к объединению подготовленных данных в один датасет, объединять буду по ключу <b>key</b>, на основании датасета <b>data_temp/target</b>, так как в нем есть целевой показатель \n",
    "</div>"
   ]
  },
  {
   "cell_type": "code",
   "execution_count": null,
   "metadata": {},
   "outputs": [],
   "source": [
    "raw_data = target.merge(bulk_time[['key', 'time_start_bulk', 'time_finish_bulk']], on = 'key', how = 'left')\\\n",
    "                 .merge(data_bulk.fillna(0), on = 'key', how = 'left')\\\n",
    "                 .merge(wire_time[['key', 'time_start_wire', 'time_finish_wire']], on = 'key', how = 'left')\\\n",
    "                 .merge(data_wire.fillna(0), on = 'key', how = 'left')\\\n",
    "                 .merge(data_gas, on = 'key', how = 'left')\\\n",
    "                 .merge(heat_data, on = 'key', how = 'left')"
   ]
  },
  {
   "cell_type": "code",
   "execution_count": null,
   "metadata": {},
   "outputs": [],
   "source": [
    "raw_data.head()\\\n",
    "        .style\\\n",
    "        .set_caption(f'Сводные сырые данные')\\\n",
    "        .set_table_styles(styler)"
   ]
  },
  {
   "cell_type": "code",
   "execution_count": null,
   "metadata": {},
   "outputs": [],
   "source": [
    "raw_data.shape"
   ]
  },
  {
   "cell_type": "markdown",
   "id": "983c7adb",
   "metadata": {},
   "source": [
    "<div style=\"background-color:#f3f3f3; border:solid #363636 2px; padding: 20px\">    \n",
    "Сырые данные подготовлены, набор данных насчитывает 2471 запись, что не много для хорошего обучения модели. Теперь я хотел бы проверить логику данных по соблюдению технологического процесса, я специально оставил всю информацию по началу и завершению нагрева. Логика проверки такова:<br>\n",
    "<li>Начало замера температуры должно быть позже начала нагрева;\n",
    "<li>Последний замер температуры должен быть позже окончания последнего нагрева;\n",
    "<li>Засыпка материалов должна быть строго в рамках периода нагрева.<br><br>    \n",
    "Проведем проверку данных\n",
    "</div>"
   ]
  },
  {
   "cell_type": "code",
   "execution_count": null,
   "metadata": {},
   "outputs": [],
   "source": [
    "raw_data['time_start_check'] = (raw_data['time_start_measure'] >= raw_data['time_start_heat']) & \\\n",
    "                               (raw_data['time_start_bulk']    >= raw_data['time_start_heat']) & \\\n",
    "                               (raw_data['time_start_wire']    >= raw_data['time_start_heat']) & \\\n",
    "                               (raw_data['time_start_bulk']    <= raw_data['time_end_heat'])   & \\\n",
    "                               (raw_data['time_start_wire']    <= raw_data['time_end_heat'])"
   ]
  },
  {
   "cell_type": "code",
   "execution_count": null,
   "metadata": {},
   "outputs": [],
   "source": [
    "\n",
    "raw_data['time_finish_check'] = (raw_data['time_finish_measure'] >= raw_data['time_end_heat'])   & \\\n",
    "                                (raw_data['time_finish_bulk']    <= raw_data['time_end_heat'])   & \\\n",
    "                                (raw_data['time_finish_wire']    <= raw_data['time_end_heat'])   & \\\n",
    "                                (raw_data['time_finish_bulk']    >= raw_data['time_start_heat']) & \\\n",
    "                                (raw_data['time_finish_wire']    >= raw_data['time_start_heat'])"
   ]
  },
  {
   "cell_type": "code",
   "execution_count": null,
   "metadata": {},
   "outputs": [],
   "source": [
    "raw_data.query('time_start_check == False')['time_start_check'].count()"
   ]
  },
  {
   "cell_type": "code",
   "execution_count": null,
   "metadata": {},
   "outputs": [],
   "source": [
    "raw_data.query('time_finish_check == False')['time_finish_check'].count()"
   ]
  },
  {
   "cell_type": "markdown",
   "id": "983c7adb",
   "metadata": {},
   "source": [
    "<div style=\"background-color:#f3f3f3; border:solid #363636 2px; padding: 20px\">    \n",
    "Как видно из результатов много несоответствий, да часть из них связана с отсутствием информации по замере температуры. Необходимо удалить эти данные, так же надо будет удалить данные о времени, теперь они больше не нужны\n",
    "</div>"
   ]
  },
  {
   "cell_type": "code",
   "execution_count": null,
   "metadata": {},
   "outputs": [],
   "source": [
    "raw_data = raw_data.query('time_start_check == True & time_finish_check == True')"
   ]
  },
  {
   "cell_type": "code",
   "execution_count": null,
   "metadata": {},
   "outputs": [],
   "source": [
    "raw_data = raw_data.dropna()"
   ]
  },
  {
   "cell_type": "markdown",
   "id": "983c7adb",
   "metadata": {},
   "source": [
    "<div style=\"background-color:#f3f3f3; border:solid #363636 2px; padding: 20px\">    \n",
    "Так же проверю чтобы в финальный датасет не попали данные без информации по загрузке материалов\n",
    "</div>"
   ]
  },
  {
   "cell_type": "code",
   "execution_count": null,
   "metadata": {},
   "outputs": [],
   "source": [
    "len(raw_data.assign(check = (raw_data.loc[:, 'wire_1':'wire_9']).sum(axis = 1)).query('check == 0'))"
   ]
  },
  {
   "cell_type": "code",
   "execution_count": null,
   "metadata": {
    "scrolled": true
   },
   "outputs": [],
   "source": [
    "len(raw_data.assign(check = (raw_data.loc[:, 'bulk_1':'bulk_15']).sum(axis = 1)).query('check == 0'))"
   ]
  },
  {
   "cell_type": "code",
   "execution_count": null,
   "metadata": {},
   "outputs": [],
   "source": [
    "set_columns = list(raw_data.filter(like = 'bulk_').columns) + list(raw_data.filter(like = 'wire_').columns)\n",
    "len(raw_data.assign(check = (raw_data[set_columns]).sum(axis = 1)).query('check == 0'))"
   ]
  },
  {
   "cell_type": "code",
   "execution_count": null,
   "metadata": {
    "scrolled": false
   },
   "outputs": [],
   "source": [
    "clear_data = raw_data.drop(raw_data.filter(like = 'time').columns.difference(['total_time']), axis = 1)"
   ]
  },
  {
   "cell_type": "raw",
   "metadata": {},
   "source": [
    "clear_data = clear_data.assign(bulk_total  = (clear_data.loc[:, 'wire_1':'wire_9']).sum(axis = 1),\n",
    "                               wire_total  = (clear_data.loc[:, 'bulk_1':'bulk_15']).sum(axis = 1))"
   ]
  },
  {
   "cell_type": "raw",
   "metadata": {},
   "source": [
    "# Добавление признаков по общему содержанию материалов\n",
    "clear_data = clear_data.assign(bulk_total  = (clear_data.loc[:, 'wire_1':'wire_9']).sum(axis = 1),\n",
    "                               wire_total  = (clear_data.loc[:, 'bulk_1':'bulk_15']).sum(axis = 1))"
   ]
  },
  {
   "cell_type": "code",
   "execution_count": null,
   "metadata": {},
   "outputs": [],
   "source": [
    "clear_data.info()"
   ]
  },
  {
   "cell_type": "code",
   "execution_count": null,
   "metadata": {},
   "outputs": [],
   "source": [
    "clear_data.head()\\\n",
    "          .style\\\n",
    "          .set_caption(f'Сводные чистые данные')\\\n",
    "          .format('{:.0f}')\\\n",
    "          .set_table_styles(styler)"
   ]
  },
  {
   "cell_type": "code",
   "execution_count": null,
   "metadata": {},
   "outputs": [],
   "source": [
    "clear_data.shape[0], len(data_temp[\"key\"].unique())"
   ]
  },
  {
   "cell_type": "code",
   "execution_count": null,
   "metadata": {},
   "outputs": [],
   "source": [
    "'{:.0%}'.format(1 - clear_data.shape[0] / len(data_temp[\"key\"].unique()))"
   ]
  },
  {
   "cell_type": "markdown",
   "id": "983c7adb",
   "metadata": {},
   "source": [
    "<div style=\"background-color:#f3f3f3; border:solid #363636 2px; padding: 20px\">    \n",
    "Таблица подготовлена, в остатке 1982 записей, потеря данных составляет 38% это просто ужасный результат для такого маленького датасета, на этом этапе я бы точно вернул данные тому, кто их формировал\n",
    "</div>"
   ]
  },
  {
   "cell_type": "markdown",
   "id": "49af951a",
   "metadata": {},
   "source": [
    "### Признаки"
   ]
  },
  {
   "cell_type": "markdown",
   "metadata": {},
   "source": [
    "<div style=\"background-color:#f3f3f3; border:solid #363636 2px; padding: 20px\">    \n",
    "На этом этапе хочу определить какие признаки необходимо оставить для создания модели, т.к. считаю что некоторые из них не информативны. Так например:<br><br>\n",
    "<li>key — номер партии, уже не имеет значения, ориентир будет индекс;\n",
    "<li>wire_5 — имеет всего одну запись;\n",
    "<li>bulk_8 — имеет всего одну запись;<br><br>\n",
    "Но предварительно посмотрим на тепловую карту корреляции признаков\n",
    "</div>"
   ]
  },
  {
   "cell_type": "code",
   "execution_count": null,
   "metadata": {
    "scrolled": false
   },
   "outputs": [],
   "source": [
    "sns.set(rc={'figure.figsize':(15,15)})\n",
    "sns.heatmap(clear_data.drop('key', axis = 1).corr())"
   ]
  },
  {
   "cell_type": "markdown",
   "id": "983c7adb",
   "metadata": {},
   "source": [
    "<div style=\"background-color:#f3f3f3; border:solid #363636 2px; padding: 20px\">    \n",
    "Как видно на карте <b>wire_5</b> вообще не имеет значений после предобработки только 0, сильная корреляция между показателями <b>wire_8</b> и <b>bulk_9</b>, оставлю <b>bulk_9</b>. Так же, ожидаемый результат по сильной корреляции между <b>total_time</b> и <b>total_power</b>, оставлю из них <b>total_power</b>\n",
    "</div>"
   ]
  },
  {
   "cell_type": "raw",
   "metadata": {},
   "source": [
    "# очистка признаков по минимальному набору данных\n",
    "data_set = [data_bulk, data_wire]\n",
    "columns_set = []\n",
    "for i in range(len(data_set)):\n",
    "    for j in data_set[i].columns[1:]:\n",
    "        if data_set[i][j].count() < 100:\n",
    "            columns_set.append(j)\n",
    "columns_set"
   ]
  },
  {
   "cell_type": "raw",
   "metadata": {},
   "source": [
    "# версия 1\n",
    "final_data = clear_data.drop(columns_set + ['key', 'total_time'], axis = 1).reset_index(drop=True)"
   ]
  },
  {
   "cell_type": "code",
   "execution_count": null,
   "metadata": {},
   "outputs": [],
   "source": [
    "# версия 2\n",
    "final_data = clear_data.drop(['key', 'wire_5', 'wire_8', 'bulk_8', 'total_time'], axis = 1).reset_index(drop=True)"
   ]
  },
  {
   "cell_type": "code",
   "execution_count": null,
   "metadata": {},
   "outputs": [],
   "source": [
    "final_data.head()\\\n",
    "          .style\\\n",
    "          .set_caption(f'Сводные чистые данные')\\\n",
    "          .format('{:.0f}')\\\n",
    "          .set_table_styles(styler)"
   ]
  },
  {
   "cell_type": "markdown",
   "id": "6cdd5de9",
   "metadata": {},
   "source": [
    "<div style=\"background-color:gray; border:solid #363636 2px; padding: 20px\">      \n",
    "<span style=\"color:white\"><b>Выводы:</b></span><br><br>\n",
    "<span style=\"color:white\">    \n",
    "Данные были загружен и проанализированы, приведены в соответствие и очищены от выбросов, аномалий и пропусков. Необходимо отметить:<br>\n",
    "<li>Качество предоставленных данных низкого качества;\n",
    "<li>В данных много пропусков там, где их не должно быть;\n",
    "<li>Существуют аномалии не в большом количестве, но возможно это мое непонимание технологического процесса;\n",
    "<li>Большая проблема с временными тегами данных которые нарушают логику технологического процесса, либо опять я не до конца понимаю технологию производства;\n",
    "<li>По-хорошему такие данные необходимо вернуть на доработку, возможно были допущены ошибки при выгрузке данных, или проконсультироваться с технологами по поводу корректности информации в этих датасетах;\n",
    "<li>Данные готовы к подготовке и обучению модели.\n",
    "</span>\n",
    "</div>"
   ]
  },
  {
   "cell_type": "markdown",
   "metadata": {},
   "source": [
    "## Подготовка модели"
   ]
  },
  {
   "cell_type": "markdown",
   "id": "983c7adb",
   "metadata": {},
   "source": [
    "<div style=\"background-color:#f3f3f3; border:solid #363636 2px; padding: 20px\">\n",
    "    \n",
    "Основной задачей текущего проекта является прогноз температуры на основании фактических данных. Необходимо подготовить модель, которая способна с высокой долей вероятности прогнозировать конечную температур, что косвенно определяет затраченную  электроэнергию. Целевой признак в моей задаче количественный, который находится в признаках  <b><i>'temperature_finish'</i></b>, соответственно буду использовать модель для регрессии <b>DecisionTreeRegressor, RandomForestRegressor, ExtraTreesRegressor, LGBMRegressor, Lasso, LinearRegression</b> в рамках предсказания, где целевой признак температура. Подбор параметров буду производить с помощью <b>GridSearchCV</b>. Выбор модели на основании метрики с предельно наименьшим значением <b>MAE</b>.\n",
    "</div>"
   ]
  },
  {
   "cell_type": "markdown",
   "metadata": {},
   "source": [
    "### Модели с базовыми параметрами"
   ]
  },
  {
   "cell_type": "markdown",
   "id": "983c7adb",
   "metadata": {},
   "source": [
    "<div style=\"background-color:#f3f3f3; border:solid #363636 2px; padding: 20px\">\n",
    "    \n",
    "Перебирать все модели с параметрами я буду с помощью <b>GridSearchCV</b>, для этого подготовлю два списка с моделями <b><i>regressors</i></b> и с гиперпараметрами для этих моделей <b><i>parameters</i></b>. Для начала я решил проверить все модели на базовых гиперпараметрах, чтобы в дальнейшем можно было увидеть динамику изменения качества моделей, для оценки качества моделей выбираю 5 фолдов для кросс-валидации в настройках Grid\n",
    "</div>"
   ]
  },
  {
   "cell_type": "code",
   "execution_count": null,
   "metadata": {},
   "outputs": [],
   "source": [
    "features = final_data.drop('temperature_finish', axis = 1)\n",
    "target   = final_data['temperature_finish']"
   ]
  },
  {
   "cell_type": "code",
   "execution_count": null,
   "metadata": {},
   "outputs": [],
   "source": [
    "features_train, features_test, target_train, target_test = train_test_split(features, \n",
    "                                                                              target, \n",
    "                                                                              test_size = 0.25, \n",
    "                                                                              random_state = RANDOM)"
   ]
  },
  {
   "cell_type": "code",
   "execution_count": null,
   "metadata": {},
   "outputs": [],
   "source": [
    "scaler = StandardScaler()\n",
    "scaler.fit(features_train)    \n",
    "features_train = scaler.transform(features_train)"
   ]
  },
  {
   "cell_type": "code",
   "execution_count": null,
   "metadata": {},
   "outputs": [],
   "source": [
    "regressors = [LinearRegression(),\n",
    "              Lasso(random_state = RANDOM),\n",
    "              DecisionTreeRegressor(random_state = RANDOM),\n",
    "              ExtraTreesRegressor(random_state = RANDOM),\n",
    "              RandomForestRegressor(random_state = RANDOM)]"
   ]
  },
  {
   "cell_type": "code",
   "execution_count": null,
   "metadata": {},
   "outputs": [],
   "source": [
    "parameters = [{}] * len(regressors)"
   ]
  },
  {
   "cell_type": "code",
   "execution_count": null,
   "metadata": {},
   "outputs": [],
   "source": [
    "%%time\n",
    "scores = []\n",
    "\n",
    "for i in notebook.tqdm(range(len(regressors))):\n",
    "    \n",
    "    grid_model = GridSearchCV(estimator  = regressors[i], \n",
    "                              param_grid = parameters[i],\n",
    "                              scoring    = 'neg_mean_absolute_error',\n",
    "                              n_jobs     = -1,\n",
    "                              cv         = 5)\n",
    "    \n",
    "    grid_model.fit(features_train, target_train)        \n",
    "    time_score    = grid_model.cv_results_['mean_test_score']   \n",
    "    mean_fit_time = grid_model.cv_results_['mean_fit_time'][np.where(time_score == time_score.max())[0][0]]\n",
    "    \n",
    "    scores.append([' '.join(re.sub(r'([A-Z])', r' \\1', str(regressors[i]).split('(')[0]).split()), \n",
    "                   grid_model.best_score_, \n",
    "                   mean_fit_time,\n",
    "                   grid_model.best_params_])"
   ]
  },
  {
   "cell_type": "code",
   "execution_count": null,
   "metadata": {},
   "outputs": [],
   "source": [
    "scores_base = scores"
   ]
  },
  {
   "cell_type": "code",
   "execution_count": null,
   "metadata": {},
   "outputs": [],
   "source": [
    "pd.DataFrame(data    = scores_base, \n",
    "             columns = ['model', 'mae', 'mean_fit_time', 'parameters'])\\\n",
    "            .sort_values('mae', ascending = False)\\\n",
    "            .reset_index(drop = True)\\\n",
    "            .style\\\n",
    "            .format({'mae':'{:.2f}', 'mean_fit_time' : '{:,.2f}s'})\\\n",
    "            .set_caption(f'Результаты моделей на базовых параметрах',)\\\n",
    "            .set_table_styles(styler)"
   ]
  },
  {
   "cell_type": "markdown",
   "id": "983c7adb",
   "metadata": {},
   "source": [
    "<div style=\"background-color:#f3f3f3; border:solid #363636 2px; padding: 20px\">    \n",
    "Отличные результаты на базовых настройках показывают почти все модели, кроме <b>LinearRegression</b>, метрика которой выходит за допустимые значения, лучшую метрику показывает <b>RandomForestRegressor</b>\n",
    "</div>"
   ]
  },
  {
   "cell_type": "markdown",
   "metadata": {},
   "source": [
    "### Подбор гиперпараметров"
   ]
  },
  {
   "cell_type": "markdown",
   "id": "983c7adb",
   "metadata": {},
   "source": [
    "<div style=\"background-color:#f3f3f3; border:solid #363636 2px; padding: 20px\">\n",
    "    \n",
    "Далее буду перебрать параметры для моделей и на основании показателей качества моделей выберу лучшую\n",
    "</div>"
   ]
  },
  {
   "cell_type": "code",
   "execution_count": null,
   "metadata": {},
   "outputs": [],
   "source": [
    "parameters = [{},\n",
    "              \n",
    "              {'selection'    : ['cyclic', 'random'],\n",
    "               'max_iter'     : list(range(100,1000,100))}, \n",
    "              \n",
    "              {'criterion'    : ['friedman_mse', 'poisson'],\n",
    "               'max_depth'    : list(range(1,10))},\n",
    "              \n",
    "              {'n_estimators' : list(range(100,201,10)),\n",
    "               'max_depth'    : list(range(10,21))},\n",
    "              \n",
    "              {'n_estimators' : list(range(100,201,10)),\n",
    "               'max_depth'    : list(range(10,21))}]"
   ]
  },
  {
   "cell_type": "raw",
   "metadata": {},
   "source": [
    "%%time\n",
    "scores = []\n",
    "\n",
    "for i in notebook.tqdm(range(len(regressors))):\n",
    "    \n",
    "    grid_model = GridSearchCV(estimator  = regressors[i], \n",
    "                              param_grid = parameters[i],\n",
    "                              scoring    = 'neg_mean_absolute_error',\n",
    "                              n_jobs     = -1,\n",
    "                              cv         = 3)\n",
    "    \n",
    "    grid_model.fit(features_train, target_train)        \n",
    "    time_score    = grid_model.cv_results_['mean_test_score']   \n",
    "    mean_fit_time = grid_model.cv_results_['mean_fit_time'][np.where(time_score == time_score.max())[0][0]]\n",
    "    \n",
    "    scores.append([' '.join(re.sub(r'([A-Z])', r' \\1', str(regressors[i]).split('(')[0]).split()), \n",
    "                   grid_model.best_score_, \n",
    "                   mean_fit_time,\n",
    "                   grid_model.best_params_])"
   ]
  },
  {
   "cell_type": "code",
   "execution_count": null,
   "metadata": {},
   "outputs": [],
   "source": [
    "# результаты моделирования\n",
    "scores_param = \\\n",
    "[['Linear Regression', -6.246259284306169, 0.006002505620320638, {}],\n",
    " ['Lasso',  -6.516956794153191,  0.004667997360229492,  {'max_iter': 100, 'selection': 'cyclic'}],\n",
    " ['Decision Tree Regressor',  -7.225941128978035,  0.01299889882405599,  {'criterion': 'friedman_mse', 'max_depth': 4}],\n",
    " ['Extra Trees Regressor',  -6.23265048642732,  2.9946855703989663,  {'max_depth': 12, 'n_estimators': 150}],\n",
    " ['Random Forest Regressor',  -6.11509833074296,  3.77642289797465,  {'max_depth': 16, 'n_estimators': 100}]]"
   ]
  },
  {
   "cell_type": "raw",
   "metadata": {},
   "source": [
    "scores_param = scores"
   ]
  },
  {
   "cell_type": "code",
   "execution_count": null,
   "metadata": {
    "scrolled": true
   },
   "outputs": [],
   "source": [
    "pd.DataFrame(data    = scores_param, \n",
    "             columns = ['model', 'mae', 'mean_fit_time', 'parameters'])\\\n",
    "            .sort_values('mae', ascending = False)\\\n",
    "            .reset_index(drop = True)\\\n",
    "            .style\\\n",
    "            .format({'mae':'{:.2f}', 'mean_fit_time' : '{:,.2f}s'})\\\n",
    "            .set_caption(f'Результаты поиска лучшей модели с подбором гиперпараметров',)\\\n",
    "            .set_table_styles(styler)"
   ]
  },
  {
   "cell_type": "markdown",
   "id": "983c7adb",
   "metadata": {},
   "source": [
    "<div style=\"background-color:#f3f3f3; border:solid #363636 2px; padding: 20px\">    \n",
    "При подборе гиперпараметров, модели так же показали отличный результат, немного улучшив показатели метрики, разница не такая большая как хотелось бы, на этом этапе результат с применением гиперпараметров моделей, лучшую метрику так же показывает <b>RandomForestRegressor</b>, правда уступая всем моделям по скорости работы алгоритма\n",
    "</div>"
   ]
  },
  {
   "cell_type": "markdown",
   "metadata": {},
   "source": [
    "### Модель LightGBM"
   ]
  },
  {
   "cell_type": "markdown",
   "id": "983c7adb",
   "metadata": {},
   "source": [
    "<div style=\"background-color:#f3f3f3; border:solid #363636 2px; padding: 20px\">    \n",
    "Отдельно подготовлю и обучу модель <b>LGBMRegressor</b>, после этого сделаю свод, проанализирую результаты и выберу модель\n",
    "</div>"
   ]
  },
  {
   "cell_type": "code",
   "execution_count": null,
   "metadata": {},
   "outputs": [],
   "source": [
    "lgb_model = LGBMRegressor(random_state = RANDOM)"
   ]
  },
  {
   "cell_type": "code",
   "execution_count": null,
   "metadata": {},
   "outputs": [],
   "source": [
    "lgb_parameters = {\n",
    "    'objective'        : ['regression'],\n",
    "    'metric'           : ['neg_mean_absolute_error'],\n",
    "    'boosting_type'    : ['gbdt'],\n",
    "    'num_leaves'       : [10,20,30],\n",
    "    'learning_rate'    : [0.01],\n",
    "    'max_depth'        : [5,10,15],\n",
    "    'n_estimators'     : [5,10,15],\n",
    "    'num_iterations'   : [500],\n",
    "    'min_child_samples': [20,30,40]\n",
    "                 }"
   ]
  },
  {
   "cell_type": "raw",
   "metadata": {
    "scrolled": true
   },
   "source": [
    "%%time\n",
    "scores = []\n",
    "\n",
    "grid_model = GridSearchCV(estimator  = lgb_model,\n",
    "                          param_grid = lgb_parameters,\n",
    "                          scoring    = 'neg_mean_absolute_error',\n",
    "                          verbose    = 10,\n",
    "                          n_jobs     = -1,\n",
    "                          cv         = 3)\n",
    "                          \n",
    "grid_model.fit(features_train, target_train)\n",
    "\n",
    "time_score    = grid_model.cv_results_['mean_test_score']\n",
    "mean_fit_time = grid_model.cv_results_['mean_fit_time'][np.where(time_score == time_score.max())[0][0]]\n",
    "\n",
    "scores.append(['LGBM Regressor',\n",
    "               grid_model.best_score_,\n",
    "               mean_fit_time,\n",
    "               grid_model.best_params_])"
   ]
  },
  {
   "cell_type": "code",
   "execution_count": null,
   "metadata": {},
   "outputs": [],
   "source": [
    "# результаты моделирования\n",
    "scores_lgb = [['LGBM Regressor', -6.028950006660569, 1.758005936940511,\n",
    "               {'boosting_type': 'gbdt',\n",
    "                'learning_rate': 0.01,\n",
    "                'max_depth': 10,\n",
    "                'metric': 'neg_mean_absolute_error',\n",
    "                'min_child_samples': 30,\n",
    "                'n_estimators': 5,\n",
    "                'num_iterations': 500,\n",
    "                'num_leaves': 20,\n",
    "                'objective': 'regression'}]]"
   ]
  },
  {
   "cell_type": "raw",
   "metadata": {},
   "source": [
    "scores_lgb = scores"
   ]
  },
  {
   "cell_type": "code",
   "execution_count": null,
   "metadata": {
    "scrolled": true
   },
   "outputs": [],
   "source": [
    "pd.DataFrame(data    = scores_lgb, \n",
    "             columns = ['model', 'mae', 'mean_fit_time', 'parameters'])\\\n",
    "            .sort_values('mae', ascending = False)\\\n",
    "            .style\\\n",
    "            .format({'mae':'{:.2f}', 'mean_fit_time' : '{:,.2f}s'})\\\n",
    "            .set_caption(f'Результаты поиска лучшей модели LightGBM с подбором гиперпараметров',)\\\n",
    "            .set_table_styles(styler)"
   ]
  },
  {
   "cell_type": "markdown",
   "id": "6cf28d66",
   "metadata": {},
   "source": [
    "<div style=\"background-color:#f3f3f3; border:solid #363636 2px; padding: 20px\">    \n",
    "Модель <b>LGBMRegressor</b> показала лучший результат по качеству модели, не уступая сильно моделям по скорости работы алгоритма. Посмотрим на результаты всех этапов, сделаем выводы и выберем лучшую модель для тестирования\n",
    "</div>"
   ]
  },
  {
   "cell_type": "code",
   "execution_count": null,
   "metadata": {},
   "outputs": [],
   "source": [
    "data_info = pd.DataFrame(data = np.array(scores_base)[:,:3], \n",
    "                          columns = ['model', 'mae_base', 'time_base']) \\\n",
    "                                                                         \\\n",
    "                                .append(pd.DataFrame(data = np.array(scores_lgb)[:,:3],\n",
    "                                                     columns = ['model', 'mae_base', 'time_base'])) \\\n",
    "                                                                                                     \\\n",
    "                                .merge(pd.DataFrame( data = np.array(scores_param)[:,:3], \n",
    "                                                     columns = ['model', 'mae_param', 'time_param']) \\\n",
    "                                                                                                      \\\n",
    "                                                .append(pd.DataFrame(data = np.array(scores_lgb)[:,:3], \n",
    "                                                     columns = ['model', 'mae_param', 'time_param'])), \n",
    "                                                                   on = 'model', \n",
    "                                                                   how = 'outer')\n",
    "\n",
    "data_info.loc[5][['mae_base', 'time_base']] = 0"
   ]
  },
  {
   "cell_type": "code",
   "execution_count": null,
   "metadata": {},
   "outputs": [],
   "source": [
    "data_info.sort_values(['mae_param', 'time_param'], ascending = [False, True]).reset_index(drop = True) \\\n",
    "                                .style\\\n",
    "                                .format({'mae_base':'{:.2f}', \n",
    "                                         'time_base' : '{:,.2f}s',\n",
    "                                         'mae_param':'{:.2f}', \n",
    "                                         'time_param' : '{:,.2f}s'})\\\n",
    "                                .set_caption(f'Результаты этапов обучения моделей',)\\\n",
    "                                .set_table_styles(styler)"
   ]
  },
  {
   "cell_type": "markdown",
   "metadata": {},
   "source": [
    "<div style=\"background-color:gray; border:solid #363636 2px; padding: 20px\">    \n",
    "<span style=\"color:white\"><b>Выводы:</b></span><br>   \n",
    "<span style=\"color:white\">\n",
    "Как видно из сводных данных выше, лучшие показатели по качеству предсказания показывает модель <b>LGBMRegressor</b>. На данном этапе мы определяем лучшую модель по критериям время/качество. Модель <b>Random Forest Classifier</b>, демонстрирует схожие результаты по качеству моделирования, ее я тоже перенесу на следующий этап, но ужен не в качестве выбранной модели а для чтобы посмотреть как она ведет себя на тестовых данных, так как данная модель показала результаты почти аналогичные выбранной модели.\n",
    "</span>\n",
    "</div>"
   ]
  },
  {
   "cell_type": "markdown",
   "id": "6ed1d2cc",
   "metadata": {},
   "source": [
    "## Тестирование лучшей модели"
   ]
  },
  {
   "cell_type": "markdown",
   "id": "47394f05",
   "metadata": {},
   "source": [
    "<div style=\"background-color:#f3f3f3; border:solid #363636 2px; padding: 20px\">    \n",
    "Тестирование модели буду проводить на тестовой выборке для выбранной модели на предыдущем этапе\n",
    "</div>"
   ]
  },
  {
   "cell_type": "code",
   "execution_count": null,
   "metadata": {},
   "outputs": [],
   "source": [
    "features_test = scaler.transform(features_test)"
   ]
  },
  {
   "cell_type": "markdown",
   "id": "5e2e26f5",
   "metadata": {},
   "source": [
    "### Тестирование модели Random Forest Regressor (вне проекта)"
   ]
  },
  {
   "cell_type": "code",
   "execution_count": null,
   "id": "545830b6",
   "metadata": {},
   "outputs": [],
   "source": [
    "final_model_RF = RandomForestRegressor(**scores_param[4][3])"
   ]
  },
  {
   "cell_type": "code",
   "execution_count": null,
   "id": "ddb4c28d",
   "metadata": {},
   "outputs": [],
   "source": [
    "%%time\n",
    "start = time()        \n",
    "final_model_RF.fit(features_train, target_train)     \n",
    "train_time_RF = time() - start "
   ]
  },
  {
   "cell_type": "code",
   "execution_count": null,
   "id": "8b69eba9",
   "metadata": {},
   "outputs": [],
   "source": [
    "final_pred_RF  = final_model_RF.predict(features_test)\n",
    "final_score_RF = mean_absolute_error(target_test, final_pred_RF)"
   ]
  },
  {
   "cell_type": "code",
   "execution_count": null,
   "metadata": {},
   "outputs": [],
   "source": [
    "print(f'Показатели MAE на тестовой выборке = {final_score_RF:.2}')"
   ]
  },
  {
   "cell_type": "markdown",
   "id": "5e2e26f5",
   "metadata": {},
   "source": [
    "### Тестирование модели LGBM Regressor"
   ]
  },
  {
   "cell_type": "code",
   "execution_count": null,
   "id": "545830b6",
   "metadata": {},
   "outputs": [],
   "source": [
    "final_model_LGB = LGBMRegressor(**scores_lgb[0][3])"
   ]
  },
  {
   "cell_type": "code",
   "execution_count": null,
   "id": "ddb4c28d",
   "metadata": {},
   "outputs": [],
   "source": [
    "%%time\n",
    "start = time()        \n",
    "final_model_LGB.fit(features_train, target_train)     \n",
    "train_time_LGB = time() - start "
   ]
  },
  {
   "cell_type": "code",
   "execution_count": null,
   "id": "8b69eba9",
   "metadata": {},
   "outputs": [],
   "source": [
    "final_pred_LGB  = final_model_LGB.predict(features_test)\n",
    "final_score_LGB = mean_absolute_error(target_test, final_pred_LGB)"
   ]
  },
  {
   "cell_type": "code",
   "execution_count": null,
   "metadata": {},
   "outputs": [],
   "source": [
    "print(f'Показатели MAE на тестовой выборке = {final_score_LGB:.2}')"
   ]
  },
  {
   "cell_type": "markdown",
   "id": "622fe9b1",
   "metadata": {},
   "source": [
    "<div style=\"background-color:#f3f3f3; border:solid #363636 2px; padding: 20px\">    \n",
    "И так все этапы пройдены, необходимо посмотреть на результаты всех расчетов\n",
    "</div>"
   ]
  },
  {
   "cell_type": "code",
   "execution_count": null,
   "id": "81ef1f0d",
   "metadata": {},
   "outputs": [],
   "source": [
    "final_scores = [['Random Forest Regressor', -final_score_RF, train_time_RF],\n",
    "                ['LGBM Regressor', -final_score_LGB, train_time_LGB,]]"
   ]
  },
  {
   "cell_type": "code",
   "execution_count": null,
   "metadata": {
    "scrolled": true
   },
   "outputs": [],
   "source": [
    "data_info \\\n",
    "    .merge(pd.DataFrame(final_scores, columns = ['model', 'mae_final', 'time_final']),\n",
    "                           on = 'model', how = 'outer') \\\n",
    "                            .sort_values(['mae_final', 'time_final'], ascending = [False, True]).reset_index(drop = True) \\\n",
    "                            .fillna(0).style\\\n",
    "                            .format({'mae_base'  : '{:.2f}', \n",
    "                                     'time_base'  : '{:,.2f}s',\n",
    "                                     'mae_param' : '{:.2f}', \n",
    "                                     'time_param' : '{:,.2f}s',\n",
    "                                     'mae_final' : '{:.2f}',\n",
    "                                     'time_final' : '{:.2f}s'})\\\n",
    "                            .set_caption(f'Финальные результаты обучения моделей',)\\\n",
    "                            .set_table_styles(styler)"
   ]
  },
  {
   "cell_type": "markdown",
   "id": "386cac03",
   "metadata": {},
   "source": [
    "<div style=\"background-color:#f3f3f3; border:solid #363636 2px; padding: 20px\">\n",
    "В сводной таблице представлены данные за все пройденные этапы, как уже было сказано ранее была выбрана модель <b>LGBM Regressor</b>, как основное решение, которая показала отличный результат на тестовой выборке, модель имеет качество метрики <b>MAE 6,08</b>, задание по подготовке модели выполнено. На тестовой выборке модель <b>Random Forest Regressor</b> модель просела по качеству предсказания значительнее чем основная модель. Далее хотелось бы визуально представить результаты предсказания модели и оценить ее качественные характеристики.<br><br>\n",
    "Ниже представлена информация, какие признаки внесли больший вклад в обучении модели, здесь можно уже говорить о том что возможно стоило очистить данные в большей степени, Основными фичами оказались общая затраченная энергия и температура на старте,\n",
    "</div>"
   ]
  },
  {
   "cell_type": "code",
   "execution_count": null,
   "metadata": {},
   "outputs": [],
   "source": [
    "feature_importances = pd.DataFrame(sorted(zip(final_model_LGB.feature_importances_, features.columns)), \n",
    "                                   columns = ['Importances','Feature'])\n",
    "\n",
    "plt.figure(figsize = (10, 10))\n",
    "sns.set_style('whitegrid')\n",
    "sns.barplot(x = 'Importances', \n",
    "            y = 'Feature', \n",
    "            data = feature_importances.sort_values(by = 'Importances', ascending = False),\n",
    "            palette = 'bone')\n",
    "plt.title('LGBM Regressor Features Importances', fontsize = 16)\n",
    "plt.show()"
   ]
  },
  {
   "cell_type": "markdown",
   "id": "386cac03",
   "metadata": {},
   "source": [
    "<div style=\"background-color:#f3f3f3; border:solid #363636 2px; padding: 20px\">     \n",
    "Как и было описано ранее в плане работы, я хотел провести несколько итераций подготовки и обучения моделей, чтобы можно было увидеть качественное изменение метрики в рамках данного проекта. Как видно, модели с самого начала начали справляться с поставленной задачей, но необходимо было улучшить показатели, для стабильности результата на тестовой выборке, для этого были подобраны и применены гиперпараметры моделей для поиска лучшего результата, что в конечном итоге повлияло на отличный результат в финале. На тестовом наборе модели показали результат ниже чем на тренировочном наборе, но эти изменения минимальны, результат стабильный и демонстрирует, что модель хорошо обучилась и разбирается в данных (не переобучена и не до обучена). Соответственно можно сделать выводы, что на стадии предобработки и очистки данных были сделаны корректные изменения\n",
    "</div>"
   ]
  },
  {
   "cell_type": "markdown",
   "id": "5e2e26f5",
   "metadata": {},
   "source": [
    "### Сравнение распределения предсказаний моделей"
   ]
  },
  {
   "cell_type": "code",
   "execution_count": null,
   "metadata": {},
   "outputs": [],
   "source": [
    "# Подготовлю данные в табличном виде для визуализации\n",
    "data_info = pd.DataFrame(np.array(final_pred_LGB)) \\\n",
    "                    .assign(model = 'LGBM Regressor', sample = 'predict') \\\n",
    "                    .append(pd.DataFrame(np.array(target_test)).assign(model = 'LGBM Regressor', sample = 'true'))\n",
    "\n",
    "data_info = data_info.append(pd.DataFrame(np.array(final_pred_RF)) \\\n",
    "                    .assign(model = 'Random Forest Regressor', sample = 'predict') \\\n",
    "                    .append(pd.DataFrame(np.array(target_test)).assign(model = 'Random Forest Regressor', sample = 'true'))) \\\n",
    "                    .rename(columns = {0: 'values'})"
   ]
  },
  {
   "cell_type": "code",
   "execution_count": null,
   "metadata": {},
   "outputs": [],
   "source": [
    "# Проверка на корректную сборку таблицы\n",
    "target_test.shape[0] * 4 - data_info.shape[0]"
   ]
  },
  {
   "cell_type": "code",
   "execution_count": null,
   "metadata": {},
   "outputs": [],
   "source": [
    "plt.figure(figsize=(15, 9))\n",
    "sns.set_style('whitegrid')\n",
    "\n",
    "for i, model in enumerate(data_info['model'].unique()):\n",
    "    \n",
    "    plt.subplot(1, 2, i + 1)   \n",
    "    sns.violinplot(x = 'model', \n",
    "                   y = 'values', \n",
    "                   hue = 'sample',\n",
    "                   data = data_info[data_info['model'] == model],\n",
    "                   palette    = 'Reds',\n",
    "                   saturation = 0.5, \n",
    "                   linewidth  = 3,\n",
    "                   edgecolor  = '#444444',\n",
    "                   split = True)\n",
    "    \n",
    "    plt.title(f'{model}', fontsize = 16);\n",
    "    plt.ylabel('Temperature', fontsize = 18)\n",
    "    plt.xlabel('')\n",
    "    plt.xticks(range(1),[''])\n",
    "    plt.legend(fontsize = 12)\n",
    "    \n",
    "plt.show()"
   ]
  },
  {
   "cell_type": "markdown",
   "metadata": {},
   "source": [
    "<div style=\"background-color:#f3f3f3; border:solid #363636 2px; padding: 20px\">\n",
    "На графике видны качества предсказания этих моделей, модели <b>LGBM Regressor</b> и <b>Decision Tree Regressor</b> имеют схожие распределения предсказаний. Но все равно не дотягивают до целевого признака, распределение сильно усредняет значения предсказания, особенно плохо модель работает с верхним и нижнем уровнем температуры, я могу это связать с тем что в целевом наборе, данных для этих диапазонов не достаточно для нормально обучения модели, соответственно не достаточно обучена на этих уровнях. Далее я хотел бы проверить эти показатели на адекватность, для того чтобы убедиться не сильно ли модели усредняют данные по моделированию.\n",
    "</div>"
   ]
  },
  {
   "cell_type": "markdown",
   "metadata": {},
   "source": [
    "### Проверка на адекватность"
   ]
  },
  {
   "cell_type": "markdown",
   "metadata": {},
   "source": [
    "<div style=\"background-color:#f3f3f3; border:solid #363636 2px; padding: 20px\">    \n",
    "Окончательно проверю модель на адекватность с помощю <b>DummyRegressor</b>\n",
    "</div>"
   ]
  },
  {
   "cell_type": "code",
   "execution_count": null,
   "metadata": {},
   "outputs": [],
   "source": [
    "dummy_model  = DummyRegressor()\n",
    "\n",
    "dummy_model.fit(features_train, target_train) \n",
    "\n",
    "dummy_pred   = dummy_model.predict(features_test)\n",
    "\n",
    "dummy_result = mean_absolute_error(target_test, dummy_pred)\n",
    "\n",
    "print(f'показатель MAE на модели DummyRegressor: {dummy_result:.2f}')"
   ]
  },
  {
   "cell_type": "markdown",
   "metadata": {},
   "source": [
    "<div style=\"background-color:#f3f3f3; border:solid #363636 2px; padding: 20px\">\n",
    "Показатель MAE на модели <b>Dummy Regressor = 7,82</b> это хуже чем на модели <b>LGBM Regressor</b> на 29%, отклонения значительные но не критичные, тем более что даже эта модель уложилась в диапазон требуемого качества, возможно это связано со спецификой самого датасета и температурного диапазона технологического процесса\n",
    "</div>"
   ]
  },
  {
   "cell_type": "markdown",
   "id": "f98cdc88",
   "metadata": {},
   "source": [
    "## Выводы"
   ]
  },
  {
   "cell_type": "markdown",
   "id": "1c02e6f1",
   "metadata": {},
   "source": [
    "<div style=\"background-color:#424B54; border:solid #373d43 2px; padding: 20px\">    \n",
    "<span style=\"color:#EBEBEB\"><b>Выводы:</b></span><br><br>   \n",
    "<span style=\"color:#EBEBEB\">\n",
    "Перед началом работ была описана проблематика работы и поставлена задача, чтобы оптимизировать производственные расходы, металлургический комбинат ООО «Так закаляем сталь» решил уменьшить потребление электроэнергии на этапе обработки стали. Для этого необходимо построить модель, которая предскажет температуру стали. Так же заказчик озвучил требуемые характеристики качества модели со значением метрики качества <b>MAE</b> не более <b>8.7</b>.<br><br>\n",
    "<li>Предоставленные данные были проанализированы. В наборах данных было обнаружено большое количество артефактов в виде выбросов и аномальных значений, так же присутствовали проблемы, при анализе которых выявлены нарушения технологического процесса, что явно говорит о нарушении выгрузки данных. Данные по-хорошему необходимо отправить на проверку и повторную выгрузку;\n",
    "<li>Прим моделировании стояла задача регрессии, для этого необходимо было подготовить несколько моделей регрессии. Для этого проекта были выбраны LinearRegression, Lasso, DecisionTreeRegressor, ExtraTreesRegressor, RandomForestRegressor, LGBM Regressor;\n",
    "<li>Далее последовательно в были обучены и проверены модели, из которой бала выбрана модель с лучшими показателями метрики качества;\n",
    "<li>На тестовых данных модель показала требуемый результат, и стабильную работу на незнакомых данных, что подтвердило ее высокое качество метрики <b>MAE 6.08</b>;\n",
    "<li>Задача по подготовке модели была выполнена.<br><br>\n",
    "<span style=\"color:#EBEBEB\"><b>Итог выбора:</b></span><br><br>    \n",
    "Лучшая модель LGBM Regressor с параметрами:<br>\n",
    "<li>boosting_type: 'gbdt',    \n",
    "<li>learning_rate: 0.01,    \n",
    "<li>max_depth: 10,    \n",
    "<li>metric: 'neg_mean_absolute_error',    \n",
    "<li>min_child_samples: 30,    \n",
    "<li>n_estimators: 5,    \n",
    "<li>num_iterations: 500,    \n",
    "<li>num_leaves: 20,    \n",
    "<li>objective: 'regression'    \n",
    "</span>\n",
    "</div>"
   ]
  }
 ],
 "metadata": {
  "ExecuteTimeLog": [
   {
    "duration": 381,
    "start_time": "2022-08-11T08:02:40.598Z"
   },
   {
    "duration": 757,
    "start_time": "2022-08-11T08:02:41.063Z"
   },
   {
    "duration": 3,
    "start_time": "2022-08-11T08:03:26.775Z"
   },
   {
    "duration": 2,
    "start_time": "2022-08-11T08:03:37.623Z"
   },
   {
    "duration": 63,
    "start_time": "2022-08-11T08:03:46.554Z"
   },
   {
    "duration": 6,
    "start_time": "2022-08-11T08:09:12.824Z"
   },
   {
    "duration": 5,
    "start_time": "2022-08-11T08:19:13.781Z"
   },
   {
    "duration": 1292,
    "start_time": "2022-08-11T08:19:14.326Z"
   },
   {
    "duration": 411,
    "start_time": "2022-08-11T08:19:15.620Z"
   },
   {
    "duration": 6,
    "start_time": "2022-08-11T08:19:16.033Z"
   },
   {
    "duration": 67,
    "start_time": "2022-08-11T08:19:16.041Z"
   },
   {
    "duration": 4,
    "start_time": "2022-08-11T08:20:55.439Z"
   },
   {
    "duration": 3,
    "start_time": "2022-08-11T08:20:55.759Z"
   },
   {
    "duration": 3,
    "start_time": "2022-08-11T08:20:56.047Z"
   },
   {
    "duration": 60,
    "start_time": "2022-08-11T08:21:02.326Z"
   },
   {
    "duration": 175,
    "start_time": "2022-08-11T08:22:03.286Z"
   },
   {
    "duration": 146,
    "start_time": "2022-08-11T08:22:20.662Z"
   },
   {
    "duration": 145,
    "start_time": "2022-08-11T08:22:27.217Z"
   },
   {
    "duration": 96,
    "start_time": "2022-08-11T08:24:37.880Z"
   },
   {
    "duration": 3,
    "start_time": "2022-08-11T08:24:42.127Z"
   },
   {
    "duration": 18,
    "start_time": "2022-08-11T08:24:42.544Z"
   },
   {
    "duration": 17,
    "start_time": "2022-08-11T08:24:42.904Z"
   },
   {
    "duration": 3459,
    "start_time": "2022-08-11T08:24:43.261Z"
   },
   {
    "duration": 6,
    "start_time": "2022-08-11T08:25:08.786Z"
   },
   {
    "duration": 14,
    "start_time": "2022-08-11T08:25:19.279Z"
   },
   {
    "duration": 6,
    "start_time": "2022-08-11T08:25:20.144Z"
   },
   {
    "duration": 4,
    "start_time": "2022-08-11T08:25:20.951Z"
   },
   {
    "duration": 5,
    "start_time": "2022-08-11T08:25:21.863Z"
   },
   {
    "duration": 6,
    "start_time": "2022-08-11T08:25:29.544Z"
   },
   {
    "duration": 5000,
    "start_time": "2022-08-11T08:26:13.687Z"
   },
   {
    "duration": 7,
    "start_time": "2022-08-11T08:26:24.935Z"
   },
   {
    "duration": 8,
    "start_time": "2022-08-11T08:26:53.658Z"
   },
   {
    "duration": 11,
    "start_time": "2022-08-11T08:27:09.745Z"
   },
   {
    "duration": 1353,
    "start_time": "2022-08-11T08:27:09.758Z"
   },
   {
    "duration": 411,
    "start_time": "2022-08-11T08:27:11.113Z"
   },
   {
    "duration": 2,
    "start_time": "2022-08-11T08:27:11.526Z"
   },
   {
    "duration": 61,
    "start_time": "2022-08-11T08:27:11.530Z"
   },
   {
    "duration": 3,
    "start_time": "2022-08-11T08:27:11.605Z"
   },
   {
    "duration": 5,
    "start_time": "2022-08-11T08:27:11.610Z"
   },
   {
    "duration": 5,
    "start_time": "2022-08-11T08:27:11.617Z"
   },
   {
    "duration": 49,
    "start_time": "2022-08-11T08:27:11.624Z"
   },
   {
    "duration": 158,
    "start_time": "2022-08-11T08:27:11.675Z"
   },
   {
    "duration": 5,
    "start_time": "2022-08-11T08:27:11.834Z"
   },
   {
    "duration": 5,
    "start_time": "2022-08-11T08:27:11.840Z"
   },
   {
    "duration": 21,
    "start_time": "2022-08-11T08:27:11.846Z"
   },
   {
    "duration": 39,
    "start_time": "2022-08-11T08:27:11.869Z"
   },
   {
    "duration": 6,
    "start_time": "2022-08-11T08:27:11.910Z"
   },
   {
    "duration": 14,
    "start_time": "2022-08-11T08:27:11.917Z"
   },
   {
    "duration": 5,
    "start_time": "2022-08-11T08:27:11.932Z"
   },
   {
    "duration": 13,
    "start_time": "2022-08-11T08:27:11.939Z"
   },
   {
    "duration": 14,
    "start_time": "2022-08-11T08:27:11.954Z"
   },
   {
    "duration": 9,
    "start_time": "2022-08-11T08:27:11.969Z"
   },
   {
    "duration": 5,
    "start_time": "2022-08-11T08:27:11.979Z"
   },
   {
    "duration": 20,
    "start_time": "2022-08-11T08:27:11.986Z"
   },
   {
    "duration": 6,
    "start_time": "2022-08-11T08:27:12.007Z"
   },
   {
    "duration": 8,
    "start_time": "2022-08-11T08:27:29.402Z"
   },
   {
    "duration": 24,
    "start_time": "2022-08-11T09:42:30.625Z"
   },
   {
    "duration": 17,
    "start_time": "2022-08-11T09:42:42.640Z"
   },
   {
    "duration": 10,
    "start_time": "2022-08-11T09:42:57.441Z"
   },
   {
    "duration": 3,
    "start_time": "2022-08-11T09:46:47.604Z"
   },
   {
    "duration": 10,
    "start_time": "2022-08-11T09:46:48.376Z"
   },
   {
    "duration": 5,
    "start_time": "2022-08-11T09:46:48.744Z"
   },
   {
    "duration": 10,
    "start_time": "2022-08-11T09:46:49.864Z"
   },
   {
    "duration": 22,
    "start_time": "2022-08-11T09:47:19.143Z"
   },
   {
    "duration": 75,
    "start_time": "2022-08-11T09:50:07.207Z"
   },
   {
    "duration": 64,
    "start_time": "2022-08-11T09:50:52.197Z"
   },
   {
    "duration": 19,
    "start_time": "2022-08-11T09:51:26.793Z"
   },
   {
    "duration": 105,
    "start_time": "2022-08-11T09:51:52.625Z"
   },
   {
    "duration": 13,
    "start_time": "2022-08-11T09:51:55.590Z"
   },
   {
    "duration": 13,
    "start_time": "2022-08-11T09:52:15.808Z"
   },
   {
    "duration": 40,
    "start_time": "2022-08-11T09:52:47.466Z"
   },
   {
    "duration": 3,
    "start_time": "2022-08-11T09:55:05.904Z"
   },
   {
    "duration": 6,
    "start_time": "2022-08-11T09:55:06.300Z"
   },
   {
    "duration": 6,
    "start_time": "2022-08-11T09:55:06.733Z"
   },
   {
    "duration": 8,
    "start_time": "2022-08-11T09:55:12.385Z"
   },
   {
    "duration": 3,
    "start_time": "2022-08-11T09:55:45.562Z"
   },
   {
    "duration": 8,
    "start_time": "2022-08-11T09:55:45.831Z"
   },
   {
    "duration": 6,
    "start_time": "2022-08-11T09:55:46.081Z"
   },
   {
    "duration": 9,
    "start_time": "2022-08-11T09:55:46.814Z"
   },
   {
    "duration": 14,
    "start_time": "2022-08-11T09:56:23.343Z"
   },
   {
    "duration": 13,
    "start_time": "2022-08-11T09:57:51.120Z"
   },
   {
    "duration": 8,
    "start_time": "2022-08-11T09:58:02.630Z"
   },
   {
    "duration": 9,
    "start_time": "2022-08-11T09:58:17.077Z"
   },
   {
    "duration": 192,
    "start_time": "2022-08-11T09:59:16.864Z"
   },
   {
    "duration": 4,
    "start_time": "2022-08-11T10:00:35.576Z"
   },
   {
    "duration": 1411,
    "start_time": "2022-08-11T10:01:33.449Z"
   },
   {
    "duration": 4,
    "start_time": "2022-08-11T10:01:53.232Z"
   },
   {
    "duration": 1435,
    "start_time": "2022-08-11T10:02:02.304Z"
   },
   {
    "duration": 1138,
    "start_time": "2022-08-11T10:02:21.839Z"
   },
   {
    "duration": 13,
    "start_time": "2022-08-11T10:02:40.456Z"
   },
   {
    "duration": 15,
    "start_time": "2022-08-11T10:03:23.856Z"
   },
   {
    "duration": 1180,
    "start_time": "2022-08-11T10:03:45.360Z"
   },
   {
    "duration": 1171,
    "start_time": "2022-08-11T10:03:51.072Z"
   },
   {
    "duration": 1157,
    "start_time": "2022-08-11T10:04:20.544Z"
   },
   {
    "duration": 1096,
    "start_time": "2022-08-11T10:04:24.143Z"
   },
   {
    "duration": 285,
    "start_time": "2022-08-11T10:04:41.999Z"
   },
   {
    "duration": 4,
    "start_time": "2022-08-11T10:05:18.568Z"
   },
   {
    "duration": 3,
    "start_time": "2022-08-11T10:05:37.215Z"
   },
   {
    "duration": 1171,
    "start_time": "2022-08-11T10:05:42.816Z"
   },
   {
    "duration": 1149,
    "start_time": "2022-08-11T10:06:24.680Z"
   },
   {
    "duration": 1059,
    "start_time": "2022-08-11T10:06:38.392Z"
   },
   {
    "duration": 1296,
    "start_time": "2022-08-11T10:06:59.001Z"
   },
   {
    "duration": 1146,
    "start_time": "2022-08-11T10:07:20.256Z"
   },
   {
    "duration": 1308,
    "start_time": "2022-08-11T10:07:30.098Z"
   },
   {
    "duration": 1408,
    "start_time": "2022-08-11T10:07:38.685Z"
   },
   {
    "duration": 2241,
    "start_time": "2022-08-11T10:08:43.480Z"
   },
   {
    "duration": 965,
    "start_time": "2022-08-11T10:09:18.482Z"
   },
   {
    "duration": 2251,
    "start_time": "2022-08-11T10:09:40.144Z"
   },
   {
    "duration": 146,
    "start_time": "2022-08-11T10:09:47.744Z"
   },
   {
    "duration": 148,
    "start_time": "2022-08-11T10:09:54.208Z"
   },
   {
    "duration": 164,
    "start_time": "2022-08-11T10:10:00.040Z"
   },
   {
    "duration": 2306,
    "start_time": "2022-08-11T10:10:07.792Z"
   },
   {
    "duration": 2152,
    "start_time": "2022-08-11T10:10:17.040Z"
   },
   {
    "duration": 2418,
    "start_time": "2022-08-11T10:10:32.553Z"
   },
   {
    "duration": 2339,
    "start_time": "2022-08-11T10:10:41.560Z"
   },
   {
    "duration": 2494,
    "start_time": "2022-08-11T10:11:38.553Z"
   },
   {
    "duration": 4338,
    "start_time": "2022-08-11T10:12:12.088Z"
   },
   {
    "duration": 4572,
    "start_time": "2022-08-11T10:12:27.673Z"
   },
   {
    "duration": 4561,
    "start_time": "2022-08-11T10:12:46.288Z"
   },
   {
    "duration": 10,
    "start_time": "2022-08-11T10:13:57.673Z"
   },
   {
    "duration": 5,
    "start_time": "2022-08-11T10:14:10.721Z"
   },
   {
    "duration": 5,
    "start_time": "2022-08-11T10:14:18.520Z"
   },
   {
    "duration": 13,
    "start_time": "2022-08-11T10:15:43.672Z"
   },
   {
    "duration": 15,
    "start_time": "2022-08-11T10:18:50.475Z"
   },
   {
    "duration": 19,
    "start_time": "2022-08-11T10:19:16.217Z"
   },
   {
    "duration": 16,
    "start_time": "2022-08-11T10:19:25.841Z"
   },
   {
    "duration": 14,
    "start_time": "2022-08-11T10:20:22.449Z"
   },
   {
    "duration": 8,
    "start_time": "2022-08-11T10:20:29.264Z"
   },
   {
    "duration": 1398,
    "start_time": "2022-08-11T10:20:48.121Z"
   },
   {
    "duration": 335,
    "start_time": "2022-08-11T10:22:09.728Z"
   },
   {
    "duration": 20,
    "start_time": "2022-08-11T10:22:35.612Z"
   },
   {
    "duration": 11,
    "start_time": "2022-08-11T10:22:46.544Z"
   },
   {
    "duration": 9,
    "start_time": "2022-08-11T10:24:05.134Z"
   },
   {
    "duration": 8,
    "start_time": "2022-08-11T10:24:33.666Z"
   },
   {
    "duration": 2,
    "start_time": "2022-08-11T10:24:42.168Z"
   },
   {
    "duration": 12,
    "start_time": "2022-08-11T10:24:42.813Z"
   },
   {
    "duration": 17,
    "start_time": "2022-08-11T10:24:56.772Z"
   },
   {
    "duration": 12,
    "start_time": "2022-08-11T10:26:44.418Z"
   },
   {
    "duration": 12,
    "start_time": "2022-08-11T10:26:54.368Z"
   },
   {
    "duration": 12,
    "start_time": "2022-08-11T10:26:58.821Z"
   },
   {
    "duration": 14,
    "start_time": "2022-08-11T10:27:15.768Z"
   },
   {
    "duration": 5,
    "start_time": "2022-08-11T10:27:42.864Z"
   },
   {
    "duration": 14,
    "start_time": "2022-08-11T10:27:43.917Z"
   },
   {
    "duration": 10,
    "start_time": "2022-08-11T10:27:46.560Z"
   },
   {
    "duration": 7,
    "start_time": "2022-08-11T10:28:30.347Z"
   },
   {
    "duration": 6,
    "start_time": "2022-08-11T10:28:38.794Z"
   },
   {
    "duration": 3,
    "start_time": "2022-08-11T10:29:18.431Z"
   },
   {
    "duration": 14,
    "start_time": "2022-08-11T10:29:25.184Z"
   },
   {
    "duration": 5,
    "start_time": "2022-08-11T10:35:06.702Z"
   },
   {
    "duration": 15,
    "start_time": "2022-08-11T10:35:11.160Z"
   },
   {
    "duration": 5,
    "start_time": "2022-08-11T10:36:06.639Z"
   },
   {
    "duration": 15,
    "start_time": "2022-08-11T10:36:06.969Z"
   },
   {
    "duration": 11,
    "start_time": "2022-08-11T11:14:38.958Z"
   },
   {
    "duration": 1401,
    "start_time": "2022-08-11T11:14:38.971Z"
   },
   {
    "duration": 643,
    "start_time": "2022-08-11T11:14:40.374Z"
   },
   {
    "duration": 3,
    "start_time": "2022-08-11T11:14:41.019Z"
   },
   {
    "duration": 87,
    "start_time": "2022-08-11T11:14:41.025Z"
   },
   {
    "duration": 3,
    "start_time": "2022-08-11T11:14:41.114Z"
   },
   {
    "duration": 5,
    "start_time": "2022-08-11T11:14:41.119Z"
   },
   {
    "duration": 5,
    "start_time": "2022-08-11T11:14:41.125Z"
   },
   {
    "duration": 48,
    "start_time": "2022-08-11T11:14:41.132Z"
   },
   {
    "duration": 172,
    "start_time": "2022-08-11T11:14:41.182Z"
   },
   {
    "duration": 6,
    "start_time": "2022-08-11T11:14:41.356Z"
   },
   {
    "duration": 3,
    "start_time": "2022-08-11T11:14:41.363Z"
   },
   {
    "duration": 52,
    "start_time": "2022-08-11T11:14:41.367Z"
   },
   {
    "duration": 18,
    "start_time": "2022-08-11T11:14:41.421Z"
   },
   {
    "duration": 6,
    "start_time": "2022-08-11T11:14:41.440Z"
   },
   {
    "duration": 14,
    "start_time": "2022-08-11T11:14:41.447Z"
   },
   {
    "duration": 6,
    "start_time": "2022-08-11T11:14:41.463Z"
   },
   {
    "duration": 5,
    "start_time": "2022-08-11T11:14:41.470Z"
   },
   {
    "duration": 4,
    "start_time": "2022-08-11T11:14:41.506Z"
   },
   {
    "duration": 8,
    "start_time": "2022-08-11T11:14:41.511Z"
   },
   {
    "duration": 4,
    "start_time": "2022-08-11T11:14:41.520Z"
   },
   {
    "duration": 12,
    "start_time": "2022-08-11T11:14:41.525Z"
   },
   {
    "duration": 6,
    "start_time": "2022-08-11T11:14:41.539Z"
   },
   {
    "duration": 10,
    "start_time": "2022-08-11T11:14:41.546Z"
   },
   {
    "duration": 4596,
    "start_time": "2022-08-11T11:14:41.558Z"
   },
   {
    "duration": 4,
    "start_time": "2022-08-11T11:14:46.156Z"
   },
   {
    "duration": 15,
    "start_time": "2022-08-11T11:14:46.164Z"
   },
   {
    "duration": 37,
    "start_time": "2022-08-11T11:14:46.181Z"
   },
   {
    "duration": 24,
    "start_time": "2022-08-11T11:14:46.220Z"
   },
   {
    "duration": 2474,
    "start_time": "2022-08-11T11:14:46.245Z"
   },
   {
    "duration": 3,
    "start_time": "2022-08-11T11:14:48.720Z"
   },
   {
    "duration": 7,
    "start_time": "2022-08-11T11:14:48.724Z"
   },
   {
    "duration": 4,
    "start_time": "2022-08-11T11:14:48.732Z"
   },
   {
    "duration": 15,
    "start_time": "2022-08-11T11:14:48.738Z"
   },
   {
    "duration": 4,
    "start_time": "2022-08-11T11:14:48.754Z"
   },
   {
    "duration": 18,
    "start_time": "2022-08-11T11:14:48.760Z"
   },
   {
    "duration": 128,
    "start_time": "2022-08-11T11:14:48.779Z"
   },
   {
    "duration": 18,
    "start_time": "2022-08-11T11:15:04.554Z"
   },
   {
    "duration": 16,
    "start_time": "2022-08-11T11:15:07.736Z"
   },
   {
    "duration": 12,
    "start_time": "2022-08-11T11:15:56.513Z"
   },
   {
    "duration": 11,
    "start_time": "2022-08-11T11:23:37.982Z"
   },
   {
    "duration": 1464,
    "start_time": "2022-08-11T11:23:37.995Z"
   },
   {
    "duration": 360,
    "start_time": "2022-08-11T11:23:39.461Z"
   },
   {
    "duration": 3,
    "start_time": "2022-08-11T11:23:39.823Z"
   },
   {
    "duration": 61,
    "start_time": "2022-08-11T11:23:39.828Z"
   },
   {
    "duration": 18,
    "start_time": "2022-08-11T11:23:39.890Z"
   },
   {
    "duration": 5,
    "start_time": "2022-08-11T11:23:39.909Z"
   },
   {
    "duration": 4,
    "start_time": "2022-08-11T11:23:39.915Z"
   },
   {
    "duration": 51,
    "start_time": "2022-08-11T11:23:39.920Z"
   },
   {
    "duration": 184,
    "start_time": "2022-08-11T11:23:39.972Z"
   },
   {
    "duration": 6,
    "start_time": "2022-08-11T11:23:40.158Z"
   },
   {
    "duration": 40,
    "start_time": "2022-08-11T11:23:40.166Z"
   },
   {
    "duration": 20,
    "start_time": "2022-08-11T11:23:40.208Z"
   },
   {
    "duration": 20,
    "start_time": "2022-08-11T11:23:40.230Z"
   },
   {
    "duration": 7,
    "start_time": "2022-08-11T11:23:40.251Z"
   },
   {
    "duration": 94,
    "start_time": "2022-08-11T11:23:40.260Z"
   },
   {
    "duration": 0,
    "start_time": "2022-08-11T11:23:40.355Z"
   },
   {
    "duration": 0,
    "start_time": "2022-08-11T11:23:40.358Z"
   },
   {
    "duration": 0,
    "start_time": "2022-08-11T11:23:40.359Z"
   },
   {
    "duration": 0,
    "start_time": "2022-08-11T11:23:40.360Z"
   },
   {
    "duration": 115,
    "start_time": "2022-08-11T11:24:34.911Z"
   },
   {
    "duration": 110,
    "start_time": "2022-08-11T11:24:39.573Z"
   },
   {
    "duration": 77,
    "start_time": "2022-08-11T11:25:44.246Z"
   },
   {
    "duration": 14,
    "start_time": "2022-08-11T11:25:56.702Z"
   },
   {
    "duration": 17,
    "start_time": "2022-08-11T11:26:04.230Z"
   },
   {
    "duration": 98,
    "start_time": "2022-08-11T11:26:39.063Z"
   },
   {
    "duration": 75,
    "start_time": "2022-08-11T11:27:06.054Z"
   },
   {
    "duration": 116,
    "start_time": "2022-08-11T11:27:16.288Z"
   },
   {
    "duration": 25,
    "start_time": "2022-08-11T11:27:45.106Z"
   },
   {
    "duration": 9,
    "start_time": "2022-08-11T11:27:58.097Z"
   },
   {
    "duration": 1429,
    "start_time": "2022-08-11T11:27:58.107Z"
   },
   {
    "duration": 502,
    "start_time": "2022-08-11T11:27:59.538Z"
   },
   {
    "duration": 3,
    "start_time": "2022-08-11T11:28:00.042Z"
   },
   {
    "duration": 77,
    "start_time": "2022-08-11T11:28:00.048Z"
   },
   {
    "duration": 4,
    "start_time": "2022-08-11T11:28:00.127Z"
   },
   {
    "duration": 13,
    "start_time": "2022-08-11T11:28:00.132Z"
   },
   {
    "duration": 16,
    "start_time": "2022-08-11T11:28:00.147Z"
   },
   {
    "duration": 62,
    "start_time": "2022-08-11T11:28:00.164Z"
   },
   {
    "duration": 195,
    "start_time": "2022-08-11T11:28:00.228Z"
   },
   {
    "duration": 6,
    "start_time": "2022-08-11T11:28:00.425Z"
   },
   {
    "duration": 8,
    "start_time": "2022-08-11T11:28:00.433Z"
   },
   {
    "duration": 26,
    "start_time": "2022-08-11T11:28:00.443Z"
   },
   {
    "duration": 35,
    "start_time": "2022-08-11T11:28:00.471Z"
   },
   {
    "duration": 7,
    "start_time": "2022-08-11T11:28:00.507Z"
   },
   {
    "duration": 34,
    "start_time": "2022-08-11T11:28:00.515Z"
   },
   {
    "duration": 16,
    "start_time": "2022-08-11T11:28:04.680Z"
   },
   {
    "duration": 6,
    "start_time": "2022-08-11T11:28:12.837Z"
   },
   {
    "duration": 4,
    "start_time": "2022-08-11T11:28:13.397Z"
   },
   {
    "duration": 4,
    "start_time": "2022-08-11T11:28:13.933Z"
   },
   {
    "duration": 8,
    "start_time": "2022-08-11T11:28:14.424Z"
   },
   {
    "duration": 5,
    "start_time": "2022-08-11T11:28:26.208Z"
   },
   {
    "duration": 11,
    "start_time": "2022-08-11T11:28:26.542Z"
   },
   {
    "duration": 6,
    "start_time": "2022-08-11T11:28:26.741Z"
   },
   {
    "duration": 11,
    "start_time": "2022-08-11T11:28:27.499Z"
   },
   {
    "duration": 5006,
    "start_time": "2022-08-11T11:28:29.311Z"
   },
   {
    "duration": 4,
    "start_time": "2022-08-11T11:29:41.031Z"
   },
   {
    "duration": 17,
    "start_time": "2022-08-11T11:29:41.410Z"
   },
   {
    "duration": 8,
    "start_time": "2022-08-11T11:29:41.811Z"
   },
   {
    "duration": 10,
    "start_time": "2022-08-11T11:29:42.795Z"
   },
   {
    "duration": 11,
    "start_time": "2022-08-11T11:30:05.130Z"
   },
   {
    "duration": 6,
    "start_time": "2022-08-11T11:30:05.503Z"
   },
   {
    "duration": 22,
    "start_time": "2022-08-11T11:30:06.201Z"
   },
   {
    "duration": 3,
    "start_time": "2022-08-11T11:31:03.362Z"
   },
   {
    "duration": 6,
    "start_time": "2022-08-11T11:31:03.665Z"
   },
   {
    "duration": 7,
    "start_time": "2022-08-11T11:31:03.921Z"
   },
   {
    "duration": 12,
    "start_time": "2022-08-11T11:31:05.121Z"
   },
   {
    "duration": 2360,
    "start_time": "2022-08-11T11:31:11.214Z"
   },
   {
    "duration": 3,
    "start_time": "2022-08-11T11:31:16.993Z"
   },
   {
    "duration": 1408,
    "start_time": "2022-08-11T11:31:24.386Z"
   },
   {
    "duration": 1428,
    "start_time": "2022-08-11T11:32:15.042Z"
   },
   {
    "duration": 12,
    "start_time": "2022-08-11T11:32:51.745Z"
   },
   {
    "duration": 6148,
    "start_time": "2022-08-11T11:32:51.759Z"
   },
   {
    "duration": 2599,
    "start_time": "2022-08-11T11:32:57.908Z"
   },
   {
    "duration": 5,
    "start_time": "2022-08-11T11:33:00.509Z"
   },
   {
    "duration": 97,
    "start_time": "2022-08-11T11:33:00.517Z"
   },
   {
    "duration": 4,
    "start_time": "2022-08-11T11:33:00.617Z"
   },
   {
    "duration": 16,
    "start_time": "2022-08-11T11:33:00.623Z"
   },
   {
    "duration": 11,
    "start_time": "2022-08-11T11:33:00.640Z"
   },
   {
    "duration": 60,
    "start_time": "2022-08-11T11:33:00.652Z"
   },
   {
    "duration": 221,
    "start_time": "2022-08-11T11:33:00.714Z"
   },
   {
    "duration": 6,
    "start_time": "2022-08-11T11:33:00.936Z"
   },
   {
    "duration": 10,
    "start_time": "2022-08-11T11:33:00.943Z"
   },
   {
    "duration": 32,
    "start_time": "2022-08-11T11:33:00.955Z"
   },
   {
    "duration": 44,
    "start_time": "2022-08-11T11:33:00.990Z"
   },
   {
    "duration": 6,
    "start_time": "2022-08-11T11:33:01.036Z"
   },
   {
    "duration": 21,
    "start_time": "2022-08-11T11:33:01.044Z"
   },
   {
    "duration": 18,
    "start_time": "2022-08-11T11:33:01.067Z"
   },
   {
    "duration": 25,
    "start_time": "2022-08-11T11:33:01.087Z"
   },
   {
    "duration": 6,
    "start_time": "2022-08-11T11:33:01.114Z"
   },
   {
    "duration": 10,
    "start_time": "2022-08-11T11:33:01.122Z"
   },
   {
    "duration": 12,
    "start_time": "2022-08-11T11:33:01.133Z"
   },
   {
    "duration": 10,
    "start_time": "2022-08-11T11:33:01.147Z"
   },
   {
    "duration": 17,
    "start_time": "2022-08-11T11:33:01.159Z"
   },
   {
    "duration": 9,
    "start_time": "2022-08-11T11:33:01.178Z"
   },
   {
    "duration": 34,
    "start_time": "2022-08-11T11:33:01.188Z"
   },
   {
    "duration": 5200,
    "start_time": "2022-08-11T11:33:01.224Z"
   },
   {
    "duration": 5,
    "start_time": "2022-08-11T11:33:06.427Z"
   },
   {
    "duration": 9,
    "start_time": "2022-08-11T11:33:06.434Z"
   },
   {
    "duration": 4,
    "start_time": "2022-08-11T11:33:06.445Z"
   },
   {
    "duration": 11,
    "start_time": "2022-08-11T11:33:06.451Z"
   },
   {
    "duration": 2571,
    "start_time": "2022-08-11T11:33:06.464Z"
   },
   {
    "duration": 3,
    "start_time": "2022-08-11T11:33:09.036Z"
   },
   {
    "duration": 7,
    "start_time": "2022-08-11T11:33:09.040Z"
   },
   {
    "duration": 11,
    "start_time": "2022-08-11T11:33:09.048Z"
   },
   {
    "duration": 4,
    "start_time": "2022-08-11T11:33:21.881Z"
   },
   {
    "duration": 16,
    "start_time": "2022-08-11T11:33:22.200Z"
   },
   {
    "duration": 23,
    "start_time": "2022-08-11T11:34:06.178Z"
   },
   {
    "duration": 26,
    "start_time": "2022-08-11T11:34:06.410Z"
   },
   {
    "duration": 15,
    "start_time": "2022-08-11T11:34:07.619Z"
   },
   {
    "duration": 287,
    "start_time": "2022-08-11T11:35:39.800Z"
   },
   {
    "duration": 275,
    "start_time": "2022-08-11T11:35:51.554Z"
   },
   {
    "duration": 567,
    "start_time": "2022-08-11T11:37:41.305Z"
   },
   {
    "duration": 715,
    "start_time": "2022-08-11T11:37:57.394Z"
   },
   {
    "duration": 581,
    "start_time": "2022-08-11T11:38:31.546Z"
   },
   {
    "duration": 581,
    "start_time": "2022-08-11T11:38:41.194Z"
   },
   {
    "duration": 31,
    "start_time": "2022-08-11T11:39:06.922Z"
   },
   {
    "duration": 22,
    "start_time": "2022-08-11T11:39:46.465Z"
   },
   {
    "duration": 35,
    "start_time": "2022-08-11T11:40:20.497Z"
   },
   {
    "duration": 152,
    "start_time": "2022-08-11T11:46:49.697Z"
   },
   {
    "duration": 10,
    "start_time": "2022-08-11T11:46:54.257Z"
   },
   {
    "duration": 15,
    "start_time": "2022-08-11T11:47:01.793Z"
   },
   {
    "duration": 7,
    "start_time": "2022-08-11T11:47:42.761Z"
   },
   {
    "duration": 559,
    "start_time": "2022-08-11T11:47:47.922Z"
   },
   {
    "duration": 20,
    "start_time": "2022-08-11T11:48:15.115Z"
   },
   {
    "duration": 6,
    "start_time": "2022-08-11T11:48:19.791Z"
   },
   {
    "duration": 587,
    "start_time": "2022-08-11T11:48:20.346Z"
   },
   {
    "duration": 13,
    "start_time": "2022-08-11T11:48:27.466Z"
   },
   {
    "duration": 83,
    "start_time": "2022-08-11T11:49:20.442Z"
   },
   {
    "duration": 1227,
    "start_time": "2022-08-11T11:49:23.656Z"
   },
   {
    "duration": 6,
    "start_time": "2022-08-11T11:50:36.248Z"
   },
   {
    "duration": 602,
    "start_time": "2022-08-11T11:50:37.209Z"
   },
   {
    "duration": 574,
    "start_time": "2022-08-11T11:51:01.916Z"
   },
   {
    "duration": 13,
    "start_time": "2022-08-11T11:52:18.347Z"
   },
   {
    "duration": 16,
    "start_time": "2022-08-11T11:53:26.330Z"
   },
   {
    "duration": 19,
    "start_time": "2022-08-11T11:54:29.123Z"
   },
   {
    "duration": 13,
    "start_time": "2022-08-11T11:54:38.146Z"
   },
   {
    "duration": 19,
    "start_time": "2022-08-11T11:54:39.057Z"
   },
   {
    "duration": 14,
    "start_time": "2022-08-11T11:58:06.122Z"
   },
   {
    "duration": 11,
    "start_time": "2022-08-11T11:58:58.908Z"
   },
   {
    "duration": 11,
    "start_time": "2022-08-11T12:00:19.058Z"
   },
   {
    "duration": 11,
    "start_time": "2022-08-11T12:00:30.242Z"
   },
   {
    "duration": 13,
    "start_time": "2022-08-11T12:00:36.200Z"
   },
   {
    "duration": 6,
    "start_time": "2022-08-11T12:00:58.167Z"
   },
   {
    "duration": 10,
    "start_time": "2022-08-11T12:01:11.917Z"
   },
   {
    "duration": 11,
    "start_time": "2022-08-11T12:01:17.597Z"
   },
   {
    "duration": 7,
    "start_time": "2022-08-11T12:01:23.618Z"
   },
   {
    "duration": 7,
    "start_time": "2022-08-11T12:01:28.028Z"
   },
   {
    "duration": 18,
    "start_time": "2022-08-11T12:02:08.070Z"
   },
   {
    "duration": 12,
    "start_time": "2022-08-11T12:02:12.746Z"
   },
   {
    "duration": 16,
    "start_time": "2022-08-11T12:05:30.170Z"
   },
   {
    "duration": 9,
    "start_time": "2022-08-11T12:05:36.911Z"
   },
   {
    "duration": 9,
    "start_time": "2022-08-11T12:06:26.561Z"
   },
   {
    "duration": 15,
    "start_time": "2022-08-11T12:07:01.108Z"
   },
   {
    "duration": 24,
    "start_time": "2022-08-11T12:07:59.771Z"
   },
   {
    "duration": 5,
    "start_time": "2022-08-11T12:09:13.494Z"
   },
   {
    "duration": 8,
    "start_time": "2022-08-11T12:10:02.808Z"
   },
   {
    "duration": 8,
    "start_time": "2022-08-11T12:10:08.538Z"
   },
   {
    "duration": 10,
    "start_time": "2022-08-11T12:10:14.773Z"
   },
   {
    "duration": 6,
    "start_time": "2022-08-11T12:11:03.331Z"
   },
   {
    "duration": 6,
    "start_time": "2022-08-11T12:11:29.794Z"
   },
   {
    "duration": 6,
    "start_time": "2022-08-11T12:11:35.192Z"
   },
   {
    "duration": 4,
    "start_time": "2022-08-11T12:12:09.841Z"
   },
   {
    "duration": 4,
    "start_time": "2022-08-11T12:12:35.589Z"
   },
   {
    "duration": 11,
    "start_time": "2022-08-11T12:12:51.296Z"
   },
   {
    "duration": 1408,
    "start_time": "2022-08-11T12:12:51.310Z"
   },
   {
    "duration": 522,
    "start_time": "2022-08-11T12:12:52.719Z"
   },
   {
    "duration": 2,
    "start_time": "2022-08-11T12:12:53.244Z"
   },
   {
    "duration": 72,
    "start_time": "2022-08-11T12:12:53.248Z"
   },
   {
    "duration": 4,
    "start_time": "2022-08-11T12:12:53.322Z"
   },
   {
    "duration": 9,
    "start_time": "2022-08-11T12:12:53.328Z"
   },
   {
    "duration": 7,
    "start_time": "2022-08-11T12:12:53.339Z"
   },
   {
    "duration": 73,
    "start_time": "2022-08-11T12:12:53.348Z"
   },
   {
    "duration": 195,
    "start_time": "2022-08-11T12:12:53.423Z"
   },
   {
    "duration": 5,
    "start_time": "2022-08-11T12:12:53.620Z"
   },
   {
    "duration": 3,
    "start_time": "2022-08-11T12:12:58.712Z"
   },
   {
    "duration": 23,
    "start_time": "2022-08-11T12:12:59.076Z"
   },
   {
    "duration": 20,
    "start_time": "2022-08-11T12:12:59.463Z"
   },
   {
    "duration": 7,
    "start_time": "2022-08-11T12:13:00.211Z"
   },
   {
    "duration": 4,
    "start_time": "2022-08-11T12:13:02.965Z"
   },
   {
    "duration": 6,
    "start_time": "2022-08-11T12:13:06.950Z"
   },
   {
    "duration": 13,
    "start_time": "2022-08-11T12:13:23.767Z"
   },
   {
    "duration": 7,
    "start_time": "2022-08-11T12:13:27.277Z"
   },
   {
    "duration": 4,
    "start_time": "2022-08-11T12:13:28.278Z"
   },
   {
    "duration": 4,
    "start_time": "2022-08-11T12:13:37.343Z"
   },
   {
    "duration": 7,
    "start_time": "2022-08-11T12:13:39.112Z"
   },
   {
    "duration": 11,
    "start_time": "2022-08-11T12:14:14.475Z"
   },
   {
    "duration": 1359,
    "start_time": "2022-08-11T12:14:14.488Z"
   },
   {
    "duration": 436,
    "start_time": "2022-08-11T12:14:15.848Z"
   },
   {
    "duration": 3,
    "start_time": "2022-08-11T12:14:16.285Z"
   },
   {
    "duration": 62,
    "start_time": "2022-08-11T12:14:16.290Z"
   },
   {
    "duration": 3,
    "start_time": "2022-08-11T12:14:16.354Z"
   },
   {
    "duration": 10,
    "start_time": "2022-08-11T12:14:16.358Z"
   },
   {
    "duration": 10,
    "start_time": "2022-08-11T12:14:16.370Z"
   },
   {
    "duration": 63,
    "start_time": "2022-08-11T12:14:16.381Z"
   },
   {
    "duration": 186,
    "start_time": "2022-08-11T12:14:16.445Z"
   },
   {
    "duration": 6,
    "start_time": "2022-08-11T12:14:16.632Z"
   },
   {
    "duration": 5,
    "start_time": "2022-08-11T12:14:16.639Z"
   },
   {
    "duration": 21,
    "start_time": "2022-08-11T12:14:16.645Z"
   },
   {
    "duration": 39,
    "start_time": "2022-08-11T12:14:16.668Z"
   },
   {
    "duration": 7,
    "start_time": "2022-08-11T12:14:16.709Z"
   },
   {
    "duration": 4,
    "start_time": "2022-08-11T12:14:19.530Z"
   },
   {
    "duration": 7,
    "start_time": "2022-08-11T12:14:22.741Z"
   },
   {
    "duration": 16,
    "start_time": "2022-08-11T12:15:51.821Z"
   },
   {
    "duration": 8,
    "start_time": "2022-08-11T12:16:01.122Z"
   },
   {
    "duration": 9,
    "start_time": "2022-08-11T12:16:11.622Z"
   },
   {
    "duration": 15,
    "start_time": "2022-08-11T12:27:42.500Z"
   },
   {
    "duration": 4,
    "start_time": "2022-08-11T12:27:48.097Z"
   },
   {
    "duration": 5,
    "start_time": "2022-08-11T12:27:56.953Z"
   },
   {
    "duration": 8,
    "start_time": "2022-08-11T12:28:01.181Z"
   },
   {
    "duration": 4,
    "start_time": "2022-08-11T12:29:25.631Z"
   },
   {
    "duration": 5,
    "start_time": "2022-08-11T12:29:44.967Z"
   },
   {
    "duration": 6,
    "start_time": "2022-08-11T12:33:56.373Z"
   },
   {
    "duration": 4,
    "start_time": "2022-08-11T12:33:56.789Z"
   },
   {
    "duration": 9,
    "start_time": "2022-08-11T12:34:18.150Z"
   },
   {
    "duration": 1316,
    "start_time": "2022-08-11T12:34:18.161Z"
   },
   {
    "duration": 1716,
    "start_time": "2022-08-11T12:34:19.479Z"
   },
   {
    "duration": 0,
    "start_time": "2022-08-11T12:34:21.197Z"
   },
   {
    "duration": 0,
    "start_time": "2022-08-11T12:34:21.198Z"
   },
   {
    "duration": 0,
    "start_time": "2022-08-11T12:34:21.199Z"
   },
   {
    "duration": 0,
    "start_time": "2022-08-11T12:34:21.200Z"
   },
   {
    "duration": 0,
    "start_time": "2022-08-11T12:34:21.201Z"
   },
   {
    "duration": 0,
    "start_time": "2022-08-11T12:34:21.202Z"
   },
   {
    "duration": 0,
    "start_time": "2022-08-11T12:34:21.204Z"
   },
   {
    "duration": 0,
    "start_time": "2022-08-11T12:34:21.205Z"
   },
   {
    "duration": 0,
    "start_time": "2022-08-11T12:34:21.206Z"
   },
   {
    "duration": 0,
    "start_time": "2022-08-11T12:34:21.207Z"
   },
   {
    "duration": 0,
    "start_time": "2022-08-11T12:34:21.208Z"
   },
   {
    "duration": 0,
    "start_time": "2022-08-11T12:34:21.209Z"
   },
   {
    "duration": 0,
    "start_time": "2022-08-11T12:34:21.210Z"
   },
   {
    "duration": 0,
    "start_time": "2022-08-11T12:34:21.211Z"
   },
   {
    "duration": 0,
    "start_time": "2022-08-11T12:34:21.212Z"
   },
   {
    "duration": 0,
    "start_time": "2022-08-11T12:34:21.213Z"
   },
   {
    "duration": 0,
    "start_time": "2022-08-11T12:34:21.215Z"
   },
   {
    "duration": 0,
    "start_time": "2022-08-11T12:34:21.216Z"
   },
   {
    "duration": 0,
    "start_time": "2022-08-11T12:34:21.216Z"
   },
   {
    "duration": 0,
    "start_time": "2022-08-11T12:34:21.217Z"
   },
   {
    "duration": 0,
    "start_time": "2022-08-11T12:34:21.219Z"
   },
   {
    "duration": 0,
    "start_time": "2022-08-11T12:34:21.219Z"
   },
   {
    "duration": 0,
    "start_time": "2022-08-11T12:34:21.221Z"
   },
   {
    "duration": 0,
    "start_time": "2022-08-11T12:34:21.221Z"
   },
   {
    "duration": 0,
    "start_time": "2022-08-11T12:34:21.223Z"
   },
   {
    "duration": 0,
    "start_time": "2022-08-11T12:34:21.223Z"
   },
   {
    "duration": 0,
    "start_time": "2022-08-11T12:34:21.225Z"
   },
   {
    "duration": 0,
    "start_time": "2022-08-11T12:34:21.225Z"
   },
   {
    "duration": 0,
    "start_time": "2022-08-11T12:34:21.227Z"
   },
   {
    "duration": 0,
    "start_time": "2022-08-11T12:34:21.228Z"
   },
   {
    "duration": 0,
    "start_time": "2022-08-11T12:34:21.228Z"
   },
   {
    "duration": 0,
    "start_time": "2022-08-11T12:34:21.229Z"
   },
   {
    "duration": 0,
    "start_time": "2022-08-11T12:34:21.231Z"
   },
   {
    "duration": 0,
    "start_time": "2022-08-11T12:34:21.232Z"
   },
   {
    "duration": 0,
    "start_time": "2022-08-11T12:34:21.232Z"
   },
   {
    "duration": 0,
    "start_time": "2022-08-11T12:34:21.233Z"
   },
   {
    "duration": 0,
    "start_time": "2022-08-11T12:34:21.234Z"
   },
   {
    "duration": 0,
    "start_time": "2022-08-11T12:34:21.235Z"
   },
   {
    "duration": 0,
    "start_time": "2022-08-11T12:34:21.236Z"
   },
   {
    "duration": 0,
    "start_time": "2022-08-11T12:34:21.237Z"
   },
   {
    "duration": 0,
    "start_time": "2022-08-11T12:34:21.238Z"
   },
   {
    "duration": 0,
    "start_time": "2022-08-11T12:34:21.239Z"
   },
   {
    "duration": 0,
    "start_time": "2022-08-11T12:34:21.240Z"
   },
   {
    "duration": 0,
    "start_time": "2022-08-11T12:34:21.241Z"
   },
   {
    "duration": 0,
    "start_time": "2022-08-11T12:34:21.242Z"
   },
   {
    "duration": 11,
    "start_time": "2022-08-11T12:34:30.551Z"
   },
   {
    "duration": 1515,
    "start_time": "2022-08-11T12:34:30.564Z"
   },
   {
    "duration": 477,
    "start_time": "2022-08-11T12:34:32.081Z"
   },
   {
    "duration": 3,
    "start_time": "2022-08-11T12:34:32.561Z"
   },
   {
    "duration": 73,
    "start_time": "2022-08-11T12:34:32.566Z"
   },
   {
    "duration": 3,
    "start_time": "2022-08-11T12:34:32.641Z"
   },
   {
    "duration": 12,
    "start_time": "2022-08-11T12:34:32.645Z"
   },
   {
    "duration": 6,
    "start_time": "2022-08-11T12:34:32.658Z"
   },
   {
    "duration": 75,
    "start_time": "2022-08-11T12:34:32.666Z"
   },
   {
    "duration": 184,
    "start_time": "2022-08-11T12:34:32.744Z"
   },
   {
    "duration": 6,
    "start_time": "2022-08-11T12:34:32.929Z"
   },
   {
    "duration": 5,
    "start_time": "2022-08-11T12:34:32.936Z"
   },
   {
    "duration": 20,
    "start_time": "2022-08-11T12:34:32.942Z"
   },
   {
    "duration": 49,
    "start_time": "2022-08-11T12:34:32.964Z"
   },
   {
    "duration": 7,
    "start_time": "2022-08-11T12:34:33.014Z"
   },
   {
    "duration": 5,
    "start_time": "2022-08-11T12:34:33.023Z"
   },
   {
    "duration": 13,
    "start_time": "2022-08-11T12:34:33.030Z"
   },
   {
    "duration": 5,
    "start_time": "2022-08-11T12:34:33.045Z"
   },
   {
    "duration": 14,
    "start_time": "2022-08-11T12:34:33.052Z"
   },
   {
    "duration": 16,
    "start_time": "2022-08-11T12:34:38.535Z"
   },
   {
    "duration": 10,
    "start_time": "2022-08-11T12:35:19.312Z"
   },
   {
    "duration": 1936,
    "start_time": "2022-08-11T12:35:19.324Z"
   },
   {
    "duration": 542,
    "start_time": "2022-08-11T12:35:21.261Z"
   },
   {
    "duration": 3,
    "start_time": "2022-08-11T12:35:21.805Z"
   },
   {
    "duration": 104,
    "start_time": "2022-08-11T12:35:21.810Z"
   },
   {
    "duration": 5,
    "start_time": "2022-08-11T12:35:21.916Z"
   },
   {
    "duration": 8,
    "start_time": "2022-08-11T12:35:21.923Z"
   },
   {
    "duration": 7,
    "start_time": "2022-08-11T12:35:21.933Z"
   },
   {
    "duration": 70,
    "start_time": "2022-08-11T12:35:21.941Z"
   },
   {
    "duration": 158,
    "start_time": "2022-08-11T12:35:22.013Z"
   },
   {
    "duration": 6,
    "start_time": "2022-08-11T12:35:22.206Z"
   },
   {
    "duration": 6,
    "start_time": "2022-08-11T12:35:22.214Z"
   },
   {
    "duration": 22,
    "start_time": "2022-08-11T12:35:22.221Z"
   },
   {
    "duration": 18,
    "start_time": "2022-08-11T12:35:22.245Z"
   },
   {
    "duration": 6,
    "start_time": "2022-08-11T12:35:22.265Z"
   },
   {
    "duration": 9,
    "start_time": "2022-08-11T12:35:22.273Z"
   },
   {
    "duration": 33,
    "start_time": "2022-08-11T12:35:22.283Z"
   },
   {
    "duration": 10,
    "start_time": "2022-08-11T12:35:24.545Z"
   },
   {
    "duration": 7,
    "start_time": "2022-08-11T12:35:25.482Z"
   },
   {
    "duration": 11,
    "start_time": "2022-08-11T12:35:39.996Z"
   },
   {
    "duration": 13,
    "start_time": "2022-08-11T12:36:44.629Z"
   },
   {
    "duration": 20,
    "start_time": "2022-08-11T12:36:59.355Z"
   },
   {
    "duration": 6,
    "start_time": "2022-08-11T12:37:05.922Z"
   },
   {
    "duration": 4,
    "start_time": "2022-08-11T12:37:06.739Z"
   },
   {
    "duration": 8,
    "start_time": "2022-08-11T12:37:07.952Z"
   },
   {
    "duration": 75,
    "start_time": "2022-08-11T12:37:25.652Z"
   },
   {
    "duration": 5,
    "start_time": "2022-08-11T12:37:32.080Z"
   },
   {
    "duration": 4,
    "start_time": "2022-08-11T12:37:40.961Z"
   },
   {
    "duration": 5,
    "start_time": "2022-08-11T12:38:09.045Z"
   },
   {
    "duration": 8,
    "start_time": "2022-08-11T12:38:25.812Z"
   },
   {
    "duration": 10,
    "start_time": "2022-08-11T12:38:53.891Z"
   },
   {
    "duration": 1452,
    "start_time": "2022-08-11T12:38:53.903Z"
   },
   {
    "duration": 379,
    "start_time": "2022-08-11T12:38:55.357Z"
   },
   {
    "duration": 4,
    "start_time": "2022-08-11T12:38:55.738Z"
   },
   {
    "duration": 84,
    "start_time": "2022-08-11T12:38:55.744Z"
   },
   {
    "duration": 4,
    "start_time": "2022-08-11T12:38:55.829Z"
   },
   {
    "duration": 17,
    "start_time": "2022-08-11T12:38:55.834Z"
   },
   {
    "duration": 15,
    "start_time": "2022-08-11T12:38:55.853Z"
   },
   {
    "duration": 72,
    "start_time": "2022-08-11T12:38:55.870Z"
   },
   {
    "duration": 220,
    "start_time": "2022-08-11T12:38:55.944Z"
   },
   {
    "duration": 39,
    "start_time": "2022-08-11T12:38:56.167Z"
   },
   {
    "duration": 6,
    "start_time": "2022-08-11T12:38:56.209Z"
   },
   {
    "duration": 31,
    "start_time": "2022-08-11T12:38:56.217Z"
   },
   {
    "duration": 23,
    "start_time": "2022-08-11T12:38:56.252Z"
   },
   {
    "duration": 29,
    "start_time": "2022-08-11T12:38:56.278Z"
   },
   {
    "duration": 14,
    "start_time": "2022-08-11T12:38:56.309Z"
   },
   {
    "duration": 8,
    "start_time": "2022-08-11T12:38:56.325Z"
   },
   {
    "duration": 25,
    "start_time": "2022-08-11T12:38:56.335Z"
   },
   {
    "duration": 16,
    "start_time": "2022-08-11T12:38:56.362Z"
   },
   {
    "duration": 29,
    "start_time": "2022-08-11T12:38:56.379Z"
   },
   {
    "duration": 8,
    "start_time": "2022-08-11T12:38:56.410Z"
   },
   {
    "duration": 7,
    "start_time": "2022-08-11T12:38:56.419Z"
   },
   {
    "duration": 8,
    "start_time": "2022-08-11T12:38:56.427Z"
   },
   {
    "duration": 6,
    "start_time": "2022-08-11T12:38:56.437Z"
   },
   {
    "duration": 13,
    "start_time": "2022-08-11T12:38:56.444Z"
   },
   {
    "duration": 6,
    "start_time": "2022-08-11T12:38:56.459Z"
   },
   {
    "duration": 42,
    "start_time": "2022-08-11T12:38:56.467Z"
   },
   {
    "duration": 5202,
    "start_time": "2022-08-11T12:38:56.511Z"
   },
   {
    "duration": 3,
    "start_time": "2022-08-11T12:39:01.715Z"
   },
   {
    "duration": 16,
    "start_time": "2022-08-11T12:39:01.720Z"
   },
   {
    "duration": 26,
    "start_time": "2022-08-11T12:39:01.738Z"
   },
   {
    "duration": 24,
    "start_time": "2022-08-11T12:39:01.765Z"
   },
   {
    "duration": 2467,
    "start_time": "2022-08-11T12:39:01.791Z"
   },
   {
    "duration": 3,
    "start_time": "2022-08-11T12:39:12.090Z"
   },
   {
    "duration": 5,
    "start_time": "2022-08-11T12:39:13.619Z"
   },
   {
    "duration": 4,
    "start_time": "2022-08-11T12:39:14.252Z"
   },
   {
    "duration": 4,
    "start_time": "2022-08-11T12:39:14.986Z"
   },
   {
    "duration": 19,
    "start_time": "2022-08-11T12:39:15.571Z"
   },
   {
    "duration": 20,
    "start_time": "2022-08-11T12:39:15.890Z"
   },
   {
    "duration": 16,
    "start_time": "2022-08-11T12:39:16.792Z"
   },
   {
    "duration": 583,
    "start_time": "2022-08-11T12:39:17.112Z"
   },
   {
    "duration": 21,
    "start_time": "2022-08-11T12:39:19.202Z"
   },
   {
    "duration": 13,
    "start_time": "2022-08-11T12:39:19.668Z"
   },
   {
    "duration": 8,
    "start_time": "2022-08-11T12:39:21.141Z"
   },
   {
    "duration": 567,
    "start_time": "2022-08-11T12:39:23.014Z"
   },
   {
    "duration": 24,
    "start_time": "2022-08-11T12:39:30.835Z"
   },
   {
    "duration": 29,
    "start_time": "2022-08-11T12:39:38.832Z"
   },
   {
    "duration": 124,
    "start_time": "2022-08-11T12:40:58.994Z"
   },
   {
    "duration": 4,
    "start_time": "2022-08-11T12:41:09.213Z"
   },
   {
    "duration": 9,
    "start_time": "2022-08-11T12:41:27.672Z"
   },
   {
    "duration": 7,
    "start_time": "2022-08-11T12:41:33.086Z"
   },
   {
    "duration": 7,
    "start_time": "2022-08-11T12:41:47.891Z"
   },
   {
    "duration": 6,
    "start_time": "2022-08-11T12:41:55.570Z"
   },
   {
    "duration": 13,
    "start_time": "2022-08-11T12:49:41.834Z"
   },
   {
    "duration": 32,
    "start_time": "2022-08-11T12:50:26.310Z"
   },
   {
    "duration": 21,
    "start_time": "2022-08-11T12:50:55.275Z"
   },
   {
    "duration": 22,
    "start_time": "2022-08-11T12:51:08.155Z"
   },
   {
    "duration": 10,
    "start_time": "2022-08-11T12:51:25.539Z"
   },
   {
    "duration": 17,
    "start_time": "2022-08-11T12:54:05.470Z"
   },
   {
    "duration": 13,
    "start_time": "2022-08-11T12:54:19.762Z"
   },
   {
    "duration": 10,
    "start_time": "2022-08-11T12:54:37.180Z"
   },
   {
    "duration": 10,
    "start_time": "2022-08-11T12:54:38.936Z"
   },
   {
    "duration": 10,
    "start_time": "2022-08-11T12:54:49.063Z"
   },
   {
    "duration": 9,
    "start_time": "2022-08-11T12:54:54.082Z"
   },
   {
    "duration": 11,
    "start_time": "2022-08-11T12:54:59.719Z"
   },
   {
    "duration": 1447,
    "start_time": "2022-08-11T12:54:59.732Z"
   },
   {
    "duration": 591,
    "start_time": "2022-08-11T12:55:01.181Z"
   },
   {
    "duration": 3,
    "start_time": "2022-08-11T12:55:01.773Z"
   },
   {
    "duration": 102,
    "start_time": "2022-08-11T12:55:01.778Z"
   },
   {
    "duration": 4,
    "start_time": "2022-08-11T12:55:01.881Z"
   },
   {
    "duration": 21,
    "start_time": "2022-08-11T12:55:01.886Z"
   },
   {
    "duration": 6,
    "start_time": "2022-08-11T12:55:01.909Z"
   },
   {
    "duration": 65,
    "start_time": "2022-08-11T12:55:01.917Z"
   },
   {
    "duration": 185,
    "start_time": "2022-08-11T12:55:01.984Z"
   },
   {
    "duration": 39,
    "start_time": "2022-08-11T12:55:02.171Z"
   },
   {
    "duration": 4,
    "start_time": "2022-08-11T12:55:02.212Z"
   },
   {
    "duration": 27,
    "start_time": "2022-08-11T12:55:02.218Z"
   },
   {
    "duration": 21,
    "start_time": "2022-08-11T12:55:02.249Z"
   },
   {
    "duration": 34,
    "start_time": "2022-08-11T12:55:02.272Z"
   },
   {
    "duration": 13,
    "start_time": "2022-08-11T12:55:02.308Z"
   },
   {
    "duration": 12,
    "start_time": "2022-08-11T12:55:02.323Z"
   },
   {
    "duration": 24,
    "start_time": "2022-08-11T12:55:02.337Z"
   },
   {
    "duration": 15,
    "start_time": "2022-08-11T12:55:02.362Z"
   },
   {
    "duration": 7,
    "start_time": "2022-08-11T12:55:02.379Z"
   },
   {
    "duration": 18,
    "start_time": "2022-08-11T12:55:02.388Z"
   },
   {
    "duration": 5,
    "start_time": "2022-08-11T12:55:02.408Z"
   },
   {
    "duration": 8,
    "start_time": "2022-08-11T12:55:02.415Z"
   },
   {
    "duration": 11,
    "start_time": "2022-08-11T12:55:02.425Z"
   },
   {
    "duration": 18,
    "start_time": "2022-08-11T12:55:02.438Z"
   },
   {
    "duration": 7,
    "start_time": "2022-08-11T12:55:02.458Z"
   },
   {
    "duration": 14,
    "start_time": "2022-08-11T12:55:02.466Z"
   },
   {
    "duration": 4677,
    "start_time": "2022-08-11T12:55:02.482Z"
   },
   {
    "duration": 3,
    "start_time": "2022-08-11T12:55:07.160Z"
   },
   {
    "duration": 27,
    "start_time": "2022-08-11T12:55:07.165Z"
   },
   {
    "duration": 22,
    "start_time": "2022-08-11T12:55:07.194Z"
   },
   {
    "duration": 27,
    "start_time": "2022-08-11T12:55:07.218Z"
   },
   {
    "duration": 2359,
    "start_time": "2022-08-11T12:55:07.246Z"
   },
   {
    "duration": 3,
    "start_time": "2022-08-11T12:55:09.606Z"
   },
   {
    "duration": 8,
    "start_time": "2022-08-11T12:55:09.610Z"
   },
   {
    "duration": 6,
    "start_time": "2022-08-11T12:55:09.619Z"
   },
   {
    "duration": 12,
    "start_time": "2022-08-11T12:55:09.626Z"
   },
   {
    "duration": 19,
    "start_time": "2022-08-11T12:55:09.640Z"
   },
   {
    "duration": 17,
    "start_time": "2022-08-11T12:55:09.660Z"
   },
   {
    "duration": 28,
    "start_time": "2022-08-11T12:55:09.678Z"
   },
   {
    "duration": 601,
    "start_time": "2022-08-11T12:55:09.709Z"
   },
   {
    "duration": 21,
    "start_time": "2022-08-11T12:55:10.312Z"
   },
   {
    "duration": 12,
    "start_time": "2022-08-11T12:55:10.334Z"
   },
   {
    "duration": 6,
    "start_time": "2022-08-11T12:55:10.348Z"
   },
   {
    "duration": 662,
    "start_time": "2022-08-11T12:55:10.355Z"
   },
   {
    "duration": 8,
    "start_time": "2022-08-11T12:55:11.018Z"
   },
   {
    "duration": 21,
    "start_time": "2022-08-11T12:55:11.027Z"
   },
   {
    "duration": 8,
    "start_time": "2022-08-11T12:55:11.049Z"
   },
   {
    "duration": 20,
    "start_time": "2022-08-11T12:55:11.058Z"
   },
   {
    "duration": 933,
    "start_time": "2022-08-11T12:55:11.080Z"
   },
   {
    "duration": 6,
    "start_time": "2022-08-11T12:55:40.429Z"
   },
   {
    "duration": 7,
    "start_time": "2022-08-11T12:56:34.694Z"
   },
   {
    "duration": 72,
    "start_time": "2022-08-11T12:58:29.243Z"
   },
   {
    "duration": 8,
    "start_time": "2022-08-11T12:58:35.126Z"
   },
   {
    "duration": 9,
    "start_time": "2022-08-11T12:58:39.692Z"
   },
   {
    "duration": 10,
    "start_time": "2022-08-11T12:59:43.786Z"
   },
   {
    "duration": 14,
    "start_time": "2022-08-11T13:00:42.720Z"
   },
   {
    "duration": 12,
    "start_time": "2022-08-11T13:03:57.965Z"
   },
   {
    "duration": 10,
    "start_time": "2022-08-11T13:04:35.172Z"
   },
   {
    "duration": 9,
    "start_time": "2022-08-11T13:05:04.589Z"
   },
   {
    "duration": 19,
    "start_time": "2022-08-11T13:05:04.796Z"
   },
   {
    "duration": 22,
    "start_time": "2022-08-11T13:05:04.945Z"
   },
   {
    "duration": 13,
    "start_time": "2022-08-11T13:05:05.067Z"
   },
   {
    "duration": 14,
    "start_time": "2022-08-11T13:05:05.189Z"
   },
   {
    "duration": 9,
    "start_time": "2022-08-11T13:05:06.401Z"
   },
   {
    "duration": 9,
    "start_time": "2022-08-11T13:05:07.149Z"
   },
   {
    "duration": 107,
    "start_time": "2022-08-11T13:06:36.291Z"
   },
   {
    "duration": 1678,
    "start_time": "2022-08-11T13:06:44.391Z"
   },
   {
    "duration": 1305,
    "start_time": "2022-08-11T13:06:52.989Z"
   },
   {
    "duration": 26,
    "start_time": "2022-08-11T13:07:02.274Z"
   },
   {
    "duration": 52,
    "start_time": "2022-08-11T13:08:01.061Z"
   },
   {
    "duration": 61,
    "start_time": "2022-08-11T13:08:25.165Z"
   },
   {
    "duration": 51,
    "start_time": "2022-08-11T13:08:43.579Z"
   },
   {
    "duration": 80,
    "start_time": "2022-08-11T13:09:55.810Z"
   },
   {
    "duration": 108,
    "start_time": "2022-08-11T13:10:34.961Z"
   },
   {
    "duration": 94,
    "start_time": "2022-08-11T13:10:56.081Z"
   },
   {
    "duration": 73,
    "start_time": "2022-08-11T13:11:05.141Z"
   },
   {
    "duration": 70,
    "start_time": "2022-08-11T13:11:09.480Z"
   },
   {
    "duration": 15252,
    "start_time": "2022-08-11T13:12:16.657Z"
   },
   {
    "duration": 11,
    "start_time": "2022-08-11T13:12:50.131Z"
   },
   {
    "duration": 1404,
    "start_time": "2022-08-11T13:12:50.144Z"
   },
   {
    "duration": 575,
    "start_time": "2022-08-11T13:12:51.549Z"
   },
   {
    "duration": 2,
    "start_time": "2022-08-11T13:12:52.127Z"
   },
   {
    "duration": 86,
    "start_time": "2022-08-11T13:12:52.131Z"
   },
   {
    "duration": 4,
    "start_time": "2022-08-11T13:12:52.218Z"
   },
   {
    "duration": 7,
    "start_time": "2022-08-11T13:12:52.223Z"
   },
   {
    "duration": 6,
    "start_time": "2022-08-11T13:12:52.232Z"
   },
   {
    "duration": 93,
    "start_time": "2022-08-11T13:12:52.239Z"
   },
   {
    "duration": 197,
    "start_time": "2022-08-11T13:12:52.336Z"
   },
   {
    "duration": 6,
    "start_time": "2022-08-11T13:12:52.535Z"
   },
   {
    "duration": 3,
    "start_time": "2022-08-11T13:12:52.543Z"
   },
   {
    "duration": 29,
    "start_time": "2022-08-11T13:12:52.548Z"
   },
   {
    "duration": 27,
    "start_time": "2022-08-11T13:12:52.606Z"
   },
   {
    "duration": 7,
    "start_time": "2022-08-11T13:12:52.634Z"
   },
   {
    "duration": 11,
    "start_time": "2022-08-11T13:12:52.643Z"
   },
   {
    "duration": 6,
    "start_time": "2022-08-11T13:12:52.656Z"
   },
   {
    "duration": 12,
    "start_time": "2022-08-11T13:12:52.664Z"
   },
   {
    "duration": 18,
    "start_time": "2022-08-11T13:12:52.706Z"
   },
   {
    "duration": 6,
    "start_time": "2022-08-11T13:12:52.726Z"
   },
   {
    "duration": 5,
    "start_time": "2022-08-11T13:12:52.734Z"
   },
   {
    "duration": 8,
    "start_time": "2022-08-11T13:12:52.741Z"
   },
   {
    "duration": 12,
    "start_time": "2022-08-11T13:12:52.750Z"
   },
   {
    "duration": 3,
    "start_time": "2022-08-11T13:12:52.764Z"
   },
   {
    "duration": 11,
    "start_time": "2022-08-11T13:12:52.769Z"
   },
   {
    "duration": 6,
    "start_time": "2022-08-11T13:12:52.807Z"
   },
   {
    "duration": 16,
    "start_time": "2022-08-11T13:12:52.815Z"
   },
   {
    "duration": 4808,
    "start_time": "2022-08-11T13:12:52.836Z"
   },
   {
    "duration": 3,
    "start_time": "2022-08-11T13:12:57.646Z"
   },
   {
    "duration": 11,
    "start_time": "2022-08-11T13:12:57.651Z"
   },
   {
    "duration": 7,
    "start_time": "2022-08-11T13:12:57.664Z"
   },
   {
    "duration": 35,
    "start_time": "2022-08-11T13:12:57.673Z"
   },
   {
    "duration": 2506,
    "start_time": "2022-08-11T13:12:57.710Z"
   },
   {
    "duration": 3,
    "start_time": "2022-08-11T13:13:00.218Z"
   },
   {
    "duration": 22,
    "start_time": "2022-08-11T13:13:00.223Z"
   },
   {
    "duration": 14,
    "start_time": "2022-08-11T13:13:00.246Z"
   },
   {
    "duration": 10,
    "start_time": "2022-08-11T13:13:00.261Z"
   },
   {
    "duration": 23,
    "start_time": "2022-08-11T13:13:00.273Z"
   },
   {
    "duration": 24,
    "start_time": "2022-08-11T13:13:00.298Z"
   },
   {
    "duration": 16,
    "start_time": "2022-08-11T13:13:00.324Z"
   },
   {
    "duration": 561,
    "start_time": "2022-08-11T13:13:00.342Z"
   },
   {
    "duration": 30,
    "start_time": "2022-08-11T13:13:00.906Z"
   },
   {
    "duration": 13,
    "start_time": "2022-08-11T13:13:00.938Z"
   },
   {
    "duration": 20,
    "start_time": "2022-08-11T13:13:00.953Z"
   },
   {
    "duration": 642,
    "start_time": "2022-08-11T13:13:00.975Z"
   },
   {
    "duration": 7,
    "start_time": "2022-08-11T13:13:01.619Z"
   },
   {
    "duration": 28,
    "start_time": "2022-08-11T13:13:01.628Z"
   },
   {
    "duration": 15,
    "start_time": "2022-08-11T13:13:01.658Z"
   },
   {
    "duration": 35,
    "start_time": "2022-08-11T13:13:01.675Z"
   },
   {
    "duration": 7,
    "start_time": "2022-08-11T13:13:01.712Z"
   },
   {
    "duration": 27,
    "start_time": "2022-08-11T13:13:01.721Z"
   },
   {
    "duration": 27,
    "start_time": "2022-08-11T13:13:01.750Z"
   },
   {
    "duration": 28,
    "start_time": "2022-08-11T13:13:01.779Z"
   },
   {
    "duration": 32,
    "start_time": "2022-08-11T13:13:01.809Z"
   },
   {
    "duration": 19,
    "start_time": "2022-08-11T13:13:01.842Z"
   },
   {
    "duration": 24,
    "start_time": "2022-08-11T13:13:01.863Z"
   },
   {
    "duration": 41,
    "start_time": "2022-08-11T13:13:01.889Z"
   },
   {
    "duration": 16,
    "start_time": "2022-08-11T13:13:01.932Z"
   },
   {
    "duration": 75,
    "start_time": "2022-08-11T13:13:01.950Z"
   },
   {
    "duration": 68,
    "start_time": "2022-08-11T13:15:17.088Z"
   },
   {
    "duration": 85,
    "start_time": "2022-08-11T13:16:40.246Z"
   },
   {
    "duration": 25,
    "start_time": "2022-08-11T13:17:47.487Z"
   },
   {
    "duration": 58,
    "start_time": "2022-08-11T13:17:50.837Z"
   },
   {
    "duration": 10,
    "start_time": "2022-08-11T13:18:05.356Z"
   },
   {
    "duration": 15,
    "start_time": "2022-08-11T13:18:43.847Z"
   },
   {
    "duration": 133,
    "start_time": "2022-08-11T13:19:26.196Z"
   },
   {
    "duration": 78,
    "start_time": "2022-08-11T13:19:29.807Z"
   },
   {
    "duration": 70,
    "start_time": "2022-08-11T13:19:39.893Z"
   },
   {
    "duration": 12,
    "start_time": "2022-08-11T13:20:03.872Z"
   },
   {
    "duration": 160,
    "start_time": "2022-08-11T13:29:59.272Z"
   },
   {
    "duration": 5,
    "start_time": "2022-08-11T13:30:02.440Z"
   },
   {
    "duration": 55,
    "start_time": "2022-08-11T13:30:04.837Z"
   },
   {
    "duration": 72,
    "start_time": "2022-08-11T13:32:05.651Z"
   },
   {
    "duration": 12,
    "start_time": "2022-08-11T13:32:12.007Z"
   },
   {
    "duration": 4,
    "start_time": "2022-08-11T13:32:38.592Z"
   },
   {
    "duration": 52,
    "start_time": "2022-08-11T13:32:40.719Z"
   },
   {
    "duration": 6,
    "start_time": "2022-08-11T13:33:00.386Z"
   },
   {
    "duration": 78,
    "start_time": "2022-08-11T13:33:01.872Z"
   },
   {
    "duration": 86,
    "start_time": "2022-08-11T13:33:53.483Z"
   },
   {
    "duration": 48,
    "start_time": "2022-08-11T13:34:02.962Z"
   },
   {
    "duration": 10,
    "start_time": "2022-08-11T13:34:54.672Z"
   },
   {
    "duration": 47,
    "start_time": "2022-08-11T13:35:03.778Z"
   },
   {
    "duration": 5,
    "start_time": "2022-08-11T13:37:51.702Z"
   },
   {
    "duration": 39,
    "start_time": "2022-08-11T13:37:53.226Z"
   },
   {
    "duration": 32,
    "start_time": "2022-08-11T13:38:05.237Z"
   },
   {
    "duration": 33,
    "start_time": "2022-08-11T13:38:18.493Z"
   },
   {
    "duration": 73,
    "start_time": "2022-08-11T13:49:00.901Z"
   },
   {
    "duration": 6,
    "start_time": "2022-08-11T13:49:25.815Z"
   },
   {
    "duration": 166,
    "start_time": "2022-08-11T13:49:31.206Z"
   },
   {
    "duration": 34,
    "start_time": "2022-08-11T13:49:39.839Z"
   },
   {
    "duration": 50,
    "start_time": "2022-08-11T13:49:45.660Z"
   },
   {
    "duration": 6,
    "start_time": "2022-08-11T13:50:51.229Z"
   },
   {
    "duration": 37,
    "start_time": "2022-08-11T13:50:52.709Z"
   },
   {
    "duration": 50,
    "start_time": "2022-08-11T13:51:25.861Z"
   },
   {
    "duration": 8,
    "start_time": "2022-08-11T13:54:59.743Z"
   },
   {
    "duration": 67,
    "start_time": "2022-08-11T13:55:01.878Z"
   },
   {
    "duration": 16,
    "start_time": "2022-08-11T13:55:39.343Z"
   },
   {
    "duration": 63,
    "start_time": "2022-08-11T13:56:27.014Z"
   },
   {
    "duration": 6,
    "start_time": "2022-08-11T13:57:13.743Z"
   },
   {
    "duration": 51,
    "start_time": "2022-08-11T13:57:15.809Z"
   },
   {
    "duration": 6,
    "start_time": "2022-08-11T14:04:29.616Z"
   },
   {
    "duration": 95,
    "start_time": "2022-08-11T14:04:29.976Z"
   },
   {
    "duration": 6,
    "start_time": "2022-08-11T14:04:55.873Z"
   },
   {
    "duration": 49,
    "start_time": "2022-08-11T14:04:57.416Z"
   },
   {
    "duration": 46,
    "start_time": "2022-08-11T14:04:59.400Z"
   },
   {
    "duration": 60,
    "start_time": "2022-08-11T14:05:04.034Z"
   },
   {
    "duration": 7,
    "start_time": "2022-08-11T14:07:30.462Z"
   },
   {
    "duration": 10,
    "start_time": "2022-08-11T14:07:36.932Z"
   },
   {
    "duration": 13,
    "start_time": "2022-08-11T14:07:41.471Z"
   },
   {
    "duration": 7,
    "start_time": "2022-08-11T14:07:48.141Z"
   },
   {
    "duration": 8,
    "start_time": "2022-08-11T14:07:55.988Z"
   },
   {
    "duration": 48,
    "start_time": "2022-08-11T14:09:17.267Z"
   },
   {
    "duration": 5,
    "start_time": "2022-08-11T14:09:56.026Z"
   },
   {
    "duration": 21,
    "start_time": "2022-08-11T14:10:30.996Z"
   },
   {
    "duration": 21,
    "start_time": "2022-08-11T14:10:56.131Z"
   },
   {
    "duration": 59,
    "start_time": "2022-08-11T14:11:03.251Z"
   },
   {
    "duration": 61,
    "start_time": "2022-08-11T14:11:11.571Z"
   },
   {
    "duration": 8,
    "start_time": "2022-08-11T14:11:36.532Z"
   },
   {
    "duration": 21,
    "start_time": "2022-08-11T14:14:59.889Z"
   },
   {
    "duration": 10,
    "start_time": "2022-08-11T14:15:10.297Z"
   },
   {
    "duration": 17,
    "start_time": "2022-08-11T14:15:15.553Z"
   },
   {
    "duration": 11,
    "start_time": "2022-08-11T14:15:42.495Z"
   },
   {
    "duration": 6,
    "start_time": "2022-08-11T14:15:44.629Z"
   },
   {
    "duration": 7,
    "start_time": "2022-08-11T14:18:50.647Z"
   },
   {
    "duration": 15,
    "start_time": "2022-08-11T14:19:27.469Z"
   },
   {
    "duration": 40,
    "start_time": "2022-08-11T14:20:46.729Z"
   },
   {
    "duration": 37,
    "start_time": "2022-08-11T14:32:11.461Z"
   },
   {
    "duration": 14,
    "start_time": "2022-08-11T14:32:16.653Z"
   },
   {
    "duration": 5,
    "start_time": "2022-08-11T14:32:57.565Z"
   },
   {
    "duration": 12,
    "start_time": "2022-08-11T14:32:58.173Z"
   },
   {
    "duration": 13,
    "start_time": "2022-08-11T14:33:18.350Z"
   },
   {
    "duration": 7,
    "start_time": "2022-08-11T14:33:22.125Z"
   },
   {
    "duration": 10,
    "start_time": "2022-08-11T14:33:28.245Z"
   },
   {
    "duration": 77,
    "start_time": "2022-08-11T14:34:06.824Z"
   },
   {
    "duration": 11,
    "start_time": "2022-08-11T14:34:10.741Z"
   },
   {
    "duration": 35,
    "start_time": "2022-08-11T14:34:44.228Z"
   },
   {
    "duration": 4360,
    "start_time": "2022-08-11T14:37:08.649Z"
   },
   {
    "duration": 4475,
    "start_time": "2022-08-11T14:37:35.425Z"
   },
   {
    "duration": 4566,
    "start_time": "2022-08-11T14:38:00.017Z"
   },
   {
    "duration": 4317,
    "start_time": "2022-08-11T14:38:22.009Z"
   },
   {
    "duration": 887,
    "start_time": "2022-08-11T14:41:07.783Z"
   },
   {
    "duration": 3955,
    "start_time": "2022-08-11T14:42:43.613Z"
   },
   {
    "duration": 5114,
    "start_time": "2022-08-11T14:43:56.478Z"
   },
   {
    "duration": 901,
    "start_time": "2022-08-11T14:44:31.517Z"
   },
   {
    "duration": 5,
    "start_time": "2022-08-11T14:45:07.653Z"
   },
   {
    "duration": 6,
    "start_time": "2022-08-11T14:45:19.301Z"
   },
   {
    "duration": 6,
    "start_time": "2022-08-11T14:45:31.427Z"
   },
   {
    "duration": 5,
    "start_time": "2022-08-11T14:45:54.468Z"
   },
   {
    "duration": 3,
    "start_time": "2022-08-11T14:49:10.196Z"
   },
   {
    "duration": 36,
    "start_time": "2022-08-11T14:49:12.883Z"
   },
   {
    "duration": 10,
    "start_time": "2022-08-11T14:50:51.706Z"
   },
   {
    "duration": 4,
    "start_time": "2022-08-11T14:58:05.297Z"
   },
   {
    "duration": 32,
    "start_time": "2022-08-11T14:58:06.872Z"
   },
   {
    "duration": 5,
    "start_time": "2022-08-11T15:01:15.393Z"
   },
   {
    "duration": 32,
    "start_time": "2022-08-11T15:01:18.801Z"
   },
   {
    "duration": 5,
    "start_time": "2022-08-11T15:01:18.863Z"
   },
   {
    "duration": 5,
    "start_time": "2022-08-11T15:01:39.345Z"
   },
   {
    "duration": 31,
    "start_time": "2022-08-11T15:01:42.463Z"
   },
   {
    "duration": 32,
    "start_time": "2022-08-11T15:01:47.680Z"
   },
   {
    "duration": 5,
    "start_time": "2022-08-11T15:02:04.208Z"
   },
   {
    "duration": 31,
    "start_time": "2022-08-11T15:02:04.605Z"
   },
   {
    "duration": 36,
    "start_time": "2022-08-11T15:02:08.016Z"
   },
   {
    "duration": 8,
    "start_time": "2022-08-11T15:03:32.800Z"
   },
   {
    "duration": 3,
    "start_time": "2022-08-11T15:07:33.542Z"
   },
   {
    "duration": 3,
    "start_time": "2022-08-11T15:07:34.606Z"
   },
   {
    "duration": 89,
    "start_time": "2022-08-11T15:07:35.407Z"
   },
   {
    "duration": 413,
    "start_time": "2022-08-11T15:08:35.095Z"
   },
   {
    "duration": 3,
    "start_time": "2022-08-11T15:08:47.911Z"
   },
   {
    "duration": 3,
    "start_time": "2022-08-11T15:09:02.872Z"
   },
   {
    "duration": 8,
    "start_time": "2022-08-11T15:09:04.207Z"
   },
   {
    "duration": 8,
    "start_time": "2022-08-11T15:09:29.759Z"
   },
   {
    "duration": 8,
    "start_time": "2022-08-11T15:11:49.873Z"
   },
   {
    "duration": 8,
    "start_time": "2022-08-11T15:12:05.617Z"
   },
   {
    "duration": 8,
    "start_time": "2022-08-11T15:12:11.713Z"
   },
   {
    "duration": 2,
    "start_time": "2022-08-11T15:12:53.618Z"
   },
   {
    "duration": 2,
    "start_time": "2022-08-11T15:12:53.969Z"
   },
   {
    "duration": 356,
    "start_time": "2022-08-11T15:12:54.369Z"
   },
   {
    "duration": 3,
    "start_time": "2022-08-11T15:12:57.185Z"
   },
   {
    "duration": 8,
    "start_time": "2022-08-11T15:12:57.680Z"
   },
   {
    "duration": 3,
    "start_time": "2022-08-11T15:13:05.953Z"
   },
   {
    "duration": 3,
    "start_time": "2022-08-11T15:13:06.233Z"
   },
   {
    "duration": 3972,
    "start_time": "2022-08-11T15:13:06.546Z"
   },
   {
    "duration": 3,
    "start_time": "2022-08-11T15:13:10.520Z"
   },
   {
    "duration": 12,
    "start_time": "2022-08-11T15:13:10.524Z"
   },
   {
    "duration": 4,
    "start_time": "2022-08-11T15:13:46.962Z"
   },
   {
    "duration": 6394,
    "start_time": "2022-08-11T15:14:24.034Z"
   },
   {
    "duration": 6,
    "start_time": "2022-08-11T15:14:30.430Z"
   },
   {
    "duration": 6,
    "start_time": "2022-08-11T15:14:30.437Z"
   },
   {
    "duration": 13,
    "start_time": "2022-08-11T15:14:30.444Z"
   },
   {
    "duration": 4,
    "start_time": "2022-08-11T15:16:52.978Z"
   },
   {
    "duration": 271,
    "start_time": "2022-08-11T15:16:55.338Z"
   },
   {
    "duration": 618,
    "start_time": "2022-08-11T15:17:07.899Z"
   },
   {
    "duration": 203,
    "start_time": "2022-08-11T15:18:28.967Z"
   },
   {
    "duration": 3,
    "start_time": "2022-08-11T15:20:41.611Z"
   },
   {
    "duration": 5123,
    "start_time": "2022-08-11T15:20:42.363Z"
   },
   {
    "duration": 11,
    "start_time": "2022-08-11T15:21:25.170Z"
   },
   {
    "duration": 1465,
    "start_time": "2022-08-11T15:21:25.184Z"
   },
   {
    "duration": 1060,
    "start_time": "2022-08-11T15:21:26.651Z"
   },
   {
    "duration": 3,
    "start_time": "2022-08-11T15:21:27.712Z"
   },
   {
    "duration": 91,
    "start_time": "2022-08-11T15:21:27.717Z"
   },
   {
    "duration": 3,
    "start_time": "2022-08-11T15:21:27.809Z"
   },
   {
    "duration": 8,
    "start_time": "2022-08-11T15:21:27.814Z"
   },
   {
    "duration": 6,
    "start_time": "2022-08-11T15:21:27.824Z"
   },
   {
    "duration": 53,
    "start_time": "2022-08-11T15:21:27.831Z"
   },
   {
    "duration": 159,
    "start_time": "2022-08-11T15:21:27.885Z"
   },
   {
    "duration": 5,
    "start_time": "2022-08-11T15:21:28.046Z"
   },
   {
    "duration": 7,
    "start_time": "2022-08-11T15:21:28.052Z"
   },
   {
    "duration": 55,
    "start_time": "2022-08-11T15:21:28.061Z"
   },
   {
    "duration": 18,
    "start_time": "2022-08-11T15:21:28.120Z"
   },
   {
    "duration": 7,
    "start_time": "2022-08-11T15:21:28.140Z"
   },
   {
    "duration": 10,
    "start_time": "2022-08-11T15:21:28.148Z"
   },
   {
    "duration": 5,
    "start_time": "2022-08-11T15:21:28.159Z"
   },
   {
    "duration": 11,
    "start_time": "2022-08-11T15:21:28.165Z"
   },
   {
    "duration": 39,
    "start_time": "2022-08-11T15:21:28.177Z"
   },
   {
    "duration": 6,
    "start_time": "2022-08-11T15:21:28.217Z"
   },
   {
    "duration": 5,
    "start_time": "2022-08-11T15:21:28.224Z"
   },
   {
    "duration": 7,
    "start_time": "2022-08-11T15:21:28.230Z"
   },
   {
    "duration": 8,
    "start_time": "2022-08-11T15:21:28.238Z"
   },
   {
    "duration": 5,
    "start_time": "2022-08-11T15:21:28.247Z"
   },
   {
    "duration": 12,
    "start_time": "2022-08-11T15:21:28.254Z"
   },
   {
    "duration": 6,
    "start_time": "2022-08-11T15:21:28.268Z"
   },
   {
    "duration": 11,
    "start_time": "2022-08-11T15:21:28.307Z"
   },
   {
    "duration": 4801,
    "start_time": "2022-08-11T15:21:28.320Z"
   },
   {
    "duration": 4,
    "start_time": "2022-08-11T15:21:33.123Z"
   },
   {
    "duration": 11,
    "start_time": "2022-08-11T15:21:33.128Z"
   },
   {
    "duration": 8,
    "start_time": "2022-08-11T15:21:33.141Z"
   },
   {
    "duration": 10,
    "start_time": "2022-08-11T15:21:33.151Z"
   },
   {
    "duration": 2298,
    "start_time": "2022-08-11T15:21:33.163Z"
   },
   {
    "duration": 2,
    "start_time": "2022-08-11T15:21:35.463Z"
   },
   {
    "duration": 12,
    "start_time": "2022-08-11T15:21:35.467Z"
   },
   {
    "duration": 4,
    "start_time": "2022-08-11T15:21:35.481Z"
   },
   {
    "duration": 6,
    "start_time": "2022-08-11T15:21:35.486Z"
   },
   {
    "duration": 25,
    "start_time": "2022-08-11T15:21:35.493Z"
   },
   {
    "duration": 17,
    "start_time": "2022-08-11T15:21:35.519Z"
   },
   {
    "duration": 12,
    "start_time": "2022-08-11T15:21:35.537Z"
   },
   {
    "duration": 677,
    "start_time": "2022-08-11T15:21:35.553Z"
   },
   {
    "duration": 22,
    "start_time": "2022-08-11T15:21:36.232Z"
   },
   {
    "duration": 12,
    "start_time": "2022-08-11T15:21:36.255Z"
   },
   {
    "duration": 7,
    "start_time": "2022-08-11T15:21:36.268Z"
   },
   {
    "duration": 595,
    "start_time": "2022-08-11T15:21:36.276Z"
   },
   {
    "duration": 6,
    "start_time": "2022-08-11T15:21:36.872Z"
   },
   {
    "duration": 27,
    "start_time": "2022-08-11T15:21:36.880Z"
   },
   {
    "duration": 7,
    "start_time": "2022-08-11T15:21:36.908Z"
   },
   {
    "duration": 15,
    "start_time": "2022-08-11T15:21:36.916Z"
   },
   {
    "duration": 6,
    "start_time": "2022-08-11T15:21:36.932Z"
   },
   {
    "duration": 17,
    "start_time": "2022-08-11T15:21:36.940Z"
   },
   {
    "duration": 24,
    "start_time": "2022-08-11T15:21:36.958Z"
   },
   {
    "duration": 31,
    "start_time": "2022-08-11T15:21:36.983Z"
   },
   {
    "duration": 5,
    "start_time": "2022-08-11T15:21:37.016Z"
   },
   {
    "duration": 7,
    "start_time": "2022-08-11T15:21:37.022Z"
   },
   {
    "duration": 5,
    "start_time": "2022-08-11T15:21:37.031Z"
   },
   {
    "duration": 9,
    "start_time": "2022-08-11T15:21:37.037Z"
   },
   {
    "duration": 8,
    "start_time": "2022-08-11T15:21:37.048Z"
   },
   {
    "duration": 6,
    "start_time": "2022-08-11T15:21:37.057Z"
   },
   {
    "duration": 8,
    "start_time": "2022-08-11T15:21:37.064Z"
   },
   {
    "duration": 4,
    "start_time": "2022-08-11T15:21:37.073Z"
   },
   {
    "duration": 10,
    "start_time": "2022-08-11T15:21:37.105Z"
   },
   {
    "duration": 9,
    "start_time": "2022-08-11T15:21:37.116Z"
   },
   {
    "duration": 941,
    "start_time": "2022-08-11T15:21:37.126Z"
   },
   {
    "duration": 4,
    "start_time": "2022-08-11T15:21:38.069Z"
   },
   {
    "duration": 46,
    "start_time": "2022-08-11T15:21:38.075Z"
   },
   {
    "duration": 3,
    "start_time": "2022-08-11T15:21:38.123Z"
   },
   {
    "duration": 9,
    "start_time": "2022-08-11T15:21:38.128Z"
   },
   {
    "duration": 7,
    "start_time": "2022-08-11T15:21:38.138Z"
   },
   {
    "duration": 3,
    "start_time": "2022-08-11T15:21:38.147Z"
   },
   {
    "duration": 8,
    "start_time": "2022-08-11T15:21:38.151Z"
   },
   {
    "duration": 8158,
    "start_time": "2022-08-11T15:21:38.161Z"
   },
   {
    "duration": 2,
    "start_time": "2022-08-11T15:21:46.321Z"
   },
   {
    "duration": 15,
    "start_time": "2022-08-11T15:21:46.325Z"
   },
   {
    "duration": 7,
    "start_time": "2022-08-11T15:21:46.341Z"
   },
   {
    "duration": 1927,
    "start_time": "2022-08-11T15:21:46.349Z"
   },
   {
    "duration": 3,
    "start_time": "2022-08-11T15:21:48.277Z"
   },
   {
    "duration": 11,
    "start_time": "2022-08-11T15:21:48.281Z"
   },
   {
    "duration": 3,
    "start_time": "2022-08-11T15:22:22.135Z"
   },
   {
    "duration": 1419,
    "start_time": "2022-08-11T15:24:51.818Z"
   },
   {
    "duration": 7,
    "start_time": "2022-08-11T15:25:00.084Z"
   },
   {
    "duration": 16,
    "start_time": "2022-08-11T15:25:00.092Z"
   },
   {
    "duration": 12738,
    "start_time": "2022-08-11T15:25:00.109Z"
   },
   {
    "duration": 3,
    "start_time": "2022-08-11T15:25:12.848Z"
   },
   {
    "duration": 63,
    "start_time": "2022-08-11T15:25:12.853Z"
   },
   {
    "duration": 3,
    "start_time": "2022-08-11T15:25:12.917Z"
   },
   {
    "duration": 5,
    "start_time": "2022-08-11T15:25:12.921Z"
   },
   {
    "duration": 4,
    "start_time": "2022-08-11T15:25:12.928Z"
   },
   {
    "duration": 50,
    "start_time": "2022-08-11T15:25:12.933Z"
   },
   {
    "duration": 227,
    "start_time": "2022-08-11T15:25:12.984Z"
   },
   {
    "duration": 5,
    "start_time": "2022-08-11T15:25:13.212Z"
   },
   {
    "duration": 14,
    "start_time": "2022-08-11T15:25:13.219Z"
   },
   {
    "duration": 21,
    "start_time": "2022-08-11T15:25:13.234Z"
   },
   {
    "duration": 63,
    "start_time": "2022-08-11T15:25:13.258Z"
   },
   {
    "duration": 5,
    "start_time": "2022-08-11T15:25:13.323Z"
   },
   {
    "duration": 10,
    "start_time": "2022-08-11T15:25:13.330Z"
   },
   {
    "duration": 6,
    "start_time": "2022-08-11T15:25:13.341Z"
   },
   {
    "duration": 9,
    "start_time": "2022-08-11T15:25:13.348Z"
   },
   {
    "duration": 10,
    "start_time": "2022-08-11T15:25:13.359Z"
   },
   {
    "duration": 35,
    "start_time": "2022-08-11T15:25:13.371Z"
   },
   {
    "duration": 4,
    "start_time": "2022-08-11T15:25:13.407Z"
   },
   {
    "duration": 8,
    "start_time": "2022-08-11T15:25:13.412Z"
   },
   {
    "duration": 8,
    "start_time": "2022-08-11T15:25:13.421Z"
   },
   {
    "duration": 4,
    "start_time": "2022-08-11T15:25:13.430Z"
   },
   {
    "duration": 10,
    "start_time": "2022-08-11T15:25:13.435Z"
   },
   {
    "duration": 5,
    "start_time": "2022-08-11T15:25:13.446Z"
   },
   {
    "duration": 10,
    "start_time": "2022-08-11T15:25:13.452Z"
   },
   {
    "duration": 4644,
    "start_time": "2022-08-11T15:25:13.464Z"
   },
   {
    "duration": 4,
    "start_time": "2022-08-11T15:25:18.109Z"
   },
   {
    "duration": 10,
    "start_time": "2022-08-11T15:25:18.114Z"
   },
   {
    "duration": 5,
    "start_time": "2022-08-11T15:25:18.126Z"
   },
   {
    "duration": 9,
    "start_time": "2022-08-11T15:25:18.132Z"
   },
   {
    "duration": 2383,
    "start_time": "2022-08-11T15:25:18.142Z"
   },
   {
    "duration": 3,
    "start_time": "2022-08-11T15:25:20.526Z"
   },
   {
    "duration": 15,
    "start_time": "2022-08-11T15:25:20.531Z"
   },
   {
    "duration": 5,
    "start_time": "2022-08-11T15:25:20.547Z"
   },
   {
    "duration": 8,
    "start_time": "2022-08-11T15:25:20.553Z"
   },
   {
    "duration": 19,
    "start_time": "2022-08-11T15:25:20.562Z"
   },
   {
    "duration": 33,
    "start_time": "2022-08-11T15:25:20.582Z"
   },
   {
    "duration": 14,
    "start_time": "2022-08-11T15:25:20.616Z"
   },
   {
    "duration": 684,
    "start_time": "2022-08-11T15:25:20.635Z"
   },
   {
    "duration": 23,
    "start_time": "2022-08-11T15:25:21.321Z"
   },
   {
    "duration": 13,
    "start_time": "2022-08-11T15:25:21.345Z"
   },
   {
    "duration": 8,
    "start_time": "2022-08-11T15:25:21.359Z"
   },
   {
    "duration": 643,
    "start_time": "2022-08-11T15:25:21.368Z"
   },
   {
    "duration": 7,
    "start_time": "2022-08-11T15:25:22.013Z"
   },
   {
    "duration": 16,
    "start_time": "2022-08-11T15:25:22.021Z"
   },
   {
    "duration": 12,
    "start_time": "2022-08-11T15:25:22.039Z"
   },
   {
    "duration": 19,
    "start_time": "2022-08-11T15:25:22.052Z"
   },
   {
    "duration": 37,
    "start_time": "2022-08-11T15:25:22.073Z"
   },
   {
    "duration": 12,
    "start_time": "2022-08-11T15:25:22.112Z"
   },
   {
    "duration": 27,
    "start_time": "2022-08-11T15:25:22.126Z"
   },
   {
    "duration": 16,
    "start_time": "2022-08-11T15:25:22.155Z"
   },
   {
    "duration": 4,
    "start_time": "2022-08-11T15:25:22.172Z"
   },
   {
    "duration": 34,
    "start_time": "2022-08-11T15:25:22.178Z"
   },
   {
    "duration": 6,
    "start_time": "2022-08-11T15:25:22.214Z"
   },
   {
    "duration": 14,
    "start_time": "2022-08-11T15:25:22.222Z"
   },
   {
    "duration": 9,
    "start_time": "2022-08-11T15:25:22.238Z"
   },
   {
    "duration": 9,
    "start_time": "2022-08-11T15:25:22.249Z"
   },
   {
    "duration": 11,
    "start_time": "2022-08-11T15:25:22.260Z"
   },
   {
    "duration": 34,
    "start_time": "2022-08-11T15:25:22.272Z"
   },
   {
    "duration": 11,
    "start_time": "2022-08-11T15:25:22.308Z"
   },
   {
    "duration": 11,
    "start_time": "2022-08-11T15:25:22.321Z"
   },
   {
    "duration": 991,
    "start_time": "2022-08-11T15:25:22.333Z"
   },
   {
    "duration": 4,
    "start_time": "2022-08-11T15:25:23.326Z"
   },
   {
    "duration": 36,
    "start_time": "2022-08-11T15:25:23.331Z"
   },
   {
    "duration": 4,
    "start_time": "2022-08-11T15:25:23.369Z"
   },
   {
    "duration": 9,
    "start_time": "2022-08-11T15:25:23.375Z"
   },
   {
    "duration": 25,
    "start_time": "2022-08-11T15:25:23.386Z"
   },
   {
    "duration": 3,
    "start_time": "2022-08-11T15:25:23.413Z"
   },
   {
    "duration": 9,
    "start_time": "2022-08-11T15:25:23.418Z"
   },
   {
    "duration": 6313,
    "start_time": "2022-08-11T15:25:23.429Z"
   },
   {
    "duration": 3,
    "start_time": "2022-08-11T15:25:29.743Z"
   },
   {
    "duration": 13,
    "start_time": "2022-08-11T15:25:29.747Z"
   },
   {
    "duration": 8,
    "start_time": "2022-08-11T15:25:29.762Z"
   },
   {
    "duration": 120431,
    "start_time": "2022-08-11T15:25:29.771Z"
   },
   {
    "duration": 3,
    "start_time": "2022-08-11T15:27:30.206Z"
   },
   {
    "duration": 15,
    "start_time": "2022-08-11T15:27:30.213Z"
   },
   {
    "duration": 4,
    "start_time": "2022-08-11T15:31:31.603Z"
   },
   {
    "duration": 1507,
    "start_time": "2022-08-11T15:31:32.109Z"
   },
   {
    "duration": 3,
    "start_time": "2022-08-11T15:32:05.635Z"
   },
   {
    "duration": 4,
    "start_time": "2022-08-11T15:32:15.018Z"
   },
   {
    "duration": 123655,
    "start_time": "2022-08-11T15:32:15.023Z"
   },
   {
    "duration": 4,
    "start_time": "2022-08-11T15:37:11.011Z"
   },
   {
    "duration": 2592611,
    "start_time": "2022-08-11T15:37:11.450Z"
   },
   {
    "duration": 5,
    "start_time": "2022-08-11T16:20:24.063Z"
   },
   {
    "duration": 14,
    "start_time": "2022-08-11T16:20:24.069Z"
   },
   {
    "duration": 21,
    "start_time": "2022-08-11T16:20:24.085Z"
   },
   {
    "duration": 94,
    "start_time": "2022-08-11T16:20:24.107Z"
   },
   {
    "duration": 4,
    "start_time": "2022-08-11T16:22:41.349Z"
   },
   {
    "duration": 5,
    "start_time": "2022-08-11T16:22:51.315Z"
   },
   {
    "duration": 1410,
    "start_time": "2022-08-11T17:12:27.607Z"
   },
   {
    "duration": 107,
    "start_time": "2022-08-11T17:13:44.408Z"
   },
   {
    "duration": 9910,
    "start_time": "2022-08-11T17:13:44.607Z"
   },
   {
    "duration": 1388,
    "start_time": "2022-08-11T17:13:54.519Z"
   },
   {
    "duration": 2,
    "start_time": "2022-08-11T17:13:55.909Z"
   },
   {
    "duration": 691,
    "start_time": "2022-08-11T17:13:55.916Z"
   },
   {
    "duration": 5,
    "start_time": "2022-08-11T17:13:56.615Z"
   },
   {
    "duration": 3,
    "start_time": "2022-08-11T17:13:56.621Z"
   },
   {
    "duration": 200,
    "start_time": "2022-08-11T17:13:56.706Z"
   },
   {
    "duration": 704,
    "start_time": "2022-08-11T17:13:56.908Z"
   },
   {
    "duration": 1602,
    "start_time": "2022-08-11T17:13:57.708Z"
   },
   {
    "duration": 4,
    "start_time": "2022-08-11T17:13:59.315Z"
   },
   {
    "duration": 88,
    "start_time": "2022-08-11T17:13:59.321Z"
   },
   {
    "duration": 404,
    "start_time": "2022-08-11T17:13:59.411Z"
   },
   {
    "duration": 497,
    "start_time": "2022-08-11T17:13:59.818Z"
   },
   {
    "duration": 106,
    "start_time": "2022-08-11T17:14:00.406Z"
   },
   {
    "duration": 195,
    "start_time": "2022-08-11T17:14:00.513Z"
   },
   {
    "duration": 103,
    "start_time": "2022-08-11T17:14:00.710Z"
   },
   {
    "duration": 200,
    "start_time": "2022-08-11T17:14:00.822Z"
   },
   {
    "duration": 211,
    "start_time": "2022-08-11T17:14:01.109Z"
   },
   {
    "duration": 184,
    "start_time": "2022-08-11T17:14:01.322Z"
   },
   {
    "duration": 10,
    "start_time": "2022-08-11T17:14:01.508Z"
   },
   {
    "duration": 89,
    "start_time": "2022-08-11T17:14:01.520Z"
   },
   {
    "duration": 194,
    "start_time": "2022-08-11T17:14:01.611Z"
   },
   {
    "duration": 2102,
    "start_time": "2022-08-11T17:14:01.811Z"
   },
   {
    "duration": 1811,
    "start_time": "2022-08-11T17:15:21.606Z"
   },
   {
    "duration": 106,
    "start_time": "2022-08-11T17:16:08.007Z"
   },
   {
    "duration": 99,
    "start_time": "2022-08-11T17:16:57.307Z"
   },
   {
    "duration": 7,
    "start_time": "2022-08-11T17:17:03.907Z"
   },
   {
    "duration": 9,
    "start_time": "2022-08-11T17:17:30.607Z"
   },
   {
    "duration": 118,
    "start_time": "2022-08-11T17:17:34.705Z"
   },
   {
    "duration": 101,
    "start_time": "2022-08-11T17:18:49.406Z"
   },
   {
    "duration": 9097,
    "start_time": "2022-08-11T17:18:49.509Z"
   },
   {
    "duration": 1903,
    "start_time": "2022-08-11T17:18:58.610Z"
   },
   {
    "duration": 92,
    "start_time": "2022-08-11T17:19:00.515Z"
   },
   {
    "duration": 1100,
    "start_time": "2022-08-11T17:19:00.610Z"
   },
   {
    "duration": 93,
    "start_time": "2022-08-11T17:19:01.712Z"
   },
   {
    "duration": 101,
    "start_time": "2022-08-11T17:19:01.807Z"
   },
   {
    "duration": 313,
    "start_time": "2022-08-11T17:19:01.909Z"
   },
   {
    "duration": 716,
    "start_time": "2022-08-11T17:19:02.306Z"
   },
   {
    "duration": 1609,
    "start_time": "2022-08-11T17:19:03.106Z"
   },
   {
    "duration": 85,
    "start_time": "2022-08-11T17:19:04.723Z"
   },
   {
    "duration": 209,
    "start_time": "2022-08-11T17:19:04.809Z"
   },
   {
    "duration": 299,
    "start_time": "2022-08-11T17:19:05.106Z"
   },
   {
    "duration": 301,
    "start_time": "2022-08-11T17:19:05.408Z"
   },
   {
    "duration": 107,
    "start_time": "2022-08-11T17:19:05.711Z"
   },
   {
    "duration": 198,
    "start_time": "2022-08-11T17:19:05.819Z"
   },
   {
    "duration": 8,
    "start_time": "2022-08-11T17:19:06.106Z"
   },
   {
    "duration": 204,
    "start_time": "2022-08-11T17:19:06.115Z"
   },
   {
    "duration": 211,
    "start_time": "2022-08-11T17:19:06.406Z"
   },
   {
    "duration": 104,
    "start_time": "2022-08-11T17:19:06.807Z"
   },
   {
    "duration": 2196,
    "start_time": "2022-08-11T17:19:06.915Z"
   },
   {
    "duration": 105,
    "start_time": "2022-08-11T17:19:09.205Z"
   },
   {
    "duration": 294,
    "start_time": "2022-08-11T17:19:09.312Z"
   },
   {
    "duration": 4,
    "start_time": "2022-08-11T17:20:43.937Z"
   },
   {
    "duration": 5,
    "start_time": "2022-08-11T17:20:46.629Z"
   },
   {
    "duration": 7,
    "start_time": "2022-08-11T17:20:49.174Z"
   },
   {
    "duration": 98,
    "start_time": "2022-08-11T17:39:47.308Z"
   },
   {
    "duration": 100,
    "start_time": "2022-08-11T17:39:47.409Z"
   },
   {
    "duration": 7795,
    "start_time": "2022-08-11T17:39:47.511Z"
   },
   {
    "duration": 3,
    "start_time": "2022-08-11T17:39:55.311Z"
   },
   {
    "duration": 800,
    "start_time": "2022-08-11T17:39:55.317Z"
   },
   {
    "duration": 92,
    "start_time": "2022-08-11T17:39:56.119Z"
   },
   {
    "duration": 92,
    "start_time": "2022-08-11T17:39:56.216Z"
   },
   {
    "duration": 17,
    "start_time": "2022-08-11T17:39:56.310Z"
   },
   {
    "duration": 602,
    "start_time": "2022-08-11T17:39:56.405Z"
   },
   {
    "duration": 1197,
    "start_time": "2022-08-11T17:39:57.015Z"
   },
   {
    "duration": 188,
    "start_time": "2022-08-11T17:39:58.217Z"
   },
   {
    "duration": 300,
    "start_time": "2022-08-11T17:39:58.408Z"
   },
   {
    "duration": 213,
    "start_time": "2022-08-11T17:39:58.709Z"
   },
   {
    "duration": 279,
    "start_time": "2022-08-11T17:39:58.926Z"
   },
   {
    "duration": 98,
    "start_time": "2022-08-11T17:39:59.217Z"
   },
   {
    "duration": 94,
    "start_time": "2022-08-11T17:39:59.317Z"
   },
   {
    "duration": 295,
    "start_time": "2022-08-11T17:39:59.417Z"
   },
   {
    "duration": 105,
    "start_time": "2022-08-11T17:39:59.714Z"
   },
   {
    "duration": 208,
    "start_time": "2022-08-11T17:39:59.907Z"
   },
   {
    "duration": 8,
    "start_time": "2022-08-11T17:40:00.206Z"
   },
   {
    "duration": 2204,
    "start_time": "2022-08-11T17:40:00.215Z"
   },
   {
    "duration": 194,
    "start_time": "2022-08-11T17:40:02.421Z"
   },
   {
    "duration": 199,
    "start_time": "2022-08-11T17:40:02.706Z"
   },
   {
    "duration": 14,
    "start_time": "2022-08-11T17:40:02.907Z"
   },
   {
    "duration": 5,
    "start_time": "2022-08-11T17:40:03.017Z"
   },
   {
    "duration": 102,
    "start_time": "2022-08-11T17:40:03.107Z"
   },
   {
    "duration": 195,
    "start_time": "2022-08-11T17:40:03.211Z"
   },
   {
    "duration": 198,
    "start_time": "2022-08-11T17:40:03.407Z"
   },
   {
    "duration": 107,
    "start_time": "2022-08-11T17:40:03.610Z"
   },
   {
    "duration": 1000,
    "start_time": "2022-08-11T17:40:03.718Z"
   },
   {
    "duration": 41591,
    "start_time": "2022-08-11T17:40:04.720Z"
   },
   {
    "duration": 5,
    "start_time": "2022-08-11T17:40:46.314Z"
   },
   {
    "duration": 286,
    "start_time": "2022-08-11T17:40:46.320Z"
   },
   {
    "duration": 203,
    "start_time": "2022-08-11T17:40:46.607Z"
   },
   {
    "duration": 103,
    "start_time": "2022-08-11T17:40:46.812Z"
   },
   {
    "duration": 22700,
    "start_time": "2022-08-11T17:40:47.007Z"
   },
   {
    "duration": 4,
    "start_time": "2022-08-11T17:41:09.807Z"
   },
   {
    "duration": 299,
    "start_time": "2022-08-11T17:41:09.812Z"
   },
   {
    "duration": 295,
    "start_time": "2022-08-11T17:41:10.112Z"
   },
   {
    "duration": 6,
    "start_time": "2022-08-11T17:41:10.409Z"
   },
   {
    "duration": 590,
    "start_time": "2022-08-11T17:41:10.421Z"
   },
   {
    "duration": 292,
    "start_time": "2022-08-11T17:41:11.013Z"
   },
   {
    "duration": 103,
    "start_time": "2022-08-11T17:41:11.307Z"
   },
   {
    "duration": 3196,
    "start_time": "2022-08-11T17:41:11.415Z"
   },
   {
    "duration": 201,
    "start_time": "2022-08-11T17:41:14.707Z"
   },
   {
    "duration": 104,
    "start_time": "2022-08-11T17:41:15.005Z"
   },
   {
    "duration": 100,
    "start_time": "2022-08-11T17:41:15.110Z"
   },
   {
    "duration": 2504,
    "start_time": "2022-08-11T17:41:15.212Z"
   },
   {
    "duration": 99,
    "start_time": "2022-08-11T17:41:17.812Z"
   },
   {
    "duration": 395,
    "start_time": "2022-08-11T17:41:17.913Z"
   },
   {
    "duration": 102,
    "start_time": "2022-08-11T17:41:18.309Z"
   },
   {
    "duration": 487,
    "start_time": "2022-08-11T17:41:18.418Z"
   },
   {
    "duration": 106,
    "start_time": "2022-08-11T17:41:18.907Z"
   },
   {
    "duration": 103,
    "start_time": "2022-08-11T17:41:19.014Z"
   },
   {
    "duration": 495,
    "start_time": "2022-08-11T17:41:19.118Z"
   },
   {
    "duration": 96,
    "start_time": "2022-08-11T17:41:19.615Z"
   },
   {
    "duration": 191,
    "start_time": "2022-08-11T17:41:19.718Z"
   },
   {
    "duration": 99,
    "start_time": "2022-08-11T17:41:19.910Z"
   },
   {
    "duration": 199,
    "start_time": "2022-08-11T17:41:20.011Z"
   },
   {
    "duration": 203,
    "start_time": "2022-08-11T17:41:20.212Z"
   },
   {
    "duration": 100,
    "start_time": "2022-08-11T17:41:20.507Z"
   },
   {
    "duration": 9,
    "start_time": "2022-08-11T17:41:20.611Z"
   },
   {
    "duration": 183,
    "start_time": "2022-08-11T17:41:20.622Z"
   },
   {
    "duration": 302,
    "start_time": "2022-08-11T17:41:20.808Z"
   },
   {
    "duration": 295,
    "start_time": "2022-08-11T17:41:21.112Z"
   },
   {
    "duration": 98,
    "start_time": "2022-08-11T17:41:21.413Z"
   },
   {
    "duration": 7604,
    "start_time": "2022-08-11T17:41:21.512Z"
   },
   {
    "duration": 99,
    "start_time": "2022-08-11T17:41:29.207Z"
   },
   {
    "duration": 300,
    "start_time": "2022-08-11T17:41:29.308Z"
   },
   {
    "duration": 191,
    "start_time": "2022-08-11T17:41:29.618Z"
   },
   {
    "duration": 196,
    "start_time": "2022-08-11T17:41:29.810Z"
   },
   {
    "duration": 1298,
    "start_time": "2022-08-11T17:41:30.007Z"
   },
   {
    "duration": 0,
    "start_time": "2022-08-11T17:41:31.312Z"
   },
   {
    "duration": 7,
    "start_time": "2022-08-11T17:42:44.007Z"
   },
   {
    "duration": 203,
    "start_time": "2022-08-11T17:43:49.306Z"
   },
   {
    "duration": 7711,
    "start_time": "2022-08-11T17:43:56.507Z"
   },
   {
    "duration": 6,
    "start_time": "2022-08-11T17:44:10.006Z"
   },
   {
    "duration": 106,
    "start_time": "2022-08-11T17:45:05.807Z"
   },
   {
    "duration": 100,
    "start_time": "2022-08-11T17:45:13.307Z"
   },
   {
    "duration": 4,
    "start_time": "2022-08-11T17:45:14.007Z"
   },
   {
    "duration": 98,
    "start_time": "2022-08-11T17:45:34.110Z"
   },
   {
    "duration": 204,
    "start_time": "2022-08-11T17:46:01.909Z"
   },
   {
    "duration": 8,
    "start_time": "2022-08-11T17:46:02.707Z"
   },
   {
    "duration": 8,
    "start_time": "2022-08-11T17:46:06.207Z"
   },
   {
    "duration": 6603,
    "start_time": "2022-08-11T17:46:25.406Z"
   },
   {
    "duration": 198,
    "start_time": "2022-08-11T17:46:32.107Z"
   },
   {
    "duration": 96,
    "start_time": "2022-08-11T17:47:45.510Z"
   },
   {
    "duration": 10,
    "start_time": "2022-08-11T17:47:57.806Z"
   },
   {
    "duration": 3511,
    "start_time": "2022-08-11T17:49:39.906Z"
   },
   {
    "duration": 7,
    "start_time": "2022-08-11T17:49:47.007Z"
   },
   {
    "duration": 1307,
    "start_time": "2022-08-11T17:50:19.006Z"
   },
   {
    "duration": 93,
    "start_time": "2022-08-11T17:50:20.318Z"
   },
   {
    "duration": 2411,
    "start_time": "2022-08-11T17:50:27.806Z"
   },
   {
    "duration": 93,
    "start_time": "2022-08-11T17:50:30.219Z"
   },
   {
    "duration": 2711,
    "start_time": "2022-08-11T17:50:34.807Z"
   },
   {
    "duration": 3,
    "start_time": "2022-08-11T17:50:37.618Z"
   },
   {
    "duration": 3800,
    "start_time": "2022-08-11T17:50:45.007Z"
   },
   {
    "duration": 93,
    "start_time": "2022-08-11T17:50:48.815Z"
   },
   {
    "duration": 6,
    "start_time": "2022-08-11T17:51:01.507Z"
   },
   {
    "duration": 4207,
    "start_time": "2022-08-11T17:51:01.909Z"
   },
   {
    "duration": 4,
    "start_time": "2022-08-11T17:51:06.316Z"
   },
   {
    "duration": 7,
    "start_time": "2022-08-11T17:51:10.807Z"
   },
   {
    "duration": 7,
    "start_time": "2022-08-11T17:51:11.108Z"
   },
   {
    "duration": 97,
    "start_time": "2022-08-11T17:51:11.309Z"
   },
   {
    "duration": 4103,
    "start_time": "2022-08-11T17:51:11.608Z"
   },
   {
    "duration": 94,
    "start_time": "2022-08-11T17:51:15.714Z"
   },
   {
    "duration": 6,
    "start_time": "2022-08-11T17:51:54.008Z"
   },
   {
    "duration": 15,
    "start_time": "2022-08-11T17:51:54.307Z"
   },
   {
    "duration": 100,
    "start_time": "2022-08-11T17:51:54.607Z"
   },
   {
    "duration": 3804,
    "start_time": "2022-08-11T17:51:54.807Z"
   },
   {
    "duration": 94,
    "start_time": "2022-08-11T17:51:58.613Z"
   },
   {
    "duration": 6413,
    "start_time": "2022-08-11T17:52:39.906Z"
   },
   {
    "duration": 8,
    "start_time": "2022-08-11T17:52:46.406Z"
   },
   {
    "duration": 9107,
    "start_time": "2022-08-11T17:53:17.607Z"
   },
   {
    "duration": 5,
    "start_time": "2022-08-11T17:53:26.806Z"
   },
   {
    "duration": 5704,
    "start_time": "2022-08-11T17:53:33.007Z"
   },
   {
    "duration": 187,
    "start_time": "2022-08-11T17:53:38.718Z"
   },
   {
    "duration": 1810,
    "start_time": "2022-08-11T17:53:55.807Z"
   },
   {
    "duration": 93,
    "start_time": "2022-08-11T17:53:57.714Z"
   },
   {
    "duration": 7,
    "start_time": "2022-08-11T17:54:04.807Z"
   },
   {
    "duration": 8,
    "start_time": "2022-08-11T17:54:05.006Z"
   },
   {
    "duration": 12,
    "start_time": "2022-08-11T17:54:05.107Z"
   },
   {
    "duration": 2302,
    "start_time": "2022-08-11T17:54:05.309Z"
   },
   {
    "duration": 94,
    "start_time": "2022-08-11T17:54:07.613Z"
   },
   {
    "duration": 7,
    "start_time": "2022-08-11T17:54:20.407Z"
   },
   {
    "duration": 86,
    "start_time": "2022-08-11T17:54:20.623Z"
   },
   {
    "duration": 11,
    "start_time": "2022-08-11T17:54:20.906Z"
   },
   {
    "duration": 1296,
    "start_time": "2022-08-11T17:54:21.009Z"
   },
   {
    "duration": 5,
    "start_time": "2022-08-11T17:54:22.307Z"
   },
   {
    "duration": 2002,
    "start_time": "2022-08-11T17:54:29.308Z"
   },
   {
    "duration": 96,
    "start_time": "2022-08-11T17:54:31.314Z"
   },
   {
    "duration": 1204,
    "start_time": "2022-08-11T17:54:37.007Z"
   },
   {
    "duration": 5,
    "start_time": "2022-08-11T17:54:38.214Z"
   },
   {
    "duration": 1409,
    "start_time": "2022-08-11T17:54:41.707Z"
   },
   {
    "duration": 10,
    "start_time": "2022-08-11T17:54:43.207Z"
   },
   {
    "duration": 4,
    "start_time": "2022-08-11T17:54:46.719Z"
   },
   {
    "duration": 8,
    "start_time": "2022-08-11T17:54:47.007Z"
   },
   {
    "duration": 206,
    "start_time": "2022-08-11T17:54:47.206Z"
   },
   {
    "duration": 1102,
    "start_time": "2022-08-11T17:54:47.507Z"
   },
   {
    "duration": 7,
    "start_time": "2022-08-11T17:54:48.612Z"
   },
   {
    "duration": 7,
    "start_time": "2022-08-11T17:54:57.806Z"
   },
   {
    "duration": 7,
    "start_time": "2022-08-11T17:54:58.107Z"
   },
   {
    "duration": 10,
    "start_time": "2022-08-11T17:54:58.307Z"
   },
   {
    "duration": 6009,
    "start_time": "2022-08-11T17:54:58.506Z"
   },
   {
    "duration": 6,
    "start_time": "2022-08-11T17:55:04.607Z"
   },
   {
    "duration": 10,
    "start_time": "2022-08-11T17:55:37.804Z"
   },
   {
    "duration": 1321,
    "start_time": "2022-08-11T17:55:37.816Z"
   },
   {
    "duration": 906,
    "start_time": "2022-08-11T17:55:39.139Z"
   },
   {
    "duration": 3,
    "start_time": "2022-08-11T17:55:40.047Z"
   },
   {
    "duration": 73,
    "start_time": "2022-08-11T17:55:40.052Z"
   },
   {
    "duration": 3,
    "start_time": "2022-08-11T17:55:40.127Z"
   },
   {
    "duration": 4,
    "start_time": "2022-08-11T17:55:40.132Z"
   },
   {
    "duration": 4,
    "start_time": "2022-08-11T17:55:40.137Z"
   },
   {
    "duration": 90,
    "start_time": "2022-08-11T17:55:40.143Z"
   },
   {
    "duration": 194,
    "start_time": "2022-08-11T17:55:40.235Z"
   },
   {
    "duration": 6,
    "start_time": "2022-08-11T17:55:40.432Z"
   },
   {
    "duration": 6,
    "start_time": "2022-08-11T17:55:40.439Z"
   },
   {
    "duration": 21,
    "start_time": "2022-08-11T17:55:40.446Z"
   },
   {
    "duration": 41,
    "start_time": "2022-08-11T17:55:40.468Z"
   },
   {
    "duration": 6,
    "start_time": "2022-08-11T17:55:40.511Z"
   },
   {
    "duration": 11,
    "start_time": "2022-08-11T17:55:40.519Z"
   },
   {
    "duration": 6,
    "start_time": "2022-08-11T17:55:40.532Z"
   },
   {
    "duration": 13,
    "start_time": "2022-08-11T17:55:40.539Z"
   },
   {
    "duration": 12,
    "start_time": "2022-08-11T17:55:40.554Z"
   },
   {
    "duration": 6,
    "start_time": "2022-08-11T17:55:40.567Z"
   },
   {
    "duration": 252,
    "start_time": "2022-08-11T17:55:40.574Z"
   },
   {
    "duration": 12,
    "start_time": "2022-08-11T17:55:40.828Z"
   },
   {
    "duration": 4,
    "start_time": "2022-08-11T17:55:40.842Z"
   },
   {
    "duration": 6,
    "start_time": "2022-08-11T17:55:40.848Z"
   },
   {
    "duration": 5,
    "start_time": "2022-08-11T17:55:40.856Z"
   },
   {
    "duration": 7,
    "start_time": "2022-08-11T17:55:40.862Z"
   },
   {
    "duration": 5,
    "start_time": "2022-08-11T18:01:34.507Z"
   },
   {
    "duration": 13,
    "start_time": "2022-08-11T18:01:35.207Z"
   },
   {
    "duration": 101,
    "start_time": "2022-08-11T18:01:37.207Z"
   },
   {
    "duration": 194,
    "start_time": "2022-08-11T18:02:10.711Z"
   },
   {
    "duration": 42402,
    "start_time": "2022-08-11T18:03:04.307Z"
   },
   {
    "duration": 99,
    "start_time": "2022-08-11T18:04:23.907Z"
   },
   {
    "duration": 7,
    "start_time": "2022-08-11T18:04:34.207Z"
   },
   {
    "duration": 102,
    "start_time": "2022-08-11T18:05:08.307Z"
   },
   {
    "duration": 8,
    "start_time": "2022-08-11T18:05:32.306Z"
   },
   {
    "duration": 15,
    "start_time": "2022-08-11T18:05:42.206Z"
   },
   {
    "duration": 8,
    "start_time": "2022-08-11T18:05:50.806Z"
   },
   {
    "duration": 99,
    "start_time": "2022-08-11T18:06:03.007Z"
   },
   {
    "duration": 8,
    "start_time": "2022-08-11T18:06:07.907Z"
   },
   {
    "duration": 8,
    "start_time": "2022-08-11T18:07:14.609Z"
   },
   {
    "duration": 99,
    "start_time": "2022-08-11T18:07:22.207Z"
   },
   {
    "duration": 99,
    "start_time": "2022-08-11T18:07:26.607Z"
   },
   {
    "duration": 6,
    "start_time": "2022-08-11T18:10:47.006Z"
   },
   {
    "duration": 99,
    "start_time": "2022-08-11T18:10:48.107Z"
   },
   {
    "duration": 7,
    "start_time": "2022-08-11T18:11:03.307Z"
   },
   {
    "duration": 98,
    "start_time": "2022-08-11T18:11:16.007Z"
   },
   {
    "duration": 19612,
    "start_time": "2022-08-11T18:11:38.106Z"
   },
   {
    "duration": 7,
    "start_time": "2022-08-11T18:11:57.811Z"
   },
   {
    "duration": 9,
    "start_time": "2022-08-11T18:12:26.906Z"
   },
   {
    "duration": 3,
    "start_time": "2022-08-11T18:19:40.637Z"
   },
   {
    "duration": 5,
    "start_time": "2022-08-11T18:19:42.226Z"
   },
   {
    "duration": 3,
    "start_time": "2022-08-11T18:19:43.523Z"
   },
   {
    "duration": 5,
    "start_time": "2022-08-11T18:19:44.864Z"
   },
   {
    "duration": 19,
    "start_time": "2022-08-11T18:19:45.879Z"
   },
   {
    "duration": 18,
    "start_time": "2022-08-11T18:19:46.664Z"
   },
   {
    "duration": 10,
    "start_time": "2022-08-11T18:19:47.991Z"
   },
   {
    "duration": 617,
    "start_time": "2022-08-11T18:20:52.274Z"
   },
   {
    "duration": 22,
    "start_time": "2022-08-11T18:22:59.463Z"
   },
   {
    "duration": 103,
    "start_time": "2022-08-11T18:24:14.406Z"
   },
   {
    "duration": 209,
    "start_time": "2022-08-11T18:24:54.106Z"
   },
   {
    "duration": 99,
    "start_time": "2022-08-11T18:27:57.807Z"
   },
   {
    "duration": 2805,
    "start_time": "2022-08-11T18:28:00.107Z"
   },
   {
    "duration": 101,
    "start_time": "2022-08-11T18:28:44.207Z"
   },
   {
    "duration": 109,
    "start_time": "2022-08-11T18:28:51.106Z"
   },
   {
    "duration": 8,
    "start_time": "2022-08-11T18:29:02.586Z"
   },
   {
    "duration": 102,
    "start_time": "2022-08-11T18:33:41.209Z"
   },
   {
    "duration": 100,
    "start_time": "2022-08-11T18:33:42.307Z"
   },
   {
    "duration": 108,
    "start_time": "2022-08-11T18:33:45.107Z"
   },
   {
    "duration": 13,
    "start_time": "2022-08-11T18:36:30.907Z"
   },
   {
    "duration": 2110,
    "start_time": "2022-08-11T18:36:47.807Z"
   },
   {
    "duration": 1099,
    "start_time": "2022-08-11T18:37:21.606Z"
   },
   {
    "duration": 1104,
    "start_time": "2022-08-11T18:37:29.307Z"
   },
   {
    "duration": 100,
    "start_time": "2022-08-11T18:37:34.106Z"
   },
   {
    "duration": 10,
    "start_time": "2022-08-11T18:37:44.907Z"
   },
   {
    "duration": 163,
    "start_time": "2022-08-11T18:38:03.645Z"
   },
   {
    "duration": 108,
    "start_time": "2022-08-11T18:40:11.010Z"
   },
   {
    "duration": 110,
    "start_time": "2022-08-11T18:40:12.907Z"
   },
   {
    "duration": 6,
    "start_time": "2022-08-11T18:40:23.308Z"
   },
   {
    "duration": 7,
    "start_time": "2022-08-11T18:51:26.107Z"
   },
   {
    "duration": 99,
    "start_time": "2022-08-11T18:51:26.907Z"
   },
   {
    "duration": 102,
    "start_time": "2022-08-11T18:51:29.607Z"
   },
   {
    "duration": 101,
    "start_time": "2022-08-11T18:51:30.407Z"
   },
   {
    "duration": 9,
    "start_time": "2022-08-11T18:52:43.109Z"
   },
   {
    "duration": 99,
    "start_time": "2022-08-11T18:52:50.407Z"
   },
   {
    "duration": 8,
    "start_time": "2022-08-11T18:52:52.607Z"
   },
   {
    "duration": 103,
    "start_time": "2022-08-11T18:52:55.207Z"
   },
   {
    "duration": 198,
    "start_time": "2022-08-11T18:53:33.007Z"
   },
   {
    "duration": 13,
    "start_time": "2022-08-11T18:56:04.208Z"
   },
   {
    "duration": 99,
    "start_time": "2022-08-11T18:56:33.207Z"
   },
   {
    "duration": 833,
    "start_time": "2022-08-11T18:59:58.232Z"
   },
   {
    "duration": 72,
    "start_time": "2022-08-11T19:01:12.009Z"
   },
   {
    "duration": 4,
    "start_time": "2022-08-11T19:05:11.746Z"
   },
   {
    "duration": 32,
    "start_time": "2022-08-11T19:05:13.439Z"
   },
   {
    "duration": 9,
    "start_time": "2022-08-11T19:05:28.910Z"
   },
   {
    "duration": 4,
    "start_time": "2022-08-11T19:11:55.805Z"
   },
   {
    "duration": 5,
    "start_time": "2022-08-11T19:11:56.404Z"
   },
   {
    "duration": 7,
    "start_time": "2022-08-11T19:17:23.329Z"
   },
   {
    "duration": 3,
    "start_time": "2022-08-11T19:17:24.774Z"
   },
   {
    "duration": 3,
    "start_time": "2022-08-11T19:17:26.240Z"
   },
   {
    "duration": 6115,
    "start_time": "2022-08-11T19:17:29.470Z"
   },
   {
    "duration": 2,
    "start_time": "2022-08-11T19:20:03.965Z"
   },
   {
    "duration": 8,
    "start_time": "2022-08-11T19:20:04.641Z"
   },
   {
    "duration": 3,
    "start_time": "2022-08-11T19:25:19.054Z"
   },
   {
    "duration": 52155,
    "start_time": "2022-08-11T19:25:20.166Z"
   },
   {
    "duration": 3,
    "start_time": "2022-08-11T19:26:12.323Z"
   },
   {
    "duration": 10,
    "start_time": "2022-08-11T19:26:12.327Z"
   },
   {
    "duration": 4,
    "start_time": "2022-08-11T19:29:53.126Z"
   },
   {
    "duration": 79237,
    "start_time": "2022-08-11T19:29:53.780Z"
   },
   {
    "duration": 3,
    "start_time": "2022-08-11T19:31:13.019Z"
   },
   {
    "duration": 11,
    "start_time": "2022-08-11T19:31:13.023Z"
   },
   {
    "duration": 11,
    "start_time": "2022-08-11T19:33:54.078Z"
   },
   {
    "duration": 1377,
    "start_time": "2022-08-11T19:33:54.090Z"
   },
   {
    "duration": 741,
    "start_time": "2022-08-11T19:33:55.469Z"
   },
   {
    "duration": 3,
    "start_time": "2022-08-11T19:33:56.213Z"
   },
   {
    "duration": 103,
    "start_time": "2022-08-11T19:33:56.217Z"
   },
   {
    "duration": 4,
    "start_time": "2022-08-11T19:33:56.322Z"
   },
   {
    "duration": 15,
    "start_time": "2022-08-11T19:33:56.328Z"
   },
   {
    "duration": 10,
    "start_time": "2022-08-11T19:33:56.345Z"
   },
   {
    "duration": 57,
    "start_time": "2022-08-11T19:33:56.356Z"
   },
   {
    "duration": 191,
    "start_time": "2022-08-11T19:33:56.416Z"
   },
   {
    "duration": 5,
    "start_time": "2022-08-11T19:33:56.609Z"
   },
   {
    "duration": 12,
    "start_time": "2022-08-11T19:33:56.615Z"
   },
   {
    "duration": 30,
    "start_time": "2022-08-11T19:33:56.628Z"
   },
   {
    "duration": 17,
    "start_time": "2022-08-11T19:33:56.659Z"
   },
   {
    "duration": 8,
    "start_time": "2022-08-11T19:33:56.678Z"
   },
   {
    "duration": 21,
    "start_time": "2022-08-11T19:33:56.687Z"
   },
   {
    "duration": 6,
    "start_time": "2022-08-11T19:33:56.710Z"
   },
   {
    "duration": 14,
    "start_time": "2022-08-11T19:33:56.717Z"
   },
   {
    "duration": 18,
    "start_time": "2022-08-11T19:33:56.732Z"
   },
   {
    "duration": 14,
    "start_time": "2022-08-11T19:33:56.751Z"
   },
   {
    "duration": 231,
    "start_time": "2022-08-11T19:33:56.766Z"
   },
   {
    "duration": 16,
    "start_time": "2022-08-11T19:33:56.999Z"
   },
   {
    "duration": 6,
    "start_time": "2022-08-11T19:33:57.016Z"
   },
   {
    "duration": 8,
    "start_time": "2022-08-11T19:33:57.024Z"
   },
   {
    "duration": 8,
    "start_time": "2022-08-11T19:33:57.033Z"
   },
   {
    "duration": 10,
    "start_time": "2022-08-11T19:33:57.042Z"
   },
   {
    "duration": 5,
    "start_time": "2022-08-11T19:33:57.053Z"
   },
   {
    "duration": 9,
    "start_time": "2022-08-11T19:33:57.062Z"
   },
   {
    "duration": 5,
    "start_time": "2022-08-11T19:33:57.072Z"
   },
   {
    "duration": 9,
    "start_time": "2022-08-11T19:33:57.106Z"
   },
   {
    "duration": 4799,
    "start_time": "2022-08-11T19:33:57.117Z"
   },
   {
    "duration": 7,
    "start_time": "2022-08-11T19:34:01.917Z"
   },
   {
    "duration": 39,
    "start_time": "2022-08-11T19:34:01.925Z"
   },
   {
    "duration": 12,
    "start_time": "2022-08-11T19:34:01.966Z"
   },
   {
    "duration": 7,
    "start_time": "2022-08-11T19:34:01.980Z"
   },
   {
    "duration": 11,
    "start_time": "2022-08-11T19:34:01.988Z"
   },
   {
    "duration": 2381,
    "start_time": "2022-08-11T19:34:02.001Z"
   },
   {
    "duration": 6,
    "start_time": "2022-08-11T19:34:04.384Z"
   },
   {
    "duration": 14,
    "start_time": "2022-08-11T19:34:04.392Z"
   },
   {
    "duration": 5,
    "start_time": "2022-08-11T19:34:04.408Z"
   },
   {
    "duration": 4,
    "start_time": "2022-08-11T19:34:04.414Z"
   },
   {
    "duration": 6,
    "start_time": "2022-08-11T19:34:04.419Z"
   },
   {
    "duration": 22,
    "start_time": "2022-08-11T19:34:04.426Z"
   },
   {
    "duration": 18,
    "start_time": "2022-08-11T19:34:04.449Z"
   },
   {
    "duration": 42,
    "start_time": "2022-08-11T19:34:04.469Z"
   },
   {
    "duration": 576,
    "start_time": "2022-08-11T19:34:04.512Z"
   },
   {
    "duration": 26,
    "start_time": "2022-08-11T19:34:05.090Z"
   },
   {
    "duration": 12,
    "start_time": "2022-08-11T19:34:05.117Z"
   },
   {
    "duration": 15,
    "start_time": "2022-08-11T19:34:05.130Z"
   },
   {
    "duration": 6,
    "start_time": "2022-08-11T19:34:05.146Z"
   },
   {
    "duration": 517,
    "start_time": "2022-08-11T19:34:05.153Z"
   },
   {
    "duration": 7,
    "start_time": "2022-08-11T19:34:05.672Z"
   },
   {
    "duration": 30,
    "start_time": "2022-08-11T19:34:05.680Z"
   },
   {
    "duration": 8,
    "start_time": "2022-08-11T19:34:05.712Z"
   },
   {
    "duration": 146,
    "start_time": "2022-08-11T19:34:05.722Z"
   },
   {
    "duration": 7,
    "start_time": "2022-08-11T19:34:05.870Z"
   },
   {
    "duration": 28,
    "start_time": "2022-08-11T19:34:05.879Z"
   },
   {
    "duration": 39,
    "start_time": "2022-08-11T19:34:05.908Z"
   },
   {
    "duration": 15,
    "start_time": "2022-08-11T19:34:05.949Z"
   },
   {
    "duration": 7,
    "start_time": "2022-08-11T19:34:05.966Z"
   },
   {
    "duration": 9,
    "start_time": "2022-08-11T19:34:05.974Z"
   },
   {
    "duration": 27,
    "start_time": "2022-08-11T19:34:05.984Z"
   },
   {
    "duration": 53,
    "start_time": "2022-08-11T19:34:06.013Z"
   },
   {
    "duration": 15,
    "start_time": "2022-08-11T19:34:06.069Z"
   },
   {
    "duration": 14,
    "start_time": "2022-08-11T19:34:06.086Z"
   },
   {
    "duration": 14,
    "start_time": "2022-08-11T19:34:06.102Z"
   },
   {
    "duration": 14,
    "start_time": "2022-08-11T19:34:06.118Z"
   },
   {
    "duration": 28,
    "start_time": "2022-08-11T19:34:06.136Z"
   },
   {
    "duration": 16,
    "start_time": "2022-08-11T19:34:06.167Z"
   },
   {
    "duration": 10,
    "start_time": "2022-08-11T19:34:06.185Z"
   },
   {
    "duration": 6,
    "start_time": "2022-08-11T19:34:06.196Z"
   },
   {
    "duration": 877,
    "start_time": "2022-08-11T19:34:06.203Z"
   },
   {
    "duration": 3,
    "start_time": "2022-08-11T19:34:07.082Z"
   },
   {
    "duration": 21,
    "start_time": "2022-08-11T19:34:07.088Z"
   },
   {
    "duration": 5,
    "start_time": "2022-08-11T19:34:07.111Z"
   },
   {
    "duration": 7,
    "start_time": "2022-08-11T19:34:07.118Z"
   },
   {
    "duration": 10,
    "start_time": "2022-08-11T19:34:07.127Z"
   },
   {
    "duration": 4,
    "start_time": "2022-08-11T19:34:07.138Z"
   },
   {
    "duration": 5,
    "start_time": "2022-08-11T19:34:07.144Z"
   },
   {
    "duration": 6136,
    "start_time": "2022-08-11T19:34:07.150Z"
   },
   {
    "duration": 2,
    "start_time": "2022-08-11T19:34:13.288Z"
   },
   {
    "duration": 9,
    "start_time": "2022-08-11T19:34:13.305Z"
   },
   {
    "duration": 9,
    "start_time": "2022-08-11T19:34:13.315Z"
   },
   {
    "duration": 6,
    "start_time": "2022-08-11T19:34:13.326Z"
   },
   {
    "duration": 109439,
    "start_time": "2022-08-11T19:34:13.335Z"
   },
   {
    "duration": 2,
    "start_time": "2022-08-11T19:36:02.776Z"
   },
   {
    "duration": 10,
    "start_time": "2022-08-11T19:36:02.780Z"
   },
   {
    "duration": 104,
    "start_time": "2022-08-11T19:36:02.806Z"
   },
   {
    "duration": 0,
    "start_time": "2022-08-11T19:36:02.911Z"
   },
   {
    "duration": 0,
    "start_time": "2022-08-11T19:36:02.912Z"
   },
   {
    "duration": 0,
    "start_time": "2022-08-11T19:36:02.913Z"
   },
   {
    "duration": 0,
    "start_time": "2022-08-11T19:36:02.914Z"
   },
   {
    "duration": 2,
    "start_time": "2022-08-11T19:42:28.046Z"
   },
   {
    "duration": 3,
    "start_time": "2022-08-11T19:42:29.150Z"
   },
   {
    "duration": 468712,
    "start_time": "2022-08-11T19:42:29.905Z"
   },
   {
    "duration": 2,
    "start_time": "2022-08-11T19:50:18.619Z"
   },
   {
    "duration": 11,
    "start_time": "2022-08-11T19:50:18.622Z"
   },
   {
    "duration": 11257,
    "start_time": "2022-08-11T19:50:18.634Z"
   },
   {
    "duration": 10,
    "start_time": "2022-08-11T19:51:25.567Z"
   },
   {
    "duration": 9,
    "start_time": "2022-08-11T19:51:27.321Z"
   },
   {
    "duration": 10,
    "start_time": "2022-08-11T19:51:42.144Z"
   },
   {
    "duration": 9,
    "start_time": "2022-08-11T19:51:42.668Z"
   },
   {
    "duration": 10,
    "start_time": "2022-08-11T19:52:05.381Z"
   },
   {
    "duration": 9,
    "start_time": "2022-08-11T19:52:05.871Z"
   },
   {
    "duration": 11,
    "start_time": "2022-08-11T19:52:10.438Z"
   },
   {
    "duration": 9,
    "start_time": "2022-08-11T19:52:10.717Z"
   },
   {
    "duration": 13,
    "start_time": "2022-08-11T19:52:16.014Z"
   },
   {
    "duration": 10,
    "start_time": "2022-08-11T19:52:16.489Z"
   },
   {
    "duration": 11,
    "start_time": "2022-08-11T19:53:57.997Z"
   },
   {
    "duration": 9,
    "start_time": "2022-08-11T19:53:58.367Z"
   },
   {
    "duration": 11,
    "start_time": "2022-08-11T19:56:06.193Z"
   },
   {
    "duration": 2,
    "start_time": "2022-08-11T19:56:11.152Z"
   },
   {
    "duration": 4,
    "start_time": "2022-08-11T19:56:33.391Z"
   },
   {
    "duration": 2,
    "start_time": "2022-08-11T19:56:44.463Z"
   },
   {
    "duration": 901,
    "start_time": "2022-08-11T19:57:09.168Z"
   },
   {
    "duration": 4,
    "start_time": "2022-08-11T19:57:29.944Z"
   },
   {
    "duration": 27,
    "start_time": "2022-08-11T19:57:33.136Z"
   },
   {
    "duration": 4,
    "start_time": "2022-08-11T19:57:39.543Z"
   },
   {
    "duration": 4,
    "start_time": "2022-08-11T19:59:46.216Z"
   },
   {
    "duration": 1903,
    "start_time": "2022-08-11T20:00:01.213Z"
   },
   {
    "duration": 3,
    "start_time": "2022-08-11T20:00:37.950Z"
   },
   {
    "duration": 2953,
    "start_time": "2022-08-11T20:00:38.461Z"
   },
   {
    "duration": 8,
    "start_time": "2022-08-11T20:00:41.415Z"
   },
   {
    "duration": 89,
    "start_time": "2022-08-11T20:00:41.424Z"
   },
   {
    "duration": 15,
    "start_time": "2022-08-11T20:02:36.041Z"
   },
   {
    "duration": 11,
    "start_time": "2022-08-11T20:04:52.933Z"
   },
   {
    "duration": 3,
    "start_time": "2022-08-11T20:04:57.282Z"
   },
   {
    "duration": 14,
    "start_time": "2022-08-11T20:04:57.971Z"
   },
   {
    "duration": 3,
    "start_time": "2022-08-11T20:05:11.025Z"
   },
   {
    "duration": 13,
    "start_time": "2022-08-11T20:05:11.594Z"
   },
   {
    "duration": 10,
    "start_time": "2022-08-12T04:15:22.530Z"
   },
   {
    "duration": 1897,
    "start_time": "2022-08-12T04:15:28.518Z"
   },
   {
    "duration": 230,
    "start_time": "2022-08-12T04:15:30.570Z"
   },
   {
    "duration": 0,
    "start_time": "2022-08-12T04:15:30.801Z"
   },
   {
    "duration": 184,
    "start_time": "2022-08-12T04:16:07.138Z"
   },
   {
    "duration": 2,
    "start_time": "2022-08-12T04:16:09.125Z"
   },
   {
    "duration": 60,
    "start_time": "2022-08-12T04:16:24.994Z"
   },
   {
    "duration": 3,
    "start_time": "2022-08-12T04:17:00.919Z"
   },
   {
    "duration": 3,
    "start_time": "2022-08-12T04:17:01.146Z"
   },
   {
    "duration": 3,
    "start_time": "2022-08-12T04:17:01.379Z"
   },
   {
    "duration": 54,
    "start_time": "2022-08-12T04:17:01.579Z"
   },
   {
    "duration": 181,
    "start_time": "2022-08-12T04:17:01.736Z"
   },
   {
    "duration": 6,
    "start_time": "2022-08-12T04:17:04.535Z"
   },
   {
    "duration": 10,
    "start_time": "2022-08-12T05:25:03.385Z"
   },
   {
    "duration": 1919,
    "start_time": "2022-08-12T05:25:03.397Z"
   },
   {
    "duration": 473,
    "start_time": "2022-08-12T05:25:05.318Z"
   },
   {
    "duration": 4,
    "start_time": "2022-08-12T05:25:05.792Z"
   },
   {
    "duration": 111,
    "start_time": "2022-08-12T05:25:05.798Z"
   },
   {
    "duration": 4,
    "start_time": "2022-08-12T05:25:05.911Z"
   },
   {
    "duration": 13,
    "start_time": "2022-08-12T05:25:05.917Z"
   },
   {
    "duration": 7,
    "start_time": "2022-08-12T05:25:05.932Z"
   },
   {
    "duration": 84,
    "start_time": "2022-08-12T05:25:05.940Z"
   },
   {
    "duration": 218,
    "start_time": "2022-08-12T05:25:06.027Z"
   },
   {
    "duration": 6,
    "start_time": "2022-08-12T05:25:06.248Z"
   },
   {
    "duration": 4,
    "start_time": "2022-08-12T05:25:06.256Z"
   },
   {
    "duration": 61,
    "start_time": "2022-08-12T05:25:06.262Z"
   },
   {
    "duration": 20,
    "start_time": "2022-08-12T05:25:06.325Z"
   },
   {
    "duration": 7,
    "start_time": "2022-08-12T05:25:06.347Z"
   },
   {
    "duration": 10,
    "start_time": "2022-08-12T05:25:06.355Z"
   },
   {
    "duration": 31,
    "start_time": "2022-08-12T05:25:06.367Z"
   },
   {
    "duration": 23,
    "start_time": "2022-08-12T05:25:06.400Z"
   },
   {
    "duration": 14,
    "start_time": "2022-08-12T05:25:06.425Z"
   },
   {
    "duration": 8,
    "start_time": "2022-08-12T05:25:06.441Z"
   },
   {
    "duration": 273,
    "start_time": "2022-08-12T05:25:06.451Z"
   },
   {
    "duration": 16,
    "start_time": "2022-08-12T05:25:06.726Z"
   },
   {
    "duration": 7,
    "start_time": "2022-08-12T05:25:06.744Z"
   },
   {
    "duration": 8,
    "start_time": "2022-08-12T05:25:06.753Z"
   },
   {
    "duration": 8,
    "start_time": "2022-08-12T05:25:06.763Z"
   },
   {
    "duration": 10,
    "start_time": "2022-08-12T05:25:06.810Z"
   },
   {
    "duration": 7,
    "start_time": "2022-08-12T05:25:06.822Z"
   },
   {
    "duration": 24,
    "start_time": "2022-08-12T05:25:06.830Z"
   },
   {
    "duration": 8,
    "start_time": "2022-08-12T05:25:06.860Z"
   },
   {
    "duration": 17,
    "start_time": "2022-08-12T05:25:06.870Z"
   },
   {
    "duration": 5067,
    "start_time": "2022-08-12T05:25:06.903Z"
   },
   {
    "duration": 8,
    "start_time": "2022-08-12T05:25:11.972Z"
   },
   {
    "duration": 5,
    "start_time": "2022-08-12T05:25:11.981Z"
   },
   {
    "duration": 20,
    "start_time": "2022-08-12T05:25:11.988Z"
   },
   {
    "duration": 9,
    "start_time": "2022-08-12T05:25:12.010Z"
   },
   {
    "duration": 15,
    "start_time": "2022-08-12T05:25:12.021Z"
   },
   {
    "duration": 2619,
    "start_time": "2022-08-12T05:25:12.038Z"
   },
   {
    "duration": 7,
    "start_time": "2022-08-12T05:25:14.659Z"
   },
   {
    "duration": 13,
    "start_time": "2022-08-12T05:25:14.668Z"
   },
   {
    "duration": 30,
    "start_time": "2022-08-12T05:25:14.683Z"
   },
   {
    "duration": 18,
    "start_time": "2022-08-12T05:25:14.714Z"
   },
   {
    "duration": 14,
    "start_time": "2022-08-12T05:25:14.735Z"
   },
   {
    "duration": 25,
    "start_time": "2022-08-12T05:25:14.751Z"
   },
   {
    "duration": 35,
    "start_time": "2022-08-12T05:25:14.778Z"
   },
   {
    "duration": 12,
    "start_time": "2022-08-12T05:25:14.814Z"
   },
   {
    "duration": 756,
    "start_time": "2022-08-12T05:25:14.828Z"
   },
   {
    "duration": 31,
    "start_time": "2022-08-12T05:25:15.587Z"
   },
   {
    "duration": 13,
    "start_time": "2022-08-12T05:25:15.620Z"
   },
   {
    "duration": 15,
    "start_time": "2022-08-12T05:25:15.635Z"
   },
   {
    "duration": 7,
    "start_time": "2022-08-12T05:25:15.652Z"
   },
   {
    "duration": 635,
    "start_time": "2022-08-12T05:25:15.660Z"
   },
   {
    "duration": 15,
    "start_time": "2022-08-12T05:25:16.305Z"
   },
   {
    "duration": 18,
    "start_time": "2022-08-12T05:25:16.322Z"
   },
   {
    "duration": 9,
    "start_time": "2022-08-12T05:25:16.343Z"
   },
   {
    "duration": 173,
    "start_time": "2022-08-12T05:25:16.354Z"
   },
   {
    "duration": 9,
    "start_time": "2022-08-12T05:25:16.529Z"
   },
   {
    "duration": 14,
    "start_time": "2022-08-12T05:25:16.540Z"
   },
   {
    "duration": 53,
    "start_time": "2022-08-12T05:25:16.556Z"
   },
   {
    "duration": 17,
    "start_time": "2022-08-12T05:25:16.611Z"
   },
   {
    "duration": 4,
    "start_time": "2022-08-12T05:25:16.630Z"
   },
   {
    "duration": 8,
    "start_time": "2022-08-12T05:25:16.636Z"
   },
   {
    "duration": 7,
    "start_time": "2022-08-12T05:25:16.646Z"
   },
   {
    "duration": 13,
    "start_time": "2022-08-12T05:25:16.655Z"
   },
   {
    "duration": 48,
    "start_time": "2022-08-12T05:25:16.670Z"
   },
   {
    "duration": 9,
    "start_time": "2022-08-12T05:25:16.720Z"
   },
   {
    "duration": 6,
    "start_time": "2022-08-12T05:25:16.733Z"
   },
   {
    "duration": 6,
    "start_time": "2022-08-12T05:25:16.741Z"
   },
   {
    "duration": 15,
    "start_time": "2022-08-12T05:25:16.749Z"
   },
   {
    "duration": 13,
    "start_time": "2022-08-12T05:25:16.765Z"
   },
   {
    "duration": 24,
    "start_time": "2022-08-12T05:25:16.780Z"
   },
   {
    "duration": 16,
    "start_time": "2022-08-12T05:25:16.811Z"
   },
   {
    "duration": 914,
    "start_time": "2022-08-12T05:25:16.828Z"
   },
   {
    "duration": 4,
    "start_time": "2022-08-12T05:25:17.745Z"
   },
   {
    "duration": 15,
    "start_time": "2022-08-12T05:25:17.751Z"
   },
   {
    "duration": 6,
    "start_time": "2022-08-12T05:25:17.768Z"
   },
   {
    "duration": 35,
    "start_time": "2022-08-12T05:25:17.776Z"
   },
   {
    "duration": 12,
    "start_time": "2022-08-12T05:25:17.814Z"
   },
   {
    "duration": 3,
    "start_time": "2022-08-12T05:25:17.829Z"
   },
   {
    "duration": 5,
    "start_time": "2022-08-12T05:25:17.834Z"
   },
   {
    "duration": 7818,
    "start_time": "2022-08-12T05:25:17.840Z"
   },
   {
    "duration": 3,
    "start_time": "2022-08-12T05:25:25.659Z"
   },
   {
    "duration": 11,
    "start_time": "2022-08-12T05:25:25.663Z"
   },
   {
    "duration": 18,
    "start_time": "2022-08-12T05:25:25.680Z"
   },
   {
    "duration": 172567,
    "start_time": "2022-08-12T05:25:25.701Z"
   },
   {
    "duration": 4,
    "start_time": "2022-08-12T05:28:18.270Z"
   },
   {
    "duration": 36,
    "start_time": "2022-08-12T05:28:18.276Z"
   },
   {
    "duration": 9,
    "start_time": "2022-08-12T05:28:18.314Z"
   },
   {
    "duration": 5,
    "start_time": "2022-08-12T05:28:18.325Z"
   },
   {
    "duration": 11,
    "start_time": "2022-08-12T05:43:44.328Z"
   },
   {
    "duration": 1567,
    "start_time": "2022-08-12T05:43:44.341Z"
   },
   {
    "duration": 217,
    "start_time": "2022-08-12T05:43:45.916Z"
   },
   {
    "duration": 3,
    "start_time": "2022-08-12T05:43:46.135Z"
   },
   {
    "duration": 98,
    "start_time": "2022-08-12T05:43:46.140Z"
   },
   {
    "duration": 5,
    "start_time": "2022-08-12T05:43:46.240Z"
   },
   {
    "duration": 14,
    "start_time": "2022-08-12T05:43:46.247Z"
   },
   {
    "duration": 5,
    "start_time": "2022-08-12T05:43:46.263Z"
   },
   {
    "duration": 74,
    "start_time": "2022-08-12T05:43:46.270Z"
   },
   {
    "duration": 202,
    "start_time": "2022-08-12T05:43:46.346Z"
   },
   {
    "duration": 5,
    "start_time": "2022-08-12T05:43:46.551Z"
   },
   {
    "duration": 4,
    "start_time": "2022-08-12T05:43:46.558Z"
   },
   {
    "duration": 57,
    "start_time": "2022-08-12T05:43:46.564Z"
   },
   {
    "duration": 20,
    "start_time": "2022-08-12T05:43:46.623Z"
   },
   {
    "duration": 7,
    "start_time": "2022-08-12T05:43:46.645Z"
   },
   {
    "duration": 15,
    "start_time": "2022-08-12T05:43:46.654Z"
   },
   {
    "duration": 41,
    "start_time": "2022-08-12T05:43:46.671Z"
   },
   {
    "duration": 13,
    "start_time": "2022-08-12T05:43:46.714Z"
   },
   {
    "duration": 25,
    "start_time": "2022-08-12T05:43:46.730Z"
   },
   {
    "duration": 8,
    "start_time": "2022-08-12T05:43:46.757Z"
   },
   {
    "duration": 275,
    "start_time": "2022-08-12T05:43:46.767Z"
   },
   {
    "duration": 14,
    "start_time": "2022-08-12T05:43:47.045Z"
   },
   {
    "duration": 6,
    "start_time": "2022-08-12T05:43:47.061Z"
   },
   {
    "duration": 7,
    "start_time": "2022-08-12T05:43:47.069Z"
   },
   {
    "duration": 5,
    "start_time": "2022-08-12T05:43:47.099Z"
   },
   {
    "duration": 19,
    "start_time": "2022-08-12T05:43:47.105Z"
   },
   {
    "duration": 7,
    "start_time": "2022-08-12T05:43:47.126Z"
   },
   {
    "duration": 17,
    "start_time": "2022-08-12T05:43:47.134Z"
   },
   {
    "duration": 6,
    "start_time": "2022-08-12T05:43:47.156Z"
   },
   {
    "duration": 16,
    "start_time": "2022-08-12T05:43:47.163Z"
   },
   {
    "duration": 5078,
    "start_time": "2022-08-12T05:43:47.181Z"
   },
   {
    "duration": 8,
    "start_time": "2022-08-12T05:43:52.260Z"
   },
   {
    "duration": 8,
    "start_time": "2022-08-12T05:43:52.269Z"
   },
   {
    "duration": 26,
    "start_time": "2022-08-12T05:43:52.278Z"
   },
   {
    "duration": 7,
    "start_time": "2022-08-12T05:43:52.313Z"
   },
   {
    "duration": 11,
    "start_time": "2022-08-12T05:43:52.322Z"
   },
   {
    "duration": 2705,
    "start_time": "2022-08-12T05:43:52.335Z"
   },
   {
    "duration": 5,
    "start_time": "2022-08-12T05:43:55.042Z"
   },
   {
    "duration": 6,
    "start_time": "2022-08-12T05:43:55.049Z"
   },
   {
    "duration": 7,
    "start_time": "2022-08-12T05:43:55.057Z"
   },
   {
    "duration": 8,
    "start_time": "2022-08-12T05:43:55.065Z"
   },
   {
    "duration": 39,
    "start_time": "2022-08-12T05:43:55.074Z"
   },
   {
    "duration": 30,
    "start_time": "2022-08-12T05:43:55.116Z"
   },
   {
    "duration": 24,
    "start_time": "2022-08-12T05:43:55.148Z"
   },
   {
    "duration": 13,
    "start_time": "2022-08-12T05:43:55.174Z"
   },
   {
    "duration": 658,
    "start_time": "2022-08-12T05:43:55.189Z"
   },
   {
    "duration": 22,
    "start_time": "2022-08-12T05:43:55.849Z"
   },
   {
    "duration": 31,
    "start_time": "2022-08-12T05:43:55.873Z"
   },
   {
    "duration": 15,
    "start_time": "2022-08-12T05:43:55.913Z"
   },
   {
    "duration": 10,
    "start_time": "2022-08-12T05:43:55.929Z"
   },
   {
    "duration": 677,
    "start_time": "2022-08-12T05:43:55.941Z"
   },
   {
    "duration": 7,
    "start_time": "2022-08-12T05:43:56.620Z"
   },
   {
    "duration": 16,
    "start_time": "2022-08-12T05:43:56.629Z"
   },
   {
    "duration": 8,
    "start_time": "2022-08-12T05:43:56.647Z"
   },
   {
    "duration": 168,
    "start_time": "2022-08-12T05:43:56.657Z"
   },
   {
    "duration": 10,
    "start_time": "2022-08-12T05:43:56.826Z"
   },
   {
    "duration": 16,
    "start_time": "2022-08-12T05:43:56.837Z"
   },
   {
    "duration": 49,
    "start_time": "2022-08-12T05:43:56.855Z"
   },
   {
    "duration": 27,
    "start_time": "2022-08-12T05:43:56.905Z"
   },
   {
    "duration": 4,
    "start_time": "2022-08-12T05:43:56.934Z"
   },
   {
    "duration": 9,
    "start_time": "2022-08-12T05:43:56.940Z"
   },
   {
    "duration": 6,
    "start_time": "2022-08-12T05:43:56.951Z"
   },
   {
    "duration": 13,
    "start_time": "2022-08-12T05:43:56.959Z"
   },
   {
    "duration": 37,
    "start_time": "2022-08-12T05:43:56.974Z"
   },
   {
    "duration": 8,
    "start_time": "2022-08-12T05:43:57.014Z"
   },
   {
    "duration": 10,
    "start_time": "2022-08-12T05:43:57.025Z"
   },
   {
    "duration": 5,
    "start_time": "2022-08-12T05:43:57.037Z"
   },
   {
    "duration": 20,
    "start_time": "2022-08-12T05:43:57.044Z"
   },
   {
    "duration": 15,
    "start_time": "2022-08-12T05:43:57.066Z"
   },
   {
    "duration": 30,
    "start_time": "2022-08-12T05:43:57.083Z"
   },
   {
    "duration": 8,
    "start_time": "2022-08-12T05:43:57.115Z"
   },
   {
    "duration": 937,
    "start_time": "2022-08-12T05:43:57.125Z"
   },
   {
    "duration": 4,
    "start_time": "2022-08-12T05:43:58.064Z"
   },
   {
    "duration": 15,
    "start_time": "2022-08-12T05:43:58.070Z"
   },
   {
    "duration": 15,
    "start_time": "2022-08-12T05:43:58.086Z"
   },
   {
    "duration": 25,
    "start_time": "2022-08-12T05:43:58.103Z"
   },
   {
    "duration": 12,
    "start_time": "2022-08-12T05:43:58.130Z"
   },
   {
    "duration": 6,
    "start_time": "2022-08-12T05:43:58.143Z"
   },
   {
    "duration": 6,
    "start_time": "2022-08-12T05:43:58.151Z"
   },
   {
    "duration": 8096,
    "start_time": "2022-08-12T05:43:58.159Z"
   },
   {
    "duration": 3,
    "start_time": "2022-08-12T05:44:06.257Z"
   },
   {
    "duration": 11,
    "start_time": "2022-08-12T05:44:06.262Z"
   },
   {
    "duration": 6,
    "start_time": "2022-08-12T05:44:06.307Z"
   },
   {
    "duration": 167636,
    "start_time": "2022-08-12T05:44:06.314Z"
   },
   {
    "duration": 9,
    "start_time": "2022-08-12T05:46:53.952Z"
   },
   {
    "duration": 14,
    "start_time": "2022-08-12T05:46:53.964Z"
   },
   {
    "duration": 29,
    "start_time": "2022-08-12T05:46:53.980Z"
   },
   {
    "duration": 6,
    "start_time": "2022-08-12T05:46:54.011Z"
   },
   {
    "duration": 16,
    "start_time": "2022-08-12T06:11:25.850Z"
   },
   {
    "duration": 1643,
    "start_time": "2022-08-12T06:11:25.868Z"
   },
   {
    "duration": 229,
    "start_time": "2022-08-12T06:11:27.518Z"
   },
   {
    "duration": 4,
    "start_time": "2022-08-12T06:11:27.749Z"
   },
   {
    "duration": 111,
    "start_time": "2022-08-12T06:11:27.756Z"
   },
   {
    "duration": 6,
    "start_time": "2022-08-12T06:11:27.869Z"
   },
   {
    "duration": 45,
    "start_time": "2022-08-12T06:11:27.877Z"
   },
   {
    "duration": 9,
    "start_time": "2022-08-12T06:11:27.924Z"
   },
   {
    "duration": 100,
    "start_time": "2022-08-12T06:11:27.935Z"
   },
   {
    "duration": 233,
    "start_time": "2022-08-12T06:11:28.037Z"
   },
   {
    "duration": 36,
    "start_time": "2022-08-12T06:11:28.273Z"
   },
   {
    "duration": 20,
    "start_time": "2022-08-12T06:11:28.310Z"
   },
   {
    "duration": 24,
    "start_time": "2022-08-12T06:11:28.331Z"
   },
   {
    "duration": 22,
    "start_time": "2022-08-12T06:11:28.357Z"
   },
   {
    "duration": 36,
    "start_time": "2022-08-12T06:11:28.381Z"
   },
   {
    "duration": 13,
    "start_time": "2022-08-12T06:11:28.419Z"
   },
   {
    "duration": 7,
    "start_time": "2022-08-12T06:11:28.434Z"
   },
   {
    "duration": 13,
    "start_time": "2022-08-12T06:11:28.443Z"
   },
   {
    "duration": 67,
    "start_time": "2022-08-12T06:11:28.458Z"
   },
   {
    "duration": 9,
    "start_time": "2022-08-12T06:11:28.527Z"
   },
   {
    "duration": 304,
    "start_time": "2022-08-12T06:11:28.538Z"
   },
   {
    "duration": 16,
    "start_time": "2022-08-12T06:11:28.844Z"
   },
   {
    "duration": 7,
    "start_time": "2022-08-12T06:11:28.862Z"
   },
   {
    "duration": 49,
    "start_time": "2022-08-12T06:11:28.871Z"
   },
   {
    "duration": 7,
    "start_time": "2022-08-12T06:11:28.922Z"
   },
   {
    "duration": 9,
    "start_time": "2022-08-12T06:11:28.931Z"
   },
   {
    "duration": 6,
    "start_time": "2022-08-12T06:11:28.943Z"
   },
   {
    "duration": 19,
    "start_time": "2022-08-12T06:11:28.952Z"
   },
   {
    "duration": 39,
    "start_time": "2022-08-12T06:11:28.978Z"
   },
   {
    "duration": 13,
    "start_time": "2022-08-12T06:11:29.019Z"
   },
   {
    "duration": 5308,
    "start_time": "2022-08-12T06:11:29.035Z"
   },
   {
    "duration": 8,
    "start_time": "2022-08-12T06:11:34.345Z"
   },
   {
    "duration": 12,
    "start_time": "2022-08-12T06:11:34.355Z"
   },
   {
    "duration": 33,
    "start_time": "2022-08-12T06:11:34.368Z"
   },
   {
    "duration": 41,
    "start_time": "2022-08-12T06:11:34.403Z"
   },
   {
    "duration": 21,
    "start_time": "2022-08-12T06:11:34.446Z"
   },
   {
    "duration": 2710,
    "start_time": "2022-08-12T06:11:34.470Z"
   },
   {
    "duration": 6,
    "start_time": "2022-08-12T06:11:37.182Z"
   },
   {
    "duration": 10,
    "start_time": "2022-08-12T06:11:37.206Z"
   },
   {
    "duration": 9,
    "start_time": "2022-08-12T06:11:37.219Z"
   },
   {
    "duration": 10,
    "start_time": "2022-08-12T06:11:37.230Z"
   },
   {
    "duration": 12,
    "start_time": "2022-08-12T06:11:37.242Z"
   },
   {
    "duration": 32,
    "start_time": "2022-08-12T06:11:37.255Z"
   },
   {
    "duration": 33,
    "start_time": "2022-08-12T06:11:37.289Z"
   },
   {
    "duration": 19,
    "start_time": "2022-08-12T06:11:37.325Z"
   },
   {
    "duration": 687,
    "start_time": "2022-08-12T06:11:37.346Z"
   },
   {
    "duration": 31,
    "start_time": "2022-08-12T06:11:38.035Z"
   },
   {
    "duration": 49,
    "start_time": "2022-08-12T06:11:38.068Z"
   },
   {
    "duration": 20,
    "start_time": "2022-08-12T06:11:38.119Z"
   },
   {
    "duration": 8,
    "start_time": "2022-08-12T06:11:38.141Z"
   },
   {
    "duration": 769,
    "start_time": "2022-08-12T06:11:38.151Z"
   },
   {
    "duration": 8,
    "start_time": "2022-08-12T06:11:38.922Z"
   },
   {
    "duration": 25,
    "start_time": "2022-08-12T06:11:38.932Z"
   },
   {
    "duration": 12,
    "start_time": "2022-08-12T06:11:38.960Z"
   },
   {
    "duration": 139,
    "start_time": "2022-08-12T06:11:39.007Z"
   },
   {
    "duration": 9,
    "start_time": "2022-08-12T06:11:39.148Z"
   },
   {
    "duration": 12,
    "start_time": "2022-08-12T06:11:39.159Z"
   },
   {
    "duration": 53,
    "start_time": "2022-08-12T06:11:39.174Z"
   },
   {
    "duration": 16,
    "start_time": "2022-08-12T06:11:39.229Z"
   },
   {
    "duration": 10,
    "start_time": "2022-08-12T06:11:39.247Z"
   },
   {
    "duration": 19,
    "start_time": "2022-08-12T06:11:39.259Z"
   },
   {
    "duration": 23,
    "start_time": "2022-08-12T06:11:39.281Z"
   },
   {
    "duration": 23,
    "start_time": "2022-08-12T06:11:39.317Z"
   },
   {
    "duration": 13,
    "start_time": "2022-08-12T06:11:39.342Z"
   },
   {
    "duration": 14,
    "start_time": "2022-08-12T06:11:39.357Z"
   },
   {
    "duration": 7,
    "start_time": "2022-08-12T06:11:39.373Z"
   },
   {
    "duration": 6,
    "start_time": "2022-08-12T06:11:39.383Z"
   },
   {
    "duration": 17,
    "start_time": "2022-08-12T06:11:39.410Z"
   },
   {
    "duration": 13,
    "start_time": "2022-08-12T06:11:39.428Z"
   },
   {
    "duration": 8,
    "start_time": "2022-08-12T06:11:39.442Z"
   },
   {
    "duration": 8,
    "start_time": "2022-08-12T06:11:39.452Z"
   },
   {
    "duration": 1063,
    "start_time": "2022-08-12T06:11:39.462Z"
   },
   {
    "duration": 5,
    "start_time": "2022-08-12T06:11:40.527Z"
   },
   {
    "duration": 19,
    "start_time": "2022-08-12T06:11:40.535Z"
   },
   {
    "duration": 8,
    "start_time": "2022-08-12T06:11:40.557Z"
   },
   {
    "duration": 12,
    "start_time": "2022-08-12T06:11:40.568Z"
   },
   {
    "duration": 12,
    "start_time": "2022-08-12T06:11:40.600Z"
   },
   {
    "duration": 12,
    "start_time": "2022-08-12T06:11:40.613Z"
   },
   {
    "duration": 5,
    "start_time": "2022-08-12T06:11:40.627Z"
   },
   {
    "duration": 8328,
    "start_time": "2022-08-12T06:11:40.634Z"
   },
   {
    "duration": 4,
    "start_time": "2022-08-12T06:11:48.964Z"
   },
   {
    "duration": 13,
    "start_time": "2022-08-12T06:11:48.969Z"
   },
   {
    "duration": 23,
    "start_time": "2022-08-12T06:11:49.004Z"
   },
   {
    "duration": 176220,
    "start_time": "2022-08-12T06:11:49.029Z"
   },
   {
    "duration": 4,
    "start_time": "2022-08-12T06:14:45.251Z"
   },
   {
    "duration": 31,
    "start_time": "2022-08-12T06:14:45.256Z"
   },
   {
    "duration": 49,
    "start_time": "2022-08-12T06:14:45.289Z"
   },
   {
    "duration": 12,
    "start_time": "2022-08-12T06:14:45.340Z"
   },
   {
    "duration": 14,
    "start_time": "2022-08-12T06:14:45.354Z"
   },
   {
    "duration": 15,
    "start_time": "2022-08-12T06:14:45.371Z"
   },
   {
    "duration": 28,
    "start_time": "2022-08-12T06:14:45.388Z"
   },
   {
    "duration": 25,
    "start_time": "2022-08-12T06:14:45.430Z"
   },
   {
    "duration": 6,
    "start_time": "2022-08-12T06:14:45.458Z"
   },
   {
    "duration": 8,
    "start_time": "2022-08-12T06:14:45.466Z"
   },
   {
    "duration": 1309,
    "start_time": "2022-08-12T06:14:45.476Z"
   },
   {
    "duration": 37,
    "start_time": "2022-08-12T06:14:46.787Z"
   },
   {
    "duration": 3,
    "start_time": "2022-08-12T06:14:46.827Z"
   },
   {
    "duration": 13,
    "start_time": "2022-08-12T06:18:11.877Z"
   },
   {
    "duration": 1729,
    "start_time": "2022-08-12T06:18:11.892Z"
   },
   {
    "duration": 240,
    "start_time": "2022-08-12T06:18:13.623Z"
   },
   {
    "duration": 4,
    "start_time": "2022-08-12T06:18:13.864Z"
   },
   {
    "duration": 106,
    "start_time": "2022-08-12T06:18:13.870Z"
   },
   {
    "duration": 17,
    "start_time": "2022-08-12T06:18:14.000Z"
   },
   {
    "duration": 8,
    "start_time": "2022-08-12T06:18:14.019Z"
   },
   {
    "duration": 6,
    "start_time": "2022-08-12T06:18:14.029Z"
   },
   {
    "duration": 75,
    "start_time": "2022-08-12T06:18:14.037Z"
   },
   {
    "duration": 239,
    "start_time": "2022-08-12T06:18:14.114Z"
   },
   {
    "duration": 7,
    "start_time": "2022-08-12T06:18:14.356Z"
   },
   {
    "duration": 41,
    "start_time": "2022-08-12T06:18:14.365Z"
   },
   {
    "duration": 28,
    "start_time": "2022-08-12T06:18:14.408Z"
   },
   {
    "duration": 46,
    "start_time": "2022-08-12T06:18:14.438Z"
   },
   {
    "duration": 22,
    "start_time": "2022-08-12T06:18:14.486Z"
   },
   {
    "duration": 29,
    "start_time": "2022-08-12T06:18:14.510Z"
   },
   {
    "duration": 9,
    "start_time": "2022-08-12T06:18:14.541Z"
   },
   {
    "duration": 21,
    "start_time": "2022-08-12T06:18:14.552Z"
   },
   {
    "duration": 40,
    "start_time": "2022-08-12T06:18:14.576Z"
   },
   {
    "duration": 18,
    "start_time": "2022-08-12T06:18:14.618Z"
   },
   {
    "duration": 337,
    "start_time": "2022-08-12T06:18:14.638Z"
   },
   {
    "duration": 40,
    "start_time": "2022-08-12T06:18:14.976Z"
   },
   {
    "duration": 7,
    "start_time": "2022-08-12T06:18:15.019Z"
   },
   {
    "duration": 22,
    "start_time": "2022-08-12T06:18:15.028Z"
   },
   {
    "duration": 9,
    "start_time": "2022-08-12T06:18:15.051Z"
   },
   {
    "duration": 15,
    "start_time": "2022-08-12T06:18:15.062Z"
   },
   {
    "duration": 5,
    "start_time": "2022-08-12T06:18:15.079Z"
   },
   {
    "duration": 25,
    "start_time": "2022-08-12T06:18:15.086Z"
   },
   {
    "duration": 19,
    "start_time": "2022-08-12T06:18:15.122Z"
   },
   {
    "duration": 35,
    "start_time": "2022-08-12T06:18:15.142Z"
   },
   {
    "duration": 5543,
    "start_time": "2022-08-12T06:18:15.179Z"
   },
   {
    "duration": 7,
    "start_time": "2022-08-12T06:18:20.723Z"
   },
   {
    "duration": 8,
    "start_time": "2022-08-12T06:18:20.732Z"
   },
   {
    "duration": 14,
    "start_time": "2022-08-12T06:18:20.742Z"
   },
   {
    "duration": 19,
    "start_time": "2022-08-12T06:18:20.801Z"
   },
   {
    "duration": 16,
    "start_time": "2022-08-12T06:18:20.821Z"
   },
   {
    "duration": 4916,
    "start_time": "2022-08-12T06:18:20.839Z"
   },
   {
    "duration": 7,
    "start_time": "2022-08-12T06:18:25.756Z"
   },
   {
    "duration": 5,
    "start_time": "2022-08-12T06:18:25.764Z"
   },
   {
    "duration": 33,
    "start_time": "2022-08-12T06:18:25.771Z"
   },
   {
    "duration": 18,
    "start_time": "2022-08-12T06:18:25.806Z"
   },
   {
    "duration": 9,
    "start_time": "2022-08-12T06:18:25.826Z"
   },
   {
    "duration": 24,
    "start_time": "2022-08-12T06:18:25.837Z"
   },
   {
    "duration": 20,
    "start_time": "2022-08-12T06:18:25.863Z"
   },
   {
    "duration": 29,
    "start_time": "2022-08-12T06:18:25.885Z"
   },
   {
    "duration": 652,
    "start_time": "2022-08-12T06:18:25.916Z"
   },
   {
    "duration": 42,
    "start_time": "2022-08-12T06:18:26.570Z"
   },
   {
    "duration": 14,
    "start_time": "2022-08-12T06:18:26.617Z"
   },
   {
    "duration": 24,
    "start_time": "2022-08-12T06:18:26.634Z"
   },
   {
    "duration": 7,
    "start_time": "2022-08-12T06:18:26.660Z"
   },
   {
    "duration": 722,
    "start_time": "2022-08-12T06:18:26.669Z"
   },
   {
    "duration": 28,
    "start_time": "2022-08-12T06:18:27.393Z"
   },
   {
    "duration": 19,
    "start_time": "2022-08-12T06:18:27.423Z"
   },
   {
    "duration": 11,
    "start_time": "2022-08-12T06:18:27.444Z"
   },
   {
    "duration": 172,
    "start_time": "2022-08-12T06:18:27.457Z"
   },
   {
    "duration": 9,
    "start_time": "2022-08-12T06:18:27.630Z"
   },
   {
    "duration": 13,
    "start_time": "2022-08-12T06:18:27.642Z"
   },
   {
    "duration": 60,
    "start_time": "2022-08-12T06:18:27.657Z"
   },
   {
    "duration": 17,
    "start_time": "2022-08-12T06:18:27.719Z"
   },
   {
    "duration": 5,
    "start_time": "2022-08-12T06:18:27.738Z"
   },
   {
    "duration": 11,
    "start_time": "2022-08-12T06:18:27.746Z"
   },
   {
    "duration": 9,
    "start_time": "2022-08-12T06:18:27.759Z"
   },
   {
    "duration": 50,
    "start_time": "2022-08-12T06:18:27.770Z"
   },
   {
    "duration": 10,
    "start_time": "2022-08-12T06:18:27.823Z"
   },
   {
    "duration": 13,
    "start_time": "2022-08-12T06:18:27.835Z"
   },
   {
    "duration": 11,
    "start_time": "2022-08-12T06:18:27.851Z"
   },
   {
    "duration": 8,
    "start_time": "2022-08-12T06:18:27.864Z"
   },
   {
    "duration": 45,
    "start_time": "2022-08-12T06:18:27.874Z"
   },
   {
    "duration": 38,
    "start_time": "2022-08-12T06:18:27.922Z"
   },
   {
    "duration": 7,
    "start_time": "2022-08-12T06:18:27.967Z"
   },
   {
    "duration": 18,
    "start_time": "2022-08-12T06:18:27.976Z"
   },
   {
    "duration": 965,
    "start_time": "2022-08-12T06:18:27.996Z"
   },
   {
    "duration": 5,
    "start_time": "2022-08-12T06:18:28.964Z"
   },
   {
    "duration": 44,
    "start_time": "2022-08-12T06:18:28.972Z"
   },
   {
    "duration": 5,
    "start_time": "2022-08-12T06:18:29.019Z"
   },
   {
    "duration": 9,
    "start_time": "2022-08-12T06:18:29.026Z"
   },
   {
    "duration": 17,
    "start_time": "2022-08-12T06:18:29.037Z"
   },
   {
    "duration": 4,
    "start_time": "2022-08-12T06:18:29.056Z"
   },
   {
    "duration": 6,
    "start_time": "2022-08-12T06:18:29.062Z"
   },
   {
    "duration": 8311,
    "start_time": "2022-08-12T06:18:29.070Z"
   },
   {
    "duration": 3,
    "start_time": "2022-08-12T06:18:37.383Z"
   },
   {
    "duration": 24,
    "start_time": "2022-08-12T06:18:37.401Z"
   },
   {
    "duration": 9,
    "start_time": "2022-08-12T06:18:37.431Z"
   },
   {
    "duration": 175753,
    "start_time": "2022-08-12T06:18:37.442Z"
   },
   {
    "duration": 4,
    "start_time": "2022-08-12T06:21:33.200Z"
   },
   {
    "duration": 31,
    "start_time": "2022-08-12T06:21:33.206Z"
   },
   {
    "duration": 5,
    "start_time": "2022-08-12T06:21:33.239Z"
   },
   {
    "duration": 6,
    "start_time": "2022-08-12T06:21:33.246Z"
   },
   {
    "duration": 6,
    "start_time": "2022-08-12T06:21:33.254Z"
   },
   {
    "duration": 13,
    "start_time": "2022-08-12T06:21:33.261Z"
   },
   {
    "duration": 37,
    "start_time": "2022-08-12T06:21:33.276Z"
   },
   {
    "duration": 15,
    "start_time": "2022-08-12T06:21:33.316Z"
   },
   {
    "duration": 5,
    "start_time": "2022-08-12T06:21:33.334Z"
   },
   {
    "duration": 7,
    "start_time": "2022-08-12T06:21:33.342Z"
   },
   {
    "duration": 1295,
    "start_time": "2022-08-12T06:21:33.351Z"
   },
   {
    "duration": 34,
    "start_time": "2022-08-12T06:21:34.648Z"
   },
   {
    "duration": 16,
    "start_time": "2022-08-12T06:21:34.685Z"
   },
   {
    "duration": 10,
    "start_time": "2022-08-12T09:47:38.115Z"
   },
   {
    "duration": 1681,
    "start_time": "2022-08-12T09:47:38.126Z"
   },
   {
    "duration": 465,
    "start_time": "2022-08-12T09:47:39.809Z"
   },
   {
    "duration": 4,
    "start_time": "2022-08-12T09:47:40.275Z"
   },
   {
    "duration": 111,
    "start_time": "2022-08-12T09:47:40.281Z"
   },
   {
    "duration": 4,
    "start_time": "2022-08-12T09:47:40.394Z"
   },
   {
    "duration": 8,
    "start_time": "2022-08-12T09:47:40.400Z"
   },
   {
    "duration": 7,
    "start_time": "2022-08-12T09:47:40.409Z"
   },
   {
    "duration": 70,
    "start_time": "2022-08-12T09:47:40.417Z"
   },
   {
    "duration": 150,
    "start_time": "2022-08-12T09:47:40.488Z"
   },
   {
    "duration": 5,
    "start_time": "2022-08-12T09:47:40.640Z"
   },
   {
    "duration": 3,
    "start_time": "2022-08-12T09:47:40.686Z"
   },
   {
    "duration": 21,
    "start_time": "2022-08-12T09:47:40.691Z"
   },
   {
    "duration": 18,
    "start_time": "2022-08-12T09:47:40.713Z"
   },
   {
    "duration": 6,
    "start_time": "2022-08-12T09:47:40.733Z"
   },
   {
    "duration": 12,
    "start_time": "2022-08-12T09:47:40.741Z"
   },
   {
    "duration": 32,
    "start_time": "2022-08-12T09:47:40.755Z"
   },
   {
    "duration": 11,
    "start_time": "2022-08-12T09:47:40.789Z"
   },
   {
    "duration": 12,
    "start_time": "2022-08-12T09:47:40.802Z"
   },
   {
    "duration": 6,
    "start_time": "2022-08-12T09:47:40.815Z"
   },
   {
    "duration": 254,
    "start_time": "2022-08-12T09:47:40.822Z"
   },
   {
    "duration": 20,
    "start_time": "2022-08-12T09:47:41.077Z"
   },
   {
    "duration": 5,
    "start_time": "2022-08-12T09:47:41.098Z"
   },
   {
    "duration": 6,
    "start_time": "2022-08-12T09:47:41.105Z"
   },
   {
    "duration": 5,
    "start_time": "2022-08-12T09:47:41.112Z"
   },
   {
    "duration": 7,
    "start_time": "2022-08-12T09:47:41.118Z"
   },
   {
    "duration": 5,
    "start_time": "2022-08-12T09:47:41.126Z"
   },
   {
    "duration": 12,
    "start_time": "2022-08-12T09:47:41.132Z"
   },
   {
    "duration": 5,
    "start_time": "2022-08-12T09:47:41.148Z"
   },
   {
    "duration": 42,
    "start_time": "2022-08-12T09:47:41.154Z"
   },
   {
    "duration": 4700,
    "start_time": "2022-08-12T09:47:41.198Z"
   },
   {
    "duration": 6,
    "start_time": "2022-08-12T09:47:45.900Z"
   },
   {
    "duration": 5,
    "start_time": "2022-08-12T09:47:45.908Z"
   },
   {
    "duration": 10,
    "start_time": "2022-08-12T09:47:45.915Z"
   },
   {
    "duration": 5,
    "start_time": "2022-08-12T09:47:45.926Z"
   },
   {
    "duration": 21,
    "start_time": "2022-08-12T09:47:45.933Z"
   },
   {
    "duration": 2497,
    "start_time": "2022-08-12T09:47:45.955Z"
   },
   {
    "duration": 5,
    "start_time": "2022-08-12T09:47:48.453Z"
   },
   {
    "duration": 7,
    "start_time": "2022-08-12T09:47:48.459Z"
   },
   {
    "duration": 19,
    "start_time": "2022-08-12T09:47:48.468Z"
   },
   {
    "duration": 4,
    "start_time": "2022-08-12T09:47:48.488Z"
   },
   {
    "duration": 9,
    "start_time": "2022-08-12T09:47:48.493Z"
   },
   {
    "duration": 19,
    "start_time": "2022-08-12T09:47:48.503Z"
   },
   {
    "duration": 17,
    "start_time": "2022-08-12T09:47:48.524Z"
   },
   {
    "duration": 11,
    "start_time": "2022-08-12T09:47:48.542Z"
   },
   {
    "duration": 632,
    "start_time": "2022-08-12T09:47:48.554Z"
   },
   {
    "duration": 21,
    "start_time": "2022-08-12T09:47:49.187Z"
   },
   {
    "duration": 11,
    "start_time": "2022-08-12T09:47:49.210Z"
   },
   {
    "duration": 15,
    "start_time": "2022-08-12T09:47:49.222Z"
   },
   {
    "duration": 5,
    "start_time": "2022-08-12T09:47:49.238Z"
   },
   {
    "duration": 634,
    "start_time": "2022-08-12T09:47:49.244Z"
   },
   {
    "duration": 8,
    "start_time": "2022-08-12T09:47:49.879Z"
   },
   {
    "duration": 18,
    "start_time": "2022-08-12T09:47:49.889Z"
   },
   {
    "duration": 7,
    "start_time": "2022-08-12T09:47:49.909Z"
   },
   {
    "duration": 152,
    "start_time": "2022-08-12T09:47:49.917Z"
   },
   {
    "duration": 17,
    "start_time": "2022-08-12T09:47:50.070Z"
   },
   {
    "duration": 11,
    "start_time": "2022-08-12T09:47:50.088Z"
   },
   {
    "duration": 27,
    "start_time": "2022-08-12T09:47:50.100Z"
   },
   {
    "duration": 13,
    "start_time": "2022-08-12T09:47:50.128Z"
   },
   {
    "duration": 10,
    "start_time": "2022-08-12T09:47:50.143Z"
   },
   {
    "duration": 7,
    "start_time": "2022-08-12T09:47:50.154Z"
   },
   {
    "duration": 29,
    "start_time": "2022-08-12T09:47:50.163Z"
   },
   {
    "duration": 22,
    "start_time": "2022-08-12T09:47:50.193Z"
   },
   {
    "duration": 10,
    "start_time": "2022-08-12T09:47:50.217Z"
   },
   {
    "duration": 7,
    "start_time": "2022-08-12T09:47:50.228Z"
   },
   {
    "duration": 15,
    "start_time": "2022-08-12T09:47:50.236Z"
   },
   {
    "duration": 4,
    "start_time": "2022-08-12T09:47:50.253Z"
   },
   {
    "duration": 13,
    "start_time": "2022-08-12T09:47:50.259Z"
   },
   {
    "duration": 14,
    "start_time": "2022-08-12T09:47:50.274Z"
   },
   {
    "duration": 10,
    "start_time": "2022-08-12T09:47:50.289Z"
   },
   {
    "duration": 6,
    "start_time": "2022-08-12T09:47:50.300Z"
   },
   {
    "duration": 881,
    "start_time": "2022-08-12T09:47:50.308Z"
   },
   {
    "duration": 4,
    "start_time": "2022-08-12T09:47:51.191Z"
   },
   {
    "duration": 17,
    "start_time": "2022-08-12T09:47:51.197Z"
   },
   {
    "duration": 5,
    "start_time": "2022-08-12T09:47:51.215Z"
   },
   {
    "duration": 6,
    "start_time": "2022-08-12T09:47:51.221Z"
   },
   {
    "duration": 10,
    "start_time": "2022-08-12T09:47:51.229Z"
   },
   {
    "duration": 4,
    "start_time": "2022-08-12T09:47:51.240Z"
   },
   {
    "duration": 7,
    "start_time": "2022-08-12T09:47:51.245Z"
   },
   {
    "duration": 6690,
    "start_time": "2022-08-12T09:47:51.253Z"
   },
   {
    "duration": 3,
    "start_time": "2022-08-12T09:47:57.945Z"
   },
   {
    "duration": 15,
    "start_time": "2022-08-12T09:47:57.949Z"
   },
   {
    "duration": 17,
    "start_time": "2022-08-12T09:47:57.970Z"
   },
   {
    "duration": 139578,
    "start_time": "2022-08-12T09:47:57.989Z"
   },
   {
    "duration": 3,
    "start_time": "2022-08-12T09:50:17.568Z"
   },
   {
    "duration": 23,
    "start_time": "2022-08-12T09:50:17.573Z"
   },
   {
    "duration": 11,
    "start_time": "2022-08-12T09:50:17.600Z"
   },
   {
    "duration": 16,
    "start_time": "2022-08-12T09:50:17.614Z"
   },
   {
    "duration": 7,
    "start_time": "2022-08-12T09:50:17.631Z"
   },
   {
    "duration": 14,
    "start_time": "2022-08-12T09:50:17.640Z"
   },
   {
    "duration": 11,
    "start_time": "2022-08-12T09:50:17.655Z"
   },
   {
    "duration": 18,
    "start_time": "2022-08-12T09:50:17.667Z"
   },
   {
    "duration": 8,
    "start_time": "2022-08-12T09:50:17.687Z"
   },
   {
    "duration": 5,
    "start_time": "2022-08-12T09:50:17.697Z"
   },
   {
    "duration": 960,
    "start_time": "2022-08-12T09:50:17.703Z"
   },
   {
    "duration": 33,
    "start_time": "2022-08-12T09:50:18.665Z"
   },
   {
    "duration": 3,
    "start_time": "2022-08-12T09:50:18.699Z"
   },
   {
    "duration": 3498,
    "start_time": "2022-08-12T09:50:18.704Z"
   },
   {
    "duration": 90,
    "start_time": "2022-08-12T09:50:22.204Z"
   },
   {
    "duration": 4,
    "start_time": "2022-08-12T09:50:22.295Z"
   },
   {
    "duration": 21,
    "start_time": "2022-08-12T09:50:22.300Z"
   },
   {
    "duration": 74,
    "start_time": "2022-08-12T09:50:22.323Z"
   },
   {
    "duration": 10,
    "start_time": "2022-08-12T09:50:22.398Z"
   },
   {
    "duration": 280,
    "start_time": "2022-08-12T09:50:22.409Z"
   },
   {
    "duration": 5,
    "start_time": "2022-08-12T09:50:22.690Z"
   },
   {
    "duration": 321,
    "start_time": "2022-08-12T09:53:16.447Z"
   },
   {
    "duration": 52,
    "start_time": "2022-08-12T09:53:40.351Z"
   },
   {
    "duration": 291,
    "start_time": "2022-08-12T09:53:46.878Z"
   },
   {
    "duration": 46,
    "start_time": "2022-08-12T09:54:46.710Z"
   },
   {
    "duration": 5,
    "start_time": "2022-08-12T10:02:26.930Z"
   },
   {
    "duration": 1628,
    "start_time": "2022-08-12T10:02:26.937Z"
   },
   {
    "duration": 201,
    "start_time": "2022-08-12T10:02:28.567Z"
   },
   {
    "duration": 3,
    "start_time": "2022-08-12T10:02:28.769Z"
   },
   {
    "duration": 65,
    "start_time": "2022-08-12T10:02:28.774Z"
   },
   {
    "duration": 4,
    "start_time": "2022-08-12T10:02:28.840Z"
   },
   {
    "duration": 12,
    "start_time": "2022-08-12T10:02:28.845Z"
   },
   {
    "duration": 6,
    "start_time": "2022-08-12T10:02:28.859Z"
   },
   {
    "duration": 61,
    "start_time": "2022-08-12T10:02:28.887Z"
   },
   {
    "duration": 171,
    "start_time": "2022-08-12T10:02:28.950Z"
   },
   {
    "duration": 6,
    "start_time": "2022-08-12T10:02:29.124Z"
   },
   {
    "duration": 5,
    "start_time": "2022-08-12T10:02:29.131Z"
   },
   {
    "duration": 52,
    "start_time": "2022-08-12T10:02:29.138Z"
   },
   {
    "duration": 19,
    "start_time": "2022-08-12T10:02:29.192Z"
   },
   {
    "duration": 7,
    "start_time": "2022-08-12T10:02:29.212Z"
   },
   {
    "duration": 13,
    "start_time": "2022-08-12T10:02:29.220Z"
   },
   {
    "duration": 6,
    "start_time": "2022-08-12T10:02:29.235Z"
   },
   {
    "duration": 15,
    "start_time": "2022-08-12T10:02:29.242Z"
   },
   {
    "duration": 36,
    "start_time": "2022-08-12T10:02:29.258Z"
   },
   {
    "duration": 9,
    "start_time": "2022-08-12T10:02:29.296Z"
   },
   {
    "duration": 242,
    "start_time": "2022-08-12T10:02:29.306Z"
   },
   {
    "duration": 13,
    "start_time": "2022-08-12T10:02:29.550Z"
   },
   {
    "duration": 6,
    "start_time": "2022-08-12T10:02:29.565Z"
   },
   {
    "duration": 5,
    "start_time": "2022-08-12T10:02:29.587Z"
   },
   {
    "duration": 6,
    "start_time": "2022-08-12T10:02:29.594Z"
   },
   {
    "duration": 8,
    "start_time": "2022-08-12T10:02:29.602Z"
   },
   {
    "duration": 5,
    "start_time": "2022-08-12T10:02:29.612Z"
   },
   {
    "duration": 15,
    "start_time": "2022-08-12T10:02:29.618Z"
   },
   {
    "duration": 6,
    "start_time": "2022-08-12T10:02:29.637Z"
   },
   {
    "duration": 44,
    "start_time": "2022-08-12T10:02:29.644Z"
   },
   {
    "duration": 4769,
    "start_time": "2022-08-12T10:02:29.689Z"
   },
   {
    "duration": 6,
    "start_time": "2022-08-12T10:02:34.460Z"
   },
   {
    "duration": 9,
    "start_time": "2022-08-12T10:02:34.467Z"
   },
   {
    "duration": 10,
    "start_time": "2022-08-12T10:02:34.478Z"
   },
   {
    "duration": 5,
    "start_time": "2022-08-12T10:02:34.489Z"
   },
   {
    "duration": 9,
    "start_time": "2022-08-12T10:02:34.496Z"
   },
   {
    "duration": 2495,
    "start_time": "2022-08-12T10:02:34.506Z"
   },
   {
    "duration": 5,
    "start_time": "2022-08-12T10:02:37.003Z"
   },
   {
    "duration": 5,
    "start_time": "2022-08-12T10:02:37.010Z"
   },
   {
    "duration": 7,
    "start_time": "2022-08-12T10:02:37.016Z"
   },
   {
    "duration": 6,
    "start_time": "2022-08-12T10:02:37.024Z"
   },
   {
    "duration": 7,
    "start_time": "2022-08-12T10:02:37.031Z"
   },
   {
    "duration": 22,
    "start_time": "2022-08-12T10:02:37.040Z"
   },
   {
    "duration": 40,
    "start_time": "2022-08-12T10:02:37.064Z"
   },
   {
    "duration": 12,
    "start_time": "2022-08-12T10:02:37.105Z"
   },
   {
    "duration": 592,
    "start_time": "2022-08-12T10:02:37.118Z"
   },
   {
    "duration": 27,
    "start_time": "2022-08-12T10:02:37.711Z"
   },
   {
    "duration": 14,
    "start_time": "2022-08-12T10:02:37.740Z"
   },
   {
    "duration": 17,
    "start_time": "2022-08-12T10:02:37.756Z"
   },
   {
    "duration": 20,
    "start_time": "2022-08-12T10:02:37.774Z"
   },
   {
    "duration": 567,
    "start_time": "2022-08-12T10:02:37.795Z"
   },
   {
    "duration": 6,
    "start_time": "2022-08-12T10:02:38.363Z"
   },
   {
    "duration": 32,
    "start_time": "2022-08-12T10:02:38.370Z"
   },
   {
    "duration": 7,
    "start_time": "2022-08-12T10:02:38.404Z"
   },
   {
    "duration": 138,
    "start_time": "2022-08-12T10:02:38.412Z"
   },
   {
    "duration": 6,
    "start_time": "2022-08-12T10:02:38.552Z"
   },
   {
    "duration": 11,
    "start_time": "2022-08-12T10:02:38.560Z"
   },
   {
    "duration": 40,
    "start_time": "2022-08-12T10:02:38.572Z"
   },
   {
    "duration": 13,
    "start_time": "2022-08-12T10:02:38.613Z"
   },
   {
    "duration": 3,
    "start_time": "2022-08-12T10:02:38.628Z"
   },
   {
    "duration": 10,
    "start_time": "2022-08-12T10:02:38.632Z"
   },
   {
    "duration": 10,
    "start_time": "2022-08-12T10:02:38.643Z"
   },
   {
    "duration": 10,
    "start_time": "2022-08-12T10:02:38.654Z"
   },
   {
    "duration": 7,
    "start_time": "2022-08-12T10:02:38.687Z"
   },
   {
    "duration": 7,
    "start_time": "2022-08-12T10:02:38.695Z"
   },
   {
    "duration": 7,
    "start_time": "2022-08-12T10:02:38.704Z"
   },
   {
    "duration": 5,
    "start_time": "2022-08-12T10:02:38.712Z"
   },
   {
    "duration": 29,
    "start_time": "2022-08-12T10:02:38.718Z"
   },
   {
    "duration": 10,
    "start_time": "2022-08-12T10:02:38.748Z"
   },
   {
    "duration": 7,
    "start_time": "2022-08-12T10:02:38.760Z"
   },
   {
    "duration": 12,
    "start_time": "2022-08-12T10:02:38.769Z"
   },
   {
    "duration": 874,
    "start_time": "2022-08-12T10:02:38.787Z"
   },
   {
    "duration": 4,
    "start_time": "2022-08-12T10:02:39.663Z"
   },
   {
    "duration": 18,
    "start_time": "2022-08-12T10:02:39.669Z"
   },
   {
    "duration": 5,
    "start_time": "2022-08-12T10:02:39.689Z"
   },
   {
    "duration": 8,
    "start_time": "2022-08-12T10:02:39.696Z"
   },
   {
    "duration": 11,
    "start_time": "2022-08-12T10:02:39.705Z"
   },
   {
    "duration": 3,
    "start_time": "2022-08-12T10:02:39.717Z"
   },
   {
    "duration": 5,
    "start_time": "2022-08-12T10:02:39.722Z"
   },
   {
    "duration": 6518,
    "start_time": "2022-08-12T10:02:39.728Z"
   },
   {
    "duration": 3,
    "start_time": "2022-08-12T10:02:46.247Z"
   },
   {
    "duration": 16,
    "start_time": "2022-08-12T10:02:46.252Z"
   },
   {
    "duration": 3,
    "start_time": "2022-08-12T10:02:46.288Z"
   },
   {
    "duration": 4,
    "start_time": "2022-08-12T10:03:30.719Z"
   },
   {
    "duration": 153540,
    "start_time": "2022-08-12T10:03:34.919Z"
   },
   {
    "duration": 2,
    "start_time": "2022-08-12T10:06:08.461Z"
   },
   {
    "duration": 10,
    "start_time": "2022-08-12T10:06:08.465Z"
   },
   {
    "duration": 4,
    "start_time": "2022-08-12T10:09:10.388Z"
   },
   {
    "duration": 141623,
    "start_time": "2022-08-12T10:09:10.767Z"
   },
   {
    "duration": 2,
    "start_time": "2022-08-12T10:11:32.392Z"
   },
   {
    "duration": 16,
    "start_time": "2022-08-12T10:11:32.396Z"
   },
   {
    "duration": 4,
    "start_time": "2022-08-12T10:12:09.314Z"
   },
   {
    "duration": 350285,
    "start_time": "2022-08-12T10:12:09.662Z"
   },
   {
    "duration": 3,
    "start_time": "2022-08-12T10:17:59.949Z"
   },
   {
    "duration": 12,
    "start_time": "2022-08-12T10:17:59.953Z"
   },
   {
    "duration": 3,
    "start_time": "2022-08-12T10:23:15.565Z"
   },
   {
    "duration": 3,
    "start_time": "2022-08-12T10:23:20.630Z"
   },
   {
    "duration": 475139,
    "start_time": "2022-08-12T10:23:22.366Z"
   },
   {
    "duration": 5,
    "start_time": "2022-08-12T10:31:17.507Z"
   },
   {
    "duration": 3,
    "start_time": "2022-08-12T10:31:39.461Z"
   },
   {
    "duration": 8,
    "start_time": "2022-08-12T10:31:40.107Z"
   },
   {
    "duration": 4,
    "start_time": "2022-08-12T10:35:15.196Z"
   },
   {
    "duration": 3,
    "start_time": "2022-08-12T10:35:17.085Z"
   },
   {
    "duration": 158,
    "start_time": "2022-08-12T10:35:22.366Z"
   },
   {
    "duration": 11,
    "start_time": "2022-08-12T10:35:22.822Z"
   },
   {
    "duration": 3,
    "start_time": "2022-08-12T10:37:53.558Z"
   },
   {
    "duration": 932,
    "start_time": "2022-08-12T10:37:54.166Z"
   },
   {
    "duration": 7,
    "start_time": "2022-08-12T10:37:56.497Z"
   },
   {
    "duration": 4,
    "start_time": "2022-08-12T10:38:01.563Z"
   },
   {
    "duration": 3,
    "start_time": "2022-08-12T10:38:16.297Z"
   },
   {
    "duration": 3,
    "start_time": "2022-08-12T10:39:17.790Z"
   },
   {
    "duration": 2204,
    "start_time": "2022-08-12T10:39:18.288Z"
   },
   {
    "duration": 9,
    "start_time": "2022-08-12T10:39:20.494Z"
   },
   {
    "duration": 10,
    "start_time": "2022-08-12T10:39:20.504Z"
   },
   {
    "duration": 4,
    "start_time": "2022-08-12T10:39:29.510Z"
   },
   {
    "duration": 3,
    "start_time": "2022-08-12T10:39:41.166Z"
   },
   {
    "duration": 2,
    "start_time": "2022-08-12T10:39:44.062Z"
   },
   {
    "duration": 4,
    "start_time": "2022-08-12T10:39:44.269Z"
   },
   {
    "duration": 2300,
    "start_time": "2022-08-12T10:39:44.589Z"
   },
   {
    "duration": 7,
    "start_time": "2022-08-12T10:39:46.891Z"
   },
   {
    "duration": 8,
    "start_time": "2022-08-12T10:39:46.899Z"
   },
   {
    "duration": 10,
    "start_time": "2022-08-12T10:40:32.159Z"
   },
   {
    "duration": 1397,
    "start_time": "2022-08-12T10:40:32.170Z"
   },
   {
    "duration": 195,
    "start_time": "2022-08-12T10:40:33.569Z"
   },
   {
    "duration": 4,
    "start_time": "2022-08-12T10:40:33.765Z"
   },
   {
    "duration": 82,
    "start_time": "2022-08-12T10:40:33.771Z"
   },
   {
    "duration": 4,
    "start_time": "2022-08-12T10:40:33.855Z"
   },
   {
    "duration": 6,
    "start_time": "2022-08-12T10:40:33.887Z"
   },
   {
    "duration": 9,
    "start_time": "2022-08-12T10:40:33.895Z"
   },
   {
    "duration": 72,
    "start_time": "2022-08-12T10:40:33.905Z"
   },
   {
    "duration": 211,
    "start_time": "2022-08-12T10:40:33.988Z"
   },
   {
    "duration": 5,
    "start_time": "2022-08-12T10:40:34.202Z"
   },
   {
    "duration": 6,
    "start_time": "2022-08-12T10:40:34.208Z"
   },
   {
    "duration": 21,
    "start_time": "2022-08-12T10:40:34.215Z"
   },
   {
    "duration": 54,
    "start_time": "2022-08-12T10:40:34.237Z"
   },
   {
    "duration": 7,
    "start_time": "2022-08-12T10:40:34.293Z"
   },
   {
    "duration": 19,
    "start_time": "2022-08-12T10:40:34.302Z"
   },
   {
    "duration": 6,
    "start_time": "2022-08-12T10:40:34.322Z"
   },
   {
    "duration": 17,
    "start_time": "2022-08-12T10:40:34.329Z"
   },
   {
    "duration": 14,
    "start_time": "2022-08-12T10:40:34.347Z"
   },
   {
    "duration": 27,
    "start_time": "2022-08-12T10:40:34.363Z"
   },
   {
    "duration": 246,
    "start_time": "2022-08-12T10:40:34.392Z"
   },
   {
    "duration": 13,
    "start_time": "2022-08-12T10:40:34.639Z"
   },
   {
    "duration": 5,
    "start_time": "2022-08-12T10:40:34.654Z"
   },
   {
    "duration": 7,
    "start_time": "2022-08-12T10:40:34.661Z"
   },
   {
    "duration": 5,
    "start_time": "2022-08-12T10:40:34.686Z"
   },
   {
    "duration": 9,
    "start_time": "2022-08-12T10:40:34.692Z"
   },
   {
    "duration": 8,
    "start_time": "2022-08-12T10:40:34.703Z"
   },
   {
    "duration": 17,
    "start_time": "2022-08-12T10:40:34.712Z"
   },
   {
    "duration": 6,
    "start_time": "2022-08-12T10:40:34.733Z"
   },
   {
    "duration": 15,
    "start_time": "2022-08-12T10:40:34.741Z"
   },
   {
    "duration": 4997,
    "start_time": "2022-08-12T10:40:34.758Z"
   },
   {
    "duration": 9,
    "start_time": "2022-08-12T10:40:39.757Z"
   },
   {
    "duration": 6,
    "start_time": "2022-08-12T10:40:39.768Z"
   },
   {
    "duration": 12,
    "start_time": "2022-08-12T10:40:39.775Z"
   },
   {
    "duration": 5,
    "start_time": "2022-08-12T10:40:39.789Z"
   },
   {
    "duration": 10,
    "start_time": "2022-08-12T10:40:39.796Z"
   },
   {
    "duration": 2519,
    "start_time": "2022-08-12T10:40:39.807Z"
   },
   {
    "duration": 6,
    "start_time": "2022-08-12T10:40:42.327Z"
   },
   {
    "duration": 7,
    "start_time": "2022-08-12T10:40:42.335Z"
   },
   {
    "duration": 8,
    "start_time": "2022-08-12T10:40:42.343Z"
   },
   {
    "duration": 11,
    "start_time": "2022-08-12T10:40:42.352Z"
   },
   {
    "duration": 6,
    "start_time": "2022-08-12T10:40:42.365Z"
   },
   {
    "duration": 27,
    "start_time": "2022-08-12T10:40:42.372Z"
   },
   {
    "duration": 18,
    "start_time": "2022-08-12T10:40:42.400Z"
   },
   {
    "duration": 12,
    "start_time": "2022-08-12T10:40:42.420Z"
   },
   {
    "duration": 645,
    "start_time": "2022-08-12T10:40:42.434Z"
   },
   {
    "duration": 28,
    "start_time": "2022-08-12T10:40:43.081Z"
   },
   {
    "duration": 12,
    "start_time": "2022-08-12T10:40:43.111Z"
   },
   {
    "duration": 14,
    "start_time": "2022-08-12T10:40:43.125Z"
   },
   {
    "duration": 5,
    "start_time": "2022-08-12T10:40:43.141Z"
   },
   {
    "duration": 625,
    "start_time": "2022-08-12T10:40:43.147Z"
   },
   {
    "duration": 13,
    "start_time": "2022-08-12T10:40:43.774Z"
   },
   {
    "duration": 17,
    "start_time": "2022-08-12T10:40:43.789Z"
   },
   {
    "duration": 10,
    "start_time": "2022-08-12T10:40:43.808Z"
   },
   {
    "duration": 161,
    "start_time": "2022-08-12T10:40:43.819Z"
   },
   {
    "duration": 8,
    "start_time": "2022-08-12T10:40:43.982Z"
   },
   {
    "duration": 13,
    "start_time": "2022-08-12T10:40:43.992Z"
   },
   {
    "duration": 29,
    "start_time": "2022-08-12T10:40:44.006Z"
   },
   {
    "duration": 15,
    "start_time": "2022-08-12T10:40:44.037Z"
   },
   {
    "duration": 11,
    "start_time": "2022-08-12T10:40:44.054Z"
   },
   {
    "duration": 8,
    "start_time": "2022-08-12T10:40:44.087Z"
   },
   {
    "duration": 9,
    "start_time": "2022-08-12T10:40:44.096Z"
   },
   {
    "duration": 22,
    "start_time": "2022-08-12T10:40:44.106Z"
   },
   {
    "duration": 8,
    "start_time": "2022-08-12T10:40:44.129Z"
   },
   {
    "duration": 10,
    "start_time": "2022-08-12T10:40:44.139Z"
   },
   {
    "duration": 6,
    "start_time": "2022-08-12T10:40:44.151Z"
   },
   {
    "duration": 5,
    "start_time": "2022-08-12T10:40:44.158Z"
   },
   {
    "duration": 12,
    "start_time": "2022-08-12T10:40:44.186Z"
   },
   {
    "duration": 12,
    "start_time": "2022-08-12T10:40:44.200Z"
   },
   {
    "duration": 6,
    "start_time": "2022-08-12T10:40:44.213Z"
   },
   {
    "duration": 7,
    "start_time": "2022-08-12T10:40:44.220Z"
   },
   {
    "duration": 972,
    "start_time": "2022-08-12T10:40:44.228Z"
   },
   {
    "duration": 4,
    "start_time": "2022-08-12T10:40:45.201Z"
   },
   {
    "duration": 16,
    "start_time": "2022-08-12T10:40:45.207Z"
   },
   {
    "duration": 9,
    "start_time": "2022-08-12T10:40:45.225Z"
   },
   {
    "duration": 15,
    "start_time": "2022-08-12T10:40:45.236Z"
   },
   {
    "duration": 16,
    "start_time": "2022-08-12T10:40:45.253Z"
   },
   {
    "duration": 9,
    "start_time": "2022-08-12T10:40:45.270Z"
   },
   {
    "duration": 10,
    "start_time": "2022-08-12T10:40:45.280Z"
   },
   {
    "duration": 6680,
    "start_time": "2022-08-12T10:40:45.291Z"
   },
   {
    "duration": 2,
    "start_time": "2022-08-12T10:40:51.973Z"
   },
   {
    "duration": 8,
    "start_time": "2022-08-12T10:40:51.986Z"
   },
   {
    "duration": 12,
    "start_time": "2022-08-12T10:40:51.999Z"
   },
   {
    "duration": 191841,
    "start_time": "2022-08-12T10:40:52.013Z"
   },
   {
    "duration": 3,
    "start_time": "2022-08-12T10:44:03.856Z"
   },
   {
    "duration": 43,
    "start_time": "2022-08-12T10:44:03.860Z"
   },
   {
    "duration": 33,
    "start_time": "2022-08-12T10:44:03.905Z"
   },
   {
    "duration": 23,
    "start_time": "2022-08-12T10:44:03.940Z"
   },
   {
    "duration": 891934,
    "start_time": "2022-08-12T10:44:03.964Z"
   },
   {
    "duration": 3,
    "start_time": "2022-08-12T10:58:55.899Z"
   },
   {
    "duration": 14,
    "start_time": "2022-08-12T10:58:55.903Z"
   },
   {
    "duration": 73,
    "start_time": "2022-08-12T10:58:55.919Z"
   },
   {
    "duration": 14,
    "start_time": "2022-08-12T10:58:55.994Z"
   },
   {
    "duration": 19,
    "start_time": "2022-08-12T10:58:56.010Z"
   },
   {
    "duration": 11,
    "start_time": "2022-08-12T10:58:56.030Z"
   },
   {
    "duration": 983,
    "start_time": "2022-08-12T10:58:56.043Z"
   },
   {
    "duration": 28,
    "start_time": "2022-08-12T10:58:57.027Z"
   },
   {
    "duration": 3,
    "start_time": "2022-08-12T10:58:57.056Z"
   },
   {
    "duration": 7,
    "start_time": "2022-08-12T10:58:57.060Z"
   },
   {
    "duration": 2229,
    "start_time": "2022-08-12T10:58:57.069Z"
   },
   {
    "duration": 88,
    "start_time": "2022-08-12T10:58:59.300Z"
   },
   {
    "duration": 7,
    "start_time": "2022-08-12T10:58:59.390Z"
   },
   {
    "duration": 7,
    "start_time": "2022-08-12T10:58:59.398Z"
   },
   {
    "duration": 17,
    "start_time": "2022-08-12T10:58:59.406Z"
   },
   {
    "duration": 11,
    "start_time": "2022-08-12T10:58:59.425Z"
   },
   {
    "duration": 4,
    "start_time": "2022-08-12T10:58:59.487Z"
   },
   {
    "duration": 302,
    "start_time": "2022-08-12T10:58:59.492Z"
   },
   {
    "duration": 5,
    "start_time": "2022-08-12T10:58:59.796Z"
   },
   {
    "duration": 10,
    "start_time": "2022-08-12T11:03:18.810Z"
   },
   {
    "duration": 1480,
    "start_time": "2022-08-12T11:03:18.822Z"
   },
   {
    "duration": 196,
    "start_time": "2022-08-12T11:03:20.303Z"
   },
   {
    "duration": 3,
    "start_time": "2022-08-12T11:03:20.501Z"
   },
   {
    "duration": 82,
    "start_time": "2022-08-12T11:03:20.506Z"
   },
   {
    "duration": 4,
    "start_time": "2022-08-12T11:03:20.589Z"
   },
   {
    "duration": 8,
    "start_time": "2022-08-12T11:03:20.594Z"
   },
   {
    "duration": 6,
    "start_time": "2022-08-12T11:03:20.603Z"
   },
   {
    "duration": 53,
    "start_time": "2022-08-12T11:03:20.610Z"
   },
   {
    "duration": 176,
    "start_time": "2022-08-12T11:03:20.665Z"
   },
   {
    "duration": 5,
    "start_time": "2022-08-12T11:03:20.843Z"
   },
   {
    "duration": 37,
    "start_time": "2022-08-12T11:03:20.850Z"
   },
   {
    "duration": 19,
    "start_time": "2022-08-12T11:03:20.888Z"
   },
   {
    "duration": 19,
    "start_time": "2022-08-12T11:03:20.909Z"
   },
   {
    "duration": 6,
    "start_time": "2022-08-12T11:03:20.929Z"
   },
   {
    "duration": 11,
    "start_time": "2022-08-12T11:03:20.937Z"
   },
   {
    "duration": 5,
    "start_time": "2022-08-12T11:03:20.950Z"
   },
   {
    "duration": 39,
    "start_time": "2022-08-12T11:03:20.956Z"
   },
   {
    "duration": 12,
    "start_time": "2022-08-12T11:03:20.997Z"
   },
   {
    "duration": 5,
    "start_time": "2022-08-12T11:03:21.011Z"
   },
   {
    "duration": 248,
    "start_time": "2022-08-12T11:03:21.018Z"
   },
   {
    "duration": 23,
    "start_time": "2022-08-12T11:03:21.267Z"
   },
   {
    "duration": 5,
    "start_time": "2022-08-12T11:03:21.291Z"
   },
   {
    "duration": 9,
    "start_time": "2022-08-12T11:03:21.298Z"
   },
   {
    "duration": 6,
    "start_time": "2022-08-12T11:03:21.308Z"
   },
   {
    "duration": 8,
    "start_time": "2022-08-12T11:03:21.315Z"
   },
   {
    "duration": 4,
    "start_time": "2022-08-12T11:03:21.325Z"
   },
   {
    "duration": 11,
    "start_time": "2022-08-12T11:03:21.331Z"
   },
   {
    "duration": 6,
    "start_time": "2022-08-12T11:03:21.346Z"
   },
   {
    "duration": 39,
    "start_time": "2022-08-12T11:03:21.353Z"
   },
   {
    "duration": 4964,
    "start_time": "2022-08-12T11:03:21.394Z"
   },
   {
    "duration": 8,
    "start_time": "2022-08-12T11:03:26.361Z"
   },
   {
    "duration": 12,
    "start_time": "2022-08-12T11:03:26.371Z"
   },
   {
    "duration": 15,
    "start_time": "2022-08-12T11:03:26.385Z"
   },
   {
    "duration": 15,
    "start_time": "2022-08-12T11:03:26.402Z"
   },
   {
    "duration": 17,
    "start_time": "2022-08-12T11:03:26.419Z"
   },
   {
    "duration": 2418,
    "start_time": "2022-08-12T11:03:26.438Z"
   },
   {
    "duration": 6,
    "start_time": "2022-08-12T11:03:28.857Z"
   },
   {
    "duration": 24,
    "start_time": "2022-08-12T11:03:28.864Z"
   },
   {
    "duration": 14,
    "start_time": "2022-08-12T11:03:28.890Z"
   },
   {
    "duration": 14,
    "start_time": "2022-08-12T11:03:28.905Z"
   },
   {
    "duration": 11,
    "start_time": "2022-08-12T11:03:28.920Z"
   },
   {
    "duration": 39,
    "start_time": "2022-08-12T11:03:28.932Z"
   },
   {
    "duration": 24,
    "start_time": "2022-08-12T11:03:28.973Z"
   },
   {
    "duration": 23,
    "start_time": "2022-08-12T11:03:28.999Z"
   },
   {
    "duration": 566,
    "start_time": "2022-08-12T11:03:29.024Z"
   },
   {
    "duration": 22,
    "start_time": "2022-08-12T11:03:29.592Z"
   },
   {
    "duration": 11,
    "start_time": "2022-08-12T11:03:29.615Z"
   },
   {
    "duration": 15,
    "start_time": "2022-08-12T11:03:29.627Z"
   },
   {
    "duration": 5,
    "start_time": "2022-08-12T11:03:29.644Z"
   },
   {
    "duration": 629,
    "start_time": "2022-08-12T11:03:29.651Z"
   },
   {
    "duration": 6,
    "start_time": "2022-08-12T11:03:30.286Z"
   },
   {
    "duration": 44,
    "start_time": "2022-08-12T11:03:30.294Z"
   },
   {
    "duration": 51,
    "start_time": "2022-08-12T11:03:30.340Z"
   },
   {
    "duration": 146,
    "start_time": "2022-08-12T11:03:30.393Z"
   },
   {
    "duration": 6,
    "start_time": "2022-08-12T11:03:30.541Z"
   },
   {
    "duration": 36,
    "start_time": "2022-08-12T11:03:30.549Z"
   },
   {
    "duration": 36,
    "start_time": "2022-08-12T11:03:30.587Z"
   },
   {
    "duration": 13,
    "start_time": "2022-08-12T11:03:30.625Z"
   },
   {
    "duration": 48,
    "start_time": "2022-08-12T11:03:30.639Z"
   },
   {
    "duration": 54,
    "start_time": "2022-08-12T11:03:30.688Z"
   },
   {
    "duration": 11,
    "start_time": "2022-08-12T11:03:30.743Z"
   },
   {
    "duration": 72,
    "start_time": "2022-08-12T11:03:30.755Z"
   },
   {
    "duration": 15,
    "start_time": "2022-08-12T11:03:30.829Z"
   },
   {
    "duration": 13,
    "start_time": "2022-08-12T11:03:30.845Z"
   },
   {
    "duration": 33,
    "start_time": "2022-08-12T11:03:30.860Z"
   },
   {
    "duration": 21,
    "start_time": "2022-08-12T11:03:30.895Z"
   },
   {
    "duration": 17,
    "start_time": "2022-08-12T11:03:30.918Z"
   },
   {
    "duration": 17,
    "start_time": "2022-08-12T11:03:30.937Z"
   },
   {
    "duration": 12,
    "start_time": "2022-08-12T11:03:30.956Z"
   },
   {
    "duration": 6,
    "start_time": "2022-08-12T11:03:30.970Z"
   },
   {
    "duration": 888,
    "start_time": "2022-08-12T11:03:30.978Z"
   },
   {
    "duration": 5,
    "start_time": "2022-08-12T11:03:31.868Z"
   },
   {
    "duration": 15,
    "start_time": "2022-08-12T11:03:31.874Z"
   },
   {
    "duration": 7,
    "start_time": "2022-08-12T11:03:31.890Z"
   },
   {
    "duration": 12,
    "start_time": "2022-08-12T11:03:31.898Z"
   },
   {
    "duration": 12,
    "start_time": "2022-08-12T11:03:31.911Z"
   },
   {
    "duration": 18,
    "start_time": "2022-08-12T11:03:31.925Z"
   },
   {
    "duration": 10,
    "start_time": "2022-08-12T11:03:31.944Z"
   },
   {
    "duration": 6849,
    "start_time": "2022-08-12T11:03:31.955Z"
   },
   {
    "duration": 3,
    "start_time": "2022-08-12T11:03:38.805Z"
   },
   {
    "duration": 11,
    "start_time": "2022-08-12T11:03:38.810Z"
   },
   {
    "duration": 4,
    "start_time": "2022-08-12T11:03:38.826Z"
   },
   {
    "duration": 196588,
    "start_time": "2022-08-12T11:03:38.832Z"
   },
   {
    "duration": 3,
    "start_time": "2022-08-12T11:06:55.421Z"
   },
   {
    "duration": 11,
    "start_time": "2022-08-12T11:06:55.426Z"
   },
   {
    "duration": 8,
    "start_time": "2022-08-12T11:06:55.438Z"
   },
   {
    "duration": 7,
    "start_time": "2022-08-12T11:06:55.447Z"
   },
   {
    "duration": 537140,
    "start_time": "2022-08-12T11:06:55.455Z"
   },
   {
    "duration": 3,
    "start_time": "2022-08-12T11:15:52.596Z"
   },
   {
    "duration": 11,
    "start_time": "2022-08-12T11:15:52.601Z"
   },
   {
    "duration": 13,
    "start_time": "2022-08-12T11:15:52.614Z"
   },
   {
    "duration": 67,
    "start_time": "2022-08-12T11:15:52.628Z"
   },
   {
    "duration": 9,
    "start_time": "2022-08-12T11:15:52.697Z"
   },
   {
    "duration": 7,
    "start_time": "2022-08-12T11:15:52.708Z"
   },
   {
    "duration": 1418,
    "start_time": "2022-08-12T11:15:52.716Z"
   },
   {
    "duration": 33,
    "start_time": "2022-08-12T11:15:54.136Z"
   },
   {
    "duration": 3,
    "start_time": "2022-08-12T11:15:54.170Z"
   },
   {
    "duration": 2016,
    "start_time": "2022-08-12T11:15:54.174Z"
   },
   {
    "duration": 16,
    "start_time": "2022-08-12T11:15:56.191Z"
   },
   {
    "duration": 78,
    "start_time": "2022-08-12T11:15:56.209Z"
   },
   {
    "duration": 26,
    "start_time": "2022-08-12T11:15:56.289Z"
   },
   {
    "duration": 24,
    "start_time": "2022-08-12T11:15:56.317Z"
   },
   {
    "duration": 18,
    "start_time": "2022-08-12T11:15:56.343Z"
   },
   {
    "duration": 311,
    "start_time": "2022-08-12T11:15:56.363Z"
   },
   {
    "duration": 11,
    "start_time": "2022-08-12T11:15:56.676Z"
   },
   {
    "duration": 10,
    "start_time": "2022-08-12T11:17:15.908Z"
   },
   {
    "duration": 1529,
    "start_time": "2022-08-12T11:17:15.919Z"
   },
   {
    "duration": 203,
    "start_time": "2022-08-12T11:17:17.451Z"
   },
   {
    "duration": 3,
    "start_time": "2022-08-12T11:17:17.655Z"
   },
   {
    "duration": 68,
    "start_time": "2022-08-12T11:17:17.660Z"
   },
   {
    "duration": 3,
    "start_time": "2022-08-12T11:17:17.730Z"
   },
   {
    "duration": 9,
    "start_time": "2022-08-12T11:17:17.734Z"
   },
   {
    "duration": 6,
    "start_time": "2022-08-12T11:17:17.745Z"
   },
   {
    "duration": 83,
    "start_time": "2022-08-12T11:17:17.752Z"
   },
   {
    "duration": 194,
    "start_time": "2022-08-12T11:17:17.837Z"
   },
   {
    "duration": 20,
    "start_time": "2022-08-12T11:17:18.034Z"
   },
   {
    "duration": 16,
    "start_time": "2022-08-12T11:17:18.056Z"
   },
   {
    "duration": 32,
    "start_time": "2022-08-12T11:17:18.074Z"
   },
   {
    "duration": 18,
    "start_time": "2022-08-12T11:17:18.108Z"
   },
   {
    "duration": 6,
    "start_time": "2022-08-12T11:17:18.128Z"
   },
   {
    "duration": 10,
    "start_time": "2022-08-12T11:17:18.136Z"
   },
   {
    "duration": 39,
    "start_time": "2022-08-12T11:17:18.148Z"
   },
   {
    "duration": 12,
    "start_time": "2022-08-12T11:17:18.188Z"
   },
   {
    "duration": 13,
    "start_time": "2022-08-12T11:17:18.201Z"
   },
   {
    "duration": 6,
    "start_time": "2022-08-12T11:17:18.216Z"
   },
   {
    "duration": 259,
    "start_time": "2022-08-12T11:17:18.224Z"
   },
   {
    "duration": 14,
    "start_time": "2022-08-12T11:17:18.486Z"
   },
   {
    "duration": 5,
    "start_time": "2022-08-12T11:17:18.502Z"
   },
   {
    "duration": 8,
    "start_time": "2022-08-12T11:17:18.509Z"
   },
   {
    "duration": 6,
    "start_time": "2022-08-12T11:17:18.519Z"
   },
   {
    "duration": 10,
    "start_time": "2022-08-12T11:17:18.526Z"
   },
   {
    "duration": 6,
    "start_time": "2022-08-12T11:17:18.537Z"
   },
   {
    "duration": 16,
    "start_time": "2022-08-12T11:17:18.544Z"
   },
   {
    "duration": 7,
    "start_time": "2022-08-12T11:17:18.586Z"
   },
   {
    "duration": 12,
    "start_time": "2022-08-12T11:17:18.595Z"
   },
   {
    "duration": 4921,
    "start_time": "2022-08-12T11:17:18.609Z"
   },
   {
    "duration": 6,
    "start_time": "2022-08-12T11:17:23.532Z"
   },
   {
    "duration": 13,
    "start_time": "2022-08-12T11:17:23.539Z"
   },
   {
    "duration": 16,
    "start_time": "2022-08-12T11:17:23.553Z"
   },
   {
    "duration": 5,
    "start_time": "2022-08-12T11:17:23.571Z"
   },
   {
    "duration": 11,
    "start_time": "2022-08-12T11:17:23.577Z"
   },
   {
    "duration": 2431,
    "start_time": "2022-08-12T11:17:23.589Z"
   },
   {
    "duration": 6,
    "start_time": "2022-08-12T11:17:26.021Z"
   },
   {
    "duration": 11,
    "start_time": "2022-08-12T11:17:26.029Z"
   },
   {
    "duration": 9,
    "start_time": "2022-08-12T11:17:26.041Z"
   },
   {
    "duration": 4,
    "start_time": "2022-08-12T11:17:26.052Z"
   },
   {
    "duration": 5,
    "start_time": "2022-08-12T11:17:26.058Z"
   },
   {
    "duration": 35,
    "start_time": "2022-08-12T11:17:26.065Z"
   },
   {
    "duration": 18,
    "start_time": "2022-08-12T11:17:26.101Z"
   },
   {
    "duration": 10,
    "start_time": "2022-08-12T11:17:26.121Z"
   },
   {
    "duration": 662,
    "start_time": "2022-08-12T11:17:26.133Z"
   },
   {
    "duration": 21,
    "start_time": "2022-08-12T11:17:26.797Z"
   },
   {
    "duration": 11,
    "start_time": "2022-08-12T11:17:26.819Z"
   },
   {
    "duration": 14,
    "start_time": "2022-08-12T11:17:26.832Z"
   },
   {
    "duration": 5,
    "start_time": "2022-08-12T11:17:26.848Z"
   },
   {
    "duration": 644,
    "start_time": "2022-08-12T11:17:26.854Z"
   },
   {
    "duration": 6,
    "start_time": "2022-08-12T11:17:27.499Z"
   },
   {
    "duration": 16,
    "start_time": "2022-08-12T11:17:27.507Z"
   },
   {
    "duration": 7,
    "start_time": "2022-08-12T11:17:27.525Z"
   },
   {
    "duration": 170,
    "start_time": "2022-08-12T11:17:27.534Z"
   },
   {
    "duration": 7,
    "start_time": "2022-08-12T11:17:27.706Z"
   },
   {
    "duration": 15,
    "start_time": "2022-08-12T11:17:27.715Z"
   },
   {
    "duration": 28,
    "start_time": "2022-08-12T11:17:27.732Z"
   },
   {
    "duration": 32,
    "start_time": "2022-08-12T11:17:27.762Z"
   },
   {
    "duration": 4,
    "start_time": "2022-08-12T11:17:27.796Z"
   },
   {
    "duration": 12,
    "start_time": "2022-08-12T11:17:27.802Z"
   },
   {
    "duration": 13,
    "start_time": "2022-08-12T11:17:27.815Z"
   },
   {
    "duration": 17,
    "start_time": "2022-08-12T11:17:27.830Z"
   },
   {
    "duration": 11,
    "start_time": "2022-08-12T11:17:27.849Z"
   },
   {
    "duration": 7,
    "start_time": "2022-08-12T11:17:27.862Z"
   },
   {
    "duration": 17,
    "start_time": "2022-08-12T11:17:27.870Z"
   },
   {
    "duration": 7,
    "start_time": "2022-08-12T11:17:27.888Z"
   },
   {
    "duration": 17,
    "start_time": "2022-08-12T11:17:27.897Z"
   },
   {
    "duration": 10,
    "start_time": "2022-08-12T11:17:27.915Z"
   },
   {
    "duration": 7,
    "start_time": "2022-08-12T11:17:27.926Z"
   },
   {
    "duration": 4,
    "start_time": "2022-08-12T11:17:27.934Z"
   },
   {
    "duration": 963,
    "start_time": "2022-08-12T11:17:27.940Z"
   },
   {
    "duration": 4,
    "start_time": "2022-08-12T11:17:28.905Z"
   },
   {
    "duration": 17,
    "start_time": "2022-08-12T11:17:28.910Z"
   },
   {
    "duration": 8,
    "start_time": "2022-08-12T11:17:28.928Z"
   },
   {
    "duration": 7,
    "start_time": "2022-08-12T11:17:28.937Z"
   },
   {
    "duration": 11,
    "start_time": "2022-08-12T11:17:28.945Z"
   },
   {
    "duration": 6,
    "start_time": "2022-08-12T11:17:28.958Z"
   },
   {
    "duration": 6,
    "start_time": "2022-08-12T11:17:28.966Z"
   },
   {
    "duration": 6915,
    "start_time": "2022-08-12T11:17:28.973Z"
   },
   {
    "duration": 3,
    "start_time": "2022-08-12T11:17:35.890Z"
   },
   {
    "duration": 13,
    "start_time": "2022-08-12T11:17:35.895Z"
   },
   {
    "duration": 4,
    "start_time": "2022-08-12T11:17:35.914Z"
   },
   {
    "duration": 197229,
    "start_time": "2022-08-12T11:17:35.919Z"
   },
   {
    "duration": 3,
    "start_time": "2022-08-12T11:20:53.150Z"
   },
   {
    "duration": 10,
    "start_time": "2022-08-12T11:20:53.155Z"
   },
   {
    "duration": 8,
    "start_time": "2022-08-12T11:20:53.167Z"
   },
   {
    "duration": 4,
    "start_time": "2022-08-12T11:20:53.187Z"
   },
   {
    "duration": 1814695,
    "start_time": "2022-08-12T11:20:53.193Z"
   },
   {
    "duration": 2,
    "start_time": "2022-08-12T11:51:07.890Z"
   },
   {
    "duration": 11,
    "start_time": "2022-08-12T11:51:07.894Z"
   },
   {
    "duration": 13,
    "start_time": "2022-08-12T11:51:07.906Z"
   },
   {
    "duration": 13,
    "start_time": "2022-08-12T11:51:07.920Z"
   },
   {
    "duration": 11,
    "start_time": "2022-08-12T11:51:07.935Z"
   },
   {
    "duration": 4,
    "start_time": "2022-08-12T11:51:07.947Z"
   },
   {
    "duration": 1495,
    "start_time": "2022-08-12T11:51:07.953Z"
   },
   {
    "duration": 40,
    "start_time": "2022-08-12T11:51:09.450Z"
   },
   {
    "duration": 2,
    "start_time": "2022-08-12T11:51:09.492Z"
   },
   {
    "duration": 1996,
    "start_time": "2022-08-12T11:51:09.496Z"
   },
   {
    "duration": 9,
    "start_time": "2022-08-12T11:51:11.493Z"
   },
   {
    "duration": 7,
    "start_time": "2022-08-12T11:51:11.504Z"
   },
   {
    "duration": 89,
    "start_time": "2022-08-12T11:51:11.513Z"
   },
   {
    "duration": 15,
    "start_time": "2022-08-12T11:51:11.604Z"
   },
   {
    "duration": 5,
    "start_time": "2022-08-12T11:51:11.621Z"
   },
   {
    "duration": 287,
    "start_time": "2022-08-12T11:51:11.628Z"
   },
   {
    "duration": 5,
    "start_time": "2022-08-12T11:51:11.917Z"
   },
   {
    "duration": 10,
    "start_time": "2022-08-12T11:59:32.235Z"
   },
   {
    "duration": 1400,
    "start_time": "2022-08-12T11:59:32.246Z"
   },
   {
    "duration": 202,
    "start_time": "2022-08-12T11:59:33.648Z"
   },
   {
    "duration": 4,
    "start_time": "2022-08-12T11:59:33.852Z"
   },
   {
    "duration": 74,
    "start_time": "2022-08-12T11:59:33.858Z"
   },
   {
    "duration": 3,
    "start_time": "2022-08-12T11:59:33.934Z"
   },
   {
    "duration": 10,
    "start_time": "2022-08-12T11:59:33.939Z"
   },
   {
    "duration": 6,
    "start_time": "2022-08-12T11:59:33.951Z"
   },
   {
    "duration": 76,
    "start_time": "2022-08-12T11:59:33.959Z"
   },
   {
    "duration": 183,
    "start_time": "2022-08-12T11:59:34.037Z"
   },
   {
    "duration": 5,
    "start_time": "2022-08-12T11:59:34.222Z"
   },
   {
    "duration": 6,
    "start_time": "2022-08-12T11:59:34.228Z"
   },
   {
    "duration": 21,
    "start_time": "2022-08-12T11:59:34.235Z"
   },
   {
    "duration": 45,
    "start_time": "2022-08-12T11:59:34.257Z"
   },
   {
    "duration": 7,
    "start_time": "2022-08-12T11:59:34.303Z"
   },
   {
    "duration": 12,
    "start_time": "2022-08-12T11:59:34.311Z"
   },
   {
    "duration": 5,
    "start_time": "2022-08-12T11:59:34.325Z"
   },
   {
    "duration": 10,
    "start_time": "2022-08-12T11:59:34.332Z"
   },
   {
    "duration": 13,
    "start_time": "2022-08-12T11:59:34.344Z"
   },
   {
    "duration": 34,
    "start_time": "2022-08-12T11:59:34.358Z"
   },
   {
    "duration": 238,
    "start_time": "2022-08-12T11:59:34.393Z"
   },
   {
    "duration": 12,
    "start_time": "2022-08-12T11:59:34.633Z"
   },
   {
    "duration": 5,
    "start_time": "2022-08-12T11:59:34.647Z"
   },
   {
    "duration": 6,
    "start_time": "2022-08-12T11:59:34.653Z"
   },
   {
    "duration": 5,
    "start_time": "2022-08-12T11:59:34.660Z"
   },
   {
    "duration": 25,
    "start_time": "2022-08-12T11:59:34.666Z"
   },
   {
    "duration": 3,
    "start_time": "2022-08-12T11:59:34.693Z"
   },
   {
    "duration": 12,
    "start_time": "2022-08-12T11:59:34.698Z"
   },
   {
    "duration": 5,
    "start_time": "2022-08-12T11:59:34.714Z"
   },
   {
    "duration": 10,
    "start_time": "2022-08-12T11:59:34.721Z"
   },
   {
    "duration": 4781,
    "start_time": "2022-08-12T11:59:34.733Z"
   },
   {
    "duration": 8,
    "start_time": "2022-08-12T11:59:39.516Z"
   },
   {
    "duration": 6,
    "start_time": "2022-08-12T11:59:39.526Z"
   },
   {
    "duration": 12,
    "start_time": "2022-08-12T11:59:39.534Z"
   },
   {
    "duration": 6,
    "start_time": "2022-08-12T11:59:39.548Z"
   },
   {
    "duration": 10,
    "start_time": "2022-08-12T11:59:39.555Z"
   },
   {
    "duration": 2484,
    "start_time": "2022-08-12T11:59:39.567Z"
   },
   {
    "duration": 6,
    "start_time": "2022-08-12T11:59:42.053Z"
   },
   {
    "duration": 6,
    "start_time": "2022-08-12T11:59:42.061Z"
   },
   {
    "duration": 19,
    "start_time": "2022-08-12T11:59:42.068Z"
   },
   {
    "duration": 4,
    "start_time": "2022-08-12T11:59:42.089Z"
   },
   {
    "duration": 9,
    "start_time": "2022-08-12T11:59:42.094Z"
   },
   {
    "duration": 21,
    "start_time": "2022-08-12T11:59:42.104Z"
   },
   {
    "duration": 17,
    "start_time": "2022-08-12T11:59:42.126Z"
   },
   {
    "duration": 10,
    "start_time": "2022-08-12T11:59:42.144Z"
   },
   {
    "duration": 626,
    "start_time": "2022-08-12T11:59:42.155Z"
   },
   {
    "duration": 22,
    "start_time": "2022-08-12T11:59:42.783Z"
   },
   {
    "duration": 11,
    "start_time": "2022-08-12T11:59:42.807Z"
   },
   {
    "duration": 11,
    "start_time": "2022-08-12T11:59:42.820Z"
   },
   {
    "duration": 15,
    "start_time": "2022-08-12T11:59:42.832Z"
   },
   {
    "duration": 614,
    "start_time": "2022-08-12T11:59:42.849Z"
   },
   {
    "duration": 7,
    "start_time": "2022-08-12T11:59:43.464Z"
   },
   {
    "duration": 26,
    "start_time": "2022-08-12T11:59:43.473Z"
   },
   {
    "duration": 7,
    "start_time": "2022-08-12T11:59:43.501Z"
   },
   {
    "duration": 142,
    "start_time": "2022-08-12T11:59:43.509Z"
   },
   {
    "duration": 6,
    "start_time": "2022-08-12T11:59:43.653Z"
   },
   {
    "duration": 11,
    "start_time": "2022-08-12T11:59:43.661Z"
   },
   {
    "duration": 35,
    "start_time": "2022-08-12T11:59:43.673Z"
   },
   {
    "duration": 13,
    "start_time": "2022-08-12T11:59:43.710Z"
   },
   {
    "duration": 6,
    "start_time": "2022-08-12T11:59:43.724Z"
   },
   {
    "duration": 8,
    "start_time": "2022-08-12T11:59:43.731Z"
   },
   {
    "duration": 10,
    "start_time": "2022-08-12T11:59:43.740Z"
   },
   {
    "duration": 11,
    "start_time": "2022-08-12T11:59:43.751Z"
   },
   {
    "duration": 30,
    "start_time": "2022-08-12T11:59:43.764Z"
   },
   {
    "duration": 7,
    "start_time": "2022-08-12T11:59:43.795Z"
   },
   {
    "duration": 8,
    "start_time": "2022-08-12T11:59:43.803Z"
   },
   {
    "duration": 5,
    "start_time": "2022-08-12T11:59:43.812Z"
   },
   {
    "duration": 13,
    "start_time": "2022-08-12T11:59:43.819Z"
   },
   {
    "duration": 9,
    "start_time": "2022-08-12T11:59:43.834Z"
   },
   {
    "duration": 5,
    "start_time": "2022-08-12T11:59:43.845Z"
   },
   {
    "duration": 35,
    "start_time": "2022-08-12T11:59:43.852Z"
   },
   {
    "duration": 881,
    "start_time": "2022-08-12T11:59:43.889Z"
   },
   {
    "duration": 4,
    "start_time": "2022-08-12T11:59:44.771Z"
   },
   {
    "duration": 17,
    "start_time": "2022-08-12T11:59:44.777Z"
   },
   {
    "duration": 6,
    "start_time": "2022-08-12T11:59:44.795Z"
   },
   {
    "duration": 7,
    "start_time": "2022-08-12T11:59:44.802Z"
   },
   {
    "duration": 11,
    "start_time": "2022-08-12T11:59:44.810Z"
   },
   {
    "duration": 4,
    "start_time": "2022-08-12T11:59:44.822Z"
   },
   {
    "duration": 4,
    "start_time": "2022-08-12T11:59:44.827Z"
   },
   {
    "duration": 7024,
    "start_time": "2022-08-12T11:59:44.833Z"
   },
   {
    "duration": 3,
    "start_time": "2022-08-12T11:59:51.858Z"
   },
   {
    "duration": 14,
    "start_time": "2022-08-12T11:59:51.862Z"
   },
   {
    "duration": 3,
    "start_time": "2022-08-12T11:59:51.891Z"
   },
   {
    "duration": 197837,
    "start_time": "2022-08-12T11:59:51.896Z"
   },
   {
    "duration": 3,
    "start_time": "2022-08-12T12:03:09.735Z"
   },
   {
    "duration": 18,
    "start_time": "2022-08-12T12:03:09.740Z"
   },
   {
    "duration": 9,
    "start_time": "2022-08-12T12:03:09.760Z"
   },
   {
    "duration": 6,
    "start_time": "2022-08-12T12:03:09.771Z"
   },
   {
    "duration": 208112,
    "start_time": "2022-08-12T12:03:09.787Z"
   },
   {
    "duration": 2,
    "start_time": "2022-08-12T12:06:37.901Z"
   },
   {
    "duration": 13,
    "start_time": "2022-08-12T12:06:37.905Z"
   },
   {
    "duration": 76,
    "start_time": "2022-08-12T12:06:37.920Z"
   },
   {
    "duration": 12,
    "start_time": "2022-08-12T12:06:37.998Z"
   },
   {
    "duration": 18,
    "start_time": "2022-08-12T12:06:38.011Z"
   },
   {
    "duration": 4,
    "start_time": "2022-08-12T12:06:38.031Z"
   },
   {
    "duration": 1435,
    "start_time": "2022-08-12T12:06:38.037Z"
   },
   {
    "duration": 41,
    "start_time": "2022-08-12T12:06:39.473Z"
   },
   {
    "duration": 3,
    "start_time": "2022-08-12T12:06:39.515Z"
   },
   {
    "duration": 1876,
    "start_time": "2022-08-12T12:06:39.519Z"
   },
   {
    "duration": 94,
    "start_time": "2022-08-12T12:06:41.396Z"
   },
   {
    "duration": 8,
    "start_time": "2022-08-12T12:06:41.492Z"
   },
   {
    "duration": 17,
    "start_time": "2022-08-12T12:06:41.502Z"
   },
   {
    "duration": 15,
    "start_time": "2022-08-12T12:06:41.521Z"
   },
   {
    "duration": 9,
    "start_time": "2022-08-12T12:06:41.538Z"
   },
   {
    "duration": 286,
    "start_time": "2022-08-12T12:06:41.549Z"
   },
   {
    "duration": 5,
    "start_time": "2022-08-12T12:06:41.837Z"
   },
   {
    "duration": 12,
    "start_time": "2022-08-12T12:11:56.311Z"
   },
   {
    "duration": 1509,
    "start_time": "2022-08-12T12:11:56.326Z"
   },
   {
    "duration": 194,
    "start_time": "2022-08-12T12:11:57.838Z"
   },
   {
    "duration": 2,
    "start_time": "2022-08-12T12:11:58.034Z"
   },
   {
    "duration": 67,
    "start_time": "2022-08-12T12:11:58.039Z"
   },
   {
    "duration": 3,
    "start_time": "2022-08-12T12:11:58.107Z"
   },
   {
    "duration": 9,
    "start_time": "2022-08-12T12:11:58.112Z"
   },
   {
    "duration": 10,
    "start_time": "2022-08-12T12:11:58.122Z"
   },
   {
    "duration": 60,
    "start_time": "2022-08-12T12:11:58.134Z"
   },
   {
    "duration": 153,
    "start_time": "2022-08-12T12:11:58.195Z"
   },
   {
    "duration": 39,
    "start_time": "2022-08-12T12:11:58.350Z"
   },
   {
    "duration": 4,
    "start_time": "2022-08-12T12:11:58.391Z"
   },
   {
    "duration": 22,
    "start_time": "2022-08-12T12:11:58.396Z"
   },
   {
    "duration": 18,
    "start_time": "2022-08-12T12:11:58.420Z"
   },
   {
    "duration": 6,
    "start_time": "2022-08-12T12:11:58.439Z"
   },
   {
    "duration": 12,
    "start_time": "2022-08-12T12:11:58.446Z"
   },
   {
    "duration": 32,
    "start_time": "2022-08-12T12:11:58.459Z"
   },
   {
    "duration": 11,
    "start_time": "2022-08-12T12:11:58.493Z"
   },
   {
    "duration": 13,
    "start_time": "2022-08-12T12:11:58.506Z"
   },
   {
    "duration": 7,
    "start_time": "2022-08-12T12:11:58.521Z"
   },
   {
    "duration": 276,
    "start_time": "2022-08-12T12:11:58.529Z"
   },
   {
    "duration": 15,
    "start_time": "2022-08-12T12:11:58.807Z"
   },
   {
    "duration": 7,
    "start_time": "2022-08-12T12:11:58.824Z"
   },
   {
    "duration": 8,
    "start_time": "2022-08-12T12:11:58.833Z"
   },
   {
    "duration": 5,
    "start_time": "2022-08-12T12:11:58.843Z"
   },
   {
    "duration": 38,
    "start_time": "2022-08-12T12:11:58.849Z"
   },
   {
    "duration": 3,
    "start_time": "2022-08-12T12:11:58.889Z"
   },
   {
    "duration": 16,
    "start_time": "2022-08-12T12:11:58.894Z"
   },
   {
    "duration": 7,
    "start_time": "2022-08-12T12:11:58.915Z"
   },
   {
    "duration": 12,
    "start_time": "2022-08-12T12:11:58.923Z"
   },
   {
    "duration": 6861,
    "start_time": "2022-08-12T12:11:58.937Z"
   },
   {
    "duration": 7,
    "start_time": "2022-08-12T12:12:05.800Z"
   },
   {
    "duration": 5,
    "start_time": "2022-08-12T12:12:05.808Z"
   },
   {
    "duration": 18,
    "start_time": "2022-08-12T12:12:05.815Z"
   },
   {
    "duration": 26,
    "start_time": "2022-08-12T12:12:05.835Z"
   },
   {
    "duration": 15,
    "start_time": "2022-08-12T12:12:05.863Z"
   },
   {
    "duration": 2639,
    "start_time": "2022-08-12T12:12:05.880Z"
   },
   {
    "duration": 7,
    "start_time": "2022-08-12T12:12:08.521Z"
   },
   {
    "duration": 9,
    "start_time": "2022-08-12T12:12:08.530Z"
   },
   {
    "duration": 9,
    "start_time": "2022-08-12T12:12:08.541Z"
   },
   {
    "duration": 8,
    "start_time": "2022-08-12T12:12:08.551Z"
   },
   {
    "duration": 11,
    "start_time": "2022-08-12T12:12:08.561Z"
   },
   {
    "duration": 36,
    "start_time": "2022-08-12T12:12:08.573Z"
   },
   {
    "duration": 21,
    "start_time": "2022-08-12T12:12:08.610Z"
   },
   {
    "duration": 12,
    "start_time": "2022-08-12T12:12:08.632Z"
   },
   {
    "duration": 657,
    "start_time": "2022-08-12T12:12:08.646Z"
   },
   {
    "duration": 23,
    "start_time": "2022-08-12T12:12:09.305Z"
   },
   {
    "duration": 12,
    "start_time": "2022-08-12T12:12:09.330Z"
   },
   {
    "duration": 32,
    "start_time": "2022-08-12T12:12:09.344Z"
   },
   {
    "duration": 9,
    "start_time": "2022-08-12T12:12:09.378Z"
   },
   {
    "duration": 599,
    "start_time": "2022-08-12T12:12:09.388Z"
   },
   {
    "duration": 6,
    "start_time": "2022-08-12T12:12:09.988Z"
   },
   {
    "duration": 23,
    "start_time": "2022-08-12T12:12:09.996Z"
   },
   {
    "duration": 35,
    "start_time": "2022-08-12T12:12:10.021Z"
   },
   {
    "duration": 156,
    "start_time": "2022-08-12T12:12:10.058Z"
   },
   {
    "duration": 9,
    "start_time": "2022-08-12T12:12:10.216Z"
   },
   {
    "duration": 47,
    "start_time": "2022-08-12T12:12:10.226Z"
   },
   {
    "duration": 69,
    "start_time": "2022-08-12T12:12:10.274Z"
   },
   {
    "duration": 15,
    "start_time": "2022-08-12T12:12:10.345Z"
   },
   {
    "duration": 39,
    "start_time": "2022-08-12T12:12:10.361Z"
   },
   {
    "duration": 25,
    "start_time": "2022-08-12T12:12:10.402Z"
   },
   {
    "duration": 36,
    "start_time": "2022-08-12T12:12:10.429Z"
   },
   {
    "duration": 51,
    "start_time": "2022-08-12T12:12:10.467Z"
   },
   {
    "duration": 22,
    "start_time": "2022-08-12T12:12:10.520Z"
   },
   {
    "duration": 54,
    "start_time": "2022-08-12T12:12:10.544Z"
   },
   {
    "duration": 36,
    "start_time": "2022-08-12T12:12:10.599Z"
   },
   {
    "duration": 34,
    "start_time": "2022-08-12T12:12:10.636Z"
   },
   {
    "duration": 54,
    "start_time": "2022-08-12T12:12:10.671Z"
   },
   {
    "duration": 33,
    "start_time": "2022-08-12T12:12:10.727Z"
   },
   {
    "duration": 45,
    "start_time": "2022-08-12T12:12:10.762Z"
   },
   {
    "duration": 32,
    "start_time": "2022-08-12T12:12:10.809Z"
   },
   {
    "duration": 971,
    "start_time": "2022-08-12T12:12:10.843Z"
   },
   {
    "duration": 4,
    "start_time": "2022-08-12T12:12:11.816Z"
   },
   {
    "duration": 48,
    "start_time": "2022-08-12T12:12:11.822Z"
   },
   {
    "duration": 30,
    "start_time": "2022-08-12T12:12:11.872Z"
   },
   {
    "duration": 67,
    "start_time": "2022-08-12T12:12:11.903Z"
   },
   {
    "duration": 54,
    "start_time": "2022-08-12T12:12:11.972Z"
   },
   {
    "duration": 19,
    "start_time": "2022-08-12T12:12:12.028Z"
   },
   {
    "duration": 39,
    "start_time": "2022-08-12T12:12:12.049Z"
   },
   {
    "duration": 7144,
    "start_time": "2022-08-12T12:12:12.090Z"
   },
   {
    "duration": 2,
    "start_time": "2022-08-12T12:12:19.236Z"
   },
   {
    "duration": 14,
    "start_time": "2022-08-12T12:12:19.240Z"
   },
   {
    "duration": 4,
    "start_time": "2022-08-12T12:12:19.259Z"
   },
   {
    "duration": 197123,
    "start_time": "2022-08-12T12:12:19.264Z"
   },
   {
    "duration": 2,
    "start_time": "2022-08-12T12:15:36.390Z"
   },
   {
    "duration": 19,
    "start_time": "2022-08-12T12:15:36.394Z"
   },
   {
    "duration": 12,
    "start_time": "2022-08-12T12:15:36.414Z"
   },
   {
    "duration": 11,
    "start_time": "2022-08-12T12:15:36.428Z"
   },
   {
    "duration": 200862,
    "start_time": "2022-08-12T12:15:36.440Z"
   },
   {
    "duration": 3,
    "start_time": "2022-08-12T12:18:57.304Z"
   },
   {
    "duration": 13,
    "start_time": "2022-08-12T12:18:57.308Z"
   },
   {
    "duration": 21,
    "start_time": "2022-08-12T12:18:57.323Z"
   },
   {
    "duration": 0,
    "start_time": "2022-08-12T12:18:57.346Z"
   },
   {
    "duration": 0,
    "start_time": "2022-08-12T12:18:57.347Z"
   },
   {
    "duration": 0,
    "start_time": "2022-08-12T12:18:57.347Z"
   },
   {
    "duration": 0,
    "start_time": "2022-08-12T12:18:57.348Z"
   },
   {
    "duration": 0,
    "start_time": "2022-08-12T12:18:57.349Z"
   },
   {
    "duration": 0,
    "start_time": "2022-08-12T12:18:57.351Z"
   },
   {
    "duration": 0,
    "start_time": "2022-08-12T12:18:57.352Z"
   },
   {
    "duration": 0,
    "start_time": "2022-08-12T12:18:57.353Z"
   },
   {
    "duration": 0,
    "start_time": "2022-08-12T12:18:57.354Z"
   },
   {
    "duration": 0,
    "start_time": "2022-08-12T12:18:57.355Z"
   },
   {
    "duration": 0,
    "start_time": "2022-08-12T12:18:57.355Z"
   },
   {
    "duration": 0,
    "start_time": "2022-08-12T12:18:57.357Z"
   },
   {
    "duration": 0,
    "start_time": "2022-08-12T12:18:57.387Z"
   },
   {
    "duration": 0,
    "start_time": "2022-08-12T12:18:57.388Z"
   },
   {
    "duration": 10,
    "start_time": "2022-08-12T12:22:01.405Z"
   },
   {
    "duration": 1487,
    "start_time": "2022-08-12T12:22:01.417Z"
   },
   {
    "duration": 195,
    "start_time": "2022-08-12T12:22:02.906Z"
   },
   {
    "duration": 3,
    "start_time": "2022-08-12T12:22:03.102Z"
   },
   {
    "duration": 69,
    "start_time": "2022-08-12T12:22:03.107Z"
   },
   {
    "duration": 3,
    "start_time": "2022-08-12T12:22:03.187Z"
   },
   {
    "duration": 11,
    "start_time": "2022-08-12T12:22:03.191Z"
   },
   {
    "duration": 6,
    "start_time": "2022-08-12T12:22:03.204Z"
   },
   {
    "duration": 60,
    "start_time": "2022-08-12T12:22:03.211Z"
   },
   {
    "duration": 160,
    "start_time": "2022-08-12T12:22:03.273Z"
   },
   {
    "duration": 5,
    "start_time": "2022-08-12T12:22:03.435Z"
   },
   {
    "duration": 7,
    "start_time": "2022-08-12T12:22:03.441Z"
   },
   {
    "duration": 52,
    "start_time": "2022-08-12T12:22:03.450Z"
   },
   {
    "duration": 19,
    "start_time": "2022-08-12T12:22:03.503Z"
   },
   {
    "duration": 8,
    "start_time": "2022-08-12T12:22:03.523Z"
   },
   {
    "duration": 20,
    "start_time": "2022-08-12T12:22:03.532Z"
   },
   {
    "duration": 6,
    "start_time": "2022-08-12T12:22:03.553Z"
   },
   {
    "duration": 28,
    "start_time": "2022-08-12T12:22:03.561Z"
   },
   {
    "duration": 13,
    "start_time": "2022-08-12T12:22:03.591Z"
   },
   {
    "duration": 10,
    "start_time": "2022-08-12T12:22:03.606Z"
   },
   {
    "duration": 246,
    "start_time": "2022-08-12T12:22:03.617Z"
   },
   {
    "duration": 23,
    "start_time": "2022-08-12T12:22:03.865Z"
   },
   {
    "duration": 5,
    "start_time": "2022-08-12T12:22:03.890Z"
   },
   {
    "duration": 18,
    "start_time": "2022-08-12T12:22:03.896Z"
   },
   {
    "duration": 14,
    "start_time": "2022-08-12T12:22:03.916Z"
   },
   {
    "duration": 17,
    "start_time": "2022-08-12T12:22:03.932Z"
   },
   {
    "duration": 5,
    "start_time": "2022-08-12T12:22:03.950Z"
   },
   {
    "duration": 13,
    "start_time": "2022-08-12T12:22:03.956Z"
   },
   {
    "duration": 6,
    "start_time": "2022-08-12T12:22:03.974Z"
   },
   {
    "duration": 15,
    "start_time": "2022-08-12T12:22:03.981Z"
   },
   {
    "duration": 4904,
    "start_time": "2022-08-12T12:22:03.998Z"
   },
   {
    "duration": 7,
    "start_time": "2022-08-12T12:22:08.905Z"
   },
   {
    "duration": 25,
    "start_time": "2022-08-12T12:22:08.914Z"
   },
   {
    "duration": 30,
    "start_time": "2022-08-12T12:22:08.940Z"
   },
   {
    "duration": 18,
    "start_time": "2022-08-12T12:22:08.971Z"
   },
   {
    "duration": 43,
    "start_time": "2022-08-12T12:22:08.990Z"
   },
   {
    "duration": 2512,
    "start_time": "2022-08-12T12:22:09.035Z"
   },
   {
    "duration": 8,
    "start_time": "2022-08-12T12:22:11.549Z"
   },
   {
    "duration": 40,
    "start_time": "2022-08-12T12:22:11.559Z"
   },
   {
    "duration": 42,
    "start_time": "2022-08-12T12:22:11.601Z"
   },
   {
    "duration": 38,
    "start_time": "2022-08-12T12:22:11.645Z"
   },
   {
    "duration": 28,
    "start_time": "2022-08-12T12:22:11.685Z"
   },
   {
    "duration": 37,
    "start_time": "2022-08-12T12:22:11.715Z"
   },
   {
    "duration": 19,
    "start_time": "2022-08-12T12:22:11.754Z"
   },
   {
    "duration": 24,
    "start_time": "2022-08-12T12:22:11.774Z"
   },
   {
    "duration": 619,
    "start_time": "2022-08-12T12:22:11.800Z"
   },
   {
    "duration": 23,
    "start_time": "2022-08-12T12:22:12.420Z"
   },
   {
    "duration": 13,
    "start_time": "2022-08-12T12:22:12.445Z"
   },
   {
    "duration": 41,
    "start_time": "2022-08-12T12:22:12.460Z"
   },
   {
    "duration": 19,
    "start_time": "2022-08-12T12:22:12.503Z"
   },
   {
    "duration": 600,
    "start_time": "2022-08-12T12:22:12.523Z"
   },
   {
    "duration": 6,
    "start_time": "2022-08-12T12:22:13.125Z"
   },
   {
    "duration": 41,
    "start_time": "2022-08-12T12:22:13.133Z"
   },
   {
    "duration": 14,
    "start_time": "2022-08-12T12:22:13.176Z"
   },
   {
    "duration": 136,
    "start_time": "2022-08-12T12:22:13.192Z"
   },
   {
    "duration": 7,
    "start_time": "2022-08-12T12:22:13.330Z"
   },
   {
    "duration": 36,
    "start_time": "2022-08-12T12:22:13.338Z"
   },
   {
    "duration": 37,
    "start_time": "2022-08-12T12:22:13.376Z"
   },
   {
    "duration": 13,
    "start_time": "2022-08-12T12:22:13.414Z"
   },
   {
    "duration": 22,
    "start_time": "2022-08-12T12:22:13.429Z"
   },
   {
    "duration": 29,
    "start_time": "2022-08-12T12:22:13.452Z"
   },
   {
    "duration": 24,
    "start_time": "2022-08-12T12:22:13.482Z"
   },
   {
    "duration": 34,
    "start_time": "2022-08-12T12:22:13.508Z"
   },
   {
    "duration": 10,
    "start_time": "2022-08-12T12:22:13.543Z"
   },
   {
    "duration": 34,
    "start_time": "2022-08-12T12:22:13.554Z"
   },
   {
    "duration": 15,
    "start_time": "2022-08-12T12:22:13.589Z"
   },
   {
    "duration": 25,
    "start_time": "2022-08-12T12:22:13.606Z"
   },
   {
    "duration": 48,
    "start_time": "2022-08-12T12:22:13.633Z"
   },
   {
    "duration": 15,
    "start_time": "2022-08-12T12:22:13.682Z"
   },
   {
    "duration": 15,
    "start_time": "2022-08-12T12:22:13.699Z"
   },
   {
    "duration": 12,
    "start_time": "2022-08-12T12:22:13.717Z"
   },
   {
    "duration": 970,
    "start_time": "2022-08-12T12:22:13.731Z"
   },
   {
    "duration": 4,
    "start_time": "2022-08-12T12:22:14.703Z"
   },
   {
    "duration": 25,
    "start_time": "2022-08-12T12:22:14.708Z"
   },
   {
    "duration": 14,
    "start_time": "2022-08-12T12:22:14.734Z"
   },
   {
    "duration": 22,
    "start_time": "2022-08-12T12:22:14.749Z"
   },
   {
    "duration": 38,
    "start_time": "2022-08-12T12:22:14.774Z"
   },
   {
    "duration": 10,
    "start_time": "2022-08-12T12:22:14.815Z"
   },
   {
    "duration": 19,
    "start_time": "2022-08-12T12:22:14.826Z"
   },
   {
    "duration": 7076,
    "start_time": "2022-08-12T12:22:14.847Z"
   },
   {
    "duration": 3,
    "start_time": "2022-08-12T12:22:21.924Z"
   },
   {
    "duration": 14,
    "start_time": "2022-08-12T12:22:21.928Z"
   },
   {
    "duration": 17,
    "start_time": "2022-08-12T12:22:21.947Z"
   },
   {
    "duration": 396085,
    "start_time": "2022-08-12T12:22:21.966Z"
   },
   {
    "duration": 3,
    "start_time": "2022-08-12T12:28:58.052Z"
   },
   {
    "duration": 19,
    "start_time": "2022-08-12T12:28:58.056Z"
   },
   {
    "duration": 10,
    "start_time": "2022-08-12T12:40:15.789Z"
   },
   {
    "duration": 1510,
    "start_time": "2022-08-12T12:40:15.800Z"
   },
   {
    "duration": 196,
    "start_time": "2022-08-12T12:40:17.312Z"
   },
   {
    "duration": 3,
    "start_time": "2022-08-12T12:40:17.510Z"
   },
   {
    "duration": 86,
    "start_time": "2022-08-12T12:40:17.514Z"
   },
   {
    "duration": 4,
    "start_time": "2022-08-12T12:40:17.602Z"
   },
   {
    "duration": 16,
    "start_time": "2022-08-12T12:40:17.608Z"
   },
   {
    "duration": 9,
    "start_time": "2022-08-12T12:40:17.626Z"
   },
   {
    "duration": 58,
    "start_time": "2022-08-12T12:40:17.636Z"
   },
   {
    "duration": 195,
    "start_time": "2022-08-12T12:40:17.696Z"
   },
   {
    "duration": 6,
    "start_time": "2022-08-12T12:40:17.895Z"
   },
   {
    "duration": 4,
    "start_time": "2022-08-12T12:40:17.902Z"
   },
   {
    "duration": 21,
    "start_time": "2022-08-12T12:40:17.908Z"
   },
   {
    "duration": 18,
    "start_time": "2022-08-12T12:40:17.931Z"
   },
   {
    "duration": 6,
    "start_time": "2022-08-12T12:40:17.950Z"
   },
   {
    "duration": 10,
    "start_time": "2022-08-12T12:40:17.988Z"
   },
   {
    "duration": 13,
    "start_time": "2022-08-12T12:40:17.999Z"
   },
   {
    "duration": 13,
    "start_time": "2022-08-12T12:40:18.020Z"
   },
   {
    "duration": 13,
    "start_time": "2022-08-12T12:40:18.035Z"
   },
   {
    "duration": 6,
    "start_time": "2022-08-12T12:40:18.050Z"
   },
   {
    "duration": 253,
    "start_time": "2022-08-12T12:40:18.057Z"
   },
   {
    "duration": 14,
    "start_time": "2022-08-12T12:40:18.312Z"
   },
   {
    "duration": 6,
    "start_time": "2022-08-12T12:40:18.328Z"
   },
   {
    "duration": 10,
    "start_time": "2022-08-12T12:40:18.336Z"
   },
   {
    "duration": 6,
    "start_time": "2022-08-12T12:40:18.347Z"
   },
   {
    "duration": 10,
    "start_time": "2022-08-12T12:40:18.354Z"
   },
   {
    "duration": 3,
    "start_time": "2022-08-12T12:40:18.387Z"
   },
   {
    "duration": 13,
    "start_time": "2022-08-12T12:40:18.392Z"
   },
   {
    "duration": 6,
    "start_time": "2022-08-12T12:40:18.409Z"
   },
   {
    "duration": 11,
    "start_time": "2022-08-12T12:40:18.416Z"
   },
   {
    "duration": 4785,
    "start_time": "2022-08-12T12:40:18.429Z"
   },
   {
    "duration": 7,
    "start_time": "2022-08-12T12:40:23.217Z"
   },
   {
    "duration": 4,
    "start_time": "2022-08-12T12:40:23.225Z"
   },
   {
    "duration": 9,
    "start_time": "2022-08-12T12:40:23.231Z"
   },
   {
    "duration": 8,
    "start_time": "2022-08-12T12:40:23.242Z"
   },
   {
    "duration": 14,
    "start_time": "2022-08-12T12:40:23.251Z"
   },
   {
    "duration": 2343,
    "start_time": "2022-08-12T12:40:23.267Z"
   },
   {
    "duration": 6,
    "start_time": "2022-08-12T12:40:25.612Z"
   },
   {
    "duration": 8,
    "start_time": "2022-08-12T12:40:25.620Z"
   },
   {
    "duration": 7,
    "start_time": "2022-08-12T12:40:25.629Z"
   },
   {
    "duration": 6,
    "start_time": "2022-08-12T12:40:25.638Z"
   },
   {
    "duration": 8,
    "start_time": "2022-08-12T12:40:25.646Z"
   },
   {
    "duration": 36,
    "start_time": "2022-08-12T12:40:25.655Z"
   },
   {
    "duration": 21,
    "start_time": "2022-08-12T12:40:25.692Z"
   },
   {
    "duration": 11,
    "start_time": "2022-08-12T12:40:25.714Z"
   },
   {
    "duration": 721,
    "start_time": "2022-08-12T12:40:25.727Z"
   },
   {
    "duration": 20,
    "start_time": "2022-08-12T12:40:26.450Z"
   },
   {
    "duration": 25,
    "start_time": "2022-08-12T12:40:26.472Z"
   },
   {
    "duration": 15,
    "start_time": "2022-08-12T12:40:26.498Z"
   },
   {
    "duration": 4,
    "start_time": "2022-08-12T12:40:26.515Z"
   },
   {
    "duration": 552,
    "start_time": "2022-08-12T12:40:26.521Z"
   },
   {
    "duration": 13,
    "start_time": "2022-08-12T12:40:27.074Z"
   },
   {
    "duration": 15,
    "start_time": "2022-08-12T12:40:27.089Z"
   },
   {
    "duration": 8,
    "start_time": "2022-08-12T12:40:27.105Z"
   },
   {
    "duration": 154,
    "start_time": "2022-08-12T12:40:27.114Z"
   },
   {
    "duration": 7,
    "start_time": "2022-08-12T12:40:27.270Z"
   },
   {
    "duration": 10,
    "start_time": "2022-08-12T12:40:27.287Z"
   },
   {
    "duration": 29,
    "start_time": "2022-08-12T12:40:27.299Z"
   },
   {
    "duration": 13,
    "start_time": "2022-08-12T12:40:27.330Z"
   },
   {
    "duration": 4,
    "start_time": "2022-08-12T12:40:27.345Z"
   },
   {
    "duration": 6,
    "start_time": "2022-08-12T12:40:27.351Z"
   },
   {
    "duration": 27,
    "start_time": "2022-08-12T12:40:27.359Z"
   },
   {
    "duration": 8,
    "start_time": "2022-08-12T12:40:27.388Z"
   },
   {
    "duration": 7,
    "start_time": "2022-08-12T12:40:27.397Z"
   },
   {
    "duration": 8,
    "start_time": "2022-08-12T12:40:27.406Z"
   },
   {
    "duration": 7,
    "start_time": "2022-08-12T12:40:27.415Z"
   },
   {
    "duration": 5,
    "start_time": "2022-08-12T12:40:27.423Z"
   },
   {
    "duration": 13,
    "start_time": "2022-08-12T12:40:27.430Z"
   },
   {
    "duration": 43,
    "start_time": "2022-08-12T12:40:27.444Z"
   },
   {
    "duration": 5,
    "start_time": "2022-08-12T12:40:27.489Z"
   },
   {
    "duration": 5,
    "start_time": "2022-08-12T12:40:27.496Z"
   },
   {
    "duration": 867,
    "start_time": "2022-08-12T12:40:27.503Z"
   },
   {
    "duration": 5,
    "start_time": "2022-08-12T12:40:28.372Z"
   },
   {
    "duration": 17,
    "start_time": "2022-08-12T12:40:28.378Z"
   },
   {
    "duration": 6,
    "start_time": "2022-08-12T12:40:28.396Z"
   },
   {
    "duration": 9,
    "start_time": "2022-08-12T12:40:28.403Z"
   },
   {
    "duration": 11,
    "start_time": "2022-08-12T12:40:28.413Z"
   },
   {
    "duration": 9,
    "start_time": "2022-08-12T12:40:28.426Z"
   },
   {
    "duration": 5,
    "start_time": "2022-08-12T12:40:28.436Z"
   },
   {
    "duration": 6981,
    "start_time": "2022-08-12T12:40:28.442Z"
   },
   {
    "duration": 3,
    "start_time": "2022-08-12T12:40:35.424Z"
   },
   {
    "duration": 16,
    "start_time": "2022-08-12T12:40:35.428Z"
   },
   {
    "duration": 4,
    "start_time": "2022-08-12T12:40:35.449Z"
   },
   {
    "duration": 196640,
    "start_time": "2022-08-12T12:40:35.454Z"
   },
   {
    "duration": 14,
    "start_time": "2022-08-12T12:43:52.096Z"
   },
   {
    "duration": 27,
    "start_time": "2022-08-12T12:43:52.111Z"
   },
   {
    "duration": 7,
    "start_time": "2022-08-12T12:43:52.140Z"
   },
   {
    "duration": 7,
    "start_time": "2022-08-12T12:43:52.149Z"
   },
   {
    "duration": 456231,
    "start_time": "2022-08-12T12:43:52.157Z"
   },
   {
    "duration": 2,
    "start_time": "2022-08-12T12:51:28.390Z"
   },
   {
    "duration": 13,
    "start_time": "2022-08-12T12:51:28.393Z"
   },
   {
    "duration": 14,
    "start_time": "2022-08-12T12:51:28.408Z"
   },
   {
    "duration": 12,
    "start_time": "2022-08-12T12:51:28.423Z"
   },
   {
    "duration": 8,
    "start_time": "2022-08-12T12:51:28.437Z"
   },
   {
    "duration": 5,
    "start_time": "2022-08-12T12:51:28.446Z"
   },
   {
    "duration": 1457,
    "start_time": "2022-08-12T12:51:28.453Z"
   },
   {
    "duration": 34,
    "start_time": "2022-08-12T12:51:29.912Z"
   },
   {
    "duration": 3,
    "start_time": "2022-08-12T12:51:29.947Z"
   },
   {
    "duration": 1949,
    "start_time": "2022-08-12T12:51:29.952Z"
   },
   {
    "duration": 89,
    "start_time": "2022-08-12T12:51:31.903Z"
   },
   {
    "duration": 4,
    "start_time": "2022-08-12T12:51:31.993Z"
   },
   {
    "duration": 18,
    "start_time": "2022-08-12T12:51:31.999Z"
   },
   {
    "duration": 71,
    "start_time": "2022-08-12T12:51:32.019Z"
   },
   {
    "duration": 4,
    "start_time": "2022-08-12T12:51:32.091Z"
   },
   {
    "duration": 275,
    "start_time": "2022-08-12T12:51:32.096Z"
   },
   {
    "duration": 5,
    "start_time": "2022-08-12T12:51:32.373Z"
   },
   {
    "duration": 10,
    "start_time": "2022-08-12T16:41:51.573Z"
   },
   {
    "duration": 1614,
    "start_time": "2022-08-12T16:41:51.585Z"
   },
   {
    "duration": 457,
    "start_time": "2022-08-12T16:41:53.201Z"
   },
   {
    "duration": 3,
    "start_time": "2022-08-12T16:41:53.660Z"
   },
   {
    "duration": 66,
    "start_time": "2022-08-12T16:41:53.665Z"
   },
   {
    "duration": 4,
    "start_time": "2022-08-12T16:41:53.757Z"
   },
   {
    "duration": 7,
    "start_time": "2022-08-12T16:41:53.763Z"
   },
   {
    "duration": 5,
    "start_time": "2022-08-12T16:41:53.772Z"
   },
   {
    "duration": 56,
    "start_time": "2022-08-12T16:41:53.779Z"
   },
   {
    "duration": 179,
    "start_time": "2022-08-12T16:41:53.837Z"
   },
   {
    "duration": 41,
    "start_time": "2022-08-12T16:41:54.019Z"
   },
   {
    "duration": 4,
    "start_time": "2022-08-12T16:41:54.062Z"
   },
   {
    "duration": 23,
    "start_time": "2022-08-12T16:41:54.067Z"
   },
   {
    "duration": 17,
    "start_time": "2022-08-12T16:41:54.091Z"
   },
   {
    "duration": 7,
    "start_time": "2022-08-12T16:41:54.110Z"
   },
   {
    "duration": 12,
    "start_time": "2022-08-12T16:41:54.118Z"
   },
   {
    "duration": 5,
    "start_time": "2022-08-12T16:41:54.158Z"
   },
   {
    "duration": 11,
    "start_time": "2022-08-12T16:41:54.165Z"
   },
   {
    "duration": 13,
    "start_time": "2022-08-12T16:41:54.177Z"
   },
   {
    "duration": 14,
    "start_time": "2022-08-12T16:41:54.192Z"
   },
   {
    "duration": 270,
    "start_time": "2022-08-12T16:41:54.207Z"
   },
   {
    "duration": 13,
    "start_time": "2022-08-12T16:41:54.479Z"
   },
   {
    "duration": 5,
    "start_time": "2022-08-12T16:41:54.494Z"
   },
   {
    "duration": 8,
    "start_time": "2022-08-12T16:41:54.501Z"
   },
   {
    "duration": 5,
    "start_time": "2022-08-12T16:41:54.511Z"
   },
   {
    "duration": 8,
    "start_time": "2022-08-12T16:41:54.518Z"
   },
   {
    "duration": 3,
    "start_time": "2022-08-12T16:41:54.558Z"
   },
   {
    "duration": 12,
    "start_time": "2022-08-12T16:41:54.563Z"
   },
   {
    "duration": 6,
    "start_time": "2022-08-12T16:41:54.579Z"
   },
   {
    "duration": 12,
    "start_time": "2022-08-12T16:41:54.586Z"
   },
   {
    "duration": 4954,
    "start_time": "2022-08-12T16:41:54.599Z"
   },
   {
    "duration": 5,
    "start_time": "2022-08-12T16:41:59.555Z"
   },
   {
    "duration": 5,
    "start_time": "2022-08-12T16:41:59.562Z"
   },
   {
    "duration": 15,
    "start_time": "2022-08-12T16:41:59.568Z"
   },
   {
    "duration": 5,
    "start_time": "2022-08-12T16:41:59.585Z"
   },
   {
    "duration": 9,
    "start_time": "2022-08-12T16:41:59.592Z"
   },
   {
    "duration": 2484,
    "start_time": "2022-08-12T16:41:59.602Z"
   },
   {
    "duration": 6,
    "start_time": "2022-08-12T16:42:02.087Z"
   },
   {
    "duration": 22,
    "start_time": "2022-08-12T16:42:02.095Z"
   },
   {
    "duration": 43,
    "start_time": "2022-08-12T16:42:02.119Z"
   },
   {
    "duration": 13,
    "start_time": "2022-08-12T16:42:02.164Z"
   },
   {
    "duration": 27,
    "start_time": "2022-08-12T16:42:02.179Z"
   },
   {
    "duration": 25,
    "start_time": "2022-08-12T16:42:02.208Z"
   },
   {
    "duration": 18,
    "start_time": "2022-08-12T16:42:02.235Z"
   },
   {
    "duration": 10,
    "start_time": "2022-08-12T16:42:02.255Z"
   },
   {
    "duration": 600,
    "start_time": "2022-08-12T16:42:02.266Z"
   },
   {
    "duration": 24,
    "start_time": "2022-08-12T16:42:02.867Z"
   },
   {
    "duration": 14,
    "start_time": "2022-08-12T16:42:02.892Z"
   },
   {
    "duration": 37,
    "start_time": "2022-08-12T16:42:02.907Z"
   },
   {
    "duration": 25,
    "start_time": "2022-08-12T16:42:02.946Z"
   },
   {
    "duration": 579,
    "start_time": "2022-08-12T16:42:02.973Z"
   },
   {
    "duration": 8,
    "start_time": "2022-08-12T16:42:03.554Z"
   },
   {
    "duration": 18,
    "start_time": "2022-08-12T16:42:03.563Z"
   },
   {
    "duration": 8,
    "start_time": "2022-08-12T16:42:03.583Z"
   },
   {
    "duration": 139,
    "start_time": "2022-08-12T16:42:03.592Z"
   },
   {
    "duration": 6,
    "start_time": "2022-08-12T16:42:03.733Z"
   },
   {
    "duration": 23,
    "start_time": "2022-08-12T16:42:03.741Z"
   },
   {
    "duration": 45,
    "start_time": "2022-08-12T16:42:03.765Z"
   },
   {
    "duration": 23,
    "start_time": "2022-08-12T16:42:03.811Z"
   },
   {
    "duration": 11,
    "start_time": "2022-08-12T16:42:03.836Z"
   },
   {
    "duration": 19,
    "start_time": "2022-08-12T16:42:03.848Z"
   },
   {
    "duration": 12,
    "start_time": "2022-08-12T16:42:03.868Z"
   },
   {
    "duration": 14,
    "start_time": "2022-08-12T16:42:03.881Z"
   },
   {
    "duration": 15,
    "start_time": "2022-08-12T16:42:03.896Z"
   },
   {
    "duration": 41,
    "start_time": "2022-08-12T16:42:03.913Z"
   },
   {
    "duration": 14,
    "start_time": "2022-08-12T16:42:03.955Z"
   },
   {
    "duration": 25,
    "start_time": "2022-08-12T16:42:03.970Z"
   },
   {
    "duration": 21,
    "start_time": "2022-08-12T16:42:03.997Z"
   },
   {
    "duration": 26,
    "start_time": "2022-08-12T16:42:04.020Z"
   },
   {
    "duration": 11,
    "start_time": "2022-08-12T16:42:04.048Z"
   },
   {
    "duration": 13,
    "start_time": "2022-08-12T16:42:04.061Z"
   },
   {
    "duration": 893,
    "start_time": "2022-08-12T16:42:04.076Z"
   },
   {
    "duration": 6,
    "start_time": "2022-08-12T16:42:04.971Z"
   },
   {
    "duration": 19,
    "start_time": "2022-08-12T16:42:04.978Z"
   },
   {
    "duration": 7,
    "start_time": "2022-08-12T16:42:04.999Z"
   },
   {
    "duration": 14,
    "start_time": "2022-08-12T16:42:05.008Z"
   },
   {
    "duration": 12,
    "start_time": "2022-08-12T16:42:05.024Z"
   },
   {
    "duration": 4,
    "start_time": "2022-08-12T16:42:05.038Z"
   },
   {
    "duration": 11,
    "start_time": "2022-08-12T16:42:05.043Z"
   },
   {
    "duration": 7089,
    "start_time": "2022-08-12T16:42:05.056Z"
   },
   {
    "duration": 2,
    "start_time": "2022-08-12T16:42:12.147Z"
   },
   {
    "duration": 12,
    "start_time": "2022-08-12T16:42:12.150Z"
   },
   {
    "duration": 4,
    "start_time": "2022-08-12T16:42:12.167Z"
   },
   {
    "duration": 221671,
    "start_time": "2022-08-12T16:42:12.172Z"
   },
   {
    "duration": 3,
    "start_time": "2022-08-12T16:45:53.844Z"
   },
   {
    "duration": 17,
    "start_time": "2022-08-12T16:45:53.848Z"
   },
   {
    "duration": 21,
    "start_time": "2022-08-12T16:45:53.867Z"
   },
   {
    "duration": 6,
    "start_time": "2022-08-12T16:45:53.889Z"
   },
   {
    "duration": 10,
    "start_time": "2022-08-12T17:05:11.494Z"
   },
   {
    "duration": 1411,
    "start_time": "2022-08-12T17:05:11.506Z"
   },
   {
    "duration": 683,
    "start_time": "2022-08-12T17:05:12.919Z"
   },
   {
    "duration": 3,
    "start_time": "2022-08-12T17:05:13.604Z"
   },
   {
    "duration": 73,
    "start_time": "2022-08-12T17:05:13.609Z"
   },
   {
    "duration": 4,
    "start_time": "2022-08-12T17:05:13.683Z"
   },
   {
    "duration": 7,
    "start_time": "2022-08-12T17:05:13.688Z"
   },
   {
    "duration": 7,
    "start_time": "2022-08-12T17:05:13.697Z"
   },
   {
    "duration": 74,
    "start_time": "2022-08-12T17:05:13.706Z"
   },
   {
    "duration": 188,
    "start_time": "2022-08-12T17:05:13.782Z"
   },
   {
    "duration": 6,
    "start_time": "2022-08-12T17:05:13.972Z"
   },
   {
    "duration": 10,
    "start_time": "2022-08-12T17:05:13.979Z"
   },
   {
    "duration": 22,
    "start_time": "2022-08-12T17:05:13.991Z"
   },
   {
    "duration": 51,
    "start_time": "2022-08-12T17:05:14.015Z"
   },
   {
    "duration": 6,
    "start_time": "2022-08-12T17:05:14.068Z"
   },
   {
    "duration": 12,
    "start_time": "2022-08-12T17:05:14.076Z"
   },
   {
    "duration": 6,
    "start_time": "2022-08-12T17:05:14.089Z"
   },
   {
    "duration": 13,
    "start_time": "2022-08-12T17:05:14.097Z"
   },
   {
    "duration": 13,
    "start_time": "2022-08-12T17:05:14.111Z"
   },
   {
    "duration": 7,
    "start_time": "2022-08-12T17:05:14.158Z"
   },
   {
    "duration": 269,
    "start_time": "2022-08-12T17:05:14.167Z"
   },
   {
    "duration": 26,
    "start_time": "2022-08-12T17:05:14.437Z"
   },
   {
    "duration": 5,
    "start_time": "2022-08-12T17:05:14.465Z"
   },
   {
    "duration": 8,
    "start_time": "2022-08-12T17:05:14.471Z"
   },
   {
    "duration": 9,
    "start_time": "2022-08-12T17:05:14.481Z"
   },
   {
    "duration": 12,
    "start_time": "2022-08-12T17:05:14.491Z"
   },
   {
    "duration": 9,
    "start_time": "2022-08-12T17:05:14.505Z"
   },
   {
    "duration": 14,
    "start_time": "2022-08-12T17:05:14.515Z"
   },
   {
    "duration": 25,
    "start_time": "2022-08-12T17:05:14.533Z"
   },
   {
    "duration": 11,
    "start_time": "2022-08-12T17:05:14.560Z"
   },
   {
    "duration": 5492,
    "start_time": "2022-08-12T17:05:14.573Z"
   },
   {
    "duration": 8,
    "start_time": "2022-08-12T17:05:20.067Z"
   },
   {
    "duration": 4,
    "start_time": "2022-08-12T17:05:20.076Z"
   },
   {
    "duration": 15,
    "start_time": "2022-08-12T17:05:20.081Z"
   },
   {
    "duration": 6,
    "start_time": "2022-08-12T17:05:20.098Z"
   },
   {
    "duration": 10,
    "start_time": "2022-08-12T17:05:20.106Z"
   },
   {
    "duration": 2464,
    "start_time": "2022-08-12T17:05:20.118Z"
   },
   {
    "duration": 5,
    "start_time": "2022-08-12T17:05:22.584Z"
   },
   {
    "duration": 4,
    "start_time": "2022-08-12T17:05:22.590Z"
   },
   {
    "duration": 9,
    "start_time": "2022-08-12T17:05:22.595Z"
   },
   {
    "duration": 8,
    "start_time": "2022-08-12T17:05:22.605Z"
   },
   {
    "duration": 7,
    "start_time": "2022-08-12T17:05:22.615Z"
   },
   {
    "duration": 37,
    "start_time": "2022-08-12T17:05:22.623Z"
   },
   {
    "duration": 19,
    "start_time": "2022-08-12T17:05:22.661Z"
   },
   {
    "duration": 12,
    "start_time": "2022-08-12T17:05:22.681Z"
   },
   {
    "duration": 680,
    "start_time": "2022-08-12T17:05:22.694Z"
   },
   {
    "duration": 27,
    "start_time": "2022-08-12T17:05:23.376Z"
   },
   {
    "duration": 15,
    "start_time": "2022-08-12T17:05:23.405Z"
   },
   {
    "duration": 36,
    "start_time": "2022-08-12T17:05:23.422Z"
   },
   {
    "duration": 6,
    "start_time": "2022-08-12T17:05:23.460Z"
   },
   {
    "duration": 567,
    "start_time": "2022-08-12T17:05:23.468Z"
   },
   {
    "duration": 7,
    "start_time": "2022-08-12T17:05:24.036Z"
   },
   {
    "duration": 25,
    "start_time": "2022-08-12T17:05:24.045Z"
   },
   {
    "duration": 7,
    "start_time": "2022-08-12T17:05:24.072Z"
   },
   {
    "duration": 156,
    "start_time": "2022-08-12T17:05:24.081Z"
   },
   {
    "duration": 8,
    "start_time": "2022-08-12T17:05:24.239Z"
   },
   {
    "duration": 16,
    "start_time": "2022-08-12T17:05:24.249Z"
   },
   {
    "duration": 34,
    "start_time": "2022-08-12T17:05:24.267Z"
   },
   {
    "duration": 13,
    "start_time": "2022-08-12T17:05:24.303Z"
   },
   {
    "duration": 10,
    "start_time": "2022-08-12T17:05:24.318Z"
   },
   {
    "duration": 14,
    "start_time": "2022-08-12T17:05:24.330Z"
   },
   {
    "duration": 15,
    "start_time": "2022-08-12T17:05:24.345Z"
   },
   {
    "duration": 33,
    "start_time": "2022-08-12T17:05:24.362Z"
   },
   {
    "duration": 18,
    "start_time": "2022-08-12T17:05:24.396Z"
   },
   {
    "duration": 12,
    "start_time": "2022-08-12T17:05:24.415Z"
   },
   {
    "duration": 16,
    "start_time": "2022-08-12T17:05:24.428Z"
   },
   {
    "duration": 13,
    "start_time": "2022-08-12T17:05:24.445Z"
   },
   {
    "duration": 18,
    "start_time": "2022-08-12T17:05:24.460Z"
   },
   {
    "duration": 10,
    "start_time": "2022-08-12T17:05:24.480Z"
   },
   {
    "duration": 11,
    "start_time": "2022-08-12T17:05:24.491Z"
   },
   {
    "duration": 6,
    "start_time": "2022-08-12T17:05:24.504Z"
   },
   {
    "duration": 1016,
    "start_time": "2022-08-12T17:05:24.512Z"
   },
   {
    "duration": 5,
    "start_time": "2022-08-12T17:05:25.530Z"
   },
   {
    "duration": 25,
    "start_time": "2022-08-12T17:05:25.537Z"
   },
   {
    "duration": 7,
    "start_time": "2022-08-12T17:05:25.564Z"
   },
   {
    "duration": 7,
    "start_time": "2022-08-12T17:05:25.573Z"
   },
   {
    "duration": 10,
    "start_time": "2022-08-12T17:05:25.582Z"
   },
   {
    "duration": 6,
    "start_time": "2022-08-12T17:05:25.594Z"
   },
   {
    "duration": 6,
    "start_time": "2022-08-12T17:05:25.602Z"
   },
   {
    "duration": 7276,
    "start_time": "2022-08-12T17:05:25.609Z"
   },
   {
    "duration": 2,
    "start_time": "2022-08-12T17:05:32.887Z"
   },
   {
    "duration": 13,
    "start_time": "2022-08-12T17:05:32.891Z"
   },
   {
    "duration": 4,
    "start_time": "2022-08-12T17:05:32.910Z"
   },
   {
    "duration": 203633,
    "start_time": "2022-08-12T17:05:32.915Z"
   },
   {
    "duration": 9,
    "start_time": "2022-08-12T17:08:56.549Z"
   },
   {
    "duration": 13,
    "start_time": "2022-08-12T17:08:56.559Z"
   },
   {
    "duration": 4,
    "start_time": "2022-08-12T17:08:56.574Z"
   },
   {
    "duration": 7,
    "start_time": "2022-08-12T17:08:56.579Z"
   },
   {
    "duration": 1004584,
    "start_time": "2022-08-12T17:08:56.587Z"
   },
   {
    "duration": 84,
    "start_time": "2022-08-12T17:25:41.173Z"
   },
   {
    "duration": 8,
    "start_time": "2022-08-12T17:25:41.259Z"
   },
   {
    "duration": 14,
    "start_time": "2022-08-12T17:25:41.268Z"
   },
   {
    "duration": 14,
    "start_time": "2022-08-12T17:25:41.283Z"
   },
   {
    "duration": 7,
    "start_time": "2022-08-12T17:25:41.299Z"
   },
   {
    "duration": 13,
    "start_time": "2022-08-12T17:25:41.307Z"
   },
   {
    "duration": 1460,
    "start_time": "2022-08-12T17:25:41.321Z"
   },
   {
    "duration": 35,
    "start_time": "2022-08-12T17:25:42.783Z"
   },
   {
    "duration": 2,
    "start_time": "2022-08-12T17:25:42.820Z"
   },
   {
    "duration": 1835,
    "start_time": "2022-08-12T17:25:42.824Z"
   },
   {
    "duration": 9,
    "start_time": "2022-08-12T17:25:44.661Z"
   },
   {
    "duration": 91,
    "start_time": "2022-08-12T17:25:44.672Z"
   },
   {
    "duration": 32,
    "start_time": "2022-08-12T17:25:44.764Z"
   },
   {
    "duration": 24,
    "start_time": "2022-08-12T17:25:44.797Z"
   },
   {
    "duration": 21,
    "start_time": "2022-08-12T17:25:44.822Z"
   },
   {
    "duration": 289,
    "start_time": "2022-08-12T17:25:44.844Z"
   },
   {
    "duration": 4,
    "start_time": "2022-08-12T17:25:45.135Z"
   },
   {
    "duration": 1047,
    "start_time": "2022-08-12T17:34:42.215Z"
   },
   {
    "duration": 305,
    "start_time": "2022-08-12T17:54:24.101Z"
   },
   {
    "duration": 300,
    "start_time": "2022-08-12T17:54:42.965Z"
   },
   {
    "duration": 56,
    "start_time": "2022-08-12T18:01:14.643Z"
   },
   {
    "duration": 307,
    "start_time": "2022-08-12T18:01:23.149Z"
   },
   {
    "duration": 326,
    "start_time": "2022-08-12T18:01:36.294Z"
   },
   {
    "duration": 10,
    "start_time": "2022-08-12T19:02:13.552Z"
   },
   {
    "duration": 1452,
    "start_time": "2022-08-12T19:02:13.564Z"
   },
   {
    "duration": 1492,
    "start_time": "2022-08-12T19:02:15.017Z"
   },
   {
    "duration": 3,
    "start_time": "2022-08-12T19:02:16.511Z"
   },
   {
    "duration": 86,
    "start_time": "2022-08-12T19:02:16.516Z"
   },
   {
    "duration": 3,
    "start_time": "2022-08-12T19:02:16.603Z"
   },
   {
    "duration": 6,
    "start_time": "2022-08-12T19:02:16.608Z"
   },
   {
    "duration": 6,
    "start_time": "2022-08-12T19:02:16.616Z"
   },
   {
    "duration": 80,
    "start_time": "2022-08-12T19:02:16.625Z"
   },
   {
    "duration": 181,
    "start_time": "2022-08-12T19:02:16.707Z"
   },
   {
    "duration": 6,
    "start_time": "2022-08-12T19:02:16.890Z"
   },
   {
    "duration": 3,
    "start_time": "2022-08-12T19:02:16.898Z"
   },
   {
    "duration": 23,
    "start_time": "2022-08-12T19:02:16.902Z"
   },
   {
    "duration": 47,
    "start_time": "2022-08-12T19:02:16.926Z"
   },
   {
    "duration": 7,
    "start_time": "2022-08-12T19:02:16.975Z"
   },
   {
    "duration": 14,
    "start_time": "2022-08-12T19:02:16.983Z"
   },
   {
    "duration": 11,
    "start_time": "2022-08-12T19:02:16.998Z"
   },
   {
    "duration": 11,
    "start_time": "2022-08-12T19:02:17.011Z"
   },
   {
    "duration": 39,
    "start_time": "2022-08-12T19:02:17.024Z"
   },
   {
    "duration": 7,
    "start_time": "2022-08-12T19:02:17.065Z"
   },
   {
    "duration": 259,
    "start_time": "2022-08-12T19:02:17.073Z"
   },
   {
    "duration": 23,
    "start_time": "2022-08-12T19:02:17.334Z"
   },
   {
    "duration": 5,
    "start_time": "2022-08-12T19:02:17.359Z"
   },
   {
    "duration": 6,
    "start_time": "2022-08-12T19:02:17.368Z"
   },
   {
    "duration": 5,
    "start_time": "2022-08-12T19:02:17.375Z"
   },
   {
    "duration": 10,
    "start_time": "2022-08-12T19:02:17.382Z"
   },
   {
    "duration": 4,
    "start_time": "2022-08-12T19:02:17.394Z"
   },
   {
    "duration": 12,
    "start_time": "2022-08-12T19:02:17.400Z"
   },
   {
    "duration": 5,
    "start_time": "2022-08-12T19:02:17.414Z"
   },
   {
    "duration": 40,
    "start_time": "2022-08-12T19:02:17.421Z"
   },
   {
    "duration": 4798,
    "start_time": "2022-08-12T19:02:17.463Z"
   },
   {
    "duration": 7,
    "start_time": "2022-08-12T19:02:22.263Z"
   },
   {
    "duration": 8,
    "start_time": "2022-08-12T19:02:22.271Z"
   },
   {
    "duration": 10,
    "start_time": "2022-08-12T19:02:22.281Z"
   },
   {
    "duration": 12,
    "start_time": "2022-08-12T19:02:22.293Z"
   },
   {
    "duration": 12,
    "start_time": "2022-08-12T19:02:22.306Z"
   },
   {
    "duration": 2491,
    "start_time": "2022-08-12T19:02:22.319Z"
   },
   {
    "duration": 5,
    "start_time": "2022-08-12T19:02:24.812Z"
   },
   {
    "duration": 5,
    "start_time": "2022-08-12T19:02:24.818Z"
   },
   {
    "duration": 6,
    "start_time": "2022-08-12T19:02:24.824Z"
   },
   {
    "duration": 4,
    "start_time": "2022-08-12T19:02:24.832Z"
   },
   {
    "duration": 20,
    "start_time": "2022-08-12T19:02:24.837Z"
   },
   {
    "duration": 18,
    "start_time": "2022-08-12T19:02:24.859Z"
   },
   {
    "duration": 16,
    "start_time": "2022-08-12T19:02:24.878Z"
   },
   {
    "duration": 9,
    "start_time": "2022-08-12T19:02:24.896Z"
   },
   {
    "duration": 605,
    "start_time": "2022-08-12T19:02:24.907Z"
   },
   {
    "duration": 21,
    "start_time": "2022-08-12T19:02:25.513Z"
   },
   {
    "duration": 25,
    "start_time": "2022-08-12T19:02:25.535Z"
   },
   {
    "duration": 17,
    "start_time": "2022-08-12T19:02:25.562Z"
   },
   {
    "duration": 6,
    "start_time": "2022-08-12T19:02:25.581Z"
   },
   {
    "duration": 555,
    "start_time": "2022-08-12T19:02:25.588Z"
   },
   {
    "duration": 12,
    "start_time": "2022-08-12T19:02:26.145Z"
   },
   {
    "duration": 15,
    "start_time": "2022-08-12T19:02:26.158Z"
   },
   {
    "duration": 7,
    "start_time": "2022-08-12T19:02:26.175Z"
   },
   {
    "duration": 142,
    "start_time": "2022-08-12T19:02:26.183Z"
   },
   {
    "duration": 7,
    "start_time": "2022-08-12T19:02:26.327Z"
   },
   {
    "duration": 23,
    "start_time": "2022-08-12T19:02:26.335Z"
   },
   {
    "duration": 26,
    "start_time": "2022-08-12T19:02:26.359Z"
   },
   {
    "duration": 12,
    "start_time": "2022-08-12T19:02:26.387Z"
   },
   {
    "duration": 5,
    "start_time": "2022-08-12T19:02:26.401Z"
   },
   {
    "duration": 8,
    "start_time": "2022-08-12T19:02:26.407Z"
   },
   {
    "duration": 8,
    "start_time": "2022-08-12T19:02:26.416Z"
   },
   {
    "duration": 32,
    "start_time": "2022-08-12T19:02:26.425Z"
   },
   {
    "duration": 7,
    "start_time": "2022-08-12T19:02:26.459Z"
   },
   {
    "duration": 8,
    "start_time": "2022-08-12T19:02:26.468Z"
   },
   {
    "duration": 7,
    "start_time": "2022-08-12T19:02:26.477Z"
   },
   {
    "duration": 6,
    "start_time": "2022-08-12T19:02:26.485Z"
   },
   {
    "duration": 15,
    "start_time": "2022-08-12T19:02:26.492Z"
   },
   {
    "duration": 10,
    "start_time": "2022-08-12T19:02:26.512Z"
   },
   {
    "duration": 7,
    "start_time": "2022-08-12T19:02:26.524Z"
   },
   {
    "duration": 4,
    "start_time": "2022-08-12T19:02:26.557Z"
   },
   {
    "duration": 893,
    "start_time": "2022-08-12T19:02:26.562Z"
   },
   {
    "duration": 4,
    "start_time": "2022-08-12T19:02:27.457Z"
   },
   {
    "duration": 15,
    "start_time": "2022-08-12T19:02:27.462Z"
   },
   {
    "duration": 9,
    "start_time": "2022-08-12T19:02:27.478Z"
   },
   {
    "duration": 9,
    "start_time": "2022-08-12T19:02:27.488Z"
   },
   {
    "duration": 11,
    "start_time": "2022-08-12T19:02:27.499Z"
   },
   {
    "duration": 3,
    "start_time": "2022-08-12T19:02:27.511Z"
   },
   {
    "duration": 4,
    "start_time": "2022-08-12T19:02:27.516Z"
   },
   {
    "duration": 6777,
    "start_time": "2022-08-12T19:02:27.522Z"
   },
   {
    "duration": 3,
    "start_time": "2022-08-12T19:02:34.300Z"
   },
   {
    "duration": 25,
    "start_time": "2022-08-12T19:02:34.304Z"
   },
   {
    "duration": 9,
    "start_time": "2022-08-12T19:02:34.330Z"
   },
   {
    "duration": 157624,
    "start_time": "2022-08-12T19:02:34.340Z"
   },
   {
    "duration": 3,
    "start_time": "2022-08-12T19:05:11.965Z"
   },
   {
    "duration": 19,
    "start_time": "2022-08-12T19:05:11.969Z"
   },
   {
    "duration": 5,
    "start_time": "2022-08-12T19:07:46.346Z"
   },
   {
    "duration": 9,
    "start_time": "2022-08-12T19:07:46.352Z"
   },
   {
    "duration": 1331,
    "start_time": "2022-08-12T19:07:46.363Z"
   },
   {
    "duration": 3,
    "start_time": "2022-08-12T19:07:47.696Z"
   },
   {
    "duration": 71,
    "start_time": "2022-08-12T19:07:47.700Z"
   },
   {
    "duration": 3,
    "start_time": "2022-08-12T19:07:47.773Z"
   },
   {
    "duration": 7,
    "start_time": "2022-08-12T19:07:47.778Z"
   },
   {
    "duration": 6,
    "start_time": "2022-08-12T19:07:47.786Z"
   },
   {
    "duration": 66,
    "start_time": "2022-08-12T19:07:47.793Z"
   },
   {
    "duration": 148,
    "start_time": "2022-08-12T19:07:47.861Z"
   },
   {
    "duration": 6,
    "start_time": "2022-08-12T19:07:48.012Z"
   },
   {
    "duration": 38,
    "start_time": "2022-08-12T19:07:48.021Z"
   },
   {
    "duration": 22,
    "start_time": "2022-08-12T19:07:48.060Z"
   },
   {
    "duration": 18,
    "start_time": "2022-08-12T19:07:48.083Z"
   },
   {
    "duration": 8,
    "start_time": "2022-08-12T19:07:48.103Z"
   },
   {
    "duration": 11,
    "start_time": "2022-08-12T19:07:48.113Z"
   },
   {
    "duration": 34,
    "start_time": "2022-08-12T19:07:48.126Z"
   },
   {
    "duration": 11,
    "start_time": "2022-08-12T19:07:48.161Z"
   },
   {
    "duration": 16,
    "start_time": "2022-08-12T19:07:48.174Z"
   },
   {
    "duration": 7,
    "start_time": "2022-08-12T19:07:48.192Z"
   },
   {
    "duration": 257,
    "start_time": "2022-08-12T19:07:48.200Z"
   },
   {
    "duration": 11,
    "start_time": "2022-08-12T19:07:48.459Z"
   },
   {
    "duration": 7,
    "start_time": "2022-08-12T19:07:48.472Z"
   },
   {
    "duration": 11,
    "start_time": "2022-08-12T19:07:48.481Z"
   },
   {
    "duration": 6,
    "start_time": "2022-08-12T19:07:48.493Z"
   },
   {
    "duration": 8,
    "start_time": "2022-08-12T19:07:48.501Z"
   },
   {
    "duration": 6,
    "start_time": "2022-08-12T19:07:48.510Z"
   },
   {
    "duration": 10,
    "start_time": "2022-08-12T19:07:48.517Z"
   },
   {
    "duration": 29,
    "start_time": "2022-08-12T19:07:48.529Z"
   },
   {
    "duration": 11,
    "start_time": "2022-08-12T19:07:48.563Z"
   },
   {
    "duration": 4335,
    "start_time": "2022-08-12T19:07:48.575Z"
   },
   {
    "duration": 7,
    "start_time": "2022-08-12T19:07:52.912Z"
   },
   {
    "duration": 7,
    "start_time": "2022-08-12T19:07:52.920Z"
   },
   {
    "duration": 13,
    "start_time": "2022-08-12T19:07:52.928Z"
   },
   {
    "duration": 20,
    "start_time": "2022-08-12T19:07:52.943Z"
   },
   {
    "duration": 18,
    "start_time": "2022-08-12T19:07:52.965Z"
   },
   {
    "duration": 2394,
    "start_time": "2022-08-12T19:07:52.984Z"
   },
   {
    "duration": 8,
    "start_time": "2022-08-12T19:07:55.380Z"
   },
   {
    "duration": 10,
    "start_time": "2022-08-12T19:07:55.389Z"
   },
   {
    "duration": 10,
    "start_time": "2022-08-12T19:07:55.401Z"
   },
   {
    "duration": 7,
    "start_time": "2022-08-12T19:07:55.413Z"
   },
   {
    "duration": 10,
    "start_time": "2022-08-12T19:07:55.421Z"
   },
   {
    "duration": 38,
    "start_time": "2022-08-12T19:07:55.433Z"
   },
   {
    "duration": 20,
    "start_time": "2022-08-12T19:07:55.473Z"
   },
   {
    "duration": 11,
    "start_time": "2022-08-12T19:07:55.494Z"
   },
   {
    "duration": 646,
    "start_time": "2022-08-12T19:07:55.507Z"
   },
   {
    "duration": 23,
    "start_time": "2022-08-12T19:07:56.154Z"
   },
   {
    "duration": 11,
    "start_time": "2022-08-12T19:07:56.179Z"
   },
   {
    "duration": 15,
    "start_time": "2022-08-12T19:07:56.192Z"
   },
   {
    "duration": 5,
    "start_time": "2022-08-12T19:07:56.208Z"
   },
   {
    "duration": 624,
    "start_time": "2022-08-12T19:07:56.214Z"
   },
   {
    "duration": 7,
    "start_time": "2022-08-12T19:07:56.840Z"
   },
   {
    "duration": 15,
    "start_time": "2022-08-12T19:07:56.858Z"
   },
   {
    "duration": 8,
    "start_time": "2022-08-12T19:07:56.875Z"
   },
   {
    "duration": 17,
    "start_time": "2022-08-12T19:07:56.885Z"
   },
   {
    "duration": 9,
    "start_time": "2022-08-12T19:07:56.903Z"
   },
   {
    "duration": 48,
    "start_time": "2022-08-12T19:07:56.913Z"
   },
   {
    "duration": 26,
    "start_time": "2022-08-12T19:07:56.963Z"
   },
   {
    "duration": 14,
    "start_time": "2022-08-12T19:07:56.991Z"
   },
   {
    "duration": 8,
    "start_time": "2022-08-12T19:07:57.006Z"
   },
   {
    "duration": 8,
    "start_time": "2022-08-12T19:07:57.015Z"
   },
   {
    "duration": 6,
    "start_time": "2022-08-12T19:07:57.024Z"
   },
   {
    "duration": 30,
    "start_time": "2022-08-12T19:07:57.031Z"
   },
   {
    "duration": 7,
    "start_time": "2022-08-12T19:07:57.063Z"
   },
   {
    "duration": 6,
    "start_time": "2022-08-12T19:07:57.072Z"
   },
   {
    "duration": 7,
    "start_time": "2022-08-12T19:07:57.080Z"
   },
   {
    "duration": 4,
    "start_time": "2022-08-12T19:07:57.089Z"
   },
   {
    "duration": 14,
    "start_time": "2022-08-12T19:07:57.094Z"
   },
   {
    "duration": 9,
    "start_time": "2022-08-12T19:07:57.110Z"
   },
   {
    "duration": 6,
    "start_time": "2022-08-12T19:07:57.121Z"
   },
   {
    "duration": 33,
    "start_time": "2022-08-12T19:07:57.128Z"
   },
   {
    "duration": 887,
    "start_time": "2022-08-12T19:07:57.163Z"
   },
   {
    "duration": 6,
    "start_time": "2022-08-12T19:07:58.052Z"
   },
   {
    "duration": 15,
    "start_time": "2022-08-12T19:07:58.060Z"
   },
   {
    "duration": 8,
    "start_time": "2022-08-12T19:07:58.076Z"
   },
   {
    "duration": 7,
    "start_time": "2022-08-12T19:07:58.085Z"
   },
   {
    "duration": 12,
    "start_time": "2022-08-12T19:07:58.094Z"
   },
   {
    "duration": 5,
    "start_time": "2022-08-12T19:07:58.108Z"
   },
   {
    "duration": 5,
    "start_time": "2022-08-12T19:07:58.115Z"
   },
   {
    "duration": 6912,
    "start_time": "2022-08-12T19:07:58.121Z"
   },
   {
    "duration": 3,
    "start_time": "2022-08-12T19:08:05.035Z"
   },
   {
    "duration": 19,
    "start_time": "2022-08-12T19:08:05.039Z"
   },
   {
    "duration": 7,
    "start_time": "2022-08-12T19:08:05.060Z"
   },
   {
    "duration": 197120,
    "start_time": "2022-08-12T19:08:05.072Z"
   },
   {
    "duration": 3,
    "start_time": "2022-08-12T19:11:22.193Z"
   },
   {
    "duration": 65,
    "start_time": "2022-08-12T19:11:22.197Z"
   },
   {
    "duration": 16,
    "start_time": "2022-08-12T19:13:28.062Z"
   },
   {
    "duration": 1409,
    "start_time": "2022-08-12T19:13:28.080Z"
   },
   {
    "duration": 310,
    "start_time": "2022-08-12T19:13:29.490Z"
   },
   {
    "duration": 3,
    "start_time": "2022-08-12T19:13:29.802Z"
   },
   {
    "duration": 76,
    "start_time": "2022-08-12T19:13:29.806Z"
   },
   {
    "duration": 3,
    "start_time": "2022-08-12T19:13:29.884Z"
   },
   {
    "duration": 6,
    "start_time": "2022-08-12T19:13:29.889Z"
   },
   {
    "duration": 7,
    "start_time": "2022-08-12T19:13:29.897Z"
   },
   {
    "duration": 66,
    "start_time": "2022-08-12T19:13:29.906Z"
   },
   {
    "duration": 185,
    "start_time": "2022-08-12T19:13:29.974Z"
   },
   {
    "duration": 6,
    "start_time": "2022-08-12T19:13:30.161Z"
   },
   {
    "duration": 15,
    "start_time": "2022-08-12T19:13:30.168Z"
   },
   {
    "duration": 24,
    "start_time": "2022-08-12T19:13:30.185Z"
   },
   {
    "duration": 27,
    "start_time": "2022-08-12T19:13:30.211Z"
   },
   {
    "duration": 6,
    "start_time": "2022-08-12T19:13:30.240Z"
   },
   {
    "duration": 17,
    "start_time": "2022-08-12T19:13:30.257Z"
   },
   {
    "duration": 7,
    "start_time": "2022-08-12T19:13:30.275Z"
   },
   {
    "duration": 28,
    "start_time": "2022-08-12T19:13:30.283Z"
   },
   {
    "duration": 13,
    "start_time": "2022-08-12T19:13:30.312Z"
   },
   {
    "duration": 10,
    "start_time": "2022-08-12T19:13:30.326Z"
   },
   {
    "duration": 238,
    "start_time": "2022-08-12T19:13:30.337Z"
   },
   {
    "duration": 13,
    "start_time": "2022-08-12T19:13:30.576Z"
   },
   {
    "duration": 9,
    "start_time": "2022-08-12T19:13:30.592Z"
   },
   {
    "duration": 6,
    "start_time": "2022-08-12T19:13:30.605Z"
   },
   {
    "duration": 16,
    "start_time": "2022-08-12T19:13:30.613Z"
   },
   {
    "duration": 20,
    "start_time": "2022-08-12T19:13:30.631Z"
   },
   {
    "duration": 19,
    "start_time": "2022-08-12T19:13:30.652Z"
   },
   {
    "duration": 29,
    "start_time": "2022-08-12T19:13:30.673Z"
   },
   {
    "duration": 24,
    "start_time": "2022-08-12T19:13:30.704Z"
   },
   {
    "duration": 33,
    "start_time": "2022-08-12T19:13:30.730Z"
   },
   {
    "duration": 6132,
    "start_time": "2022-08-12T19:13:30.765Z"
   },
   {
    "duration": 7,
    "start_time": "2022-08-12T19:13:36.899Z"
   },
   {
    "duration": 5,
    "start_time": "2022-08-12T19:13:36.908Z"
   },
   {
    "duration": 17,
    "start_time": "2022-08-12T19:13:36.915Z"
   },
   {
    "duration": 8,
    "start_time": "2022-08-12T19:13:36.934Z"
   },
   {
    "duration": 13,
    "start_time": "2022-08-12T19:13:36.944Z"
   },
   {
    "duration": 2510,
    "start_time": "2022-08-12T19:13:36.959Z"
   },
   {
    "duration": 6,
    "start_time": "2022-08-12T19:13:39.471Z"
   },
   {
    "duration": 35,
    "start_time": "2022-08-12T19:13:39.478Z"
   },
   {
    "duration": 10,
    "start_time": "2022-08-12T19:13:39.515Z"
   },
   {
    "duration": 7,
    "start_time": "2022-08-12T19:13:39.527Z"
   },
   {
    "duration": 40,
    "start_time": "2022-08-12T19:13:39.535Z"
   },
   {
    "duration": 27,
    "start_time": "2022-08-12T19:13:39.577Z"
   },
   {
    "duration": 20,
    "start_time": "2022-08-12T19:13:39.605Z"
   },
   {
    "duration": 11,
    "start_time": "2022-08-12T19:13:39.626Z"
   },
   {
    "duration": 623,
    "start_time": "2022-08-12T19:13:39.639Z"
   },
   {
    "duration": 24,
    "start_time": "2022-08-12T19:13:40.263Z"
   },
   {
    "duration": 14,
    "start_time": "2022-08-12T19:13:40.289Z"
   },
   {
    "duration": 18,
    "start_time": "2022-08-12T19:13:40.304Z"
   },
   {
    "duration": 5,
    "start_time": "2022-08-12T19:13:40.324Z"
   },
   {
    "duration": 614,
    "start_time": "2022-08-12T19:13:40.331Z"
   },
   {
    "duration": 11,
    "start_time": "2022-08-12T19:13:40.947Z"
   },
   {
    "duration": 16,
    "start_time": "2022-08-12T19:13:40.960Z"
   },
   {
    "duration": 9,
    "start_time": "2022-08-12T19:13:40.978Z"
   },
   {
    "duration": 151,
    "start_time": "2022-08-12T19:13:40.989Z"
   },
   {
    "duration": 7,
    "start_time": "2022-08-12T19:13:41.142Z"
   },
   {
    "duration": 21,
    "start_time": "2022-08-12T19:13:41.151Z"
   },
   {
    "duration": 29,
    "start_time": "2022-08-12T19:13:41.174Z"
   },
   {
    "duration": 13,
    "start_time": "2022-08-12T19:13:41.205Z"
   },
   {
    "duration": 7,
    "start_time": "2022-08-12T19:13:41.220Z"
   },
   {
    "duration": 28,
    "start_time": "2022-08-12T19:13:41.229Z"
   },
   {
    "duration": 7,
    "start_time": "2022-08-12T19:13:41.259Z"
   },
   {
    "duration": 15,
    "start_time": "2022-08-12T19:13:41.268Z"
   },
   {
    "duration": 9,
    "start_time": "2022-08-12T19:13:41.285Z"
   },
   {
    "duration": 10,
    "start_time": "2022-08-12T19:13:41.296Z"
   },
   {
    "duration": 10,
    "start_time": "2022-08-12T19:13:41.308Z"
   },
   {
    "duration": 4,
    "start_time": "2022-08-12T19:13:41.320Z"
   },
   {
    "duration": 33,
    "start_time": "2022-08-12T19:13:41.326Z"
   },
   {
    "duration": 11,
    "start_time": "2022-08-12T19:13:41.364Z"
   },
   {
    "duration": 6,
    "start_time": "2022-08-12T19:13:41.377Z"
   },
   {
    "duration": 8,
    "start_time": "2022-08-12T19:13:41.385Z"
   },
   {
    "duration": 874,
    "start_time": "2022-08-12T19:13:41.394Z"
   },
   {
    "duration": 4,
    "start_time": "2022-08-12T19:13:42.270Z"
   },
   {
    "duration": 13,
    "start_time": "2022-08-12T19:13:42.275Z"
   },
   {
    "duration": 9,
    "start_time": "2022-08-12T19:13:42.290Z"
   },
   {
    "duration": 13,
    "start_time": "2022-08-12T19:13:42.300Z"
   },
   {
    "duration": 16,
    "start_time": "2022-08-12T19:13:42.314Z"
   },
   {
    "duration": 11,
    "start_time": "2022-08-12T19:13:42.331Z"
   },
   {
    "duration": 6,
    "start_time": "2022-08-12T19:13:42.343Z"
   },
   {
    "duration": 6760,
    "start_time": "2022-08-12T19:13:42.351Z"
   },
   {
    "duration": 2,
    "start_time": "2022-08-12T19:13:49.113Z"
   },
   {
    "duration": 15,
    "start_time": "2022-08-12T19:13:49.117Z"
   },
   {
    "duration": 7,
    "start_time": "2022-08-12T19:13:49.133Z"
   },
   {
    "duration": 1016821,
    "start_time": "2022-08-12T19:13:49.141Z"
   },
   {
    "duration": 2,
    "start_time": "2022-08-12T19:30:45.964Z"
   },
   {
    "duration": 14,
    "start_time": "2022-08-12T19:30:45.968Z"
   },
   {
    "duration": 9,
    "start_time": "2022-08-12T19:32:01.680Z"
   },
   {
    "duration": 1516,
    "start_time": "2022-08-12T19:32:01.692Z"
   },
   {
    "duration": 352,
    "start_time": "2022-08-12T19:32:03.210Z"
   },
   {
    "duration": 2,
    "start_time": "2022-08-12T19:32:03.564Z"
   },
   {
    "duration": 72,
    "start_time": "2022-08-12T19:32:03.568Z"
   },
   {
    "duration": 16,
    "start_time": "2022-08-12T19:32:03.641Z"
   },
   {
    "duration": 9,
    "start_time": "2022-08-12T19:32:03.658Z"
   },
   {
    "duration": 13,
    "start_time": "2022-08-12T19:32:03.668Z"
   },
   {
    "duration": 62,
    "start_time": "2022-08-12T19:32:03.684Z"
   },
   {
    "duration": 176,
    "start_time": "2022-08-12T19:32:03.748Z"
   },
   {
    "duration": 5,
    "start_time": "2022-08-12T19:32:03.958Z"
   },
   {
    "duration": 23,
    "start_time": "2022-08-12T19:32:03.964Z"
   },
   {
    "duration": 29,
    "start_time": "2022-08-12T19:32:03.989Z"
   },
   {
    "duration": 46,
    "start_time": "2022-08-12T19:32:04.020Z"
   },
   {
    "duration": 7,
    "start_time": "2022-08-12T19:32:04.068Z"
   },
   {
    "duration": 14,
    "start_time": "2022-08-12T19:32:04.076Z"
   },
   {
    "duration": 6,
    "start_time": "2022-08-12T19:32:04.091Z"
   },
   {
    "duration": 12,
    "start_time": "2022-08-12T19:32:04.098Z"
   },
   {
    "duration": 12,
    "start_time": "2022-08-12T19:32:04.112Z"
   },
   {
    "duration": 33,
    "start_time": "2022-08-12T19:32:04.125Z"
   },
   {
    "duration": 246,
    "start_time": "2022-08-12T19:32:04.160Z"
   },
   {
    "duration": 13,
    "start_time": "2022-08-12T19:32:04.407Z"
   },
   {
    "duration": 5,
    "start_time": "2022-08-12T19:32:04.422Z"
   },
   {
    "duration": 281,
    "start_time": "2022-08-12T19:32:04.430Z"
   },
   {
    "duration": 0,
    "start_time": "2022-08-12T19:32:04.713Z"
   },
   {
    "duration": 0,
    "start_time": "2022-08-12T19:32:04.714Z"
   },
   {
    "duration": 0,
    "start_time": "2022-08-12T19:32:04.715Z"
   },
   {
    "duration": 0,
    "start_time": "2022-08-12T19:32:04.716Z"
   },
   {
    "duration": 0,
    "start_time": "2022-08-12T19:32:04.717Z"
   },
   {
    "duration": 0,
    "start_time": "2022-08-12T19:32:04.718Z"
   },
   {
    "duration": 0,
    "start_time": "2022-08-12T19:32:04.719Z"
   },
   {
    "duration": 0,
    "start_time": "2022-08-12T19:32:04.721Z"
   },
   {
    "duration": 0,
    "start_time": "2022-08-12T19:32:04.722Z"
   },
   {
    "duration": 0,
    "start_time": "2022-08-12T19:32:04.723Z"
   },
   {
    "duration": 0,
    "start_time": "2022-08-12T19:32:04.724Z"
   },
   {
    "duration": 0,
    "start_time": "2022-08-12T19:32:04.725Z"
   },
   {
    "duration": 0,
    "start_time": "2022-08-12T19:32:04.726Z"
   },
   {
    "duration": 0,
    "start_time": "2022-08-12T19:32:04.728Z"
   },
   {
    "duration": 1,
    "start_time": "2022-08-12T19:32:04.728Z"
   },
   {
    "duration": 0,
    "start_time": "2022-08-12T19:32:04.758Z"
   },
   {
    "duration": 0,
    "start_time": "2022-08-12T19:32:04.759Z"
   },
   {
    "duration": 0,
    "start_time": "2022-08-12T19:32:04.761Z"
   },
   {
    "duration": 0,
    "start_time": "2022-08-12T19:32:04.762Z"
   },
   {
    "duration": 0,
    "start_time": "2022-08-12T19:32:04.764Z"
   },
   {
    "duration": 0,
    "start_time": "2022-08-12T19:32:04.765Z"
   },
   {
    "duration": 0,
    "start_time": "2022-08-12T19:32:04.766Z"
   },
   {
    "duration": 0,
    "start_time": "2022-08-12T19:32:04.768Z"
   },
   {
    "duration": 0,
    "start_time": "2022-08-12T19:32:04.769Z"
   },
   {
    "duration": 0,
    "start_time": "2022-08-12T19:32:04.771Z"
   },
   {
    "duration": 0,
    "start_time": "2022-08-12T19:32:04.772Z"
   },
   {
    "duration": 0,
    "start_time": "2022-08-12T19:32:04.772Z"
   },
   {
    "duration": 0,
    "start_time": "2022-08-12T19:32:04.773Z"
   },
   {
    "duration": 0,
    "start_time": "2022-08-12T19:32:04.774Z"
   },
   {
    "duration": 0,
    "start_time": "2022-08-12T19:32:04.775Z"
   },
   {
    "duration": 0,
    "start_time": "2022-08-12T19:32:04.776Z"
   },
   {
    "duration": 0,
    "start_time": "2022-08-12T19:32:04.777Z"
   },
   {
    "duration": 0,
    "start_time": "2022-08-12T19:32:04.778Z"
   },
   {
    "duration": 0,
    "start_time": "2022-08-12T19:32:04.779Z"
   },
   {
    "duration": 0,
    "start_time": "2022-08-12T19:32:04.780Z"
   },
   {
    "duration": 0,
    "start_time": "2022-08-12T19:32:04.781Z"
   },
   {
    "duration": 0,
    "start_time": "2022-08-12T19:32:04.781Z"
   },
   {
    "duration": 0,
    "start_time": "2022-08-12T19:32:04.782Z"
   },
   {
    "duration": 0,
    "start_time": "2022-08-12T19:32:04.783Z"
   },
   {
    "duration": 0,
    "start_time": "2022-08-12T19:32:04.785Z"
   },
   {
    "duration": 0,
    "start_time": "2022-08-12T19:32:04.786Z"
   },
   {
    "duration": 0,
    "start_time": "2022-08-12T19:32:04.787Z"
   },
   {
    "duration": 0,
    "start_time": "2022-08-12T19:32:04.788Z"
   },
   {
    "duration": 0,
    "start_time": "2022-08-12T19:32:04.789Z"
   },
   {
    "duration": 0,
    "start_time": "2022-08-12T19:32:04.790Z"
   },
   {
    "duration": 0,
    "start_time": "2022-08-12T19:32:04.791Z"
   },
   {
    "duration": 0,
    "start_time": "2022-08-12T19:32:04.792Z"
   },
   {
    "duration": 0,
    "start_time": "2022-08-12T19:32:04.793Z"
   },
   {
    "duration": 0,
    "start_time": "2022-08-12T19:32:04.794Z"
   },
   {
    "duration": 0,
    "start_time": "2022-08-12T19:32:04.858Z"
   },
   {
    "duration": 0,
    "start_time": "2022-08-12T19:32:04.859Z"
   },
   {
    "duration": 0,
    "start_time": "2022-08-12T19:32:04.860Z"
   },
   {
    "duration": 0,
    "start_time": "2022-08-12T19:32:04.861Z"
   },
   {
    "duration": 0,
    "start_time": "2022-08-12T19:32:04.862Z"
   },
   {
    "duration": 0,
    "start_time": "2022-08-12T19:32:04.863Z"
   },
   {
    "duration": 0,
    "start_time": "2022-08-12T19:32:04.864Z"
   },
   {
    "duration": 0,
    "start_time": "2022-08-12T19:32:04.865Z"
   },
   {
    "duration": 0,
    "start_time": "2022-08-12T19:32:04.866Z"
   },
   {
    "duration": 0,
    "start_time": "2022-08-12T19:32:04.867Z"
   },
   {
    "duration": 0,
    "start_time": "2022-08-12T19:32:04.868Z"
   },
   {
    "duration": 0,
    "start_time": "2022-08-12T19:32:04.869Z"
   },
   {
    "duration": 0,
    "start_time": "2022-08-12T19:32:04.869Z"
   },
   {
    "duration": 0,
    "start_time": "2022-08-12T19:32:04.870Z"
   },
   {
    "duration": 5,
    "start_time": "2022-08-12T19:32:24.186Z"
   },
   {
    "duration": 11,
    "start_time": "2022-08-12T19:32:24.193Z"
   },
   {
    "duration": 567,
    "start_time": "2022-08-12T19:32:24.206Z"
   },
   {
    "duration": 3,
    "start_time": "2022-08-12T19:32:24.775Z"
   },
   {
    "duration": 84,
    "start_time": "2022-08-12T19:32:24.781Z"
   },
   {
    "duration": 3,
    "start_time": "2022-08-12T19:32:24.867Z"
   },
   {
    "duration": 6,
    "start_time": "2022-08-12T19:32:24.871Z"
   },
   {
    "duration": 7,
    "start_time": "2022-08-12T19:32:24.879Z"
   },
   {
    "duration": 69,
    "start_time": "2022-08-12T19:32:24.888Z"
   },
   {
    "duration": 134,
    "start_time": "2022-08-12T19:32:24.959Z"
   },
   {
    "duration": 5,
    "start_time": "2022-08-12T19:32:25.095Z"
   },
   {
    "duration": 3,
    "start_time": "2022-08-12T19:32:25.102Z"
   },
   {
    "duration": 50,
    "start_time": "2022-08-12T19:32:25.107Z"
   },
   {
    "duration": 25,
    "start_time": "2022-08-12T19:32:25.159Z"
   },
   {
    "duration": 8,
    "start_time": "2022-08-12T19:32:25.186Z"
   },
   {
    "duration": 17,
    "start_time": "2022-08-12T19:32:25.196Z"
   },
   {
    "duration": 11,
    "start_time": "2022-08-12T19:32:25.214Z"
   },
   {
    "duration": 30,
    "start_time": "2022-08-12T19:32:25.227Z"
   },
   {
    "duration": 17,
    "start_time": "2022-08-12T19:32:25.260Z"
   },
   {
    "duration": 36,
    "start_time": "2022-08-12T19:32:25.279Z"
   },
   {
    "duration": 316,
    "start_time": "2022-08-12T19:32:25.317Z"
   },
   {
    "duration": 23,
    "start_time": "2022-08-12T19:32:25.635Z"
   },
   {
    "duration": 5,
    "start_time": "2022-08-12T19:32:25.660Z"
   },
   {
    "duration": 178,
    "start_time": "2022-08-12T19:32:25.667Z"
   },
   {
    "duration": 0,
    "start_time": "2022-08-12T19:32:25.848Z"
   },
   {
    "duration": 0,
    "start_time": "2022-08-12T19:32:25.849Z"
   },
   {
    "duration": 0,
    "start_time": "2022-08-12T19:32:25.857Z"
   },
   {
    "duration": 0,
    "start_time": "2022-08-12T19:32:25.858Z"
   },
   {
    "duration": 0,
    "start_time": "2022-08-12T19:32:25.859Z"
   },
   {
    "duration": 0,
    "start_time": "2022-08-12T19:32:25.860Z"
   },
   {
    "duration": 0,
    "start_time": "2022-08-12T19:32:25.861Z"
   },
   {
    "duration": 0,
    "start_time": "2022-08-12T19:32:25.863Z"
   },
   {
    "duration": 0,
    "start_time": "2022-08-12T19:32:25.864Z"
   },
   {
    "duration": 0,
    "start_time": "2022-08-12T19:32:25.864Z"
   },
   {
    "duration": 0,
    "start_time": "2022-08-12T19:32:25.865Z"
   },
   {
    "duration": 0,
    "start_time": "2022-08-12T19:32:25.867Z"
   },
   {
    "duration": 0,
    "start_time": "2022-08-12T19:32:25.867Z"
   },
   {
    "duration": 0,
    "start_time": "2022-08-12T19:32:25.868Z"
   },
   {
    "duration": 0,
    "start_time": "2022-08-12T19:32:25.870Z"
   },
   {
    "duration": 0,
    "start_time": "2022-08-12T19:32:25.871Z"
   },
   {
    "duration": 0,
    "start_time": "2022-08-12T19:32:25.872Z"
   },
   {
    "duration": 0,
    "start_time": "2022-08-12T19:32:25.873Z"
   },
   {
    "duration": 0,
    "start_time": "2022-08-12T19:32:25.874Z"
   },
   {
    "duration": 0,
    "start_time": "2022-08-12T19:32:25.875Z"
   },
   {
    "duration": 0,
    "start_time": "2022-08-12T19:32:25.876Z"
   },
   {
    "duration": 0,
    "start_time": "2022-08-12T19:32:25.877Z"
   },
   {
    "duration": 0,
    "start_time": "2022-08-12T19:32:25.878Z"
   },
   {
    "duration": 0,
    "start_time": "2022-08-12T19:32:25.879Z"
   },
   {
    "duration": 0,
    "start_time": "2022-08-12T19:32:25.880Z"
   },
   {
    "duration": 0,
    "start_time": "2022-08-12T19:32:25.881Z"
   },
   {
    "duration": 0,
    "start_time": "2022-08-12T19:32:25.882Z"
   },
   {
    "duration": 0,
    "start_time": "2022-08-12T19:32:25.883Z"
   },
   {
    "duration": 0,
    "start_time": "2022-08-12T19:32:25.884Z"
   },
   {
    "duration": 0,
    "start_time": "2022-08-12T19:32:25.885Z"
   },
   {
    "duration": 0,
    "start_time": "2022-08-12T19:32:25.886Z"
   },
   {
    "duration": 0,
    "start_time": "2022-08-12T19:32:25.887Z"
   },
   {
    "duration": 0,
    "start_time": "2022-08-12T19:32:25.888Z"
   },
   {
    "duration": 0,
    "start_time": "2022-08-12T19:32:25.889Z"
   },
   {
    "duration": 0,
    "start_time": "2022-08-12T19:32:25.890Z"
   },
   {
    "duration": 0,
    "start_time": "2022-08-12T19:32:25.891Z"
   },
   {
    "duration": 0,
    "start_time": "2022-08-12T19:32:25.892Z"
   },
   {
    "duration": 0,
    "start_time": "2022-08-12T19:32:25.893Z"
   },
   {
    "duration": 0,
    "start_time": "2022-08-12T19:32:25.894Z"
   },
   {
    "duration": 0,
    "start_time": "2022-08-12T19:32:25.895Z"
   },
   {
    "duration": 0,
    "start_time": "2022-08-12T19:32:25.959Z"
   },
   {
    "duration": 0,
    "start_time": "2022-08-12T19:32:25.960Z"
   },
   {
    "duration": 0,
    "start_time": "2022-08-12T19:32:25.961Z"
   },
   {
    "duration": 0,
    "start_time": "2022-08-12T19:32:25.962Z"
   },
   {
    "duration": 0,
    "start_time": "2022-08-12T19:32:25.963Z"
   },
   {
    "duration": 0,
    "start_time": "2022-08-12T19:32:25.964Z"
   },
   {
    "duration": 0,
    "start_time": "2022-08-12T19:32:25.965Z"
   },
   {
    "duration": 0,
    "start_time": "2022-08-12T19:32:25.966Z"
   },
   {
    "duration": 0,
    "start_time": "2022-08-12T19:32:25.966Z"
   },
   {
    "duration": 0,
    "start_time": "2022-08-12T19:32:25.967Z"
   },
   {
    "duration": 0,
    "start_time": "2022-08-12T19:32:25.968Z"
   },
   {
    "duration": 0,
    "start_time": "2022-08-12T19:32:25.969Z"
   },
   {
    "duration": 0,
    "start_time": "2022-08-12T19:32:25.970Z"
   },
   {
    "duration": 0,
    "start_time": "2022-08-12T19:32:25.971Z"
   },
   {
    "duration": 0,
    "start_time": "2022-08-12T19:32:25.972Z"
   },
   {
    "duration": 0,
    "start_time": "2022-08-12T19:32:25.973Z"
   },
   {
    "duration": 0,
    "start_time": "2022-08-12T19:32:25.974Z"
   },
   {
    "duration": 0,
    "start_time": "2022-08-12T19:32:25.975Z"
   },
   {
    "duration": 0,
    "start_time": "2022-08-12T19:32:25.975Z"
   },
   {
    "duration": 5,
    "start_time": "2022-08-12T19:32:43.586Z"
   },
   {
    "duration": 11,
    "start_time": "2022-08-12T19:32:43.594Z"
   },
   {
    "duration": 342,
    "start_time": "2022-08-12T19:32:43.610Z"
   },
   {
    "duration": 3,
    "start_time": "2022-08-12T19:32:43.954Z"
   },
   {
    "duration": 60,
    "start_time": "2022-08-12T19:32:43.958Z"
   },
   {
    "duration": 3,
    "start_time": "2022-08-12T19:32:44.020Z"
   },
   {
    "duration": 34,
    "start_time": "2022-08-12T19:32:44.024Z"
   },
   {
    "duration": 7,
    "start_time": "2022-08-12T19:32:44.059Z"
   },
   {
    "duration": 53,
    "start_time": "2022-08-12T19:32:44.067Z"
   },
   {
    "duration": 162,
    "start_time": "2022-08-12T19:32:44.122Z"
   },
   {
    "duration": 5,
    "start_time": "2022-08-12T19:32:44.285Z"
   },
   {
    "duration": 21,
    "start_time": "2022-08-12T19:32:44.292Z"
   },
   {
    "duration": 37,
    "start_time": "2022-08-12T19:32:44.314Z"
   },
   {
    "duration": 20,
    "start_time": "2022-08-12T19:32:44.353Z"
   },
   {
    "duration": 6,
    "start_time": "2022-08-12T19:32:44.374Z"
   },
   {
    "duration": 23,
    "start_time": "2022-08-12T19:32:44.382Z"
   },
   {
    "duration": 27,
    "start_time": "2022-08-12T19:32:44.406Z"
   },
   {
    "duration": 18,
    "start_time": "2022-08-12T19:32:44.435Z"
   },
   {
    "duration": 24,
    "start_time": "2022-08-12T19:32:44.455Z"
   },
   {
    "duration": 13,
    "start_time": "2022-08-12T19:32:44.481Z"
   },
   {
    "duration": 226,
    "start_time": "2022-08-12T19:32:44.495Z"
   },
   {
    "duration": 11,
    "start_time": "2022-08-12T19:32:44.723Z"
   },
   {
    "duration": 19,
    "start_time": "2022-08-12T19:32:44.736Z"
   },
   {
    "duration": 160,
    "start_time": "2022-08-12T19:32:44.757Z"
   },
   {
    "duration": 0,
    "start_time": "2022-08-12T19:32:44.920Z"
   },
   {
    "duration": 0,
    "start_time": "2022-08-12T19:32:44.921Z"
   },
   {
    "duration": 0,
    "start_time": "2022-08-12T19:32:44.923Z"
   },
   {
    "duration": 0,
    "start_time": "2022-08-12T19:32:44.924Z"
   },
   {
    "duration": 0,
    "start_time": "2022-08-12T19:32:44.925Z"
   },
   {
    "duration": 0,
    "start_time": "2022-08-12T19:32:44.926Z"
   },
   {
    "duration": 0,
    "start_time": "2022-08-12T19:32:44.928Z"
   },
   {
    "duration": 0,
    "start_time": "2022-08-12T19:32:44.929Z"
   },
   {
    "duration": 0,
    "start_time": "2022-08-12T19:32:44.930Z"
   },
   {
    "duration": 0,
    "start_time": "2022-08-12T19:32:44.931Z"
   },
   {
    "duration": 0,
    "start_time": "2022-08-12T19:32:44.932Z"
   },
   {
    "duration": 0,
    "start_time": "2022-08-12T19:32:44.933Z"
   },
   {
    "duration": 0,
    "start_time": "2022-08-12T19:32:44.934Z"
   },
   {
    "duration": 0,
    "start_time": "2022-08-12T19:32:44.936Z"
   },
   {
    "duration": 0,
    "start_time": "2022-08-12T19:32:44.957Z"
   },
   {
    "duration": 0,
    "start_time": "2022-08-12T19:32:44.958Z"
   },
   {
    "duration": 0,
    "start_time": "2022-08-12T19:32:44.959Z"
   },
   {
    "duration": 0,
    "start_time": "2022-08-12T19:32:44.960Z"
   },
   {
    "duration": 0,
    "start_time": "2022-08-12T19:32:44.961Z"
   },
   {
    "duration": 0,
    "start_time": "2022-08-12T19:32:44.962Z"
   },
   {
    "duration": 0,
    "start_time": "2022-08-12T19:32:44.963Z"
   },
   {
    "duration": 0,
    "start_time": "2022-08-12T19:32:44.964Z"
   },
   {
    "duration": 0,
    "start_time": "2022-08-12T19:32:44.965Z"
   },
   {
    "duration": 0,
    "start_time": "2022-08-12T19:32:44.966Z"
   },
   {
    "duration": 0,
    "start_time": "2022-08-12T19:32:44.967Z"
   },
   {
    "duration": 0,
    "start_time": "2022-08-12T19:32:44.968Z"
   },
   {
    "duration": 0,
    "start_time": "2022-08-12T19:32:44.969Z"
   },
   {
    "duration": 0,
    "start_time": "2022-08-12T19:32:44.970Z"
   },
   {
    "duration": 0,
    "start_time": "2022-08-12T19:32:44.971Z"
   },
   {
    "duration": 0,
    "start_time": "2022-08-12T19:32:44.972Z"
   },
   {
    "duration": 0,
    "start_time": "2022-08-12T19:32:44.973Z"
   },
   {
    "duration": 0,
    "start_time": "2022-08-12T19:32:44.974Z"
   },
   {
    "duration": 0,
    "start_time": "2022-08-12T19:32:44.975Z"
   },
   {
    "duration": 0,
    "start_time": "2022-08-12T19:32:44.976Z"
   },
   {
    "duration": 0,
    "start_time": "2022-08-12T19:32:44.977Z"
   },
   {
    "duration": 0,
    "start_time": "2022-08-12T19:32:44.978Z"
   },
   {
    "duration": 0,
    "start_time": "2022-08-12T19:32:44.979Z"
   },
   {
    "duration": 0,
    "start_time": "2022-08-12T19:32:44.980Z"
   },
   {
    "duration": 0,
    "start_time": "2022-08-12T19:32:44.981Z"
   },
   {
    "duration": 0,
    "start_time": "2022-08-12T19:32:44.983Z"
   },
   {
    "duration": 0,
    "start_time": "2022-08-12T19:32:44.983Z"
   },
   {
    "duration": 0,
    "start_time": "2022-08-12T19:32:44.985Z"
   },
   {
    "duration": 0,
    "start_time": "2022-08-12T19:32:44.986Z"
   },
   {
    "duration": 0,
    "start_time": "2022-08-12T19:32:44.987Z"
   },
   {
    "duration": 0,
    "start_time": "2022-08-12T19:32:44.987Z"
   },
   {
    "duration": 0,
    "start_time": "2022-08-12T19:32:44.989Z"
   },
   {
    "duration": 0,
    "start_time": "2022-08-12T19:32:44.989Z"
   },
   {
    "duration": 0,
    "start_time": "2022-08-12T19:32:44.990Z"
   },
   {
    "duration": 0,
    "start_time": "2022-08-12T19:32:44.991Z"
   },
   {
    "duration": 0,
    "start_time": "2022-08-12T19:32:44.992Z"
   },
   {
    "duration": 0,
    "start_time": "2022-08-12T19:32:44.993Z"
   },
   {
    "duration": 218,
    "start_time": "2022-08-12T19:33:09.812Z"
   },
   {
    "duration": 5,
    "start_time": "2022-08-12T19:33:22.121Z"
   },
   {
    "duration": 12,
    "start_time": "2022-08-12T19:33:22.128Z"
   },
   {
    "duration": 238,
    "start_time": "2022-08-12T19:33:22.141Z"
   },
   {
    "duration": 4,
    "start_time": "2022-08-12T19:33:22.381Z"
   },
   {
    "duration": 75,
    "start_time": "2022-08-12T19:33:22.387Z"
   },
   {
    "duration": 3,
    "start_time": "2022-08-12T19:33:22.464Z"
   },
   {
    "duration": 5,
    "start_time": "2022-08-12T19:33:22.469Z"
   },
   {
    "duration": 5,
    "start_time": "2022-08-12T19:33:22.476Z"
   },
   {
    "duration": 74,
    "start_time": "2022-08-12T19:33:22.482Z"
   },
   {
    "duration": 133,
    "start_time": "2022-08-12T19:33:22.558Z"
   },
   {
    "duration": 5,
    "start_time": "2022-08-12T19:33:22.692Z"
   },
   {
    "duration": 2,
    "start_time": "2022-08-12T19:33:22.700Z"
   },
   {
    "duration": 56,
    "start_time": "2022-08-12T19:33:22.704Z"
   },
   {
    "duration": 19,
    "start_time": "2022-08-12T19:33:22.761Z"
   },
   {
    "duration": 6,
    "start_time": "2022-08-12T19:33:22.781Z"
   },
   {
    "duration": 10,
    "start_time": "2022-08-12T19:33:22.789Z"
   },
   {
    "duration": 6,
    "start_time": "2022-08-12T19:33:22.800Z"
   },
   {
    "duration": 11,
    "start_time": "2022-08-12T19:33:22.807Z"
   },
   {
    "duration": 48,
    "start_time": "2022-08-12T19:33:22.820Z"
   },
   {
    "duration": 8,
    "start_time": "2022-08-12T19:33:22.869Z"
   },
   {
    "duration": 252,
    "start_time": "2022-08-12T19:33:22.878Z"
   },
   {
    "duration": 11,
    "start_time": "2022-08-12T19:33:23.132Z"
   },
   {
    "duration": 5,
    "start_time": "2022-08-12T19:33:23.158Z"
   },
   {
    "duration": 224,
    "start_time": "2022-08-12T19:33:23.164Z"
   },
   {
    "duration": 5,
    "start_time": "2022-08-12T19:33:23.390Z"
   },
   {
    "duration": 6,
    "start_time": "2022-08-12T19:33:23.396Z"
   },
   {
    "duration": 7,
    "start_time": "2022-08-12T19:33:23.404Z"
   },
   {
    "duration": 6,
    "start_time": "2022-08-12T19:33:23.412Z"
   },
   {
    "duration": 11,
    "start_time": "2022-08-12T19:33:23.419Z"
   },
   {
    "duration": 24,
    "start_time": "2022-08-12T19:33:23.434Z"
   },
   {
    "duration": 12,
    "start_time": "2022-08-12T19:33:23.460Z"
   },
   {
    "duration": 4928,
    "start_time": "2022-08-12T19:33:23.473Z"
   },
   {
    "duration": 7,
    "start_time": "2022-08-12T19:33:28.402Z"
   },
   {
    "duration": 3,
    "start_time": "2022-08-12T19:33:28.410Z"
   },
   {
    "duration": 11,
    "start_time": "2022-08-12T19:33:28.414Z"
   },
   {
    "duration": 5,
    "start_time": "2022-08-12T19:33:28.426Z"
   },
   {
    "duration": 13,
    "start_time": "2022-08-12T19:33:28.433Z"
   },
   {
    "duration": 2562,
    "start_time": "2022-08-12T19:33:28.447Z"
   },
   {
    "duration": 5,
    "start_time": "2022-08-12T19:33:31.010Z"
   },
   {
    "duration": 20,
    "start_time": "2022-08-12T19:33:31.017Z"
   },
   {
    "duration": 21,
    "start_time": "2022-08-12T19:33:31.039Z"
   },
   {
    "duration": 7,
    "start_time": "2022-08-12T19:33:31.062Z"
   },
   {
    "duration": 41,
    "start_time": "2022-08-12T19:33:31.071Z"
   },
   {
    "duration": 60,
    "start_time": "2022-08-12T19:33:31.114Z"
   },
   {
    "duration": 18,
    "start_time": "2022-08-12T19:33:31.176Z"
   },
   {
    "duration": 12,
    "start_time": "2022-08-12T19:33:31.195Z"
   },
   {
    "duration": 858,
    "start_time": "2022-08-12T19:33:31.208Z"
   },
   {
    "duration": 22,
    "start_time": "2022-08-12T19:33:32.068Z"
   },
   {
    "duration": 67,
    "start_time": "2022-08-12T19:33:32.091Z"
   },
   {
    "duration": 14,
    "start_time": "2022-08-12T19:33:32.160Z"
   },
   {
    "duration": 82,
    "start_time": "2022-08-12T19:33:32.176Z"
   },
   {
    "duration": 738,
    "start_time": "2022-08-12T19:33:32.259Z"
   },
   {
    "duration": 60,
    "start_time": "2022-08-12T19:33:32.999Z"
   },
   {
    "duration": 16,
    "start_time": "2022-08-12T19:33:33.061Z"
   },
   {
    "duration": 17,
    "start_time": "2022-08-12T19:33:33.079Z"
   },
   {
    "duration": 67,
    "start_time": "2022-08-12T19:33:33.098Z"
   },
   {
    "duration": 8,
    "start_time": "2022-08-12T19:33:33.167Z"
   },
   {
    "duration": 82,
    "start_time": "2022-08-12T19:33:33.177Z"
   },
   {
    "duration": 330,
    "start_time": "2022-08-12T19:33:33.261Z"
   },
   {
    "duration": 66,
    "start_time": "2022-08-12T19:33:33.593Z"
   },
   {
    "duration": 4,
    "start_time": "2022-08-12T19:33:33.661Z"
   },
   {
    "duration": 8,
    "start_time": "2022-08-12T19:33:33.667Z"
   },
   {
    "duration": 9,
    "start_time": "2022-08-12T19:33:33.677Z"
   },
   {
    "duration": 16,
    "start_time": "2022-08-12T19:33:33.688Z"
   },
   {
    "duration": 10,
    "start_time": "2022-08-12T19:33:33.757Z"
   },
   {
    "duration": 8,
    "start_time": "2022-08-12T19:33:33.769Z"
   },
   {
    "duration": 13,
    "start_time": "2022-08-12T19:33:33.779Z"
   },
   {
    "duration": 6,
    "start_time": "2022-08-12T19:33:33.794Z"
   },
   {
    "duration": 14,
    "start_time": "2022-08-12T19:33:33.802Z"
   },
   {
    "duration": 12,
    "start_time": "2022-08-12T19:33:33.858Z"
   },
   {
    "duration": 16,
    "start_time": "2022-08-12T19:33:33.872Z"
   },
   {
    "duration": 5,
    "start_time": "2022-08-12T19:33:33.890Z"
   },
   {
    "duration": 948,
    "start_time": "2022-08-12T19:33:33.897Z"
   },
   {
    "duration": 4,
    "start_time": "2022-08-12T19:33:34.847Z"
   },
   {
    "duration": 17,
    "start_time": "2022-08-12T19:33:34.857Z"
   },
   {
    "duration": 5,
    "start_time": "2022-08-12T19:33:34.876Z"
   },
   {
    "duration": 9,
    "start_time": "2022-08-12T19:33:34.882Z"
   },
   {
    "duration": 22,
    "start_time": "2022-08-12T19:33:34.893Z"
   },
   {
    "duration": 3,
    "start_time": "2022-08-12T19:33:34.917Z"
   },
   {
    "duration": 11,
    "start_time": "2022-08-12T19:33:34.921Z"
   },
   {
    "duration": 6788,
    "start_time": "2022-08-12T19:33:34.934Z"
   },
   {
    "duration": 2,
    "start_time": "2022-08-12T19:33:41.724Z"
   },
   {
    "duration": 14,
    "start_time": "2022-08-12T19:33:41.727Z"
   },
   {
    "duration": 13,
    "start_time": "2022-08-12T19:34:26.265Z"
   },
   {
    "duration": 4,
    "start_time": "2022-08-12T19:35:16.928Z"
   },
   {
    "duration": 9,
    "start_time": "2022-08-12T19:35:44.186Z"
   },
   {
    "duration": 1539,
    "start_time": "2022-08-12T19:35:44.197Z"
   },
   {
    "duration": 254,
    "start_time": "2022-08-12T19:35:45.739Z"
   },
   {
    "duration": 3,
    "start_time": "2022-08-12T19:35:45.995Z"
   },
   {
    "duration": 64,
    "start_time": "2022-08-12T19:35:46.000Z"
   },
   {
    "duration": 3,
    "start_time": "2022-08-12T19:35:46.065Z"
   },
   {
    "duration": 5,
    "start_time": "2022-08-12T19:35:46.070Z"
   },
   {
    "duration": 5,
    "start_time": "2022-08-12T19:35:46.076Z"
   },
   {
    "duration": 52,
    "start_time": "2022-08-12T19:35:46.082Z"
   },
   {
    "duration": 167,
    "start_time": "2022-08-12T19:35:46.136Z"
   },
   {
    "duration": 5,
    "start_time": "2022-08-12T19:35:46.305Z"
   },
   {
    "duration": 3,
    "start_time": "2022-08-12T19:35:48.077Z"
   },
   {
    "duration": 18,
    "start_time": "2022-08-12T19:35:48.454Z"
   },
   {
    "duration": 18,
    "start_time": "2022-08-12T19:35:48.824Z"
   },
   {
    "duration": 7,
    "start_time": "2022-08-12T19:35:49.320Z"
   },
   {
    "duration": 11,
    "start_time": "2022-08-12T19:35:52.098Z"
   },
   {
    "duration": 8,
    "start_time": "2022-08-12T19:35:52.325Z"
   },
   {
    "duration": 14,
    "start_time": "2022-08-12T19:35:52.570Z"
   },
   {
    "duration": 14,
    "start_time": "2022-08-12T19:35:55.946Z"
   },
   {
    "duration": 9,
    "start_time": "2022-08-12T19:35:58.751Z"
   },
   {
    "duration": 241,
    "start_time": "2022-08-12T19:36:01.624Z"
   },
   {
    "duration": 13,
    "start_time": "2022-08-12T19:36:05.931Z"
   },
   {
    "duration": 6,
    "start_time": "2022-08-12T19:36:10.578Z"
   },
   {
    "duration": 11,
    "start_time": "2022-08-12T19:36:16.874Z"
   },
   {
    "duration": 5,
    "start_time": "2022-08-12T19:37:32.234Z"
   },
   {
    "duration": 277,
    "start_time": "2022-08-12T19:37:32.941Z"
   },
   {
    "duration": 235,
    "start_time": "2022-08-12T19:37:52.564Z"
   },
   {
    "duration": 257,
    "start_time": "2022-08-12T19:38:25.546Z"
   },
   {
    "duration": 224,
    "start_time": "2022-08-12T19:38:31.671Z"
   },
   {
    "duration": 10,
    "start_time": "2022-08-12T19:38:48.698Z"
   },
   {
    "duration": 1353,
    "start_time": "2022-08-12T19:38:48.717Z"
   },
   {
    "duration": 315,
    "start_time": "2022-08-12T19:38:50.072Z"
   },
   {
    "duration": 3,
    "start_time": "2022-08-12T19:38:50.389Z"
   },
   {
    "duration": 72,
    "start_time": "2022-08-12T19:38:50.394Z"
   },
   {
    "duration": 4,
    "start_time": "2022-08-12T19:38:50.468Z"
   },
   {
    "duration": 8,
    "start_time": "2022-08-12T19:38:50.474Z"
   },
   {
    "duration": 9,
    "start_time": "2022-08-12T19:38:50.484Z"
   },
   {
    "duration": 65,
    "start_time": "2022-08-12T19:38:50.495Z"
   },
   {
    "duration": 208,
    "start_time": "2022-08-12T19:38:50.561Z"
   },
   {
    "duration": 6,
    "start_time": "2022-08-12T19:38:50.771Z"
   },
   {
    "duration": 7,
    "start_time": "2022-08-12T19:38:50.779Z"
   },
   {
    "duration": 23,
    "start_time": "2022-08-12T19:38:50.787Z"
   },
   {
    "duration": 18,
    "start_time": "2022-08-12T19:38:50.811Z"
   },
   {
    "duration": 6,
    "start_time": "2022-08-12T19:38:50.858Z"
   },
   {
    "duration": 12,
    "start_time": "2022-08-12T19:38:50.866Z"
   },
   {
    "duration": 6,
    "start_time": "2022-08-12T19:38:50.879Z"
   },
   {
    "duration": 10,
    "start_time": "2022-08-12T19:38:50.886Z"
   },
   {
    "duration": 12,
    "start_time": "2022-08-12T19:38:50.898Z"
   },
   {
    "duration": 11,
    "start_time": "2022-08-12T19:38:50.912Z"
   },
   {
    "duration": 269,
    "start_time": "2022-08-12T19:38:50.924Z"
   },
   {
    "duration": 15,
    "start_time": "2022-08-12T19:38:51.194Z"
   },
   {
    "duration": 4,
    "start_time": "2022-08-12T19:38:51.211Z"
   },
   {
    "duration": 260,
    "start_time": "2022-08-12T19:38:51.217Z"
   },
   {
    "duration": 4,
    "start_time": "2022-08-12T19:38:51.479Z"
   },
   {
    "duration": 6,
    "start_time": "2022-08-12T19:38:51.485Z"
   },
   {
    "duration": 9,
    "start_time": "2022-08-12T19:38:51.493Z"
   },
   {
    "duration": 9,
    "start_time": "2022-08-12T19:38:51.503Z"
   },
   {
    "duration": 13,
    "start_time": "2022-08-12T19:38:51.514Z"
   },
   {
    "duration": 30,
    "start_time": "2022-08-12T19:38:51.529Z"
   },
   {
    "duration": 13,
    "start_time": "2022-08-12T19:38:51.561Z"
   },
   {
    "duration": 5182,
    "start_time": "2022-08-12T19:38:51.575Z"
   },
   {
    "duration": 7,
    "start_time": "2022-08-12T19:38:56.759Z"
   },
   {
    "duration": 5,
    "start_time": "2022-08-12T19:38:56.768Z"
   },
   {
    "duration": 11,
    "start_time": "2022-08-12T19:38:56.774Z"
   },
   {
    "duration": 7,
    "start_time": "2022-08-12T19:38:56.787Z"
   },
   {
    "duration": 9,
    "start_time": "2022-08-12T19:38:56.795Z"
   },
   {
    "duration": 3461,
    "start_time": "2022-08-12T19:38:56.806Z"
   },
   {
    "duration": 7,
    "start_time": "2022-08-12T19:39:00.269Z"
   },
   {
    "duration": 33,
    "start_time": "2022-08-12T19:39:00.278Z"
   },
   {
    "duration": 34,
    "start_time": "2022-08-12T19:39:00.313Z"
   },
   {
    "duration": 14,
    "start_time": "2022-08-12T19:39:00.351Z"
   },
   {
    "duration": 25,
    "start_time": "2022-08-12T19:39:00.367Z"
   },
   {
    "duration": 36,
    "start_time": "2022-08-12T19:39:00.394Z"
   },
   {
    "duration": 28,
    "start_time": "2022-08-12T19:39:00.432Z"
   },
   {
    "duration": 12,
    "start_time": "2022-08-12T19:39:00.462Z"
   },
   {
    "duration": 697,
    "start_time": "2022-08-12T19:39:00.476Z"
   },
   {
    "duration": 24,
    "start_time": "2022-08-12T19:39:01.175Z"
   },
   {
    "duration": 14,
    "start_time": "2022-08-12T19:39:01.202Z"
   },
   {
    "duration": 38,
    "start_time": "2022-08-12T19:39:01.218Z"
   },
   {
    "duration": 27,
    "start_time": "2022-08-12T19:39:01.259Z"
   },
   {
    "duration": 769,
    "start_time": "2022-08-12T19:39:01.288Z"
   },
   {
    "duration": 7,
    "start_time": "2022-08-12T19:39:02.059Z"
   },
   {
    "duration": 20,
    "start_time": "2022-08-12T19:39:02.067Z"
   },
   {
    "duration": 11,
    "start_time": "2022-08-12T19:39:02.089Z"
   },
   {
    "duration": 16,
    "start_time": "2022-08-12T19:39:02.101Z"
   },
   {
    "duration": 7,
    "start_time": "2022-08-12T19:39:02.118Z"
   },
   {
    "duration": 34,
    "start_time": "2022-08-12T19:39:02.127Z"
   },
   {
    "duration": 27,
    "start_time": "2022-08-12T19:39:02.162Z"
   },
   {
    "duration": 13,
    "start_time": "2022-08-12T19:39:02.191Z"
   },
   {
    "duration": 9,
    "start_time": "2022-08-12T19:39:02.206Z"
   },
   {
    "duration": 8,
    "start_time": "2022-08-12T19:39:02.217Z"
   },
   {
    "duration": 8,
    "start_time": "2022-08-12T19:39:02.226Z"
   },
   {
    "duration": 28,
    "start_time": "2022-08-12T19:39:02.235Z"
   },
   {
    "duration": 8,
    "start_time": "2022-08-12T19:39:02.265Z"
   },
   {
    "duration": 10,
    "start_time": "2022-08-12T19:39:02.275Z"
   },
   {
    "duration": 8,
    "start_time": "2022-08-12T19:39:02.286Z"
   },
   {
    "duration": 11,
    "start_time": "2022-08-12T19:39:02.295Z"
   },
   {
    "duration": 15,
    "start_time": "2022-08-12T19:39:02.308Z"
   },
   {
    "duration": 11,
    "start_time": "2022-08-12T19:39:02.325Z"
   },
   {
    "duration": 5,
    "start_time": "2022-08-12T19:39:02.358Z"
   },
   {
    "duration": 16,
    "start_time": "2022-08-12T19:39:02.365Z"
   },
   {
    "duration": 856,
    "start_time": "2022-08-12T19:39:02.383Z"
   },
   {
    "duration": 5,
    "start_time": "2022-08-12T19:39:03.241Z"
   },
   {
    "duration": 17,
    "start_time": "2022-08-12T19:39:03.248Z"
   },
   {
    "duration": 6,
    "start_time": "2022-08-12T19:39:03.267Z"
   },
   {
    "duration": 7,
    "start_time": "2022-08-12T19:39:03.274Z"
   },
   {
    "duration": 16,
    "start_time": "2022-08-12T19:39:03.282Z"
   },
   {
    "duration": 3,
    "start_time": "2022-08-12T19:39:03.300Z"
   },
   {
    "duration": 12,
    "start_time": "2022-08-12T19:39:03.304Z"
   },
   {
    "duration": 6738,
    "start_time": "2022-08-12T19:39:03.317Z"
   },
   {
    "duration": 3,
    "start_time": "2022-08-12T19:39:10.057Z"
   },
   {
    "duration": 19,
    "start_time": "2022-08-12T19:39:10.061Z"
   },
   {
    "duration": 31,
    "start_time": "2022-08-12T19:39:10.082Z"
   },
   {
    "duration": 102003,
    "start_time": "2022-08-12T19:39:10.115Z"
   },
   {
    "duration": 3,
    "start_time": "2022-08-12T19:40:52.120Z"
   },
   {
    "duration": 11,
    "start_time": "2022-08-12T19:40:52.124Z"
   },
   {
    "duration": 1114,
    "start_time": "2022-08-12T19:40:52.138Z"
   },
   {
    "duration": 10,
    "start_time": "2022-08-12T19:43:42.977Z"
   },
   {
    "duration": 1372,
    "start_time": "2022-08-12T19:43:42.988Z"
   },
   {
    "duration": 388,
    "start_time": "2022-08-12T19:43:44.361Z"
   },
   {
    "duration": 3,
    "start_time": "2022-08-12T19:43:44.751Z"
   },
   {
    "duration": 73,
    "start_time": "2022-08-12T19:43:44.755Z"
   },
   {
    "duration": 28,
    "start_time": "2022-08-12T19:43:44.830Z"
   },
   {
    "duration": 5,
    "start_time": "2022-08-12T19:43:44.860Z"
   },
   {
    "duration": 6,
    "start_time": "2022-08-12T19:43:44.866Z"
   },
   {
    "duration": 52,
    "start_time": "2022-08-12T19:43:44.874Z"
   },
   {
    "duration": 177,
    "start_time": "2022-08-12T19:43:44.928Z"
   },
   {
    "duration": 5,
    "start_time": "2022-08-12T19:43:45.106Z"
   },
   {
    "duration": 3,
    "start_time": "2022-08-12T19:43:45.113Z"
   },
   {
    "duration": 56,
    "start_time": "2022-08-12T19:43:45.118Z"
   },
   {
    "duration": 19,
    "start_time": "2022-08-12T19:43:45.176Z"
   },
   {
    "duration": 7,
    "start_time": "2022-08-12T19:43:45.197Z"
   },
   {
    "duration": 13,
    "start_time": "2022-08-12T19:43:45.205Z"
   },
   {
    "duration": 6,
    "start_time": "2022-08-12T19:43:45.220Z"
   },
   {
    "duration": 40,
    "start_time": "2022-08-12T19:43:45.228Z"
   },
   {
    "duration": 16,
    "start_time": "2022-08-12T19:43:45.269Z"
   },
   {
    "duration": 28,
    "start_time": "2022-08-12T19:43:45.287Z"
   },
   {
    "duration": 297,
    "start_time": "2022-08-12T19:43:45.317Z"
   },
   {
    "duration": 16,
    "start_time": "2022-08-12T19:43:45.616Z"
   },
   {
    "duration": 10,
    "start_time": "2022-08-12T19:43:45.633Z"
   },
   {
    "duration": 266,
    "start_time": "2022-08-12T19:43:45.657Z"
   },
   {
    "duration": 5,
    "start_time": "2022-08-12T19:43:45.924Z"
   },
   {
    "duration": 4,
    "start_time": "2022-08-12T19:43:45.931Z"
   },
   {
    "duration": 25,
    "start_time": "2022-08-12T19:43:45.937Z"
   },
   {
    "duration": 3,
    "start_time": "2022-08-12T19:43:45.964Z"
   },
   {
    "duration": 14,
    "start_time": "2022-08-12T19:43:45.968Z"
   },
   {
    "duration": 6,
    "start_time": "2022-08-12T19:43:45.983Z"
   },
   {
    "duration": 14,
    "start_time": "2022-08-12T19:43:45.990Z"
   },
   {
    "duration": 4791,
    "start_time": "2022-08-12T19:43:46.006Z"
   },
   {
    "duration": 6,
    "start_time": "2022-08-12T19:43:50.799Z"
   },
   {
    "duration": 20,
    "start_time": "2022-08-12T19:43:50.807Z"
   },
   {
    "duration": 48,
    "start_time": "2022-08-12T19:43:50.829Z"
   },
   {
    "duration": 27,
    "start_time": "2022-08-12T19:43:50.878Z"
   },
   {
    "duration": 16,
    "start_time": "2022-08-12T19:43:50.906Z"
   },
   {
    "duration": 2545,
    "start_time": "2022-08-12T19:43:50.924Z"
   },
   {
    "duration": 7,
    "start_time": "2022-08-12T19:43:53.471Z"
   },
   {
    "duration": 18,
    "start_time": "2022-08-12T19:43:53.479Z"
   },
   {
    "duration": 21,
    "start_time": "2022-08-12T19:43:53.499Z"
   },
   {
    "duration": 14,
    "start_time": "2022-08-12T19:43:53.522Z"
   },
   {
    "duration": 21,
    "start_time": "2022-08-12T19:43:53.538Z"
   },
   {
    "duration": 33,
    "start_time": "2022-08-12T19:43:53.560Z"
   },
   {
    "duration": 28,
    "start_time": "2022-08-12T19:43:53.594Z"
   },
   {
    "duration": 12,
    "start_time": "2022-08-12T19:43:53.624Z"
   },
   {
    "duration": 608,
    "start_time": "2022-08-12T19:43:53.637Z"
   },
   {
    "duration": 28,
    "start_time": "2022-08-12T19:43:54.247Z"
   },
   {
    "duration": 13,
    "start_time": "2022-08-12T19:43:54.276Z"
   },
   {
    "duration": 14,
    "start_time": "2022-08-12T19:43:54.290Z"
   },
   {
    "duration": 7,
    "start_time": "2022-08-12T19:43:54.306Z"
   },
   {
    "duration": 738,
    "start_time": "2022-08-12T19:43:54.315Z"
   },
   {
    "duration": 8,
    "start_time": "2022-08-12T19:43:55.054Z"
   },
   {
    "duration": 23,
    "start_time": "2022-08-12T19:43:55.063Z"
   },
   {
    "duration": 7,
    "start_time": "2022-08-12T19:43:55.088Z"
   },
   {
    "duration": 16,
    "start_time": "2022-08-12T19:43:55.097Z"
   },
   {
    "duration": 6,
    "start_time": "2022-08-12T19:43:55.115Z"
   },
   {
    "duration": 11,
    "start_time": "2022-08-12T19:43:55.123Z"
   },
   {
    "duration": 37,
    "start_time": "2022-08-12T19:43:55.157Z"
   },
   {
    "duration": 18,
    "start_time": "2022-08-12T19:43:55.196Z"
   },
   {
    "duration": 6,
    "start_time": "2022-08-12T19:43:55.217Z"
   },
   {
    "duration": 39,
    "start_time": "2022-08-12T19:43:55.225Z"
   },
   {
    "duration": 13,
    "start_time": "2022-08-12T19:43:55.266Z"
   },
   {
    "duration": 21,
    "start_time": "2022-08-12T19:43:55.281Z"
   },
   {
    "duration": 10,
    "start_time": "2022-08-12T19:43:55.303Z"
   },
   {
    "duration": 22,
    "start_time": "2022-08-12T19:43:55.314Z"
   },
   {
    "duration": 11,
    "start_time": "2022-08-12T19:43:55.338Z"
   },
   {
    "duration": 9,
    "start_time": "2022-08-12T19:43:55.351Z"
   },
   {
    "duration": 11,
    "start_time": "2022-08-12T19:43:55.367Z"
   },
   {
    "duration": 13,
    "start_time": "2022-08-12T19:43:55.380Z"
   },
   {
    "duration": 13,
    "start_time": "2022-08-12T19:43:55.395Z"
   },
   {
    "duration": 4,
    "start_time": "2022-08-12T19:43:55.410Z"
   },
   {
    "duration": 1152,
    "start_time": "2022-08-12T19:43:55.416Z"
   },
   {
    "duration": 4,
    "start_time": "2022-08-12T19:43:56.571Z"
   },
   {
    "duration": 21,
    "start_time": "2022-08-12T19:43:56.577Z"
   },
   {
    "duration": 6,
    "start_time": "2022-08-12T19:43:56.600Z"
   },
   {
    "duration": 56,
    "start_time": "2022-08-12T19:43:56.607Z"
   },
   {
    "duration": 30,
    "start_time": "2022-08-12T19:43:56.664Z"
   },
   {
    "duration": 9,
    "start_time": "2022-08-12T19:43:56.696Z"
   },
   {
    "duration": 14,
    "start_time": "2022-08-12T19:43:56.707Z"
   },
   {
    "duration": 7146,
    "start_time": "2022-08-12T19:43:56.758Z"
   },
   {
    "duration": 2,
    "start_time": "2022-08-12T19:44:03.906Z"
   },
   {
    "duration": 20,
    "start_time": "2022-08-12T19:44:03.909Z"
   },
   {
    "duration": 51,
    "start_time": "2022-08-12T19:44:03.931Z"
   },
   {
    "duration": 103480,
    "start_time": "2022-08-12T19:44:03.984Z"
   },
   {
    "duration": 2,
    "start_time": "2022-08-12T19:45:47.466Z"
   },
   {
    "duration": 10,
    "start_time": "2022-08-12T19:45:47.469Z"
   },
   {
    "duration": 5,
    "start_time": "2022-08-12T19:45:47.481Z"
   },
   {
    "duration": 4,
    "start_time": "2022-08-12T19:45:47.488Z"
   },
   {
    "duration": 1093366,
    "start_time": "2022-08-12T19:45:47.494Z"
   },
   {
    "duration": 2,
    "start_time": "2022-08-12T20:04:00.862Z"
   },
   {
    "duration": 29,
    "start_time": "2022-08-12T20:04:00.866Z"
   },
   {
    "duration": 61,
    "start_time": "2022-08-12T20:04:00.897Z"
   },
   {
    "duration": 26,
    "start_time": "2022-08-12T20:04:00.961Z"
   },
   {
    "duration": 28,
    "start_time": "2022-08-12T20:04:00.989Z"
   },
   {
    "duration": 39,
    "start_time": "2022-08-12T20:04:01.019Z"
   },
   {
    "duration": 855,
    "start_time": "2022-08-12T20:04:01.060Z"
   },
   {
    "duration": 21,
    "start_time": "2022-08-12T20:04:01.916Z"
   },
   {
    "duration": 12,
    "start_time": "2022-08-12T20:04:01.938Z"
   },
   {
    "duration": 6414,
    "start_time": "2022-08-12T20:04:01.952Z"
   },
   {
    "duration": 94,
    "start_time": "2022-08-12T20:04:08.368Z"
   },
   {
    "duration": 3,
    "start_time": "2022-08-12T20:04:08.464Z"
   },
   {
    "duration": 22,
    "start_time": "2022-08-12T20:04:08.469Z"
   },
   {
    "duration": 372,
    "start_time": "2022-08-12T20:04:08.493Z"
   },
   {
    "duration": 13,
    "start_time": "2022-08-12T20:04:08.867Z"
   },
   {
    "duration": 22,
    "start_time": "2022-08-12T20:04:08.882Z"
   },
   {
    "duration": 384,
    "start_time": "2022-08-12T20:04:08.906Z"
   },
   {
    "duration": 6,
    "start_time": "2022-08-12T20:04:09.292Z"
   },
   {
    "duration": 12,
    "start_time": "2022-08-12T20:52:35.440Z"
   },
   {
    "duration": 1525,
    "start_time": "2022-08-12T20:52:35.454Z"
   },
   {
    "duration": 530,
    "start_time": "2022-08-12T20:52:36.981Z"
   },
   {
    "duration": 3,
    "start_time": "2022-08-12T20:52:37.514Z"
   },
   {
    "duration": 80,
    "start_time": "2022-08-12T20:52:37.519Z"
   },
   {
    "duration": 4,
    "start_time": "2022-08-12T20:52:37.600Z"
   },
   {
    "duration": 6,
    "start_time": "2022-08-12T20:52:37.605Z"
   },
   {
    "duration": 5,
    "start_time": "2022-08-12T20:52:37.612Z"
   },
   {
    "duration": 87,
    "start_time": "2022-08-12T20:52:37.619Z"
   },
   {
    "duration": 200,
    "start_time": "2022-08-12T20:52:37.707Z"
   },
   {
    "duration": 6,
    "start_time": "2022-08-12T20:52:37.908Z"
   },
   {
    "duration": 4,
    "start_time": "2022-08-12T20:53:58.586Z"
   },
   {
    "duration": 19,
    "start_time": "2022-08-12T20:53:59.293Z"
   },
   {
    "duration": 20,
    "start_time": "2022-08-12T20:54:00.906Z"
   },
   {
    "duration": 27,
    "start_time": "2022-08-12T20:54:01.345Z"
   },
   {
    "duration": 11,
    "start_time": "2022-08-12T20:54:04.625Z"
   },
   {
    "duration": 13,
    "start_time": "2022-08-12T20:54:09.262Z"
   },
   {
    "duration": 15,
    "start_time": "2022-08-12T20:54:11.467Z"
   },
   {
    "duration": 15,
    "start_time": "2022-08-12T20:54:36.286Z"
   },
   {
    "duration": 9,
    "start_time": "2022-08-12T20:54:43.330Z"
   },
   {
    "duration": 466,
    "start_time": "2022-08-12T20:54:46.435Z"
   },
   {
    "duration": 14,
    "start_time": "2022-08-12T20:55:00.896Z"
   },
   {
    "duration": 5,
    "start_time": "2022-08-12T20:55:17.141Z"
   },
   {
    "duration": 478,
    "start_time": "2022-08-12T20:55:17.598Z"
   },
   {
    "duration": 22,
    "start_time": "2022-08-12T20:55:59.437Z"
   },
   {
    "duration": 5,
    "start_time": "2022-08-12T20:56:03.038Z"
   },
   {
    "duration": 487,
    "start_time": "2022-08-12T20:56:03.616Z"
   },
   {
    "duration": 5,
    "start_time": "2022-08-12T20:58:18.480Z"
   },
   {
    "duration": 5,
    "start_time": "2022-08-12T20:58:19.184Z"
   },
   {
    "duration": 8,
    "start_time": "2022-08-12T20:58:26.071Z"
   },
   {
    "duration": 10,
    "start_time": "2022-08-12T20:59:57.557Z"
   },
   {
    "duration": 83,
    "start_time": "2022-08-12T21:00:17.788Z"
   },
   {
    "duration": 13,
    "start_time": "2022-08-12T21:00:17.877Z"
   },
   {
    "duration": 493,
    "start_time": "2022-08-12T21:00:17.892Z"
   },
   {
    "duration": 4,
    "start_time": "2022-08-12T21:00:18.389Z"
   },
   {
    "duration": 71,
    "start_time": "2022-08-12T21:00:18.395Z"
   },
   {
    "duration": 3,
    "start_time": "2022-08-12T21:00:18.468Z"
   },
   {
    "duration": 14,
    "start_time": "2022-08-12T21:00:18.473Z"
   },
   {
    "duration": 17,
    "start_time": "2022-08-12T21:00:18.488Z"
   },
   {
    "duration": 64,
    "start_time": "2022-08-12T21:00:18.507Z"
   },
   {
    "duration": 124,
    "start_time": "2022-08-12T21:00:18.575Z"
   },
   {
    "duration": 5,
    "start_time": "2022-08-12T21:00:18.701Z"
   },
   {
    "duration": 3,
    "start_time": "2022-08-12T21:00:18.708Z"
   },
   {
    "duration": 59,
    "start_time": "2022-08-12T21:00:18.712Z"
   },
   {
    "duration": 18,
    "start_time": "2022-08-12T21:00:18.773Z"
   },
   {
    "duration": 6,
    "start_time": "2022-08-12T21:00:18.793Z"
   },
   {
    "duration": 11,
    "start_time": "2022-08-12T21:00:18.800Z"
   },
   {
    "duration": 6,
    "start_time": "2022-08-12T21:00:18.812Z"
   },
   {
    "duration": 38,
    "start_time": "2022-08-12T21:00:18.820Z"
   },
   {
    "duration": 21,
    "start_time": "2022-08-12T21:00:18.860Z"
   },
   {
    "duration": 8,
    "start_time": "2022-08-12T21:00:18.883Z"
   },
   {
    "duration": 241,
    "start_time": "2022-08-12T21:00:18.893Z"
   },
   {
    "duration": 9,
    "start_time": "2022-08-12T21:00:19.136Z"
   },
   {
    "duration": 17,
    "start_time": "2022-08-12T21:00:19.147Z"
   },
   {
    "duration": 242,
    "start_time": "2022-08-12T21:00:19.172Z"
   },
   {
    "duration": 4,
    "start_time": "2022-08-12T21:00:19.416Z"
   },
   {
    "duration": 6,
    "start_time": "2022-08-12T21:00:19.422Z"
   },
   {
    "duration": 8,
    "start_time": "2022-08-12T21:00:19.429Z"
   },
   {
    "duration": 4,
    "start_time": "2022-08-12T21:02:54.274Z"
   },
   {
    "duration": 15,
    "start_time": "2022-08-12T21:02:58.214Z"
   },
   {
    "duration": 21,
    "start_time": "2022-08-12T21:02:59.349Z"
   },
   {
    "duration": 33,
    "start_time": "2022-08-12T21:03:00.936Z"
   },
   {
    "duration": 11661,
    "start_time": "2022-08-12T21:03:09.331Z"
   },
   {
    "duration": 8,
    "start_time": "2022-08-12T21:03:24.172Z"
   },
   {
    "duration": 6,
    "start_time": "2022-08-12T21:05:09.360Z"
   },
   {
    "duration": 9,
    "start_time": "2022-08-12T21:05:09.784Z"
   },
   {
    "duration": 6,
    "start_time": "2022-08-12T21:05:10.183Z"
   },
   {
    "duration": 29,
    "start_time": "2022-08-12T21:05:10.633Z"
   },
   {
    "duration": 5976,
    "start_time": "2022-08-12T21:05:12.383Z"
   },
   {
    "duration": 9,
    "start_time": "2022-08-12T21:05:18.365Z"
   },
   {
    "duration": 4,
    "start_time": "2022-08-12T21:06:52.636Z"
   },
   {
    "duration": 6,
    "start_time": "2022-08-12T21:06:53.139Z"
   },
   {
    "duration": 5,
    "start_time": "2022-08-12T21:06:54.674Z"
   },
   {
    "duration": 10,
    "start_time": "2022-08-12T21:06:59.758Z"
   },
   {
    "duration": 27,
    "start_time": "2022-08-12T21:07:08.257Z"
   },
   {
    "duration": 26,
    "start_time": "2022-08-12T21:07:10.361Z"
   },
   {
    "duration": 13,
    "start_time": "2022-08-12T21:07:10.790Z"
   },
   {
    "duration": 7,
    "start_time": "2022-08-12T21:07:34.132Z"
   },
   {
    "duration": 904,
    "start_time": "2022-08-12T21:07:55.280Z"
   },
   {
    "duration": 21,
    "start_time": "2022-08-12T21:08:02.900Z"
   },
   {
    "duration": 40,
    "start_time": "2022-08-12T21:08:11.231Z"
   },
   {
    "duration": 33,
    "start_time": "2022-08-12T21:08:12.331Z"
   },
   {
    "duration": 9,
    "start_time": "2022-08-12T21:10:30.838Z"
   },
   {
    "duration": 23,
    "start_time": "2022-08-12T21:10:31.646Z"
   },
   {
    "duration": 6,
    "start_time": "2022-08-12T21:10:49.281Z"
   },
   {
    "duration": 1038,
    "start_time": "2022-08-12T21:10:49.731Z"
   },
   {
    "duration": 7,
    "start_time": "2022-08-12T21:11:01.832Z"
   },
   {
    "duration": 17,
    "start_time": "2022-08-12T21:11:02.782Z"
   },
   {
    "duration": 17,
    "start_time": "2022-08-12T21:11:04.445Z"
   },
   {
    "duration": 53,
    "start_time": "2022-08-12T21:11:07.523Z"
   },
   {
    "duration": 8,
    "start_time": "2022-08-12T21:11:10.302Z"
   },
   {
    "duration": 11,
    "start_time": "2022-08-12T21:11:12.176Z"
   },
   {
    "duration": 42,
    "start_time": "2022-08-12T21:11:26.959Z"
   },
   {
    "duration": 18,
    "start_time": "2022-08-12T21:11:28.278Z"
   },
   {
    "duration": 5,
    "start_time": "2022-08-12T21:11:31.685Z"
   },
   {
    "duration": 6,
    "start_time": "2022-08-12T21:12:06.327Z"
   },
   {
    "duration": 6,
    "start_time": "2022-08-12T21:12:06.928Z"
   },
   {
    "duration": 16,
    "start_time": "2022-08-12T21:12:07.964Z"
   },
   {
    "duration": 9,
    "start_time": "2022-08-12T21:12:08.878Z"
   },
   {
    "duration": 6,
    "start_time": "2022-08-12T21:12:11.735Z"
   },
   {
    "duration": 8,
    "start_time": "2022-08-12T21:12:13.228Z"
   },
   {
    "duration": 13,
    "start_time": "2022-08-12T21:12:50.262Z"
   },
   {
    "duration": 1447,
    "start_time": "2022-08-12T21:12:50.278Z"
   },
   {
    "duration": 460,
    "start_time": "2022-08-12T21:12:51.727Z"
   },
   {
    "duration": 4,
    "start_time": "2022-08-12T21:12:52.190Z"
   },
   {
    "duration": 91,
    "start_time": "2022-08-12T21:12:52.195Z"
   },
   {
    "duration": 4,
    "start_time": "2022-08-12T21:12:52.288Z"
   },
   {
    "duration": 19,
    "start_time": "2022-08-12T21:12:52.294Z"
   },
   {
    "duration": 8,
    "start_time": "2022-08-12T21:12:52.315Z"
   },
   {
    "duration": 82,
    "start_time": "2022-08-12T21:12:52.326Z"
   },
   {
    "duration": 212,
    "start_time": "2022-08-12T21:12:52.410Z"
   },
   {
    "duration": 7,
    "start_time": "2022-08-12T21:12:52.624Z"
   },
   {
    "duration": 28,
    "start_time": "2022-08-12T21:12:52.633Z"
   },
   {
    "duration": 66,
    "start_time": "2022-08-12T21:12:52.663Z"
   },
   {
    "duration": 45,
    "start_time": "2022-08-12T21:12:52.731Z"
   },
   {
    "duration": 9,
    "start_time": "2022-08-12T21:12:52.779Z"
   },
   {
    "duration": 20,
    "start_time": "2022-08-12T21:12:52.790Z"
   },
   {
    "duration": 11,
    "start_time": "2022-08-12T21:12:52.812Z"
   },
   {
    "duration": 28,
    "start_time": "2022-08-12T21:12:52.824Z"
   },
   {
    "duration": 40,
    "start_time": "2022-08-12T21:12:52.855Z"
   },
   {
    "duration": 29,
    "start_time": "2022-08-12T21:12:52.896Z"
   },
   {
    "duration": 274,
    "start_time": "2022-08-12T21:12:52.926Z"
   },
   {
    "duration": 13,
    "start_time": "2022-08-12T21:12:53.202Z"
   },
   {
    "duration": 12,
    "start_time": "2022-08-12T21:12:53.216Z"
   },
   {
    "duration": 289,
    "start_time": "2022-08-12T21:12:53.232Z"
   },
   {
    "duration": 4,
    "start_time": "2022-08-12T21:12:53.523Z"
   },
   {
    "duration": 6,
    "start_time": "2022-08-12T21:12:53.529Z"
   },
   {
    "duration": 29,
    "start_time": "2022-08-12T21:12:53.536Z"
   },
   {
    "duration": 23,
    "start_time": "2022-08-12T21:12:53.566Z"
   },
   {
    "duration": 15,
    "start_time": "2022-08-12T21:12:53.591Z"
   },
   {
    "duration": 7,
    "start_time": "2022-08-12T21:12:53.608Z"
   },
   {
    "duration": 12,
    "start_time": "2022-08-12T21:12:53.616Z"
   },
   {
    "duration": 5865,
    "start_time": "2022-08-12T21:12:53.629Z"
   },
   {
    "duration": 8,
    "start_time": "2022-08-12T21:12:59.495Z"
   },
   {
    "duration": 13,
    "start_time": "2022-08-12T21:12:59.505Z"
   },
   {
    "duration": 12,
    "start_time": "2022-08-12T21:12:59.520Z"
   },
   {
    "duration": 9,
    "start_time": "2022-08-12T21:12:59.534Z"
   },
   {
    "duration": 22,
    "start_time": "2022-08-12T21:12:59.545Z"
   },
   {
    "duration": 2701,
    "start_time": "2022-08-12T21:12:59.569Z"
   },
   {
    "duration": 11,
    "start_time": "2022-08-12T21:13:02.271Z"
   },
   {
    "duration": 42,
    "start_time": "2022-08-12T21:13:02.284Z"
   },
   {
    "duration": 28,
    "start_time": "2022-08-12T21:13:02.328Z"
   },
   {
    "duration": 46,
    "start_time": "2022-08-12T21:13:02.361Z"
   },
   {
    "duration": 74,
    "start_time": "2022-08-12T21:13:02.409Z"
   },
   {
    "duration": 39,
    "start_time": "2022-08-12T21:13:02.485Z"
   },
   {
    "duration": 29,
    "start_time": "2022-08-12T21:13:02.526Z"
   },
   {
    "duration": 29,
    "start_time": "2022-08-12T21:13:02.556Z"
   },
   {
    "duration": 816,
    "start_time": "2022-08-12T21:13:02.587Z"
   },
   {
    "duration": 20,
    "start_time": "2022-08-12T21:13:03.406Z"
   },
   {
    "duration": 57,
    "start_time": "2022-08-12T21:13:03.427Z"
   },
   {
    "duration": 135,
    "start_time": "2022-08-12T21:13:03.486Z"
   },
   {
    "duration": 5,
    "start_time": "2022-08-12T21:13:03.623Z"
   },
   {
    "duration": 663,
    "start_time": "2022-08-12T21:13:03.630Z"
   },
   {
    "duration": 8,
    "start_time": "2022-08-12T21:13:04.296Z"
   },
   {
    "duration": 20,
    "start_time": "2022-08-12T21:13:04.306Z"
   },
   {
    "duration": 9,
    "start_time": "2022-08-12T21:13:04.328Z"
   },
   {
    "duration": 26,
    "start_time": "2022-08-12T21:13:04.357Z"
   },
   {
    "duration": 12,
    "start_time": "2022-08-12T21:13:04.386Z"
   },
   {
    "duration": 15,
    "start_time": "2022-08-12T21:13:04.400Z"
   },
   {
    "duration": 43,
    "start_time": "2022-08-12T21:13:04.417Z"
   },
   {
    "duration": 21,
    "start_time": "2022-08-12T21:13:04.466Z"
   },
   {
    "duration": 55,
    "start_time": "2022-08-12T21:15:00.490Z"
   },
   {
    "duration": 78,
    "start_time": "2022-08-12T21:15:44.488Z"
   },
   {
    "duration": 52,
    "start_time": "2022-08-12T21:15:51.798Z"
   },
   {
    "duration": 6,
    "start_time": "2022-08-12T21:24:29.852Z"
   },
   {
    "duration": 7,
    "start_time": "2022-08-12T21:24:34.626Z"
   },
   {
    "duration": 10,
    "start_time": "2022-08-12T21:24:35.183Z"
   },
   {
    "duration": 14,
    "start_time": "2022-08-12T21:24:40.773Z"
   },
   {
    "duration": 8,
    "start_time": "2022-08-12T21:24:41.691Z"
   },
   {
    "duration": 9,
    "start_time": "2022-08-12T21:24:50.980Z"
   },
   {
    "duration": 8,
    "start_time": "2022-08-12T21:24:59.992Z"
   },
   {
    "duration": 21,
    "start_time": "2022-08-12T21:27:21.692Z"
   },
   {
    "duration": 44,
    "start_time": "2022-08-12T21:27:43.251Z"
   },
   {
    "duration": 33,
    "start_time": "2022-08-12T21:27:52.229Z"
   },
   {
    "duration": 51,
    "start_time": "2022-08-12T21:28:00.986Z"
   },
   {
    "duration": 41,
    "start_time": "2022-08-12T21:28:07.922Z"
   },
   {
    "duration": 28,
    "start_time": "2022-08-12T21:28:13.977Z"
   },
   {
    "duration": 30,
    "start_time": "2022-08-12T21:28:15.582Z"
   },
   {
    "duration": 123,
    "start_time": "2022-08-12T21:29:07.196Z"
   },
   {
    "duration": 84,
    "start_time": "2022-08-12T21:33:15.691Z"
   },
   {
    "duration": 77,
    "start_time": "2022-08-12T21:33:23.810Z"
   },
   {
    "duration": 6,
    "start_time": "2022-08-12T21:33:34.390Z"
   },
   {
    "duration": 33,
    "start_time": "2022-08-12T21:34:04.780Z"
   },
   {
    "duration": 8,
    "start_time": "2022-08-12T21:34:09.993Z"
   },
   {
    "duration": 9,
    "start_time": "2022-08-12T21:35:27.382Z"
   },
   {
    "duration": 10,
    "start_time": "2022-08-12T21:35:33.921Z"
   },
   {
    "duration": 81,
    "start_time": "2022-08-12T21:35:44.381Z"
   },
   {
    "duration": 49,
    "start_time": "2022-08-12T21:36:12.716Z"
   },
   {
    "duration": 14,
    "start_time": "2022-08-12T21:36:24.571Z"
   },
   {
    "duration": 15,
    "start_time": "2022-08-12T21:36:33.777Z"
   },
   {
    "duration": 16,
    "start_time": "2022-08-12T21:36:42.413Z"
   },
   {
    "duration": 14,
    "start_time": "2022-08-12T21:37:45.674Z"
   },
   {
    "duration": 12,
    "start_time": "2022-08-12T21:37:49.813Z"
   },
   {
    "duration": 12,
    "start_time": "2022-08-12T21:37:56.906Z"
   },
   {
    "duration": 15,
    "start_time": "2022-08-12T21:38:11.258Z"
   },
   {
    "duration": 8,
    "start_time": "2022-08-12T21:38:14.272Z"
   },
   {
    "duration": 5,
    "start_time": "2022-08-12T21:38:32.390Z"
   },
   {
    "duration": 11,
    "start_time": "2022-08-12T21:38:32.397Z"
   },
   {
    "duration": 380,
    "start_time": "2022-08-12T21:38:32.409Z"
   },
   {
    "duration": 3,
    "start_time": "2022-08-12T21:38:32.792Z"
   },
   {
    "duration": 90,
    "start_time": "2022-08-12T21:38:32.797Z"
   },
   {
    "duration": 4,
    "start_time": "2022-08-12T21:38:32.889Z"
   },
   {
    "duration": 23,
    "start_time": "2022-08-12T21:38:32.894Z"
   },
   {
    "duration": 14,
    "start_time": "2022-08-12T21:38:32.919Z"
   },
   {
    "duration": 82,
    "start_time": "2022-08-12T21:38:32.935Z"
   },
   {
    "duration": 166,
    "start_time": "2022-08-12T21:38:33.019Z"
   },
   {
    "duration": 6,
    "start_time": "2022-08-12T21:38:33.186Z"
   },
   {
    "duration": 4,
    "start_time": "2022-08-12T21:38:33.193Z"
   },
   {
    "duration": 30,
    "start_time": "2022-08-12T21:38:33.198Z"
   },
   {
    "duration": 47,
    "start_time": "2022-08-12T21:38:33.231Z"
   },
   {
    "duration": 7,
    "start_time": "2022-08-12T21:38:33.280Z"
   },
   {
    "duration": 39,
    "start_time": "2022-08-12T21:38:33.289Z"
   },
   {
    "duration": 11,
    "start_time": "2022-08-12T21:38:33.329Z"
   },
   {
    "duration": 41,
    "start_time": "2022-08-12T21:38:33.342Z"
   },
   {
    "duration": 19,
    "start_time": "2022-08-12T21:38:33.385Z"
   },
   {
    "duration": 34,
    "start_time": "2022-08-12T21:38:33.408Z"
   },
   {
    "duration": 273,
    "start_time": "2022-08-12T21:38:33.444Z"
   },
   {
    "duration": 9,
    "start_time": "2022-08-12T21:38:33.720Z"
   },
   {
    "duration": 13,
    "start_time": "2022-08-12T21:38:33.732Z"
   },
   {
    "duration": 277,
    "start_time": "2022-08-12T21:38:33.747Z"
   },
   {
    "duration": 5,
    "start_time": "2022-08-12T21:38:34.026Z"
   },
   {
    "duration": 5,
    "start_time": "2022-08-12T21:38:34.033Z"
   },
   {
    "duration": 28,
    "start_time": "2022-08-12T21:38:34.040Z"
   },
   {
    "duration": 3,
    "start_time": "2022-08-12T21:38:34.071Z"
   },
   {
    "duration": 12,
    "start_time": "2022-08-12T21:38:34.077Z"
   },
   {
    "duration": 13,
    "start_time": "2022-08-12T21:38:34.091Z"
   },
   {
    "duration": 12,
    "start_time": "2022-08-12T21:38:34.105Z"
   },
   {
    "duration": 5309,
    "start_time": "2022-08-12T21:38:34.119Z"
   },
   {
    "duration": 6,
    "start_time": "2022-08-12T21:38:39.430Z"
   },
   {
    "duration": 2,
    "start_time": "2022-08-12T21:38:39.438Z"
   },
   {
    "duration": 22,
    "start_time": "2022-08-12T21:38:39.442Z"
   },
   {
    "duration": 13,
    "start_time": "2022-08-12T21:38:39.466Z"
   },
   {
    "duration": 8,
    "start_time": "2022-08-12T21:38:39.481Z"
   },
   {
    "duration": 2521,
    "start_time": "2022-08-12T21:38:39.491Z"
   },
   {
    "duration": 7,
    "start_time": "2022-08-12T21:38:42.015Z"
   },
   {
    "duration": 20,
    "start_time": "2022-08-12T21:38:42.023Z"
   },
   {
    "duration": 29,
    "start_time": "2022-08-12T21:38:42.044Z"
   },
   {
    "duration": 28,
    "start_time": "2022-08-12T21:38:42.075Z"
   },
   {
    "duration": 21,
    "start_time": "2022-08-12T21:38:42.105Z"
   },
   {
    "duration": 27,
    "start_time": "2022-08-12T21:38:42.127Z"
   },
   {
    "duration": 30,
    "start_time": "2022-08-12T21:38:42.155Z"
   },
   {
    "duration": 7,
    "start_time": "2022-08-12T21:38:42.187Z"
   },
   {
    "duration": 552,
    "start_time": "2022-08-12T21:38:42.195Z"
   },
   {
    "duration": 34,
    "start_time": "2022-08-12T21:38:42.749Z"
   },
   {
    "duration": 13,
    "start_time": "2022-08-12T21:38:42.785Z"
   },
   {
    "duration": 11,
    "start_time": "2022-08-12T21:38:42.800Z"
   },
   {
    "duration": 6,
    "start_time": "2022-08-12T21:38:42.812Z"
   },
   {
    "duration": 622,
    "start_time": "2022-08-12T21:38:42.820Z"
   },
   {
    "duration": 15,
    "start_time": "2022-08-12T21:38:43.443Z"
   },
   {
    "duration": 19,
    "start_time": "2022-08-12T21:38:43.460Z"
   },
   {
    "duration": 12,
    "start_time": "2022-08-12T21:38:43.481Z"
   },
   {
    "duration": 17,
    "start_time": "2022-08-12T21:38:43.497Z"
   },
   {
    "duration": 7,
    "start_time": "2022-08-12T21:38:43.515Z"
   },
   {
    "duration": 43,
    "start_time": "2022-08-12T21:38:43.524Z"
   },
   {
    "duration": 26,
    "start_time": "2022-08-12T21:38:43.569Z"
   },
   {
    "duration": 15,
    "start_time": "2022-08-12T21:38:43.597Z"
   },
   {
    "duration": 4,
    "start_time": "2022-08-12T21:38:43.614Z"
   },
   {
    "duration": 8,
    "start_time": "2022-08-12T21:38:43.619Z"
   },
   {
    "duration": 7,
    "start_time": "2022-08-12T21:38:43.628Z"
   },
   {
    "duration": 24,
    "start_time": "2022-08-12T21:38:43.636Z"
   },
   {
    "duration": 10,
    "start_time": "2022-08-12T21:38:43.667Z"
   },
   {
    "duration": 11,
    "start_time": "2022-08-12T21:38:43.678Z"
   },
   {
    "duration": 8,
    "start_time": "2022-08-12T21:38:43.691Z"
   },
   {
    "duration": 13,
    "start_time": "2022-08-12T21:38:43.700Z"
   },
   {
    "duration": 10,
    "start_time": "2022-08-12T21:38:43.714Z"
   },
   {
    "duration": 11,
    "start_time": "2022-08-12T21:38:43.725Z"
   },
   {
    "duration": 25,
    "start_time": "2022-08-12T21:38:43.737Z"
   },
   {
    "duration": 19,
    "start_time": "2022-08-12T21:38:43.769Z"
   },
   {
    "duration": 11,
    "start_time": "2022-08-12T21:38:43.790Z"
   },
   {
    "duration": 6,
    "start_time": "2022-08-12T21:38:43.803Z"
   },
   {
    "duration": 7,
    "start_time": "2022-08-12T21:38:43.810Z"
   },
   {
    "duration": 1801,
    "start_time": "2022-08-12T21:41:21.377Z"
   },
   {
    "duration": 10,
    "start_time": "2022-08-12T21:50:44.270Z"
   },
   {
    "duration": 1467,
    "start_time": "2022-08-12T21:50:44.281Z"
   },
   {
    "duration": 269,
    "start_time": "2022-08-12T21:50:45.750Z"
   },
   {
    "duration": 3,
    "start_time": "2022-08-12T21:50:46.021Z"
   },
   {
    "duration": 78,
    "start_time": "2022-08-12T21:50:46.026Z"
   },
   {
    "duration": 3,
    "start_time": "2022-08-12T21:50:46.105Z"
   },
   {
    "duration": 11,
    "start_time": "2022-08-12T21:50:46.109Z"
   },
   {
    "duration": 7,
    "start_time": "2022-08-12T21:50:46.121Z"
   },
   {
    "duration": 77,
    "start_time": "2022-08-12T21:50:46.132Z"
   },
   {
    "duration": 177,
    "start_time": "2022-08-12T21:50:46.211Z"
   },
   {
    "duration": 5,
    "start_time": "2022-08-12T21:50:46.390Z"
   },
   {
    "duration": 17,
    "start_time": "2022-08-12T21:50:46.396Z"
   },
   {
    "duration": 23,
    "start_time": "2022-08-12T21:50:46.414Z"
   },
   {
    "duration": 33,
    "start_time": "2022-08-12T21:50:46.439Z"
   },
   {
    "duration": 6,
    "start_time": "2022-08-12T21:50:46.474Z"
   },
   {
    "duration": 10,
    "start_time": "2022-08-12T21:50:46.482Z"
   },
   {
    "duration": 6,
    "start_time": "2022-08-12T21:50:46.493Z"
   },
   {
    "duration": 10,
    "start_time": "2022-08-12T21:50:46.500Z"
   },
   {
    "duration": 13,
    "start_time": "2022-08-12T21:50:46.511Z"
   },
   {
    "duration": 42,
    "start_time": "2022-08-12T21:50:46.526Z"
   },
   {
    "duration": 231,
    "start_time": "2022-08-12T21:50:46.571Z"
   },
   {
    "duration": 10,
    "start_time": "2022-08-12T21:50:46.804Z"
   },
   {
    "duration": 6,
    "start_time": "2022-08-12T21:50:46.816Z"
   },
   {
    "duration": 246,
    "start_time": "2022-08-12T21:50:46.826Z"
   },
   {
    "duration": 5,
    "start_time": "2022-08-12T21:50:47.073Z"
   },
   {
    "duration": 6,
    "start_time": "2022-08-12T21:50:47.079Z"
   },
   {
    "duration": 8,
    "start_time": "2022-08-12T21:50:47.086Z"
   },
   {
    "duration": 3,
    "start_time": "2022-08-12T21:50:47.096Z"
   },
   {
    "duration": 10,
    "start_time": "2022-08-12T21:50:47.101Z"
   },
   {
    "duration": 5,
    "start_time": "2022-08-12T21:50:47.113Z"
   },
   {
    "duration": 10,
    "start_time": "2022-08-12T21:50:47.119Z"
   },
   {
    "duration": 4789,
    "start_time": "2022-08-12T21:50:47.131Z"
   },
   {
    "duration": 6,
    "start_time": "2022-08-12T21:50:51.922Z"
   },
   {
    "duration": 5,
    "start_time": "2022-08-12T21:50:51.929Z"
   },
   {
    "duration": 27,
    "start_time": "2022-08-12T21:50:51.936Z"
   },
   {
    "duration": 14,
    "start_time": "2022-08-12T21:50:51.965Z"
   },
   {
    "duration": 9,
    "start_time": "2022-08-12T21:50:51.980Z"
   },
   {
    "duration": 2632,
    "start_time": "2022-08-12T21:50:51.990Z"
   },
   {
    "duration": 5,
    "start_time": "2022-08-12T21:50:54.624Z"
   },
   {
    "duration": 4,
    "start_time": "2022-08-12T21:50:54.630Z"
   },
   {
    "duration": 6,
    "start_time": "2022-08-12T21:50:54.635Z"
   },
   {
    "duration": 8,
    "start_time": "2022-08-12T21:50:54.663Z"
   },
   {
    "duration": 9,
    "start_time": "2022-08-12T21:50:54.672Z"
   },
   {
    "duration": 20,
    "start_time": "2022-08-12T21:50:54.683Z"
   },
   {
    "duration": 20,
    "start_time": "2022-08-12T21:50:54.704Z"
   },
   {
    "duration": 8,
    "start_time": "2022-08-12T21:50:54.725Z"
   },
   {
    "duration": 698,
    "start_time": "2022-08-12T21:50:54.735Z"
   },
   {
    "duration": 36,
    "start_time": "2022-08-12T21:50:55.434Z"
   },
   {
    "duration": 9,
    "start_time": "2022-08-12T21:50:55.472Z"
   },
   {
    "duration": 136,
    "start_time": "2022-08-12T21:50:55.483Z"
   },
   {
    "duration": 6,
    "start_time": "2022-08-12T21:50:55.622Z"
   },
   {
    "duration": 623,
    "start_time": "2022-08-12T21:50:55.629Z"
   },
   {
    "duration": 20,
    "start_time": "2022-08-12T21:50:56.253Z"
   },
   {
    "duration": 16,
    "start_time": "2022-08-12T21:50:56.275Z"
   },
   {
    "duration": 7,
    "start_time": "2022-08-12T21:50:56.292Z"
   },
   {
    "duration": 18,
    "start_time": "2022-08-12T21:50:56.300Z"
   },
   {
    "duration": 7,
    "start_time": "2022-08-12T21:50:56.319Z"
   },
   {
    "duration": 30,
    "start_time": "2022-08-12T21:50:56.327Z"
   },
   {
    "duration": 35,
    "start_time": "2022-08-12T21:50:56.359Z"
   },
   {
    "duration": 13,
    "start_time": "2022-08-12T21:50:56.396Z"
   },
   {
    "duration": 5,
    "start_time": "2022-08-12T21:50:56.410Z"
   },
   {
    "duration": 13,
    "start_time": "2022-08-12T21:50:56.416Z"
   },
   {
    "duration": 5,
    "start_time": "2022-08-12T21:50:56.431Z"
   },
   {
    "duration": 32,
    "start_time": "2022-08-12T21:50:56.437Z"
   },
   {
    "duration": 9,
    "start_time": "2022-08-12T21:50:56.471Z"
   },
   {
    "duration": 7,
    "start_time": "2022-08-12T21:50:56.481Z"
   },
   {
    "duration": 7,
    "start_time": "2022-08-12T21:50:56.489Z"
   },
   {
    "duration": 12,
    "start_time": "2022-08-12T21:50:56.497Z"
   },
   {
    "duration": 10,
    "start_time": "2022-08-12T21:50:56.514Z"
   },
   {
    "duration": 48,
    "start_time": "2022-08-12T21:50:56.525Z"
   },
   {
    "duration": 6,
    "start_time": "2022-08-12T21:50:56.576Z"
   },
   {
    "duration": 12,
    "start_time": "2022-08-12T21:50:56.584Z"
   },
   {
    "duration": 10,
    "start_time": "2022-08-12T21:50:56.598Z"
   },
   {
    "duration": 3,
    "start_time": "2022-08-12T21:50:56.610Z"
   },
   {
    "duration": 6,
    "start_time": "2022-08-12T21:50:56.615Z"
   },
   {
    "duration": 1067,
    "start_time": "2022-08-12T21:50:56.622Z"
   },
   {
    "duration": 4,
    "start_time": "2022-08-12T21:50:57.690Z"
   },
   {
    "duration": 14,
    "start_time": "2022-08-12T21:50:57.695Z"
   },
   {
    "duration": 9,
    "start_time": "2022-08-12T21:50:57.758Z"
   },
   {
    "duration": 6,
    "start_time": "2022-08-12T21:50:57.771Z"
   },
   {
    "duration": 8,
    "start_time": "2022-08-12T21:50:57.779Z"
   },
   {
    "duration": 3,
    "start_time": "2022-08-12T21:50:57.789Z"
   },
   {
    "duration": 5,
    "start_time": "2022-08-12T21:50:57.793Z"
   },
   {
    "duration": 7364,
    "start_time": "2022-08-12T21:50:57.799Z"
   },
   {
    "duration": 3,
    "start_time": "2022-08-12T21:51:05.173Z"
   },
   {
    "duration": 19,
    "start_time": "2022-08-12T21:51:05.178Z"
   },
   {
    "duration": 12,
    "start_time": "2022-08-12T21:51:05.199Z"
   },
   {
    "duration": 925073,
    "start_time": "2022-08-12T21:51:05.213Z"
   },
   {
    "duration": 2,
    "start_time": "2022-08-12T22:06:30.288Z"
   },
   {
    "duration": 74,
    "start_time": "2022-08-12T22:06:30.292Z"
   },
   {
    "duration": 9,
    "start_time": "2022-08-12T22:07:20.151Z"
   },
   {
    "duration": 54,
    "start_time": "2022-08-12T22:08:29.631Z"
   },
   {
    "duration": 3,
    "start_time": "2022-08-12T22:08:35.883Z"
   },
   {
    "duration": 8,
    "start_time": "2022-08-12T22:08:37.621Z"
   },
   {
    "duration": 4,
    "start_time": "2022-08-12T22:08:53.282Z"
   },
   {
    "duration": 2,
    "start_time": "2022-08-12T22:08:53.977Z"
   },
   {
    "duration": 1401,
    "start_time": "2022-08-12T22:08:54.301Z"
   },
   {
    "duration": 22,
    "start_time": "2022-08-12T22:08:55.757Z"
   },
   {
    "duration": 3,
    "start_time": "2022-08-12T22:09:03.803Z"
   },
   {
    "duration": 3,
    "start_time": "2022-08-12T22:09:55.592Z"
   },
   {
    "duration": 4,
    "start_time": "2022-08-12T22:09:56.016Z"
   },
   {
    "duration": 19,
    "start_time": "2022-08-12T22:11:18.050Z"
   },
   {
    "duration": 2287,
    "start_time": "2022-08-12T22:11:18.071Z"
   },
   {
    "duration": 234,
    "start_time": "2022-08-12T22:11:20.360Z"
   },
   {
    "duration": 3,
    "start_time": "2022-08-12T22:11:20.595Z"
   },
   {
    "duration": 168,
    "start_time": "2022-08-12T22:11:20.600Z"
   },
   {
    "duration": 4,
    "start_time": "2022-08-12T22:11:20.769Z"
   },
   {
    "duration": 8,
    "start_time": "2022-08-12T22:11:20.774Z"
   },
   {
    "duration": 5,
    "start_time": "2022-08-12T22:11:20.783Z"
   },
   {
    "duration": 113,
    "start_time": "2022-08-12T22:11:20.790Z"
   },
   {
    "duration": 336,
    "start_time": "2022-08-12T22:11:20.958Z"
   },
   {
    "duration": 66,
    "start_time": "2022-08-12T22:11:21.296Z"
   },
   {
    "duration": 4,
    "start_time": "2022-08-12T22:11:21.364Z"
   },
   {
    "duration": 21,
    "start_time": "2022-08-12T22:11:21.369Z"
   },
   {
    "duration": 79,
    "start_time": "2022-08-12T22:11:21.392Z"
   },
   {
    "duration": 6,
    "start_time": "2022-08-12T22:11:21.473Z"
   },
   {
    "duration": 13,
    "start_time": "2022-08-12T22:11:21.481Z"
   },
   {
    "duration": 66,
    "start_time": "2022-08-12T22:11:21.496Z"
   },
   {
    "duration": 13,
    "start_time": "2022-08-12T22:11:21.564Z"
   },
   {
    "duration": 18,
    "start_time": "2022-08-12T22:11:21.579Z"
   },
   {
    "duration": 68,
    "start_time": "2022-08-12T22:11:21.598Z"
   },
   {
    "duration": 498,
    "start_time": "2022-08-12T22:11:21.668Z"
   },
   {
    "duration": 13,
    "start_time": "2022-08-12T22:11:22.168Z"
   },
   {
    "duration": 12,
    "start_time": "2022-08-12T22:11:22.182Z"
   },
   {
    "duration": 478,
    "start_time": "2022-08-12T22:11:22.195Z"
   },
   {
    "duration": 5,
    "start_time": "2022-08-12T22:11:22.674Z"
   },
   {
    "duration": 10,
    "start_time": "2022-08-12T22:11:22.681Z"
   },
   {
    "duration": 66,
    "start_time": "2022-08-12T22:11:22.693Z"
   },
   {
    "duration": 6,
    "start_time": "2022-08-12T22:11:22.761Z"
   },
   {
    "duration": 10,
    "start_time": "2022-08-12T22:11:22.770Z"
   },
   {
    "duration": 10,
    "start_time": "2022-08-12T22:11:22.782Z"
   },
   {
    "duration": 70,
    "start_time": "2022-08-12T22:11:22.793Z"
   },
   {
    "duration": 9694,
    "start_time": "2022-08-12T22:11:22.865Z"
   },
   {
    "duration": 7,
    "start_time": "2022-08-12T22:11:32.561Z"
   },
   {
    "duration": 3,
    "start_time": "2022-08-12T22:11:32.569Z"
   },
   {
    "duration": 10,
    "start_time": "2022-08-12T22:11:32.573Z"
   },
   {
    "duration": 7,
    "start_time": "2022-08-12T22:11:32.584Z"
   },
   {
    "duration": 74,
    "start_time": "2022-08-12T22:11:32.593Z"
   },
   {
    "duration": 5124,
    "start_time": "2022-08-12T22:11:32.669Z"
   },
   {
    "duration": 5,
    "start_time": "2022-08-12T22:11:37.794Z"
   },
   {
    "duration": 58,
    "start_time": "2022-08-12T22:11:37.800Z"
   },
   {
    "duration": 6,
    "start_time": "2022-08-12T22:11:37.859Z"
   },
   {
    "duration": 6,
    "start_time": "2022-08-12T22:11:37.866Z"
   },
   {
    "duration": 8,
    "start_time": "2022-08-12T22:11:37.873Z"
   },
   {
    "duration": 75,
    "start_time": "2022-08-12T22:11:37.883Z"
   },
   {
    "duration": 19,
    "start_time": "2022-08-12T22:11:37.959Z"
   },
   {
    "duration": 7,
    "start_time": "2022-08-12T22:11:37.980Z"
   },
   {
    "duration": 874,
    "start_time": "2022-08-12T22:11:37.988Z"
   },
   {
    "duration": 20,
    "start_time": "2022-08-12T22:11:38.864Z"
   },
   {
    "duration": 8,
    "start_time": "2022-08-12T22:11:38.886Z"
   },
   {
    "duration": 288,
    "start_time": "2022-08-12T22:11:38.895Z"
   },
   {
    "duration": 6,
    "start_time": "2022-08-12T22:11:39.186Z"
   },
   {
    "duration": 973,
    "start_time": "2022-08-12T22:11:39.194Z"
   },
   {
    "duration": 10,
    "start_time": "2022-08-12T22:11:40.169Z"
   },
   {
    "duration": 96,
    "start_time": "2022-08-12T22:11:40.181Z"
   },
   {
    "duration": 79,
    "start_time": "2022-08-12T22:11:40.279Z"
   },
   {
    "duration": 19,
    "start_time": "2022-08-12T22:11:40.360Z"
   },
   {
    "duration": 79,
    "start_time": "2022-08-12T22:11:40.380Z"
   },
   {
    "duration": 16,
    "start_time": "2022-08-12T22:11:40.461Z"
   },
   {
    "duration": 101,
    "start_time": "2022-08-12T22:11:40.479Z"
   },
   {
    "duration": 87,
    "start_time": "2022-08-12T22:11:40.582Z"
   },
   {
    "duration": 6,
    "start_time": "2022-08-12T22:11:40.670Z"
   },
   {
    "duration": 8,
    "start_time": "2022-08-12T22:11:40.677Z"
   },
   {
    "duration": 76,
    "start_time": "2022-08-12T22:11:40.686Z"
   },
   {
    "duration": 14,
    "start_time": "2022-08-12T22:11:40.763Z"
   },
   {
    "duration": 84,
    "start_time": "2022-08-12T22:11:40.779Z"
   },
   {
    "duration": 10,
    "start_time": "2022-08-12T22:11:40.865Z"
   },
   {
    "duration": 81,
    "start_time": "2022-08-12T22:11:40.877Z"
   },
   {
    "duration": 16,
    "start_time": "2022-08-12T22:11:40.960Z"
   },
   {
    "duration": 81,
    "start_time": "2022-08-12T22:11:40.978Z"
   },
   {
    "duration": 17,
    "start_time": "2022-08-12T22:11:41.061Z"
   },
   {
    "duration": 78,
    "start_time": "2022-08-12T22:11:41.080Z"
   },
   {
    "duration": 18,
    "start_time": "2022-08-12T22:11:41.160Z"
   },
   {
    "duration": 84,
    "start_time": "2022-08-12T22:11:41.180Z"
   },
   {
    "duration": 6,
    "start_time": "2022-08-12T22:11:41.266Z"
   },
   {
    "duration": 6,
    "start_time": "2022-08-12T22:11:41.274Z"
   },
   {
    "duration": 3206,
    "start_time": "2022-08-12T22:11:41.282Z"
   },
   {
    "duration": 4,
    "start_time": "2022-08-12T22:11:44.557Z"
   },
   {
    "duration": 18,
    "start_time": "2022-08-12T22:11:44.563Z"
   },
   {
    "duration": 8,
    "start_time": "2022-08-12T22:11:44.582Z"
   },
   {
    "duration": 10,
    "start_time": "2022-08-12T22:11:44.658Z"
   },
   {
    "duration": 12,
    "start_time": "2022-08-12T22:11:44.670Z"
   },
   {
    "duration": 74,
    "start_time": "2022-08-12T22:11:44.684Z"
   },
   {
    "duration": 3,
    "start_time": "2022-08-12T22:11:44.766Z"
   },
   {
    "duration": 12641,
    "start_time": "2022-08-12T22:11:44.771Z"
   },
   {
    "duration": 3,
    "start_time": "2022-08-12T22:11:57.457Z"
   },
   {
    "duration": 10,
    "start_time": "2022-08-12T22:11:57.462Z"
   },
   {
    "duration": 8,
    "start_time": "2022-08-12T22:11:57.474Z"
   },
   {
    "duration": 15,
    "start_time": "2022-08-12T22:12:36.874Z"
   },
   {
    "duration": 2385,
    "start_time": "2022-08-12T22:12:36.892Z"
   },
   {
    "duration": 244,
    "start_time": "2022-08-12T22:12:39.279Z"
   },
   {
    "duration": 4,
    "start_time": "2022-08-12T22:12:39.558Z"
   },
   {
    "duration": 130,
    "start_time": "2022-08-12T22:12:39.564Z"
   },
   {
    "duration": 4,
    "start_time": "2022-08-12T22:12:39.758Z"
   },
   {
    "duration": 8,
    "start_time": "2022-08-12T22:12:39.764Z"
   },
   {
    "duration": 7,
    "start_time": "2022-08-12T22:12:39.773Z"
   },
   {
    "duration": 178,
    "start_time": "2022-08-12T22:12:39.781Z"
   },
   {
    "duration": 337,
    "start_time": "2022-08-12T22:12:39.961Z"
   },
   {
    "duration": 7,
    "start_time": "2022-08-12T22:12:40.359Z"
   },
   {
    "duration": 4,
    "start_time": "2022-08-12T22:12:40.368Z"
   },
   {
    "duration": 83,
    "start_time": "2022-08-12T22:12:40.374Z"
   },
   {
    "duration": 27,
    "start_time": "2022-08-12T22:12:40.460Z"
   },
   {
    "duration": 7,
    "start_time": "2022-08-12T22:12:40.489Z"
   },
   {
    "duration": 70,
    "start_time": "2022-08-12T22:12:40.498Z"
   },
   {
    "duration": 8,
    "start_time": "2022-08-12T22:12:40.571Z"
   },
   {
    "duration": 13,
    "start_time": "2022-08-12T22:12:40.581Z"
   },
   {
    "duration": 77,
    "start_time": "2022-08-12T22:12:40.596Z"
   },
   {
    "duration": 9,
    "start_time": "2022-08-12T22:12:40.675Z"
   },
   {
    "duration": 511,
    "start_time": "2022-08-12T22:12:40.686Z"
   },
   {
    "duration": 68,
    "start_time": "2022-08-12T22:12:41.199Z"
   },
   {
    "duration": 11,
    "start_time": "2022-08-12T22:12:41.269Z"
   },
   {
    "duration": 481,
    "start_time": "2022-08-12T22:12:41.282Z"
   },
   {
    "duration": 4,
    "start_time": "2022-08-12T22:12:41.765Z"
   },
   {
    "duration": 8,
    "start_time": "2022-08-12T22:12:41.771Z"
   },
   {
    "duration": 10,
    "start_time": "2022-08-12T22:12:41.780Z"
   },
   {
    "duration": 72,
    "start_time": "2022-08-12T22:12:41.792Z"
   },
   {
    "duration": 12,
    "start_time": "2022-08-12T22:12:41.868Z"
   },
   {
    "duration": 25,
    "start_time": "2022-08-12T22:12:41.882Z"
   },
   {
    "duration": 15,
    "start_time": "2022-08-12T22:12:41.958Z"
   },
   {
    "duration": 10204,
    "start_time": "2022-08-12T22:12:41.975Z"
   },
   {
    "duration": 7,
    "start_time": "2022-08-12T22:12:52.181Z"
   },
   {
    "duration": 67,
    "start_time": "2022-08-12T22:12:52.190Z"
   },
   {
    "duration": 38,
    "start_time": "2022-08-12T22:12:52.260Z"
   },
   {
    "duration": 61,
    "start_time": "2022-08-12T22:12:52.300Z"
   },
   {
    "duration": 38,
    "start_time": "2022-08-12T22:12:52.363Z"
   },
   {
    "duration": 5168,
    "start_time": "2022-08-12T22:12:52.403Z"
   },
   {
    "duration": 6,
    "start_time": "2022-08-12T22:12:57.573Z"
   },
   {
    "duration": 3,
    "start_time": "2022-08-12T22:12:57.580Z"
   },
   {
    "duration": 6,
    "start_time": "2022-08-12T22:12:57.585Z"
   },
   {
    "duration": 10,
    "start_time": "2022-08-12T22:12:57.592Z"
   },
   {
    "duration": 55,
    "start_time": "2022-08-12T22:12:57.604Z"
   },
   {
    "duration": 19,
    "start_time": "2022-08-12T22:12:57.660Z"
   },
   {
    "duration": 87,
    "start_time": "2022-08-12T22:12:57.681Z"
   },
   {
    "duration": 9,
    "start_time": "2022-08-12T22:12:57.769Z"
   },
   {
    "duration": 1283,
    "start_time": "2022-08-12T22:12:57.780Z"
   },
   {
    "duration": 20,
    "start_time": "2022-08-12T22:12:59.065Z"
   },
   {
    "duration": 8,
    "start_time": "2022-08-12T22:12:59.087Z"
   },
   {
    "duration": 284,
    "start_time": "2022-08-12T22:12:59.097Z"
   },
   {
    "duration": 7,
    "start_time": "2022-08-12T22:12:59.383Z"
   },
   {
    "duration": 904,
    "start_time": "2022-08-12T22:12:59.391Z"
   },
   {
    "duration": 61,
    "start_time": "2022-08-12T22:13:00.297Z"
   },
   {
    "duration": 17,
    "start_time": "2022-08-12T22:13:00.360Z"
   },
   {
    "duration": 12,
    "start_time": "2022-08-12T22:13:00.378Z"
   },
   {
    "duration": 79,
    "start_time": "2022-08-12T22:13:00.391Z"
   },
   {
    "duration": 8,
    "start_time": "2022-08-12T22:13:00.471Z"
   },
   {
    "duration": 76,
    "start_time": "2022-08-12T22:13:00.481Z"
   },
   {
    "duration": 28,
    "start_time": "2022-08-12T22:13:00.560Z"
   },
   {
    "duration": 73,
    "start_time": "2022-08-12T22:13:00.590Z"
   },
   {
    "duration": 4,
    "start_time": "2022-08-12T22:13:00.665Z"
   },
   {
    "duration": 16,
    "start_time": "2022-08-12T22:13:00.670Z"
   },
   {
    "duration": 16,
    "start_time": "2022-08-12T22:13:00.687Z"
   },
   {
    "duration": 10,
    "start_time": "2022-08-12T22:13:00.757Z"
   },
   {
    "duration": 29,
    "start_time": "2022-08-12T22:13:00.768Z"
   },
   {
    "duration": 59,
    "start_time": "2022-08-12T22:13:00.799Z"
   },
   {
    "duration": 23,
    "start_time": "2022-08-12T22:13:00.859Z"
   },
   {
    "duration": 28,
    "start_time": "2022-08-12T22:13:00.883Z"
   },
   {
    "duration": 54,
    "start_time": "2022-08-12T22:13:00.913Z"
   },
   {
    "duration": 14,
    "start_time": "2022-08-12T22:13:00.969Z"
   },
   {
    "duration": 5,
    "start_time": "2022-08-12T22:13:00.986Z"
   },
   {
    "duration": 71,
    "start_time": "2022-08-12T22:13:00.993Z"
   },
   {
    "duration": 44,
    "start_time": "2022-08-12T22:13:01.066Z"
   },
   {
    "duration": 29,
    "start_time": "2022-08-12T22:13:01.157Z"
   },
   {
    "duration": 26,
    "start_time": "2022-08-12T22:13:01.188Z"
   },
   {
    "duration": 1753,
    "start_time": "2022-08-12T22:13:01.216Z"
   },
   {
    "duration": 5,
    "start_time": "2022-08-12T22:13:02.971Z"
   },
   {
    "duration": 28,
    "start_time": "2022-08-12T22:13:02.978Z"
   },
   {
    "duration": 4,
    "start_time": "2022-08-12T22:13:03.057Z"
   },
   {
    "duration": 30,
    "start_time": "2022-08-12T22:13:03.063Z"
   },
   {
    "duration": 62,
    "start_time": "2022-08-12T22:13:03.095Z"
   },
   {
    "duration": 4,
    "start_time": "2022-08-12T22:13:03.159Z"
   },
   {
    "duration": 3,
    "start_time": "2022-08-12T22:13:03.171Z"
   },
   {
    "duration": 13415,
    "start_time": "2022-08-12T22:13:03.175Z"
   },
   {
    "duration": 3,
    "start_time": "2022-08-12T22:13:16.593Z"
   },
   {
    "duration": 65,
    "start_time": "2022-08-12T22:13:16.598Z"
   },
   {
    "duration": 5,
    "start_time": "2022-08-12T22:13:16.665Z"
   },
   {
    "duration": 14,
    "start_time": "2022-08-12T22:13:16.672Z"
   },
   {
    "duration": 9,
    "start_time": "2022-08-12T22:13:16.688Z"
   },
   {
    "duration": 61,
    "start_time": "2022-08-12T22:13:16.698Z"
   },
   {
    "duration": 25,
    "start_time": "2022-08-12T22:18:24.332Z"
   },
   {
    "duration": 2428,
    "start_time": "2022-08-12T22:18:24.360Z"
   },
   {
    "duration": 311,
    "start_time": "2022-08-12T22:18:26.789Z"
   },
   {
    "duration": 3,
    "start_time": "2022-08-12T22:18:27.102Z"
   },
   {
    "duration": 180,
    "start_time": "2022-08-12T22:18:27.108Z"
   },
   {
    "duration": 3,
    "start_time": "2022-08-12T22:18:27.290Z"
   },
   {
    "duration": 68,
    "start_time": "2022-08-12T22:18:27.295Z"
   },
   {
    "duration": 9,
    "start_time": "2022-08-12T22:18:27.364Z"
   },
   {
    "duration": 108,
    "start_time": "2022-08-12T22:18:27.375Z"
   },
   {
    "duration": 313,
    "start_time": "2022-08-12T22:18:27.485Z"
   },
   {
    "duration": 6,
    "start_time": "2022-08-12T22:18:27.859Z"
   },
   {
    "duration": 5,
    "start_time": "2022-08-12T22:18:27.866Z"
   },
   {
    "duration": 22,
    "start_time": "2022-08-12T22:18:27.872Z"
   },
   {
    "duration": 86,
    "start_time": "2022-08-12T22:18:27.896Z"
   },
   {
    "duration": 7,
    "start_time": "2022-08-12T22:18:27.984Z"
   },
   {
    "duration": 74,
    "start_time": "2022-08-12T22:18:27.993Z"
   },
   {
    "duration": 8,
    "start_time": "2022-08-12T22:18:28.069Z"
   },
   {
    "duration": 14,
    "start_time": "2022-08-12T22:18:28.079Z"
   },
   {
    "duration": 77,
    "start_time": "2022-08-12T22:18:28.095Z"
   },
   {
    "duration": 10,
    "start_time": "2022-08-12T22:18:28.174Z"
   },
   {
    "duration": 506,
    "start_time": "2022-08-12T22:18:28.186Z"
   },
   {
    "duration": 68,
    "start_time": "2022-08-12T22:18:28.694Z"
   },
   {
    "duration": 6,
    "start_time": "2022-08-12T22:18:28.763Z"
   },
   {
    "duration": 432,
    "start_time": "2022-08-12T22:18:28.771Z"
   },
   {
    "duration": 5,
    "start_time": "2022-08-12T22:18:29.257Z"
   },
   {
    "duration": 8,
    "start_time": "2022-08-12T22:18:29.264Z"
   },
   {
    "duration": 11,
    "start_time": "2022-08-12T22:18:29.273Z"
   },
   {
    "duration": 6,
    "start_time": "2022-08-12T22:18:29.286Z"
   },
   {
    "duration": 13,
    "start_time": "2022-08-12T22:18:29.359Z"
   },
   {
    "duration": 10,
    "start_time": "2022-08-12T22:18:29.373Z"
   },
   {
    "duration": 15,
    "start_time": "2022-08-12T22:18:29.385Z"
   },
   {
    "duration": 11004,
    "start_time": "2022-08-12T22:18:29.459Z"
   },
   {
    "duration": 8,
    "start_time": "2022-08-12T22:18:40.465Z"
   },
   {
    "duration": 3,
    "start_time": "2022-08-12T22:18:40.474Z"
   },
   {
    "duration": 10,
    "start_time": "2022-08-12T22:18:40.479Z"
   },
   {
    "duration": 70,
    "start_time": "2022-08-12T22:18:40.490Z"
   },
   {
    "duration": 9,
    "start_time": "2022-08-12T22:18:40.562Z"
   },
   {
    "duration": 4825,
    "start_time": "2022-08-12T22:18:40.573Z"
   },
   {
    "duration": 5,
    "start_time": "2022-08-12T22:18:45.457Z"
   },
   {
    "duration": 9,
    "start_time": "2022-08-12T22:18:45.464Z"
   },
   {
    "duration": 9,
    "start_time": "2022-08-12T22:18:45.474Z"
   },
   {
    "duration": 9,
    "start_time": "2022-08-12T22:18:45.485Z"
   },
   {
    "duration": 63,
    "start_time": "2022-08-12T22:18:45.495Z"
   },
   {
    "duration": 24,
    "start_time": "2022-08-12T22:18:45.560Z"
   },
   {
    "duration": 80,
    "start_time": "2022-08-12T22:18:45.585Z"
   },
   {
    "duration": 13,
    "start_time": "2022-08-12T22:18:45.667Z"
   },
   {
    "duration": 905,
    "start_time": "2022-08-12T22:18:45.682Z"
   },
   {
    "duration": 78,
    "start_time": "2022-08-12T22:18:46.588Z"
   },
   {
    "duration": 10,
    "start_time": "2022-08-12T22:18:46.668Z"
   },
   {
    "duration": 306,
    "start_time": "2022-08-12T22:18:46.680Z"
   },
   {
    "duration": 5,
    "start_time": "2022-08-12T22:18:46.988Z"
   },
   {
    "duration": 864,
    "start_time": "2022-08-12T22:18:46.995Z"
   },
   {
    "duration": 7,
    "start_time": "2022-08-12T22:18:47.861Z"
   },
   {
    "duration": 16,
    "start_time": "2022-08-12T22:18:47.869Z"
   },
   {
    "duration": 8,
    "start_time": "2022-08-12T22:18:47.886Z"
   },
   {
    "duration": 18,
    "start_time": "2022-08-12T22:18:47.957Z"
   },
   {
    "duration": 7,
    "start_time": "2022-08-12T22:18:47.976Z"
   },
   {
    "duration": 73,
    "start_time": "2022-08-12T22:18:47.985Z"
   },
   {
    "duration": 28,
    "start_time": "2022-08-12T22:18:48.060Z"
   },
   {
    "duration": 73,
    "start_time": "2022-08-12T22:18:48.090Z"
   },
   {
    "duration": 5,
    "start_time": "2022-08-12T22:18:48.165Z"
   },
   {
    "duration": 8,
    "start_time": "2022-08-12T22:18:48.173Z"
   },
   {
    "duration": 9,
    "start_time": "2022-08-12T22:18:48.183Z"
   },
   {
    "duration": 12,
    "start_time": "2022-08-12T22:18:48.258Z"
   },
   {
    "duration": 11,
    "start_time": "2022-08-12T22:18:48.272Z"
   },
   {
    "duration": 8,
    "start_time": "2022-08-12T22:18:48.285Z"
   },
   {
    "duration": 63,
    "start_time": "2022-08-12T22:18:48.295Z"
   },
   {
    "duration": 17,
    "start_time": "2022-08-12T22:18:48.360Z"
   },
   {
    "duration": 13,
    "start_time": "2022-08-12T22:18:48.380Z"
   },
   {
    "duration": 77,
    "start_time": "2022-08-12T22:18:48.395Z"
   },
   {
    "duration": 5,
    "start_time": "2022-08-12T22:18:48.475Z"
   },
   {
    "duration": 18,
    "start_time": "2022-08-12T22:18:48.482Z"
   },
   {
    "duration": 16,
    "start_time": "2022-08-12T22:18:48.559Z"
   },
   {
    "duration": 5,
    "start_time": "2022-08-12T22:18:48.577Z"
   },
   {
    "duration": 6,
    "start_time": "2022-08-12T22:18:48.584Z"
   },
   {
    "duration": 1626,
    "start_time": "2022-08-12T22:18:48.657Z"
   },
   {
    "duration": 5,
    "start_time": "2022-08-12T22:18:50.285Z"
   },
   {
    "duration": 70,
    "start_time": "2022-08-12T22:18:50.291Z"
   },
   {
    "duration": 6,
    "start_time": "2022-08-12T22:18:50.363Z"
   },
   {
    "duration": 6,
    "start_time": "2022-08-12T22:18:50.371Z"
   },
   {
    "duration": 10,
    "start_time": "2022-08-12T22:18:50.379Z"
   },
   {
    "duration": 3,
    "start_time": "2022-08-12T22:19:23.594Z"
   },
   {
    "duration": 3,
    "start_time": "2022-08-12T22:19:24.065Z"
   },
   {
    "duration": 9,
    "start_time": "2022-08-12T22:31:57.129Z"
   },
   {
    "duration": 1354,
    "start_time": "2022-08-12T22:31:57.140Z"
   },
   {
    "duration": 190,
    "start_time": "2022-08-12T22:31:58.495Z"
   },
   {
    "duration": 4,
    "start_time": "2022-08-12T22:31:58.686Z"
   },
   {
    "duration": 70,
    "start_time": "2022-08-12T22:31:58.692Z"
   },
   {
    "duration": 3,
    "start_time": "2022-08-12T22:31:58.764Z"
   },
   {
    "duration": 10,
    "start_time": "2022-08-12T22:31:58.768Z"
   },
   {
    "duration": 7,
    "start_time": "2022-08-12T22:31:58.780Z"
   },
   {
    "duration": 56,
    "start_time": "2022-08-12T22:31:58.788Z"
   },
   {
    "duration": 160,
    "start_time": "2022-08-12T22:31:58.845Z"
   },
   {
    "duration": 6,
    "start_time": "2022-08-12T22:31:59.006Z"
   },
   {
    "duration": 6,
    "start_time": "2022-08-12T22:31:59.013Z"
   },
   {
    "duration": 53,
    "start_time": "2022-08-12T22:31:59.021Z"
   },
   {
    "duration": 19,
    "start_time": "2022-08-12T22:31:59.078Z"
   },
   {
    "duration": 8,
    "start_time": "2022-08-12T22:31:59.098Z"
   },
   {
    "duration": 26,
    "start_time": "2022-08-12T22:31:59.107Z"
   },
   {
    "duration": 24,
    "start_time": "2022-08-12T22:31:59.135Z"
   },
   {
    "duration": 9,
    "start_time": "2022-08-12T22:31:59.161Z"
   },
   {
    "duration": 18,
    "start_time": "2022-08-12T22:31:59.172Z"
   },
   {
    "duration": 8,
    "start_time": "2022-08-12T22:31:59.192Z"
   },
   {
    "duration": 243,
    "start_time": "2022-08-12T22:31:59.201Z"
   },
   {
    "duration": 14,
    "start_time": "2022-08-12T22:31:59.446Z"
   },
   {
    "duration": 21,
    "start_time": "2022-08-12T22:31:59.462Z"
   },
   {
    "duration": 234,
    "start_time": "2022-08-12T22:31:59.485Z"
   },
   {
    "duration": 5,
    "start_time": "2022-08-12T22:31:59.721Z"
   },
   {
    "duration": 28,
    "start_time": "2022-08-12T22:31:59.727Z"
   },
   {
    "duration": 9,
    "start_time": "2022-08-12T22:31:59.757Z"
   },
   {
    "duration": 4,
    "start_time": "2022-08-12T22:31:59.768Z"
   },
   {
    "duration": 11,
    "start_time": "2022-08-12T22:31:59.774Z"
   },
   {
    "duration": 6,
    "start_time": "2022-08-12T22:31:59.786Z"
   },
   {
    "duration": 10,
    "start_time": "2022-08-12T22:31:59.793Z"
   },
   {
    "duration": 4597,
    "start_time": "2022-08-12T22:31:59.804Z"
   },
   {
    "duration": 6,
    "start_time": "2022-08-12T22:32:04.403Z"
   },
   {
    "duration": 5,
    "start_time": "2022-08-12T22:32:04.410Z"
   },
   {
    "duration": 10,
    "start_time": "2022-08-12T22:32:04.416Z"
   },
   {
    "duration": 5,
    "start_time": "2022-08-12T22:32:04.428Z"
   },
   {
    "duration": 29,
    "start_time": "2022-08-12T22:32:04.435Z"
   },
   {
    "duration": 2431,
    "start_time": "2022-08-12T22:32:04.465Z"
   },
   {
    "duration": 5,
    "start_time": "2022-08-12T22:32:06.898Z"
   },
   {
    "duration": 5,
    "start_time": "2022-08-12T22:32:06.904Z"
   },
   {
    "duration": 4,
    "start_time": "2022-08-12T22:32:06.914Z"
   },
   {
    "duration": 4,
    "start_time": "2022-08-12T22:32:06.920Z"
   },
   {
    "duration": 9,
    "start_time": "2022-08-12T22:32:06.925Z"
   },
   {
    "duration": 38,
    "start_time": "2022-08-12T22:32:06.935Z"
   },
   {
    "duration": 18,
    "start_time": "2022-08-12T22:32:06.974Z"
   },
   {
    "duration": 7,
    "start_time": "2022-08-12T22:32:06.994Z"
   },
   {
    "duration": 544,
    "start_time": "2022-08-12T22:32:07.003Z"
   },
   {
    "duration": 24,
    "start_time": "2022-08-12T22:32:07.549Z"
   },
   {
    "duration": 7,
    "start_time": "2022-08-12T22:32:07.575Z"
   },
   {
    "duration": 134,
    "start_time": "2022-08-12T22:32:07.583Z"
   },
   {
    "duration": 5,
    "start_time": "2022-08-12T22:32:07.719Z"
   },
   {
    "duration": 613,
    "start_time": "2022-08-12T22:32:07.725Z"
   },
   {
    "duration": 7,
    "start_time": "2022-08-12T22:32:08.340Z"
   },
   {
    "duration": 20,
    "start_time": "2022-08-12T22:32:08.349Z"
   },
   {
    "duration": 7,
    "start_time": "2022-08-12T22:32:08.371Z"
   },
   {
    "duration": 18,
    "start_time": "2022-08-12T22:32:08.379Z"
   },
   {
    "duration": 7,
    "start_time": "2022-08-12T22:32:08.398Z"
   },
   {
    "duration": 13,
    "start_time": "2022-08-12T22:32:08.406Z"
   },
   {
    "duration": 51,
    "start_time": "2022-08-12T22:32:08.420Z"
   },
   {
    "duration": 13,
    "start_time": "2022-08-12T22:32:08.473Z"
   },
   {
    "duration": 6,
    "start_time": "2022-08-12T22:32:08.487Z"
   },
   {
    "duration": 11,
    "start_time": "2022-08-12T22:32:08.494Z"
   },
   {
    "duration": 6,
    "start_time": "2022-08-12T22:32:08.506Z"
   },
   {
    "duration": 12,
    "start_time": "2022-08-12T22:32:08.514Z"
   },
   {
    "duration": 7,
    "start_time": "2022-08-12T22:32:08.528Z"
   },
   {
    "duration": 23,
    "start_time": "2022-08-12T22:32:08.537Z"
   },
   {
    "duration": 6,
    "start_time": "2022-08-12T22:32:08.562Z"
   },
   {
    "duration": 9,
    "start_time": "2022-08-12T22:32:08.570Z"
   },
   {
    "duration": 10,
    "start_time": "2022-08-12T22:32:08.581Z"
   },
   {
    "duration": 11,
    "start_time": "2022-08-12T22:32:08.592Z"
   },
   {
    "duration": 4,
    "start_time": "2022-08-12T22:32:08.604Z"
   },
   {
    "duration": 15,
    "start_time": "2022-08-12T22:32:08.609Z"
   },
   {
    "duration": 41,
    "start_time": "2022-08-12T22:32:08.625Z"
   },
   {
    "duration": 9,
    "start_time": "2022-08-12T22:32:08.668Z"
   },
   {
    "duration": 6,
    "start_time": "2022-08-12T22:32:08.678Z"
   },
   {
    "duration": 853,
    "start_time": "2022-08-12T22:32:08.686Z"
   },
   {
    "duration": 4,
    "start_time": "2022-08-12T22:32:09.541Z"
   },
   {
    "duration": 17,
    "start_time": "2022-08-12T22:32:09.546Z"
   },
   {
    "duration": 10,
    "start_time": "2022-08-12T22:32:09.565Z"
   },
   {
    "duration": 7,
    "start_time": "2022-08-12T22:32:09.576Z"
   },
   {
    "duration": 8,
    "start_time": "2022-08-12T22:32:09.585Z"
   },
   {
    "duration": 3,
    "start_time": "2022-08-12T22:32:09.594Z"
   },
   {
    "duration": 5,
    "start_time": "2022-08-12T22:32:09.598Z"
   },
   {
    "duration": 6646,
    "start_time": "2022-08-12T22:32:09.604Z"
   },
   {
    "duration": 5,
    "start_time": "2022-08-12T22:32:16.252Z"
   },
   {
    "duration": 10,
    "start_time": "2022-08-12T22:32:16.259Z"
   },
   {
    "duration": 5,
    "start_time": "2022-08-12T22:32:16.270Z"
   },
   {
    "duration": 9,
    "start_time": "2022-08-12T22:32:16.277Z"
   },
   {
    "duration": 6,
    "start_time": "2022-08-12T22:32:16.287Z"
   },
   {
    "duration": 5,
    "start_time": "2022-08-12T22:32:16.294Z"
   },
   {
    "duration": 424070,
    "start_time": "2022-08-12T22:32:16.300Z"
   },
   {
    "duration": 3,
    "start_time": "2022-08-12T22:39:20.371Z"
   },
   {
    "duration": 86,
    "start_time": "2022-08-12T22:39:20.375Z"
   },
   {
    "duration": 11,
    "start_time": "2022-08-12T22:39:20.462Z"
   },
   {
    "duration": 14,
    "start_time": "2022-08-12T22:39:20.474Z"
   },
   {
    "duration": 12,
    "start_time": "2022-08-12T22:39:20.489Z"
   },
   {
    "duration": 4,
    "start_time": "2022-08-12T22:39:20.502Z"
   },
   {
    "duration": 683,
    "start_time": "2022-08-12T22:39:20.507Z"
   },
   {
    "duration": 19,
    "start_time": "2022-08-12T22:39:21.192Z"
   },
   {
    "duration": 3,
    "start_time": "2022-08-12T22:39:21.213Z"
   },
   {
    "duration": 5,
    "start_time": "2022-08-12T22:39:21.217Z"
   },
   {
    "duration": 1837,
    "start_time": "2022-08-12T22:39:21.224Z"
   },
   {
    "duration": 8,
    "start_time": "2022-08-12T22:39:23.062Z"
   },
   {
    "duration": 6,
    "start_time": "2022-08-12T22:39:23.071Z"
   },
   {
    "duration": 15,
    "start_time": "2022-08-12T22:39:23.078Z"
   },
   {
    "duration": 357,
    "start_time": "2022-08-12T22:39:23.095Z"
   },
   {
    "duration": 13,
    "start_time": "2022-08-12T22:39:23.453Z"
   },
   {
    "duration": 3,
    "start_time": "2022-08-12T22:39:23.467Z"
   },
   {
    "duration": 275,
    "start_time": "2022-08-12T22:39:23.472Z"
   },
   {
    "duration": 8,
    "start_time": "2022-08-12T22:39:23.749Z"
   },
   {
    "duration": 9,
    "start_time": "2022-08-12T22:48:24.556Z"
   },
   {
    "duration": 1369,
    "start_time": "2022-08-12T22:48:24.567Z"
   },
   {
    "duration": 188,
    "start_time": "2022-08-12T22:48:25.938Z"
   },
   {
    "duration": 3,
    "start_time": "2022-08-12T22:48:26.127Z"
   },
   {
    "duration": 67,
    "start_time": "2022-08-12T22:48:26.132Z"
   },
   {
    "duration": 3,
    "start_time": "2022-08-12T22:48:26.200Z"
   },
   {
    "duration": 10,
    "start_time": "2022-08-12T22:48:26.204Z"
   },
   {
    "duration": 7,
    "start_time": "2022-08-12T22:48:26.215Z"
   },
   {
    "duration": 67,
    "start_time": "2022-08-12T22:48:26.223Z"
   },
   {
    "duration": 181,
    "start_time": "2022-08-12T22:48:26.292Z"
   },
   {
    "duration": 4,
    "start_time": "2022-08-12T22:48:26.477Z"
   },
   {
    "duration": 3,
    "start_time": "2022-08-12T22:48:26.483Z"
   },
   {
    "duration": 20,
    "start_time": "2022-08-12T22:48:26.487Z"
   },
   {
    "duration": 16,
    "start_time": "2022-08-12T22:48:26.509Z"
   },
   {
    "duration": 30,
    "start_time": "2022-08-12T22:48:26.527Z"
   },
   {
    "duration": 8,
    "start_time": "2022-08-12T22:48:26.559Z"
   },
   {
    "duration": 5,
    "start_time": "2022-08-12T22:48:26.569Z"
   },
   {
    "duration": 17,
    "start_time": "2022-08-12T22:48:26.575Z"
   },
   {
    "duration": 12,
    "start_time": "2022-08-12T22:48:26.594Z"
   },
   {
    "duration": 9,
    "start_time": "2022-08-12T22:48:26.607Z"
   },
   {
    "duration": 258,
    "start_time": "2022-08-12T22:48:26.617Z"
   },
   {
    "duration": 9,
    "start_time": "2022-08-12T22:48:26.877Z"
   },
   {
    "duration": 7,
    "start_time": "2022-08-12T22:48:26.887Z"
   },
   {
    "duration": 219,
    "start_time": "2022-08-12T22:48:26.895Z"
   },
   {
    "duration": 4,
    "start_time": "2022-08-12T22:48:27.115Z"
   },
   {
    "duration": 7,
    "start_time": "2022-08-12T22:48:27.121Z"
   },
   {
    "duration": 11,
    "start_time": "2022-08-12T22:48:27.129Z"
   },
   {
    "duration": 17,
    "start_time": "2022-08-12T22:48:27.141Z"
   },
   {
    "duration": 10,
    "start_time": "2022-08-12T22:48:27.161Z"
   },
   {
    "duration": 6,
    "start_time": "2022-08-12T22:48:27.172Z"
   },
   {
    "duration": 11,
    "start_time": "2022-08-12T22:48:27.179Z"
   },
   {
    "duration": 4568,
    "start_time": "2022-08-12T22:48:27.191Z"
   },
   {
    "duration": 6,
    "start_time": "2022-08-12T22:48:31.761Z"
   },
   {
    "duration": 4,
    "start_time": "2022-08-12T22:48:31.769Z"
   },
   {
    "duration": 9,
    "start_time": "2022-08-12T22:48:31.774Z"
   },
   {
    "duration": 6,
    "start_time": "2022-08-12T22:48:31.785Z"
   },
   {
    "duration": 14,
    "start_time": "2022-08-12T22:48:31.792Z"
   },
   {
    "duration": 2459,
    "start_time": "2022-08-12T22:48:31.808Z"
   },
   {
    "duration": 6,
    "start_time": "2022-08-12T22:48:34.269Z"
   },
   {
    "duration": 5,
    "start_time": "2022-08-12T22:48:34.276Z"
   },
   {
    "duration": 9,
    "start_time": "2022-08-12T22:48:34.282Z"
   },
   {
    "duration": 12,
    "start_time": "2022-08-12T22:48:34.292Z"
   },
   {
    "duration": 17,
    "start_time": "2022-08-12T22:48:34.305Z"
   },
   {
    "duration": 23,
    "start_time": "2022-08-12T22:48:34.323Z"
   },
   {
    "duration": 23,
    "start_time": "2022-08-12T22:48:34.348Z"
   },
   {
    "duration": 7,
    "start_time": "2022-08-12T22:48:34.372Z"
   },
   {
    "duration": 583,
    "start_time": "2022-08-12T22:48:34.381Z"
   },
   {
    "duration": 22,
    "start_time": "2022-08-12T22:48:34.966Z"
   },
   {
    "duration": 8,
    "start_time": "2022-08-12T22:48:34.989Z"
   },
   {
    "duration": 137,
    "start_time": "2022-08-12T22:48:34.999Z"
   },
   {
    "duration": 6,
    "start_time": "2022-08-12T22:48:35.137Z"
   },
   {
    "duration": 629,
    "start_time": "2022-08-12T22:48:35.144Z"
   },
   {
    "duration": 7,
    "start_time": "2022-08-12T22:48:35.774Z"
   },
   {
    "duration": 16,
    "start_time": "2022-08-12T22:48:35.782Z"
   },
   {
    "duration": 8,
    "start_time": "2022-08-12T22:48:35.799Z"
   },
   {
    "duration": 16,
    "start_time": "2022-08-12T22:48:35.809Z"
   },
   {
    "duration": 35,
    "start_time": "2022-08-12T22:48:35.827Z"
   },
   {
    "duration": 12,
    "start_time": "2022-08-12T22:48:35.864Z"
   },
   {
    "duration": 27,
    "start_time": "2022-08-12T22:48:35.878Z"
   },
   {
    "duration": 14,
    "start_time": "2022-08-12T22:48:35.907Z"
   },
   {
    "duration": 6,
    "start_time": "2022-08-12T22:48:35.923Z"
   },
   {
    "duration": 31,
    "start_time": "2022-08-12T22:48:35.930Z"
   },
   {
    "duration": 7,
    "start_time": "2022-08-12T22:48:35.963Z"
   },
   {
    "duration": 12,
    "start_time": "2022-08-12T22:48:35.971Z"
   },
   {
    "duration": 7,
    "start_time": "2022-08-12T22:48:35.985Z"
   },
   {
    "duration": 7,
    "start_time": "2022-08-12T22:48:35.994Z"
   },
   {
    "duration": 7,
    "start_time": "2022-08-12T22:48:36.003Z"
   },
   {
    "duration": 10,
    "start_time": "2022-08-12T22:48:36.011Z"
   },
   {
    "duration": 40,
    "start_time": "2022-08-12T22:48:36.022Z"
   },
   {
    "duration": 11,
    "start_time": "2022-08-12T22:48:36.064Z"
   },
   {
    "duration": 4,
    "start_time": "2022-08-12T22:48:36.077Z"
   },
   {
    "duration": 12,
    "start_time": "2022-08-12T22:48:36.083Z"
   },
   {
    "duration": 11,
    "start_time": "2022-08-12T22:48:36.096Z"
   },
   {
    "duration": 5,
    "start_time": "2022-08-12T22:48:36.109Z"
   },
   {
    "duration": 6,
    "start_time": "2022-08-12T22:48:36.115Z"
   },
   {
    "duration": 934,
    "start_time": "2022-08-12T22:48:36.156Z"
   },
   {
    "duration": 4,
    "start_time": "2022-08-12T22:48:37.092Z"
   },
   {
    "duration": 13,
    "start_time": "2022-08-12T22:48:37.098Z"
   },
   {
    "duration": 9,
    "start_time": "2022-08-12T22:48:37.113Z"
   },
   {
    "duration": 7,
    "start_time": "2022-08-12T22:48:37.124Z"
   },
   {
    "duration": 16,
    "start_time": "2022-08-12T22:48:37.132Z"
   },
   {
    "duration": 3,
    "start_time": "2022-08-12T22:48:37.157Z"
   },
   {
    "duration": 3,
    "start_time": "2022-08-12T22:48:37.166Z"
   },
   {
    "duration": 7211,
    "start_time": "2022-08-12T22:48:37.170Z"
   },
   {
    "duration": 2,
    "start_time": "2022-08-12T22:48:44.383Z"
   },
   {
    "duration": 10,
    "start_time": "2022-08-12T22:48:44.387Z"
   },
   {
    "duration": 6,
    "start_time": "2022-08-12T22:48:44.399Z"
   },
   {
    "duration": 10,
    "start_time": "2022-08-12T22:48:44.406Z"
   },
   {
    "duration": 3,
    "start_time": "2022-08-12T22:48:44.418Z"
   },
   {
    "duration": 4,
    "start_time": "2022-08-12T22:48:44.423Z"
   },
   {
    "duration": 3587632,
    "start_time": "2022-08-12T22:48:44.428Z"
   },
   {
    "duration": 2,
    "start_time": "2022-08-12T23:48:32.062Z"
   },
   {
    "duration": 19,
    "start_time": "2022-08-12T23:48:32.065Z"
   },
   {
    "duration": 19,
    "start_time": "2022-08-12T23:48:32.085Z"
   },
   {
    "duration": 20,
    "start_time": "2022-08-12T23:48:32.105Z"
   },
   {
    "duration": 8,
    "start_time": "2022-08-12T23:48:32.127Z"
   },
   {
    "duration": 15,
    "start_time": "2022-08-12T23:48:32.137Z"
   },
   {
    "duration": 675,
    "start_time": "2022-08-12T23:48:32.153Z"
   },
   {
    "duration": 21,
    "start_time": "2022-08-12T23:48:32.829Z"
   },
   {
    "duration": 4,
    "start_time": "2022-08-12T23:48:32.856Z"
   },
   {
    "duration": 7,
    "start_time": "2022-08-12T23:48:32.861Z"
   },
   {
    "duration": 2702,
    "start_time": "2022-08-12T23:48:32.870Z"
   },
   {
    "duration": 96,
    "start_time": "2022-08-12T23:48:35.573Z"
   },
   {
    "duration": 4,
    "start_time": "2022-08-12T23:48:35.672Z"
   },
   {
    "duration": 89,
    "start_time": "2022-08-12T23:48:35.678Z"
   },
   {
    "duration": 317,
    "start_time": "2022-08-12T23:48:35.769Z"
   },
   {
    "duration": 14,
    "start_time": "2022-08-12T23:48:36.088Z"
   },
   {
    "duration": 4,
    "start_time": "2022-08-12T23:48:36.104Z"
   },
   {
    "duration": 311,
    "start_time": "2022-08-12T23:48:36.109Z"
   },
   {
    "duration": 6,
    "start_time": "2022-08-12T23:48:36.435Z"
   },
   {
    "duration": 4,
    "start_time": "2022-08-12T23:54:55.385Z"
   },
   {
    "duration": 3,
    "start_time": "2022-08-12T23:55:31.201Z"
   },
   {
    "duration": 9,
    "start_time": "2022-08-12T23:55:36.313Z"
   },
   {
    "duration": 31,
    "start_time": "2022-08-13T16:11:43.026Z"
   },
   {
    "duration": 2884,
    "start_time": "2022-08-13T16:11:43.061Z"
   },
   {
    "duration": 322,
    "start_time": "2022-08-13T16:11:45.948Z"
   },
   {
    "duration": 48,
    "start_time": "2022-08-13T16:11:46.272Z"
   },
   {
    "duration": 207,
    "start_time": "2022-08-13T16:11:46.323Z"
   },
   {
    "duration": 8,
    "start_time": "2022-08-13T16:11:46.532Z"
   },
   {
    "duration": 13,
    "start_time": "2022-08-13T16:11:46.542Z"
   },
   {
    "duration": 6,
    "start_time": "2022-08-13T16:11:46.556Z"
   },
   {
    "duration": 137,
    "start_time": "2022-08-13T16:11:46.614Z"
   },
   {
    "duration": 573,
    "start_time": "2022-08-13T16:11:46.753Z"
   },
   {
    "duration": 20,
    "start_time": "2022-08-13T16:11:47.328Z"
   },
   {
    "duration": 5,
    "start_time": "2022-08-13T16:11:47.351Z"
   },
   {
    "duration": 104,
    "start_time": "2022-08-13T16:11:47.358Z"
   },
   {
    "duration": 88,
    "start_time": "2022-08-13T16:11:47.464Z"
   },
   {
    "duration": 6,
    "start_time": "2022-08-13T16:11:47.554Z"
   },
   {
    "duration": 71,
    "start_time": "2022-08-13T16:11:47.562Z"
   },
   {
    "duration": 7,
    "start_time": "2022-08-13T16:11:47.646Z"
   },
   {
    "duration": 63,
    "start_time": "2022-08-13T16:11:47.654Z"
   },
   {
    "duration": 17,
    "start_time": "2022-08-13T16:11:47.733Z"
   },
   {
    "duration": 8,
    "start_time": "2022-08-13T16:11:47.751Z"
   },
   {
    "duration": 577,
    "start_time": "2022-08-13T16:11:47.760Z"
   },
   {
    "duration": 14,
    "start_time": "2022-08-13T16:11:48.342Z"
   },
   {
    "duration": 60,
    "start_time": "2022-08-13T16:11:48.357Z"
   },
   {
    "duration": 530,
    "start_time": "2022-08-13T16:11:48.419Z"
   },
   {
    "duration": 5,
    "start_time": "2022-08-13T16:11:48.951Z"
   },
   {
    "duration": 84,
    "start_time": "2022-08-13T16:11:48.958Z"
   },
   {
    "duration": 27,
    "start_time": "2022-08-13T16:11:49.044Z"
   },
   {
    "duration": 40,
    "start_time": "2022-08-13T16:11:49.073Z"
   },
   {
    "duration": 27,
    "start_time": "2022-08-13T16:11:49.118Z"
   },
   {
    "duration": 15,
    "start_time": "2022-08-13T16:11:49.147Z"
   },
   {
    "duration": 25,
    "start_time": "2022-08-13T16:11:49.210Z"
   },
   {
    "duration": 11032,
    "start_time": "2022-08-13T16:11:49.243Z"
   },
   {
    "duration": 53,
    "start_time": "2022-08-13T16:12:00.276Z"
   },
   {
    "duration": 33,
    "start_time": "2022-08-13T16:12:00.330Z"
   },
   {
    "duration": 65,
    "start_time": "2022-08-13T16:12:00.364Z"
   },
   {
    "duration": 26,
    "start_time": "2022-08-13T16:12:00.431Z"
   },
   {
    "duration": 63,
    "start_time": "2022-08-13T16:12:00.458Z"
   },
   {
    "duration": 5988,
    "start_time": "2022-08-13T16:12:00.523Z"
   },
   {
    "duration": 11,
    "start_time": "2022-08-13T16:12:06.514Z"
   },
   {
    "duration": 6,
    "start_time": "2022-08-13T16:12:06.527Z"
   },
   {
    "duration": 20,
    "start_time": "2022-08-13T16:12:06.536Z"
   },
   {
    "duration": 4,
    "start_time": "2022-08-13T16:12:06.557Z"
   },
   {
    "duration": 9,
    "start_time": "2022-08-13T16:12:06.616Z"
   },
   {
    "duration": 40,
    "start_time": "2022-08-13T16:12:06.627Z"
   },
   {
    "duration": 88,
    "start_time": "2022-08-13T16:12:06.669Z"
   },
   {
    "duration": 7,
    "start_time": "2022-08-13T16:12:06.759Z"
   },
   {
    "duration": 910,
    "start_time": "2022-08-13T16:12:06.818Z"
   },
   {
    "duration": 22,
    "start_time": "2022-08-13T16:12:07.734Z"
   },
   {
    "duration": 71,
    "start_time": "2022-08-13T16:12:07.758Z"
   },
   {
    "duration": 220,
    "start_time": "2022-08-13T16:12:07.831Z"
   },
   {
    "duration": 74,
    "start_time": "2022-08-13T16:12:08.052Z"
   },
   {
    "duration": 987,
    "start_time": "2022-08-13T16:12:08.129Z"
   },
   {
    "duration": 15,
    "start_time": "2022-08-13T16:12:09.121Z"
   },
   {
    "duration": 21,
    "start_time": "2022-08-13T16:12:09.144Z"
   },
   {
    "duration": 36,
    "start_time": "2022-08-13T16:12:09.214Z"
   },
   {
    "duration": 74,
    "start_time": "2022-08-13T16:12:09.251Z"
   },
   {
    "duration": 12,
    "start_time": "2022-08-13T16:12:09.333Z"
   },
   {
    "duration": 16,
    "start_time": "2022-08-13T16:12:09.348Z"
   },
   {
    "duration": 148,
    "start_time": "2022-08-13T16:12:09.365Z"
   },
   {
    "duration": 19,
    "start_time": "2022-08-13T16:12:09.515Z"
   },
   {
    "duration": 25,
    "start_time": "2022-08-13T16:12:09.536Z"
   },
   {
    "duration": 27,
    "start_time": "2022-08-13T16:12:09.618Z"
   },
   {
    "duration": 8,
    "start_time": "2022-08-13T16:12:09.647Z"
   },
   {
    "duration": 69,
    "start_time": "2022-08-13T16:12:09.656Z"
   },
   {
    "duration": 30,
    "start_time": "2022-08-13T16:12:09.727Z"
   },
   {
    "duration": 10,
    "start_time": "2022-08-13T16:12:09.759Z"
   },
   {
    "duration": 14,
    "start_time": "2022-08-13T16:12:09.821Z"
   },
   {
    "duration": 25,
    "start_time": "2022-08-13T16:12:09.837Z"
   },
   {
    "duration": 84,
    "start_time": "2022-08-13T16:12:09.864Z"
   },
   {
    "duration": 16,
    "start_time": "2022-08-13T16:12:09.950Z"
   },
   {
    "duration": 11,
    "start_time": "2022-08-13T16:12:10.014Z"
   },
   {
    "duration": 36,
    "start_time": "2022-08-13T16:12:10.029Z"
   },
   {
    "duration": 81,
    "start_time": "2022-08-13T16:12:10.067Z"
   },
   {
    "duration": 10,
    "start_time": "2022-08-13T16:12:10.150Z"
   },
   {
    "duration": 7,
    "start_time": "2022-08-13T16:12:10.162Z"
   },
   {
    "duration": 1922,
    "start_time": "2022-08-13T16:12:10.219Z"
   },
   {
    "duration": 5,
    "start_time": "2022-08-13T16:12:12.146Z"
   },
   {
    "duration": 83,
    "start_time": "2022-08-13T16:12:12.152Z"
   },
   {
    "duration": 22,
    "start_time": "2022-08-13T16:14:18.032Z"
   },
   {
    "duration": 2888,
    "start_time": "2022-08-13T16:14:18.056Z"
   },
   {
    "duration": 330,
    "start_time": "2022-08-13T16:14:20.946Z"
   },
   {
    "duration": 43,
    "start_time": "2022-08-13T16:14:21.278Z"
   },
   {
    "duration": 215,
    "start_time": "2022-08-13T16:14:21.326Z"
   },
   {
    "duration": 4,
    "start_time": "2022-08-13T16:14:21.546Z"
   },
   {
    "duration": 73,
    "start_time": "2022-08-13T16:14:21.552Z"
   },
   {
    "duration": 22,
    "start_time": "2022-08-13T16:14:21.627Z"
   },
   {
    "duration": 167,
    "start_time": "2022-08-13T16:14:21.651Z"
   },
   {
    "duration": 405,
    "start_time": "2022-08-13T16:14:21.820Z"
   },
   {
    "duration": 9,
    "start_time": "2022-08-13T16:14:22.228Z"
   },
   {
    "duration": 15,
    "start_time": "2022-08-13T16:14:22.239Z"
   },
   {
    "duration": 86,
    "start_time": "2022-08-13T16:14:22.255Z"
   },
   {
    "duration": 20,
    "start_time": "2022-08-13T16:14:22.345Z"
   },
   {
    "duration": 65,
    "start_time": "2022-08-13T16:14:22.367Z"
   },
   {
    "duration": 36,
    "start_time": "2022-08-13T16:14:22.433Z"
   },
   {
    "duration": 41,
    "start_time": "2022-08-13T16:14:22.471Z"
   },
   {
    "duration": 56,
    "start_time": "2022-08-13T16:14:22.513Z"
   },
   {
    "duration": 86,
    "start_time": "2022-08-13T16:14:22.571Z"
   },
   {
    "duration": 79,
    "start_time": "2022-08-13T16:14:22.659Z"
   },
   {
    "duration": 582,
    "start_time": "2022-08-13T16:14:22.739Z"
   },
   {
    "duration": 10,
    "start_time": "2022-08-13T16:14:23.323Z"
   },
   {
    "duration": 30,
    "start_time": "2022-08-13T16:14:23.334Z"
   },
   {
    "duration": 559,
    "start_time": "2022-08-13T16:14:23.366Z"
   },
   {
    "duration": 14,
    "start_time": "2022-08-13T16:14:23.927Z"
   },
   {
    "duration": 11,
    "start_time": "2022-08-13T16:14:23.943Z"
   },
   {
    "duration": 11,
    "start_time": "2022-08-13T16:14:23.956Z"
   },
   {
    "duration": 37,
    "start_time": "2022-08-13T16:14:24.012Z"
   },
   {
    "duration": 12,
    "start_time": "2022-08-13T16:14:24.055Z"
   },
   {
    "duration": 81,
    "start_time": "2022-08-13T16:14:24.069Z"
   },
   {
    "duration": 16,
    "start_time": "2022-08-13T16:14:24.152Z"
   },
   {
    "duration": 10989,
    "start_time": "2022-08-13T16:14:24.170Z"
   },
   {
    "duration": 52,
    "start_time": "2022-08-13T16:14:35.161Z"
   },
   {
    "duration": 4,
    "start_time": "2022-08-13T16:14:35.224Z"
   },
   {
    "duration": 21,
    "start_time": "2022-08-13T16:14:35.233Z"
   },
   {
    "duration": 7,
    "start_time": "2022-08-13T16:14:35.256Z"
   },
   {
    "duration": 60,
    "start_time": "2022-08-13T16:14:35.265Z"
   },
   {
    "duration": 5611,
    "start_time": "2022-08-13T16:14:35.327Z"
   },
   {
    "duration": 6,
    "start_time": "2022-08-13T16:14:40.947Z"
   },
   {
    "duration": 71,
    "start_time": "2022-08-13T16:14:40.955Z"
   },
   {
    "duration": 22,
    "start_time": "2022-08-13T16:14:41.027Z"
   },
   {
    "duration": 5,
    "start_time": "2022-08-13T16:14:41.051Z"
   },
   {
    "duration": 9,
    "start_time": "2022-08-13T16:14:41.057Z"
   },
   {
    "duration": 85,
    "start_time": "2022-08-13T16:14:41.067Z"
   },
   {
    "duration": 87,
    "start_time": "2022-08-13T16:14:41.154Z"
   },
   {
    "duration": 8,
    "start_time": "2022-08-13T16:14:41.247Z"
   },
   {
    "duration": 1081,
    "start_time": "2022-08-13T16:14:41.256Z"
   },
   {
    "duration": 98,
    "start_time": "2022-08-13T16:14:42.342Z"
   },
   {
    "duration": 12,
    "start_time": "2022-08-13T16:14:42.446Z"
   },
   {
    "duration": 296,
    "start_time": "2022-08-13T16:14:42.460Z"
   },
   {
    "duration": 7,
    "start_time": "2022-08-13T16:14:42.758Z"
   },
   {
    "duration": 1113,
    "start_time": "2022-08-13T16:14:42.828Z"
   },
   {
    "duration": 8,
    "start_time": "2022-08-13T16:14:43.943Z"
   },
   {
    "duration": 84,
    "start_time": "2022-08-13T16:14:43.953Z"
   },
   {
    "duration": 15,
    "start_time": "2022-08-13T16:14:44.038Z"
   },
   {
    "duration": 79,
    "start_time": "2022-08-13T16:14:44.054Z"
   },
   {
    "duration": 9,
    "start_time": "2022-08-13T16:14:44.135Z"
   },
   {
    "duration": 15,
    "start_time": "2022-08-13T16:14:44.145Z"
   },
   {
    "duration": 96,
    "start_time": "2022-08-13T16:14:44.161Z"
   },
   {
    "duration": 81,
    "start_time": "2022-08-13T16:14:44.259Z"
   },
   {
    "duration": 7,
    "start_time": "2022-08-13T16:14:44.343Z"
   },
   {
    "duration": 5,
    "start_time": "2022-08-13T16:14:44.352Z"
   },
   {
    "duration": 72,
    "start_time": "2022-08-13T16:14:44.358Z"
   },
   {
    "duration": 23,
    "start_time": "2022-08-13T16:14:44.436Z"
   },
   {
    "duration": 10,
    "start_time": "2022-08-13T16:14:44.460Z"
   },
   {
    "duration": 24,
    "start_time": "2022-08-13T16:14:44.518Z"
   },
   {
    "duration": 7,
    "start_time": "2022-08-13T16:14:44.544Z"
   },
   {
    "duration": 69,
    "start_time": "2022-08-13T16:14:44.552Z"
   },
   {
    "duration": 20,
    "start_time": "2022-08-13T16:14:44.623Z"
   },
   {
    "duration": 73,
    "start_time": "2022-08-13T16:14:44.644Z"
   },
   {
    "duration": 13,
    "start_time": "2022-08-13T16:14:44.719Z"
   },
   {
    "duration": 21,
    "start_time": "2022-08-13T16:14:44.738Z"
   },
   {
    "duration": 65,
    "start_time": "2022-08-13T16:14:44.760Z"
   },
   {
    "duration": 27,
    "start_time": "2022-08-13T16:14:44.827Z"
   },
   {
    "duration": 7,
    "start_time": "2022-08-13T16:14:44.856Z"
   },
   {
    "duration": 1859,
    "start_time": "2022-08-13T16:14:44.864Z"
   },
   {
    "duration": 6,
    "start_time": "2022-08-13T16:14:46.732Z"
   },
   {
    "duration": 21,
    "start_time": "2022-08-13T16:14:46.744Z"
   },
   {
    "duration": 38,
    "start_time": "2022-08-13T16:14:46.813Z"
   },
   {
    "duration": 9,
    "start_time": "2022-08-13T16:14:46.852Z"
   },
   {
    "duration": 10,
    "start_time": "2022-08-13T16:14:46.862Z"
   },
   {
    "duration": 21,
    "start_time": "2022-08-13T16:14:46.916Z"
   },
   {
    "duration": 3,
    "start_time": "2022-08-13T16:14:46.946Z"
   },
   {
    "duration": 17896,
    "start_time": "2022-08-13T16:14:46.951Z"
   },
   {
    "duration": 2,
    "start_time": "2022-08-13T16:15:04.850Z"
   },
   {
    "duration": 71,
    "start_time": "2022-08-13T16:15:04.855Z"
   },
   {
    "duration": 5,
    "start_time": "2022-08-13T16:16:57.467Z"
   },
   {
    "duration": 24,
    "start_time": "2022-08-13T16:16:58.705Z"
   },
   {
    "duration": 91,
    "start_time": "2022-08-13T16:19:37.823Z"
   },
   {
    "duration": 9,
    "start_time": "2022-08-13T16:19:40.131Z"
   },
   {
    "duration": 177,
    "start_time": "2022-08-13T16:19:41.433Z"
   },
   {
    "duration": 12,
    "start_time": "2022-08-13T16:20:48.221Z"
   },
   {
    "duration": 4,
    "start_time": "2022-08-13T16:20:48.713Z"
   },
   {
    "duration": 14,
    "start_time": "2022-08-13T16:20:53.713Z"
   },
   {
    "duration": 5,
    "start_time": "2022-08-13T16:20:55.832Z"
   },
   {
    "duration": 27,
    "start_time": "2022-08-13T16:20:56.713Z"
   },
   {
    "duration": 79,
    "start_time": "2022-08-13T16:21:33.142Z"
   },
   {
    "duration": 91,
    "start_time": "2022-08-13T16:21:37.422Z"
   },
   {
    "duration": 29,
    "start_time": "2022-08-13T16:22:04.612Z"
   },
   {
    "duration": 99,
    "start_time": "2022-08-13T16:22:05.411Z"
   },
   {
    "duration": 8,
    "start_time": "2022-08-13T16:22:48.035Z"
   },
   {
    "duration": 8,
    "start_time": "2022-08-13T16:22:48.915Z"
   },
   {
    "duration": 6012,
    "start_time": "2022-08-13T16:22:49.236Z"
   },
   {
    "duration": 117,
    "start_time": "2022-08-13T16:22:55.323Z"
   },
   {
    "duration": 207,
    "start_time": "2022-08-13T16:22:55.514Z"
   },
   {
    "duration": 203,
    "start_time": "2022-08-13T16:22:55.723Z"
   },
   {
    "duration": 15,
    "start_time": "2022-08-13T16:27:34.576Z"
   },
   {
    "duration": 1449,
    "start_time": "2022-08-13T16:27:34.593Z"
   },
   {
    "duration": 239,
    "start_time": "2022-08-13T16:27:36.044Z"
   },
   {
    "duration": 4,
    "start_time": "2022-08-13T16:27:36.286Z"
   },
   {
    "duration": 83,
    "start_time": "2022-08-13T16:27:36.292Z"
   },
   {
    "duration": 3,
    "start_time": "2022-08-13T16:27:36.376Z"
   },
   {
    "duration": 29,
    "start_time": "2022-08-13T16:27:36.381Z"
   },
   {
    "duration": 4,
    "start_time": "2022-08-13T16:27:36.411Z"
   },
   {
    "duration": 62,
    "start_time": "2022-08-13T16:27:36.418Z"
   },
   {
    "duration": 166,
    "start_time": "2022-08-13T16:27:36.481Z"
   },
   {
    "duration": 6,
    "start_time": "2022-08-13T16:27:36.649Z"
   },
   {
    "duration": 3,
    "start_time": "2022-08-13T16:27:36.657Z"
   },
   {
    "duration": 53,
    "start_time": "2022-08-13T16:27:36.661Z"
   },
   {
    "duration": 22,
    "start_time": "2022-08-13T16:27:36.716Z"
   },
   {
    "duration": 8,
    "start_time": "2022-08-13T16:27:36.740Z"
   },
   {
    "duration": 16,
    "start_time": "2022-08-13T16:27:36.750Z"
   },
   {
    "duration": 8,
    "start_time": "2022-08-13T16:27:36.767Z"
   },
   {
    "duration": 46,
    "start_time": "2022-08-13T16:27:36.776Z"
   },
   {
    "duration": 13,
    "start_time": "2022-08-13T16:27:36.824Z"
   },
   {
    "duration": 8,
    "start_time": "2022-08-13T16:27:36.839Z"
   },
   {
    "duration": 273,
    "start_time": "2022-08-13T16:27:36.849Z"
   },
   {
    "duration": 10,
    "start_time": "2022-08-13T16:27:37.124Z"
   },
   {
    "duration": 6,
    "start_time": "2022-08-13T16:27:37.135Z"
   },
   {
    "duration": 234,
    "start_time": "2022-08-13T16:27:37.143Z"
   },
   {
    "duration": 4,
    "start_time": "2022-08-13T16:27:37.379Z"
   },
   {
    "duration": 6,
    "start_time": "2022-08-13T16:27:37.384Z"
   },
   {
    "duration": 35,
    "start_time": "2022-08-13T16:27:37.391Z"
   },
   {
    "duration": 5,
    "start_time": "2022-08-13T16:27:37.427Z"
   },
   {
    "duration": 14,
    "start_time": "2022-08-13T16:27:37.437Z"
   },
   {
    "duration": 5,
    "start_time": "2022-08-13T16:27:37.453Z"
   },
   {
    "duration": 15,
    "start_time": "2022-08-13T16:27:37.460Z"
   },
   {
    "duration": 4574,
    "start_time": "2022-08-13T16:27:37.477Z"
   },
   {
    "duration": 8,
    "start_time": "2022-08-13T16:27:42.053Z"
   },
   {
    "duration": 5,
    "start_time": "2022-08-13T16:27:42.063Z"
   },
   {
    "duration": 24,
    "start_time": "2022-08-13T16:27:42.071Z"
   },
   {
    "duration": 28,
    "start_time": "2022-08-13T16:27:42.097Z"
   },
   {
    "duration": 33,
    "start_time": "2022-08-13T16:27:42.127Z"
   },
   {
    "duration": 2404,
    "start_time": "2022-08-13T16:27:42.162Z"
   },
   {
    "duration": 5,
    "start_time": "2022-08-13T16:27:44.569Z"
   },
   {
    "duration": 5,
    "start_time": "2022-08-13T16:27:44.576Z"
   },
   {
    "duration": 7,
    "start_time": "2022-08-13T16:27:44.583Z"
   },
   {
    "duration": 45,
    "start_time": "2022-08-13T16:27:44.591Z"
   },
   {
    "duration": 11,
    "start_time": "2022-08-13T16:27:44.637Z"
   },
   {
    "duration": 23,
    "start_time": "2022-08-13T16:27:44.649Z"
   },
   {
    "duration": 18,
    "start_time": "2022-08-13T16:27:44.674Z"
   },
   {
    "duration": 8,
    "start_time": "2022-08-13T16:27:44.694Z"
   },
   {
    "duration": 648,
    "start_time": "2022-08-13T16:27:44.704Z"
   },
   {
    "duration": 29,
    "start_time": "2022-08-13T16:27:45.353Z"
   },
   {
    "duration": 50,
    "start_time": "2022-08-13T16:27:45.384Z"
   },
   {
    "duration": 112,
    "start_time": "2022-08-13T16:27:45.436Z"
   },
   {
    "duration": 7,
    "start_time": "2022-08-13T16:27:45.551Z"
   },
   {
    "duration": 730,
    "start_time": "2022-08-13T16:27:45.560Z"
   },
   {
    "duration": 7,
    "start_time": "2022-08-13T16:27:46.291Z"
   },
   {
    "duration": 29,
    "start_time": "2022-08-13T16:27:46.299Z"
   },
   {
    "duration": 9,
    "start_time": "2022-08-13T16:27:46.330Z"
   },
   {
    "duration": 17,
    "start_time": "2022-08-13T16:27:46.340Z"
   },
   {
    "duration": 7,
    "start_time": "2022-08-13T16:27:46.358Z"
   },
   {
    "duration": 16,
    "start_time": "2022-08-13T16:27:46.367Z"
   },
   {
    "duration": 39,
    "start_time": "2022-08-13T16:27:46.416Z"
   },
   {
    "duration": 15,
    "start_time": "2022-08-13T16:27:46.457Z"
   },
   {
    "duration": 5,
    "start_time": "2022-08-13T16:27:46.473Z"
   },
   {
    "duration": 8,
    "start_time": "2022-08-13T16:27:46.479Z"
   },
   {
    "duration": 28,
    "start_time": "2022-08-13T16:27:46.488Z"
   },
   {
    "duration": 10,
    "start_time": "2022-08-13T16:27:46.518Z"
   },
   {
    "duration": 9,
    "start_time": "2022-08-13T16:27:46.530Z"
   },
   {
    "duration": 7,
    "start_time": "2022-08-13T16:27:46.541Z"
   },
   {
    "duration": 7,
    "start_time": "2022-08-13T16:27:46.550Z"
   },
   {
    "duration": 13,
    "start_time": "2022-08-13T16:27:46.559Z"
   },
   {
    "duration": 14,
    "start_time": "2022-08-13T16:27:46.574Z"
   },
   {
    "duration": 41,
    "start_time": "2022-08-13T16:27:46.590Z"
   },
   {
    "duration": 11,
    "start_time": "2022-08-13T16:27:46.634Z"
   },
   {
    "duration": 19,
    "start_time": "2022-08-13T16:27:46.647Z"
   },
   {
    "duration": 12,
    "start_time": "2022-08-13T16:27:46.668Z"
   },
   {
    "duration": 11,
    "start_time": "2022-08-13T16:27:46.681Z"
   },
   {
    "duration": 19,
    "start_time": "2022-08-13T16:27:46.694Z"
   },
   {
    "duration": 892,
    "start_time": "2022-08-13T16:27:46.715Z"
   },
   {
    "duration": 9,
    "start_time": "2022-08-13T16:27:47.609Z"
   },
   {
    "duration": 37,
    "start_time": "2022-08-13T16:27:47.631Z"
   },
   {
    "duration": 33,
    "start_time": "2022-08-13T16:27:47.669Z"
   },
   {
    "duration": 7,
    "start_time": "2022-08-13T16:27:47.704Z"
   },
   {
    "duration": 24,
    "start_time": "2022-08-13T16:27:47.713Z"
   },
   {
    "duration": 14,
    "start_time": "2022-08-13T16:27:47.739Z"
   },
   {
    "duration": 23,
    "start_time": "2022-08-13T16:27:47.759Z"
   },
   {
    "duration": 8003,
    "start_time": "2022-08-13T16:27:47.783Z"
   },
   {
    "duration": 2,
    "start_time": "2022-08-13T16:27:55.788Z"
   },
   {
    "duration": 12,
    "start_time": "2022-08-13T16:27:55.792Z"
   },
   {
    "duration": 18,
    "start_time": "2022-08-13T16:27:55.811Z"
   },
   {
    "duration": 474808,
    "start_time": "2022-08-13T16:27:55.831Z"
   },
   {
    "duration": 4,
    "start_time": "2022-08-13T16:35:50.641Z"
   },
   {
    "duration": 13,
    "start_time": "2022-08-13T16:35:50.647Z"
   },
   {
    "duration": 10,
    "start_time": "2022-08-13T16:35:50.662Z"
   },
   {
    "duration": 4,
    "start_time": "2022-08-13T16:35:50.674Z"
   },
   {
    "duration": 6,
    "start_time": "2022-08-13T16:35:50.679Z"
   },
   {
    "duration": 657821,
    "start_time": "2022-08-13T16:35:50.686Z"
   },
   {
    "duration": 9,
    "start_time": "2022-08-13T16:46:48.508Z"
   },
   {
    "duration": 10,
    "start_time": "2022-08-13T16:46:48.523Z"
   },
   {
    "duration": 12,
    "start_time": "2022-08-13T16:46:48.535Z"
   },
   {
    "duration": 0,
    "start_time": "2022-08-13T16:46:48.549Z"
   },
   {
    "duration": 0,
    "start_time": "2022-08-13T16:46:48.550Z"
   },
   {
    "duration": 0,
    "start_time": "2022-08-13T16:46:48.550Z"
   },
   {
    "duration": 0,
    "start_time": "2022-08-13T16:46:48.551Z"
   },
   {
    "duration": 0,
    "start_time": "2022-08-13T16:46:48.552Z"
   },
   {
    "duration": 0,
    "start_time": "2022-08-13T16:46:48.553Z"
   },
   {
    "duration": 0,
    "start_time": "2022-08-13T16:46:48.554Z"
   },
   {
    "duration": 0,
    "start_time": "2022-08-13T16:46:48.555Z"
   },
   {
    "duration": 0,
    "start_time": "2022-08-13T16:46:48.555Z"
   },
   {
    "duration": 0,
    "start_time": "2022-08-13T16:46:48.556Z"
   },
   {
    "duration": 0,
    "start_time": "2022-08-13T16:46:48.557Z"
   },
   {
    "duration": 0,
    "start_time": "2022-08-13T16:46:48.557Z"
   },
   {
    "duration": 0,
    "start_time": "2022-08-13T16:46:48.558Z"
   },
   {
    "duration": 0,
    "start_time": "2022-08-13T16:46:48.559Z"
   },
   {
    "duration": 0,
    "start_time": "2022-08-13T16:46:48.560Z"
   },
   {
    "duration": 0,
    "start_time": "2022-08-13T16:46:48.561Z"
   },
   {
    "duration": 15,
    "start_time": "2022-10-24T11:25:55.945Z"
   },
   {
    "duration": 1852,
    "start_time": "2022-10-24T11:25:55.963Z"
   },
   {
    "duration": 581,
    "start_time": "2022-10-24T11:25:57.817Z"
   },
   {
    "duration": 4,
    "start_time": "2022-10-24T11:25:58.401Z"
   },
   {
    "duration": 50,
    "start_time": "2022-10-24T13:05:01.677Z"
   },
   {
    "duration": 16,
    "start_time": "2022-10-24T13:05:19.164Z"
   },
   {
    "duration": 2034,
    "start_time": "2022-10-24T13:05:19.182Z"
   },
   {
    "duration": 555,
    "start_time": "2022-10-24T13:05:21.218Z"
   },
   {
    "duration": 3,
    "start_time": "2022-10-24T13:05:21.775Z"
   },
   {
    "duration": 91,
    "start_time": "2022-10-24T13:05:21.780Z"
   },
   {
    "duration": 3,
    "start_time": "2022-10-24T13:05:21.873Z"
   },
   {
    "duration": 10,
    "start_time": "2022-10-24T13:05:21.878Z"
   },
   {
    "duration": 20,
    "start_time": "2022-10-24T13:05:21.890Z"
   },
   {
    "duration": 73,
    "start_time": "2022-10-24T13:05:21.911Z"
   },
   {
    "duration": 195,
    "start_time": "2022-10-24T13:05:21.986Z"
   },
   {
    "duration": 6,
    "start_time": "2022-10-24T13:05:22.183Z"
   },
   {
    "duration": 24,
    "start_time": "2022-10-25T04:30:25.052Z"
   },
   {
    "duration": 1926,
    "start_time": "2022-10-25T04:30:25.078Z"
   },
   {
    "duration": 568,
    "start_time": "2022-10-25T04:30:27.006Z"
   },
   {
    "duration": 6,
    "start_time": "2022-10-25T04:30:27.576Z"
   },
   {
    "duration": 199,
    "start_time": "2022-10-25T04:30:27.584Z"
   },
   {
    "duration": 5,
    "start_time": "2022-10-25T04:30:27.785Z"
   },
   {
    "duration": 14,
    "start_time": "2022-10-25T04:30:27.794Z"
   },
   {
    "duration": 87,
    "start_time": "2022-10-25T04:30:27.810Z"
   },
   {
    "duration": 163,
    "start_time": "2022-10-25T04:30:27.899Z"
   },
   {
    "duration": 413,
    "start_time": "2022-10-25T04:30:28.066Z"
   },
   {
    "duration": 10,
    "start_time": "2022-10-25T04:30:28.488Z"
   },
   {
    "duration": 62,
    "start_time": "2022-10-25T04:30:28.500Z"
   },
   {
    "duration": 54,
    "start_time": "2022-10-25T04:30:28.573Z"
   },
   {
    "duration": 42,
    "start_time": "2022-10-25T04:30:28.661Z"
   },
   {
    "duration": 68,
    "start_time": "2022-10-25T04:30:28.706Z"
   },
   {
    "duration": 43,
    "start_time": "2022-10-25T04:30:28.776Z"
   },
   {
    "duration": 41,
    "start_time": "2022-10-25T04:30:28.821Z"
   },
   {
    "duration": 27,
    "start_time": "2022-10-25T04:30:28.863Z"
   },
   {
    "duration": 67,
    "start_time": "2022-10-25T04:30:28.891Z"
   },
   {
    "duration": 47,
    "start_time": "2022-10-25T04:30:28.960Z"
   },
   {
    "duration": 611,
    "start_time": "2022-10-25T04:30:29.008Z"
   },
   {
    "duration": 40,
    "start_time": "2022-10-25T04:30:29.621Z"
   },
   {
    "duration": 35,
    "start_time": "2022-10-25T04:30:29.668Z"
   },
   {
    "duration": 305,
    "start_time": "2022-10-25T04:30:29.705Z"
   },
   {
    "duration": 7,
    "start_time": "2022-10-25T04:30:30.012Z"
   },
   {
    "duration": 23,
    "start_time": "2022-10-25T04:30:30.021Z"
   },
   {
    "duration": 66,
    "start_time": "2022-10-25T04:30:30.046Z"
   },
   {
    "duration": 20,
    "start_time": "2022-10-25T04:30:30.118Z"
   },
   {
    "duration": 26,
    "start_time": "2022-10-25T04:30:30.139Z"
   },
   {
    "duration": 53,
    "start_time": "2022-10-25T04:30:30.167Z"
   },
   {
    "duration": 43,
    "start_time": "2022-10-25T04:30:30.222Z"
   },
   {
    "duration": 5841,
    "start_time": "2022-10-25T04:30:30.267Z"
   },
   {
    "duration": 8,
    "start_time": "2022-10-25T04:30:36.110Z"
   },
   {
    "duration": 4,
    "start_time": "2022-10-25T04:30:36.119Z"
   },
   {
    "duration": 11,
    "start_time": "2022-10-25T04:30:36.124Z"
   },
   {
    "duration": 6,
    "start_time": "2022-10-25T04:30:36.136Z"
   },
   {
    "duration": 9,
    "start_time": "2022-10-25T04:30:36.143Z"
   },
   {
    "duration": 2906,
    "start_time": "2022-10-25T04:30:36.154Z"
   },
   {
    "duration": 9,
    "start_time": "2022-10-25T04:30:39.063Z"
   },
   {
    "duration": 49,
    "start_time": "2022-10-25T04:30:39.075Z"
   },
   {
    "duration": 16,
    "start_time": "2022-10-25T04:30:39.127Z"
   },
   {
    "duration": 10,
    "start_time": "2022-10-25T04:30:39.145Z"
   },
   {
    "duration": 50,
    "start_time": "2022-10-25T04:30:39.157Z"
   },
   {
    "duration": 31,
    "start_time": "2022-10-25T04:30:39.209Z"
   },
   {
    "duration": 40,
    "start_time": "2022-10-25T04:30:39.242Z"
   },
   {
    "duration": 35,
    "start_time": "2022-10-25T04:30:39.288Z"
   },
   {
    "duration": 600,
    "start_time": "2022-10-25T04:30:39.325Z"
   },
   {
    "duration": 59,
    "start_time": "2022-10-25T04:30:39.927Z"
   },
   {
    "duration": 16,
    "start_time": "2022-10-25T04:30:39.991Z"
   },
   {
    "duration": 152,
    "start_time": "2022-10-25T04:30:40.011Z"
   },
   {
    "duration": 12,
    "start_time": "2022-10-25T04:30:40.174Z"
   },
   {
    "duration": 791,
    "start_time": "2022-10-25T04:30:40.191Z"
   },
   {
    "duration": 13,
    "start_time": "2022-10-25T04:30:40.988Z"
   },
   {
    "duration": 26,
    "start_time": "2022-10-25T04:30:41.003Z"
   },
   {
    "duration": 13,
    "start_time": "2022-10-25T04:30:41.031Z"
   },
   {
    "duration": 33,
    "start_time": "2022-10-25T04:30:41.046Z"
   },
   {
    "duration": 40,
    "start_time": "2022-10-25T04:30:41.081Z"
   },
   {
    "duration": 18,
    "start_time": "2022-10-25T04:30:41.123Z"
   },
   {
    "duration": 50,
    "start_time": "2022-10-25T04:30:41.143Z"
   },
   {
    "duration": 23,
    "start_time": "2022-10-25T04:30:41.202Z"
   },
   {
    "duration": 11,
    "start_time": "2022-10-25T04:30:41.228Z"
   },
   {
    "duration": 17,
    "start_time": "2022-10-25T04:30:41.241Z"
   },
   {
    "duration": 42,
    "start_time": "2022-10-25T04:30:41.265Z"
   },
   {
    "duration": 15,
    "start_time": "2022-10-25T04:30:41.309Z"
   },
   {
    "duration": 9,
    "start_time": "2022-10-25T04:30:41.326Z"
   },
   {
    "duration": 18,
    "start_time": "2022-10-25T04:30:41.337Z"
   },
   {
    "duration": 48,
    "start_time": "2022-10-25T04:30:41.359Z"
   },
   {
    "duration": 16,
    "start_time": "2022-10-25T04:30:41.409Z"
   },
   {
    "duration": 81,
    "start_time": "2022-10-25T04:30:41.427Z"
   },
   {
    "duration": 30,
    "start_time": "2022-10-25T04:30:41.510Z"
   },
   {
    "duration": 7,
    "start_time": "2022-10-25T04:30:41.545Z"
   },
   {
    "duration": 82,
    "start_time": "2022-10-25T04:30:41.554Z"
   },
   {
    "duration": 33,
    "start_time": "2022-10-25T04:30:41.638Z"
   },
   {
    "duration": 25,
    "start_time": "2022-10-25T04:30:41.680Z"
   },
   {
    "duration": 18,
    "start_time": "2022-10-25T04:30:41.707Z"
   },
   {
    "duration": 1193,
    "start_time": "2022-10-25T04:30:41.727Z"
   },
   {
    "duration": 6,
    "start_time": "2022-10-25T04:30:42.922Z"
   },
   {
    "duration": 45,
    "start_time": "2022-10-25T04:30:42.929Z"
   },
   {
    "duration": 30,
    "start_time": "2022-10-25T04:30:42.976Z"
   },
   {
    "duration": 10,
    "start_time": "2022-10-25T04:30:43.008Z"
   },
   {
    "duration": 17,
    "start_time": "2022-10-25T04:30:43.019Z"
   },
   {
    "duration": 4,
    "start_time": "2022-10-25T04:30:43.043Z"
   },
   {
    "duration": 13,
    "start_time": "2022-10-25T04:30:43.049Z"
   },
   {
    "duration": 11226,
    "start_time": "2022-10-25T04:30:43.064Z"
   },
   {
    "duration": 7,
    "start_time": "2022-10-25T04:30:54.298Z"
   },
   {
    "duration": 19,
    "start_time": "2022-10-25T04:30:54.307Z"
   },
   {
    "duration": 21,
    "start_time": "2022-10-25T04:30:54.328Z"
   },
   {
    "duration": 53,
    "start_time": "2022-10-25T04:30:54.351Z"
   },
   {
    "duration": 19,
    "start_time": "2022-10-25T04:30:54.406Z"
   },
   {
    "duration": 18,
    "start_time": "2022-10-25T04:30:54.427Z"
   },
   {
    "duration": 52,
    "start_time": "2022-10-25T04:30:54.447Z"
   },
   {
    "duration": 24,
    "start_time": "2022-10-25T04:30:54.501Z"
   },
   {
    "duration": 18,
    "start_time": "2022-10-25T04:30:54.528Z"
   },
   {
    "duration": 19,
    "start_time": "2022-10-25T04:30:54.548Z"
   },
   {
    "duration": 50,
    "start_time": "2022-10-25T04:30:54.570Z"
   },
   {
    "duration": 14,
    "start_time": "2022-10-25T04:30:54.621Z"
   },
   {
    "duration": 51,
    "start_time": "2022-10-25T04:30:54.638Z"
   },
   {
    "duration": 999,
    "start_time": "2022-10-25T04:30:54.696Z"
   },
   {
    "duration": 26,
    "start_time": "2022-10-25T04:30:55.703Z"
   },
   {
    "duration": 5,
    "start_time": "2022-10-25T04:30:55.731Z"
   },
   {
    "duration": 7,
    "start_time": "2022-10-25T04:30:55.738Z"
   },
   {
    "duration": 1125810,
    "start_time": "2022-10-25T04:30:55.747Z"
   },
   {
    "duration": 16,
    "start_time": "2022-10-25T04:49:41.559Z"
   },
   {
    "duration": 0,
    "start_time": "2022-10-25T04:49:41.578Z"
   },
   {
    "duration": 0,
    "start_time": "2022-10-25T04:49:41.579Z"
   },
   {
    "duration": 0,
    "start_time": "2022-10-25T04:49:41.581Z"
   },
   {
    "duration": 0,
    "start_time": "2022-10-25T04:49:41.582Z"
   },
   {
    "duration": 0,
    "start_time": "2022-10-25T04:49:41.583Z"
   },
   {
    "duration": 0,
    "start_time": "2022-10-25T04:49:41.584Z"
   },
   {
    "duration": 0,
    "start_time": "2022-10-25T04:49:41.586Z"
   },
   {
    "duration": 0,
    "start_time": "2022-10-25T04:49:41.587Z"
   },
   {
    "duration": 0,
    "start_time": "2022-10-25T04:49:41.588Z"
   },
   {
    "duration": 17,
    "start_time": "2022-10-25T04:54:50.080Z"
   },
   {
    "duration": 1743,
    "start_time": "2022-10-25T04:54:50.102Z"
   },
   {
    "duration": 399,
    "start_time": "2022-10-25T04:54:51.847Z"
   },
   {
    "duration": 4,
    "start_time": "2022-10-25T04:54:52.247Z"
   },
   {
    "duration": 151,
    "start_time": "2022-10-25T04:54:52.253Z"
   },
   {
    "duration": 4,
    "start_time": "2022-10-25T04:54:52.406Z"
   },
   {
    "duration": 8,
    "start_time": "2022-10-25T04:54:52.411Z"
   },
   {
    "duration": 31,
    "start_time": "2022-10-25T04:54:52.421Z"
   },
   {
    "duration": 120,
    "start_time": "2022-10-25T04:54:52.454Z"
   },
   {
    "duration": 237,
    "start_time": "2022-10-25T04:54:52.575Z"
   },
   {
    "duration": 8,
    "start_time": "2022-10-25T04:54:52.814Z"
   },
   {
    "duration": 46,
    "start_time": "2022-10-25T04:54:52.823Z"
   },
   {
    "duration": 103,
    "start_time": "2022-10-25T04:54:52.871Z"
   },
   {
    "duration": 48,
    "start_time": "2022-10-25T04:54:52.982Z"
   },
   {
    "duration": 8,
    "start_time": "2022-10-25T04:54:53.032Z"
   },
   {
    "duration": 77,
    "start_time": "2022-10-25T04:54:53.041Z"
   },
   {
    "duration": 11,
    "start_time": "2022-10-25T04:54:53.120Z"
   },
   {
    "duration": 41,
    "start_time": "2022-10-25T04:54:53.132Z"
   },
   {
    "duration": 38,
    "start_time": "2022-10-25T04:54:53.176Z"
   },
   {
    "duration": 13,
    "start_time": "2022-10-25T04:54:53.216Z"
   },
   {
    "duration": 294,
    "start_time": "2022-10-25T04:54:53.231Z"
   },
   {
    "duration": 11,
    "start_time": "2022-10-25T04:54:53.526Z"
   },
   {
    "duration": 89,
    "start_time": "2022-10-25T04:54:53.539Z"
   },
   {
    "duration": 291,
    "start_time": "2022-10-25T04:54:53.630Z"
   },
   {
    "duration": 5,
    "start_time": "2022-10-25T04:54:53.923Z"
   },
   {
    "duration": 10,
    "start_time": "2022-10-25T04:54:53.929Z"
   },
   {
    "duration": 14,
    "start_time": "2022-10-25T04:54:53.962Z"
   },
   {
    "duration": 34,
    "start_time": "2022-10-25T04:54:53.981Z"
   },
   {
    "duration": 18,
    "start_time": "2022-10-25T04:54:54.017Z"
   },
   {
    "duration": 74,
    "start_time": "2022-10-25T04:54:54.037Z"
   },
   {
    "duration": 22,
    "start_time": "2022-10-25T04:54:54.113Z"
   },
   {
    "duration": 6652,
    "start_time": "2022-10-25T04:54:54.137Z"
   },
   {
    "duration": 10,
    "start_time": "2022-10-25T04:55:00.791Z"
   },
   {
    "duration": 87,
    "start_time": "2022-10-25T04:55:00.807Z"
   },
   {
    "duration": 64,
    "start_time": "2022-10-25T04:55:00.896Z"
   },
   {
    "duration": 89,
    "start_time": "2022-10-25T04:55:00.962Z"
   },
   {
    "duration": 61,
    "start_time": "2022-10-25T04:55:01.053Z"
   },
   {
    "duration": 3434,
    "start_time": "2022-10-25T04:55:01.116Z"
   },
   {
    "duration": 8,
    "start_time": "2022-10-25T04:55:04.553Z"
   },
   {
    "duration": 285,
    "start_time": "2022-10-25T04:55:04.562Z"
   },
   {
    "duration": 54,
    "start_time": "2022-10-25T04:55:04.853Z"
   },
   {
    "duration": 30,
    "start_time": "2022-10-25T04:55:04.909Z"
   },
   {
    "duration": 81,
    "start_time": "2022-10-25T04:55:04.940Z"
   },
   {
    "duration": 49,
    "start_time": "2022-10-25T04:55:05.023Z"
   },
   {
    "duration": 53,
    "start_time": "2022-10-25T04:55:05.079Z"
   },
   {
    "duration": 10,
    "start_time": "2022-10-25T04:55:05.135Z"
   },
   {
    "duration": 734,
    "start_time": "2022-10-25T04:55:05.147Z"
   },
   {
    "duration": 31,
    "start_time": "2022-10-25T04:55:05.887Z"
   },
   {
    "duration": 19,
    "start_time": "2022-10-25T04:55:05.920Z"
   },
   {
    "duration": 180,
    "start_time": "2022-10-25T04:55:05.941Z"
   },
   {
    "duration": 7,
    "start_time": "2022-10-25T04:55:06.124Z"
   },
   {
    "duration": 786,
    "start_time": "2022-10-25T04:55:06.132Z"
   },
   {
    "duration": 9,
    "start_time": "2022-10-25T04:55:06.920Z"
   },
   {
    "duration": 71,
    "start_time": "2022-10-25T04:55:06.932Z"
   },
   {
    "duration": 43,
    "start_time": "2022-10-25T04:55:07.006Z"
   },
   {
    "duration": 97,
    "start_time": "2022-10-25T04:55:07.052Z"
   },
   {
    "duration": 20,
    "start_time": "2022-10-25T04:55:07.151Z"
   },
   {
    "duration": 55,
    "start_time": "2022-10-25T04:55:07.175Z"
   },
   {
    "duration": 54,
    "start_time": "2022-10-25T04:55:07.232Z"
   },
   {
    "duration": 51,
    "start_time": "2022-10-25T04:55:07.291Z"
   },
   {
    "duration": 50,
    "start_time": "2022-10-25T04:55:07.344Z"
   },
   {
    "duration": 13,
    "start_time": "2022-10-25T04:55:07.396Z"
   },
   {
    "duration": 21,
    "start_time": "2022-10-25T04:55:07.412Z"
   },
   {
    "duration": 24,
    "start_time": "2022-10-25T04:55:07.435Z"
   },
   {
    "duration": 57,
    "start_time": "2022-10-25T04:55:07.461Z"
   },
   {
    "duration": 16,
    "start_time": "2022-10-25T04:55:07.520Z"
   },
   {
    "duration": 14,
    "start_time": "2022-10-25T04:55:07.538Z"
   },
   {
    "duration": 48,
    "start_time": "2022-10-25T04:55:07.555Z"
   },
   {
    "duration": 24,
    "start_time": "2022-10-25T04:55:07.605Z"
   },
   {
    "duration": 19,
    "start_time": "2022-10-25T04:55:07.631Z"
   },
   {
    "duration": 41,
    "start_time": "2022-10-25T04:55:07.651Z"
   },
   {
    "duration": 24,
    "start_time": "2022-10-25T04:55:07.695Z"
   },
   {
    "duration": 14,
    "start_time": "2022-10-25T04:55:07.721Z"
   },
   {
    "duration": 23,
    "start_time": "2022-10-25T04:55:07.738Z"
   },
   {
    "duration": 47,
    "start_time": "2022-10-25T04:55:07.762Z"
   },
   {
    "duration": 1160,
    "start_time": "2022-10-25T04:55:07.811Z"
   },
   {
    "duration": 4,
    "start_time": "2022-10-25T04:55:08.973Z"
   },
   {
    "duration": 14,
    "start_time": "2022-10-25T04:55:08.979Z"
   },
   {
    "duration": 21,
    "start_time": "2022-10-25T04:55:08.995Z"
   },
   {
    "duration": 8,
    "start_time": "2022-10-25T04:55:09.018Z"
   },
   {
    "duration": 12,
    "start_time": "2022-10-25T04:55:09.027Z"
   },
   {
    "duration": 6,
    "start_time": "2022-10-25T04:55:09.040Z"
   },
   {
    "duration": 7,
    "start_time": "2022-10-25T04:55:09.048Z"
   },
   {
    "duration": 9528,
    "start_time": "2022-10-25T04:55:09.056Z"
   },
   {
    "duration": 6,
    "start_time": "2022-10-25T04:55:18.590Z"
   },
   {
    "duration": 19,
    "start_time": "2022-10-25T04:55:18.598Z"
   },
   {
    "duration": 10,
    "start_time": "2022-10-25T04:55:18.619Z"
   },
   {
    "duration": 10,
    "start_time": "2022-10-25T04:55:18.631Z"
   },
   {
    "duration": 60,
    "start_time": "2022-10-25T04:55:18.643Z"
   },
   {
    "duration": 14,
    "start_time": "2022-10-25T04:55:18.705Z"
   },
   {
    "duration": 9,
    "start_time": "2022-10-25T04:55:18.721Z"
   },
   {
    "duration": 7,
    "start_time": "2022-10-25T04:55:18.732Z"
   },
   {
    "duration": 24,
    "start_time": "2022-10-25T04:55:18.741Z"
   },
   {
    "duration": 41,
    "start_time": "2022-10-25T04:55:18.770Z"
   },
   {
    "duration": 18,
    "start_time": "2022-10-25T04:55:18.813Z"
   },
   {
    "duration": 7,
    "start_time": "2022-10-25T04:55:18.833Z"
   },
   {
    "duration": 5,
    "start_time": "2022-10-25T04:55:18.841Z"
   },
   {
    "duration": 900,
    "start_time": "2022-10-25T04:55:18.848Z"
   },
   {
    "duration": 32,
    "start_time": "2022-10-25T04:55:19.749Z"
   },
   {
    "duration": 29,
    "start_time": "2022-10-25T04:55:19.783Z"
   },
   {
    "duration": 10,
    "start_time": "2022-10-25T04:55:19.814Z"
   },
   {
    "duration": 141422,
    "start_time": "2022-10-25T04:55:19.826Z"
   },
   {
    "duration": 28,
    "start_time": "2022-10-25T04:57:41.250Z"
   },
   {
    "duration": 0,
    "start_time": "2022-10-25T04:57:41.281Z"
   },
   {
    "duration": 0,
    "start_time": "2022-10-25T04:57:41.281Z"
   },
   {
    "duration": 0,
    "start_time": "2022-10-25T04:57:41.282Z"
   },
   {
    "duration": 0,
    "start_time": "2022-10-25T04:57:41.286Z"
   },
   {
    "duration": 0,
    "start_time": "2022-10-25T04:57:41.287Z"
   },
   {
    "duration": 0,
    "start_time": "2022-10-25T04:57:41.288Z"
   },
   {
    "duration": 0,
    "start_time": "2022-10-25T04:57:41.289Z"
   },
   {
    "duration": 0,
    "start_time": "2022-10-25T04:57:41.290Z"
   },
   {
    "duration": 0,
    "start_time": "2022-10-25T04:57:41.294Z"
   },
   {
    "duration": 8,
    "start_time": "2022-10-25T04:57:45.308Z"
   },
   {
    "duration": 12,
    "start_time": "2022-10-25T04:57:45.319Z"
   },
   {
    "duration": 383,
    "start_time": "2022-10-25T04:57:45.333Z"
   },
   {
    "duration": 3,
    "start_time": "2022-10-25T04:57:45.719Z"
   },
   {
    "duration": 115,
    "start_time": "2022-10-25T04:57:45.724Z"
   },
   {
    "duration": 3,
    "start_time": "2022-10-25T04:57:45.841Z"
   },
   {
    "duration": 26,
    "start_time": "2022-10-25T04:57:45.846Z"
   },
   {
    "duration": 20,
    "start_time": "2022-10-25T04:57:45.874Z"
   },
   {
    "duration": 93,
    "start_time": "2022-10-25T04:57:45.896Z"
   },
   {
    "duration": 181,
    "start_time": "2022-10-25T04:57:45.992Z"
   },
   {
    "duration": 10,
    "start_time": "2022-10-25T04:57:46.183Z"
   },
   {
    "duration": 8,
    "start_time": "2022-10-25T04:57:46.195Z"
   },
   {
    "duration": 34,
    "start_time": "2022-10-25T04:57:46.205Z"
   },
   {
    "duration": 50,
    "start_time": "2022-10-25T04:57:46.241Z"
   },
   {
    "duration": 10,
    "start_time": "2022-10-25T04:57:46.294Z"
   },
   {
    "duration": 29,
    "start_time": "2022-10-25T04:57:46.306Z"
   },
   {
    "duration": 9,
    "start_time": "2022-10-25T04:57:46.337Z"
   },
   {
    "duration": 49,
    "start_time": "2022-10-25T04:57:46.348Z"
   },
   {
    "duration": 17,
    "start_time": "2022-10-25T04:57:46.399Z"
   },
   {
    "duration": 12,
    "start_time": "2022-10-25T04:57:46.418Z"
   },
   {
    "duration": 391,
    "start_time": "2022-10-25T04:57:46.432Z"
   },
   {
    "duration": 0,
    "start_time": "2022-10-25T04:57:46.829Z"
   },
   {
    "duration": 0,
    "start_time": "2022-10-25T04:57:46.831Z"
   },
   {
    "duration": 0,
    "start_time": "2022-10-25T04:57:46.833Z"
   },
   {
    "duration": 0,
    "start_time": "2022-10-25T04:57:46.835Z"
   },
   {
    "duration": 0,
    "start_time": "2022-10-25T04:57:46.836Z"
   },
   {
    "duration": 0,
    "start_time": "2022-10-25T04:57:46.837Z"
   },
   {
    "duration": 0,
    "start_time": "2022-10-25T04:57:46.839Z"
   },
   {
    "duration": 0,
    "start_time": "2022-10-25T04:57:46.841Z"
   },
   {
    "duration": 0,
    "start_time": "2022-10-25T04:57:46.842Z"
   },
   {
    "duration": 0,
    "start_time": "2022-10-25T04:57:46.844Z"
   },
   {
    "duration": 0,
    "start_time": "2022-10-25T04:57:46.845Z"
   },
   {
    "duration": 0,
    "start_time": "2022-10-25T04:57:46.846Z"
   },
   {
    "duration": 0,
    "start_time": "2022-10-25T04:57:46.848Z"
   },
   {
    "duration": 0,
    "start_time": "2022-10-25T04:57:46.850Z"
   },
   {
    "duration": 0,
    "start_time": "2022-10-25T04:57:46.852Z"
   },
   {
    "duration": 0,
    "start_time": "2022-10-25T04:57:46.853Z"
   },
   {
    "duration": 0,
    "start_time": "2022-10-25T04:57:46.855Z"
   },
   {
    "duration": 0,
    "start_time": "2022-10-25T04:57:46.856Z"
   },
   {
    "duration": 0,
    "start_time": "2022-10-25T04:57:46.857Z"
   },
   {
    "duration": 0,
    "start_time": "2022-10-25T04:57:46.858Z"
   },
   {
    "duration": 0,
    "start_time": "2022-10-25T04:57:46.861Z"
   },
   {
    "duration": 0,
    "start_time": "2022-10-25T04:57:46.863Z"
   },
   {
    "duration": 0,
    "start_time": "2022-10-25T04:57:46.865Z"
   },
   {
    "duration": 0,
    "start_time": "2022-10-25T04:57:46.866Z"
   },
   {
    "duration": 0,
    "start_time": "2022-10-25T04:57:46.872Z"
   },
   {
    "duration": 0,
    "start_time": "2022-10-25T04:57:46.873Z"
   },
   {
    "duration": 0,
    "start_time": "2022-10-25T04:57:46.873Z"
   },
   {
    "duration": 0,
    "start_time": "2022-10-25T04:57:46.874Z"
   },
   {
    "duration": 0,
    "start_time": "2022-10-25T04:57:46.875Z"
   },
   {
    "duration": 0,
    "start_time": "2022-10-25T04:57:46.881Z"
   },
   {
    "duration": 0,
    "start_time": "2022-10-25T04:57:46.882Z"
   },
   {
    "duration": 0,
    "start_time": "2022-10-25T04:57:46.884Z"
   },
   {
    "duration": 0,
    "start_time": "2022-10-25T04:57:46.885Z"
   },
   {
    "duration": 0,
    "start_time": "2022-10-25T04:57:46.886Z"
   },
   {
    "duration": 0,
    "start_time": "2022-10-25T04:57:46.887Z"
   },
   {
    "duration": 0,
    "start_time": "2022-10-25T04:57:46.888Z"
   },
   {
    "duration": 0,
    "start_time": "2022-10-25T04:57:46.897Z"
   },
   {
    "duration": 0,
    "start_time": "2022-10-25T04:57:46.899Z"
   },
   {
    "duration": 0,
    "start_time": "2022-10-25T04:57:46.900Z"
   },
   {
    "duration": 0,
    "start_time": "2022-10-25T04:57:46.901Z"
   },
   {
    "duration": 0,
    "start_time": "2022-10-25T04:57:46.902Z"
   },
   {
    "duration": 0,
    "start_time": "2022-10-25T04:57:46.904Z"
   },
   {
    "duration": 0,
    "start_time": "2022-10-25T04:57:46.908Z"
   },
   {
    "duration": 0,
    "start_time": "2022-10-25T04:57:46.909Z"
   },
   {
    "duration": 0,
    "start_time": "2022-10-25T04:57:46.911Z"
   },
   {
    "duration": 0,
    "start_time": "2022-10-25T04:57:46.912Z"
   },
   {
    "duration": 1,
    "start_time": "2022-10-25T04:57:46.913Z"
   },
   {
    "duration": 0,
    "start_time": "2022-10-25T04:57:46.915Z"
   },
   {
    "duration": 0,
    "start_time": "2022-10-25T04:57:46.917Z"
   },
   {
    "duration": 0,
    "start_time": "2022-10-25T04:57:46.919Z"
   },
   {
    "duration": 0,
    "start_time": "2022-10-25T04:57:46.960Z"
   },
   {
    "duration": 1,
    "start_time": "2022-10-25T04:57:46.960Z"
   },
   {
    "duration": 0,
    "start_time": "2022-10-25T04:57:46.961Z"
   },
   {
    "duration": 0,
    "start_time": "2022-10-25T04:57:46.964Z"
   },
   {
    "duration": 0,
    "start_time": "2022-10-25T04:57:46.964Z"
   },
   {
    "duration": 0,
    "start_time": "2022-10-25T04:57:46.965Z"
   },
   {
    "duration": 0,
    "start_time": "2022-10-25T04:57:46.966Z"
   },
   {
    "duration": 0,
    "start_time": "2022-10-25T04:57:46.967Z"
   },
   {
    "duration": 0,
    "start_time": "2022-10-25T04:57:46.969Z"
   },
   {
    "duration": 0,
    "start_time": "2022-10-25T04:57:46.970Z"
   },
   {
    "duration": 0,
    "start_time": "2022-10-25T04:57:46.971Z"
   },
   {
    "duration": 0,
    "start_time": "2022-10-25T04:57:46.972Z"
   },
   {
    "duration": 0,
    "start_time": "2022-10-25T04:57:46.974Z"
   },
   {
    "duration": 0,
    "start_time": "2022-10-25T04:57:46.975Z"
   },
   {
    "duration": 0,
    "start_time": "2022-10-25T04:57:46.976Z"
   },
   {
    "duration": 0,
    "start_time": "2022-10-25T04:57:46.977Z"
   },
   {
    "duration": 0,
    "start_time": "2022-10-25T04:57:46.978Z"
   },
   {
    "duration": 1,
    "start_time": "2022-10-25T04:57:46.979Z"
   },
   {
    "duration": 0,
    "start_time": "2022-10-25T04:57:46.981Z"
   },
   {
    "duration": 0,
    "start_time": "2022-10-25T04:57:46.982Z"
   },
   {
    "duration": 0,
    "start_time": "2022-10-25T04:57:46.983Z"
   },
   {
    "duration": 0,
    "start_time": "2022-10-25T04:57:46.984Z"
   },
   {
    "duration": 0,
    "start_time": "2022-10-25T04:57:46.986Z"
   },
   {
    "duration": 0,
    "start_time": "2022-10-25T04:57:46.987Z"
   },
   {
    "duration": 0,
    "start_time": "2022-10-25T04:57:46.988Z"
   },
   {
    "duration": 0,
    "start_time": "2022-10-25T04:57:46.989Z"
   },
   {
    "duration": 0,
    "start_time": "2022-10-25T04:57:46.990Z"
   },
   {
    "duration": 0,
    "start_time": "2022-10-25T04:57:46.992Z"
   },
   {
    "duration": 0,
    "start_time": "2022-10-25T04:57:46.993Z"
   },
   {
    "duration": 0,
    "start_time": "2022-10-25T04:57:46.994Z"
   },
   {
    "duration": 0,
    "start_time": "2022-10-25T04:57:46.995Z"
   },
   {
    "duration": 0,
    "start_time": "2022-10-25T04:57:46.997Z"
   },
   {
    "duration": 0,
    "start_time": "2022-10-25T04:57:46.998Z"
   },
   {
    "duration": 0,
    "start_time": "2022-10-25T04:57:46.999Z"
   },
   {
    "duration": 0,
    "start_time": "2022-10-25T04:57:47.000Z"
   },
   {
    "duration": 0,
    "start_time": "2022-10-25T04:57:47.003Z"
   },
   {
    "duration": 0,
    "start_time": "2022-10-25T04:57:47.057Z"
   },
   {
    "duration": 0,
    "start_time": "2022-10-25T04:57:47.058Z"
   },
   {
    "duration": 0,
    "start_time": "2022-10-25T04:57:47.060Z"
   },
   {
    "duration": 0,
    "start_time": "2022-10-25T04:57:47.061Z"
   },
   {
    "duration": 12,
    "start_time": "2022-10-25T04:57:54.180Z"
   },
   {
    "duration": 14,
    "start_time": "2022-10-25T04:57:54.194Z"
   },
   {
    "duration": 319,
    "start_time": "2022-10-25T04:57:54.210Z"
   },
   {
    "duration": 4,
    "start_time": "2022-10-25T04:57:54.531Z"
   },
   {
    "duration": 101,
    "start_time": "2022-10-25T04:57:54.537Z"
   },
   {
    "duration": 8,
    "start_time": "2022-10-25T04:57:54.655Z"
   },
   {
    "duration": 36,
    "start_time": "2022-10-25T04:57:54.665Z"
   },
   {
    "duration": 11,
    "start_time": "2022-10-25T04:57:54.703Z"
   },
   {
    "duration": 74,
    "start_time": "2022-10-25T04:57:54.717Z"
   },
   {
    "duration": 185,
    "start_time": "2022-10-25T04:57:54.793Z"
   },
   {
    "duration": 6,
    "start_time": "2022-10-25T04:57:54.979Z"
   },
   {
    "duration": 15,
    "start_time": "2022-10-25T04:57:54.986Z"
   },
   {
    "duration": 30,
    "start_time": "2022-10-25T04:57:55.002Z"
   },
   {
    "duration": 43,
    "start_time": "2022-10-25T04:57:55.036Z"
   },
   {
    "duration": 12,
    "start_time": "2022-10-25T04:57:55.081Z"
   },
   {
    "duration": 13,
    "start_time": "2022-10-25T04:57:55.095Z"
   },
   {
    "duration": 10,
    "start_time": "2022-10-25T04:57:55.110Z"
   },
   {
    "duration": 13,
    "start_time": "2022-10-25T04:57:55.123Z"
   },
   {
    "duration": 45,
    "start_time": "2022-10-25T04:57:55.138Z"
   },
   {
    "duration": 50,
    "start_time": "2022-10-25T04:57:55.187Z"
   },
   {
    "duration": 277,
    "start_time": "2022-10-25T04:57:55.240Z"
   },
   {
    "duration": 12,
    "start_time": "2022-10-25T04:57:55.519Z"
   },
   {
    "duration": 28,
    "start_time": "2022-10-25T04:57:55.533Z"
   },
   {
    "duration": 287,
    "start_time": "2022-10-25T04:57:55.571Z"
   },
   {
    "duration": 6,
    "start_time": "2022-10-25T04:57:55.864Z"
   },
   {
    "duration": 27,
    "start_time": "2022-10-25T04:57:55.872Z"
   },
   {
    "duration": 11,
    "start_time": "2022-10-25T04:57:55.901Z"
   },
   {
    "duration": 5,
    "start_time": "2022-10-25T04:57:55.914Z"
   },
   {
    "duration": 14,
    "start_time": "2022-10-25T04:57:55.921Z"
   },
   {
    "duration": 8,
    "start_time": "2022-10-25T04:57:55.937Z"
   },
   {
    "duration": 26,
    "start_time": "2022-10-25T04:57:55.946Z"
   },
   {
    "duration": 5550,
    "start_time": "2022-10-25T04:57:55.980Z"
   },
   {
    "duration": 12,
    "start_time": "2022-10-25T04:58:01.531Z"
   },
   {
    "duration": 72,
    "start_time": "2022-10-25T04:58:01.557Z"
   },
   {
    "duration": 29,
    "start_time": "2022-10-25T04:58:01.632Z"
   },
   {
    "duration": 103,
    "start_time": "2022-10-25T04:58:01.665Z"
   },
   {
    "duration": 67,
    "start_time": "2022-10-25T04:58:01.776Z"
   },
   {
    "duration": 2885,
    "start_time": "2022-10-25T04:58:01.845Z"
   },
   {
    "duration": 7,
    "start_time": "2022-10-25T04:58:04.733Z"
   },
   {
    "duration": 50,
    "start_time": "2022-10-25T04:58:04.742Z"
   },
   {
    "duration": 7,
    "start_time": "2022-10-25T04:58:04.798Z"
   },
   {
    "duration": 7,
    "start_time": "2022-10-25T04:58:04.806Z"
   },
   {
    "duration": 10,
    "start_time": "2022-10-25T04:58:04.814Z"
   },
   {
    "duration": 37,
    "start_time": "2022-10-25T04:58:04.825Z"
   },
   {
    "duration": 29,
    "start_time": "2022-10-25T04:58:04.863Z"
   },
   {
    "duration": 11,
    "start_time": "2022-10-25T04:58:04.895Z"
   },
   {
    "duration": 777,
    "start_time": "2022-10-25T04:58:04.908Z"
   },
   {
    "duration": 39,
    "start_time": "2022-10-25T04:58:05.699Z"
   },
   {
    "duration": 18,
    "start_time": "2022-10-25T04:58:05.741Z"
   },
   {
    "duration": 41,
    "start_time": "2022-10-25T04:58:05.776Z"
   },
   {
    "duration": 9,
    "start_time": "2022-10-25T04:58:05.819Z"
   },
   {
    "duration": 749,
    "start_time": "2022-10-25T04:58:05.830Z"
   },
   {
    "duration": 19,
    "start_time": "2022-10-25T04:58:06.581Z"
   },
   {
    "duration": 23,
    "start_time": "2022-10-25T04:58:06.602Z"
   },
   {
    "duration": 10,
    "start_time": "2022-10-25T04:58:06.628Z"
   },
   {
    "duration": 27,
    "start_time": "2022-10-25T04:58:06.640Z"
   },
   {
    "duration": 44,
    "start_time": "2022-10-25T04:58:06.669Z"
   },
   {
    "duration": 15,
    "start_time": "2022-10-25T04:58:06.715Z"
   },
   {
    "duration": 43,
    "start_time": "2022-10-25T04:58:06.731Z"
   },
   {
    "duration": 27,
    "start_time": "2022-10-25T04:58:06.778Z"
   },
   {
    "duration": 7,
    "start_time": "2022-10-25T04:58:06.807Z"
   },
   {
    "duration": 10,
    "start_time": "2022-10-25T04:58:06.816Z"
   },
   {
    "duration": 13,
    "start_time": "2022-10-25T04:58:06.827Z"
   },
   {
    "duration": 20,
    "start_time": "2022-10-25T04:58:06.841Z"
   },
   {
    "duration": 43,
    "start_time": "2022-10-25T04:58:06.863Z"
   },
   {
    "duration": 15,
    "start_time": "2022-10-25T04:58:06.909Z"
   },
   {
    "duration": 11,
    "start_time": "2022-10-25T04:58:06.926Z"
   },
   {
    "duration": 13,
    "start_time": "2022-10-25T04:58:06.939Z"
   },
   {
    "duration": 16,
    "start_time": "2022-10-25T04:58:06.960Z"
   },
   {
    "duration": 36,
    "start_time": "2022-10-25T04:58:06.978Z"
   },
   {
    "duration": 19,
    "start_time": "2022-10-25T04:58:07.016Z"
   },
   {
    "duration": 19,
    "start_time": "2022-10-25T04:58:07.037Z"
   },
   {
    "duration": 40,
    "start_time": "2022-10-25T04:58:07.059Z"
   },
   {
    "duration": 11,
    "start_time": "2022-10-25T04:58:07.101Z"
   },
   {
    "duration": 10,
    "start_time": "2022-10-25T04:58:07.114Z"
   },
   {
    "duration": 1059,
    "start_time": "2022-10-25T04:58:07.126Z"
   },
   {
    "duration": 6,
    "start_time": "2022-10-25T04:58:08.187Z"
   },
   {
    "duration": 17,
    "start_time": "2022-10-25T04:58:08.196Z"
   },
   {
    "duration": 26,
    "start_time": "2022-10-25T04:58:08.214Z"
   },
   {
    "duration": 52,
    "start_time": "2022-10-25T04:58:08.243Z"
   },
   {
    "duration": 16,
    "start_time": "2022-10-25T04:58:08.296Z"
   },
   {
    "duration": 17,
    "start_time": "2022-10-25T04:58:08.314Z"
   },
   {
    "duration": 15,
    "start_time": "2022-10-25T04:58:08.333Z"
   },
   {
    "duration": 9372,
    "start_time": "2022-10-25T04:58:08.349Z"
   },
   {
    "duration": 3,
    "start_time": "2022-10-25T04:58:17.723Z"
   },
   {
    "duration": 36,
    "start_time": "2022-10-25T04:58:17.728Z"
   },
   {
    "duration": 15,
    "start_time": "2022-10-25T04:58:17.770Z"
   },
   {
    "duration": 6,
    "start_time": "2022-10-25T04:58:17.792Z"
   },
   {
    "duration": 13,
    "start_time": "2022-10-25T04:58:17.799Z"
   },
   {
    "duration": 4,
    "start_time": "2022-10-25T04:58:17.814Z"
   },
   {
    "duration": 8,
    "start_time": "2022-10-25T04:58:17.820Z"
   },
   {
    "duration": 6,
    "start_time": "2022-10-25T04:58:17.829Z"
   },
   {
    "duration": 22,
    "start_time": "2022-10-25T04:58:17.837Z"
   },
   {
    "duration": 44,
    "start_time": "2022-10-25T04:58:17.860Z"
   },
   {
    "duration": 16,
    "start_time": "2022-10-25T04:58:17.906Z"
   },
   {
    "duration": 9,
    "start_time": "2022-10-25T04:58:17.924Z"
   },
   {
    "duration": 10,
    "start_time": "2022-10-25T04:58:17.935Z"
   },
   {
    "duration": 948,
    "start_time": "2022-10-25T04:58:17.947Z"
   },
   {
    "duration": 22,
    "start_time": "2022-10-25T04:58:18.897Z"
   },
   {
    "duration": 4,
    "start_time": "2022-10-25T04:58:18.921Z"
   },
   {
    "duration": 6,
    "start_time": "2022-10-25T04:58:28.414Z"
   },
   {
    "duration": 5,
    "start_time": "2022-10-25T04:58:37.782Z"
   },
   {
    "duration": 4,
    "start_time": "2022-10-25T04:58:47.014Z"
   },
   {
    "duration": 3,
    "start_time": "2022-10-25T04:58:50.790Z"
   },
   {
    "duration": 11,
    "start_time": "2022-10-25T04:58:56.102Z"
   },
   {
    "duration": 4,
    "start_time": "2022-10-25T04:59:05.711Z"
   },
   {
    "duration": 5,
    "start_time": "2022-10-25T04:59:25.605Z"
   },
   {
    "duration": 890666,
    "start_time": "2022-10-25T04:59:26.082Z"
   },
   {
    "duration": 50,
    "start_time": "2022-10-25T05:14:16.757Z"
   },
   {
    "duration": 0,
    "start_time": "2022-10-25T05:14:16.815Z"
   },
   {
    "duration": 0,
    "start_time": "2022-10-25T05:14:16.817Z"
   },
   {
    "duration": 0,
    "start_time": "2022-10-25T05:14:16.818Z"
   },
   {
    "duration": 0,
    "start_time": "2022-10-25T05:14:16.824Z"
   },
   {
    "duration": 0,
    "start_time": "2022-10-25T05:14:16.825Z"
   },
   {
    "duration": 0,
    "start_time": "2022-10-25T05:14:16.826Z"
   },
   {
    "duration": 0,
    "start_time": "2022-10-25T05:14:16.832Z"
   },
   {
    "duration": 0,
    "start_time": "2022-10-25T05:14:16.833Z"
   }
  ],
  "kernelspec": {
   "display_name": "Python 3 (ipykernel)",
   "language": "python",
   "name": "python3"
  },
  "language_info": {
   "codemirror_mode": {
    "name": "ipython",
    "version": 3
   },
   "file_extension": ".py",
   "mimetype": "text/x-python",
   "name": "python",
   "nbconvert_exporter": "python",
   "pygments_lexer": "ipython3",
   "version": "3.9.5"
  },
  "toc": {
   "base_numbering": 1,
   "nav_menu": {},
   "number_sections": true,
   "sideBar": true,
   "skip_h1_title": true,
   "title_cell": "Table of Contents",
   "title_sidebar": "Contents",
   "toc_cell": false,
   "toc_position": {
    "height": "calc(100% - 180px)",
    "left": "10px",
    "top": "150px",
    "width": "366.391px"
   },
   "toc_section_display": true,
   "toc_window_display": true
  }
 },
 "nbformat": 4,
 "nbformat_minor": 2
}
